{
  "nbformat": 4,
  "nbformat_minor": 0,
  "metadata": {
    "colab": {
      "provenance": []
    },
    "kernelspec": {
      "name": "python3",
      "display_name": "Python 3"
    },
    "language_info": {
      "name": "python"
    }
  },
  "cells": [
    {
      "cell_type": "markdown",
      "source": [
        "# **Import Necesary Libraries**"
      ],
      "metadata": {
        "id": "X2TwR3iorHN5"
      }
    },
    {
      "cell_type": "code",
      "source": [
        "!pip install fuzzywuzzy\n",
        "!pip install --upgarde pod\n",
        "!pip install combo"
      ],
      "metadata": {
        "colab": {
          "base_uri": "https://localhost:8080/"
        },
        "id": "F8YkOtTP0evf",
        "outputId": "adb0af77-8eca-4fb5-9aac-8807d424df23"
      },
      "execution_count": 33,
      "outputs": [
        {
          "output_type": "stream",
          "name": "stdout",
          "text": [
            "Looking in indexes: https://pypi.org/simple, https://us-python.pkg.dev/colab-wheels/public/simple/\n",
            "Requirement already satisfied: fuzzywuzzy in /usr/local/lib/python3.10/dist-packages (0.18.0)\n",
            "\n",
            "Usage:   \n",
            "  pip3 install [options] <requirement specifier> [package-index-options] ...\n",
            "  pip3 install [options] -r <requirements file> [package-index-options] ...\n",
            "  pip3 install [options] [-e] <vcs project url> ...\n",
            "  pip3 install [options] [-e] <local project path> ...\n",
            "  pip3 install [options] <archive url/path> ...\n",
            "\n",
            "no such option: --upgarde\n",
            "Looking in indexes: https://pypi.org/simple, https://us-python.pkg.dev/colab-wheels/public/simple/\n",
            "Collecting combo\n",
            "  Downloading combo-0.1.3.tar.gz (38 kB)\n",
            "  Preparing metadata (setup.py) ... \u001b[?25l\u001b[?25hdone\n",
            "Requirement already satisfied: joblib in /usr/local/lib/python3.10/dist-packages (from combo) (1.2.0)\n",
            "Requirement already satisfied: matplotlib in /usr/local/lib/python3.10/dist-packages (from combo) (3.7.1)\n",
            "Requirement already satisfied: numpy>=1.13 in /usr/local/lib/python3.10/dist-packages (from combo) (1.22.4)\n",
            "Requirement already satisfied: numba>=0.35 in /usr/local/lib/python3.10/dist-packages (from combo) (0.56.4)\n",
            "Collecting pyod\n",
            "  Downloading pyod-1.0.9.tar.gz (149 kB)\n",
            "\u001b[2K     \u001b[90m━━━━━━━━━━━━━━━━━━━━━━━━━━━━━━━━━━━━━━━\u001b[0m \u001b[32m150.0/150.0 kB\u001b[0m \u001b[31m5.6 MB/s\u001b[0m eta \u001b[36m0:00:00\u001b[0m\n",
            "\u001b[?25h  Preparing metadata (setup.py) ... \u001b[?25l\u001b[?25hdone\n",
            "Requirement already satisfied: scipy in /usr/local/lib/python3.10/dist-packages (from combo) (1.10.1)\n",
            "Requirement already satisfied: scikit_learn>=0.20 in /usr/local/lib/python3.10/dist-packages (from combo) (1.2.2)\n",
            "Requirement already satisfied: llvmlite<0.40,>=0.39.0dev0 in /usr/local/lib/python3.10/dist-packages (from numba>=0.35->combo) (0.39.1)\n",
            "Requirement already satisfied: setuptools in /usr/local/lib/python3.10/dist-packages (from numba>=0.35->combo) (67.7.2)\n",
            "Requirement already satisfied: threadpoolctl>=2.0.0 in /usr/local/lib/python3.10/dist-packages (from scikit_learn>=0.20->combo) (3.1.0)\n",
            "Requirement already satisfied: kiwisolver>=1.0.1 in /usr/local/lib/python3.10/dist-packages (from matplotlib->combo) (1.4.4)\n",
            "Requirement already satisfied: pillow>=6.2.0 in /usr/local/lib/python3.10/dist-packages (from matplotlib->combo) (8.4.0)\n",
            "Requirement already satisfied: pyparsing>=2.3.1 in /usr/local/lib/python3.10/dist-packages (from matplotlib->combo) (3.0.9)\n",
            "Requirement already satisfied: cycler>=0.10 in /usr/local/lib/python3.10/dist-packages (from matplotlib->combo) (0.11.0)\n",
            "Requirement already satisfied: contourpy>=1.0.1 in /usr/local/lib/python3.10/dist-packages (from matplotlib->combo) (1.0.7)\n",
            "Requirement already satisfied: python-dateutil>=2.7 in /usr/local/lib/python3.10/dist-packages (from matplotlib->combo) (2.8.2)\n",
            "Requirement already satisfied: fonttools>=4.22.0 in /usr/local/lib/python3.10/dist-packages (from matplotlib->combo) (4.39.3)\n",
            "Requirement already satisfied: packaging>=20.0 in /usr/local/lib/python3.10/dist-packages (from matplotlib->combo) (23.1)\n",
            "Requirement already satisfied: six in /usr/local/lib/python3.10/dist-packages (from pyod->combo) (1.16.0)\n",
            "Building wheels for collected packages: combo, pyod\n",
            "  Building wheel for combo (setup.py) ... \u001b[?25l\u001b[?25hdone\n",
            "  Created wheel for combo: filename=combo-0.1.3-py3-none-any.whl size=42885 sha256=8c6a8e825bd6cfa4b26eda61c0abe7cc20f0706fbf9bd5c566721f8a0a3ac7af\n",
            "  Stored in directory: /root/.cache/pip/wheels/7a/48/ff/0d6e1017d8bf3d844d332736fbb268dca767162779f93ff50a\n",
            "  Building wheel for pyod (setup.py) ... \u001b[?25l\u001b[?25hdone\n",
            "  Created wheel for pyod: filename=pyod-1.0.9-py3-none-any.whl size=184112 sha256=667ec7427d3c557f75b925741e03ed4ae7024f49982dcde1bc2a02b6c9172ead\n",
            "  Stored in directory: /root/.cache/pip/wheels/83/55/6b/552e083cf5509c0afe808b76cf434f1be284d01a112623bd37\n",
            "Successfully built combo pyod\n",
            "Installing collected packages: pyod, combo\n",
            "Successfully installed combo-0.1.3 pyod-1.0.9\n"
          ]
        }
      ]
    },
    {
      "cell_type": "code",
      "source": [
        "!pip install pyspark_dist_explore\n",
        "!pip install pyspark\n",
        "!pip install findspark\n",
        "!pip install pyspark.sql.functions"
      ],
      "metadata": {
        "colab": {
          "base_uri": "https://localhost:8080/"
        },
        "id": "oWf4B7TLbiY4",
        "outputId": "282b4750-f23a-48a9-ed2a-07fa68c8f23a"
      },
      "execution_count": 134,
      "outputs": [
        {
          "output_type": "stream",
          "name": "stdout",
          "text": [
            "Looking in indexes: https://pypi.org/simple, https://us-python.pkg.dev/colab-wheels/public/simple/\n",
            "Requirement already satisfied: pyspark_dist_explore in /usr/local/lib/python3.10/dist-packages (0.1.8)\n",
            "Requirement already satisfied: pandas in /usr/local/lib/python3.10/dist-packages (from pyspark_dist_explore) (1.5.3)\n",
            "Requirement already satisfied: matplotlib in /usr/local/lib/python3.10/dist-packages (from pyspark_dist_explore) (3.7.1)\n",
            "Requirement already satisfied: scipy in /usr/local/lib/python3.10/dist-packages (from pyspark_dist_explore) (1.10.1)\n",
            "Requirement already satisfied: numpy in /usr/local/lib/python3.10/dist-packages (from pyspark_dist_explore) (1.22.4)\n",
            "Requirement already satisfied: kiwisolver>=1.0.1 in /usr/local/lib/python3.10/dist-packages (from matplotlib->pyspark_dist_explore) (1.4.4)\n",
            "Requirement already satisfied: cycler>=0.10 in /usr/local/lib/python3.10/dist-packages (from matplotlib->pyspark_dist_explore) (0.11.0)\n",
            "Requirement already satisfied: fonttools>=4.22.0 in /usr/local/lib/python3.10/dist-packages (from matplotlib->pyspark_dist_explore) (4.39.3)\n",
            "Requirement already satisfied: pillow>=6.2.0 in /usr/local/lib/python3.10/dist-packages (from matplotlib->pyspark_dist_explore) (8.4.0)\n",
            "Requirement already satisfied: pyparsing>=2.3.1 in /usr/local/lib/python3.10/dist-packages (from matplotlib->pyspark_dist_explore) (3.0.9)\n",
            "Requirement already satisfied: python-dateutil>=2.7 in /usr/local/lib/python3.10/dist-packages (from matplotlib->pyspark_dist_explore) (2.8.2)\n",
            "Requirement already satisfied: packaging>=20.0 in /usr/local/lib/python3.10/dist-packages (from matplotlib->pyspark_dist_explore) (23.1)\n",
            "Requirement already satisfied: contourpy>=1.0.1 in /usr/local/lib/python3.10/dist-packages (from matplotlib->pyspark_dist_explore) (1.0.7)\n",
            "Requirement already satisfied: pytz>=2020.1 in /usr/local/lib/python3.10/dist-packages (from pandas->pyspark_dist_explore) (2022.7.1)\n",
            "Requirement already satisfied: six>=1.5 in /usr/local/lib/python3.10/dist-packages (from python-dateutil>=2.7->matplotlib->pyspark_dist_explore) (1.16.0)\n",
            "Looking in indexes: https://pypi.org/simple, https://us-python.pkg.dev/colab-wheels/public/simple/\n",
            "Requirement already satisfied: pyspark in /usr/local/lib/python3.10/dist-packages (3.4.0)\n",
            "Requirement already satisfied: py4j==0.10.9.7 in /usr/local/lib/python3.10/dist-packages (from pyspark) (0.10.9.7)\n",
            "Looking in indexes: https://pypi.org/simple, https://us-python.pkg.dev/colab-wheels/public/simple/\n",
            "Requirement already satisfied: findspark in /usr/local/lib/python3.10/dist-packages (2.0.1)\n",
            "Looking in indexes: https://pypi.org/simple, https://us-python.pkg.dev/colab-wheels/public/simple/\n",
            "\u001b[31mERROR: Could not find a version that satisfies the requirement pyspark.sql.functions (from versions: none)\u001b[0m\u001b[31m\n",
            "\u001b[0m\u001b[31mERROR: No matching distribution found for pyspark.sql.functions\u001b[0m\u001b[31m\n",
            "\u001b[0m"
          ]
        }
      ]
    },
    {
      "cell_type": "code",
      "source": [
        "from datetime import datetime, date\n",
        "import pyspark\n",
        "from pyspark.sql import Row\n",
        "import findspark\n",
        "from pyspark.sql import SparkSession\n",
        "from pyspark.sql import SQLContext\n",
        "from pyspark_dist_explore import hist"
      ],
      "metadata": {
        "id": "O_uQt3YRbq-m"
      },
      "execution_count": 113,
      "outputs": []
    },
    {
      "cell_type": "code",
      "execution_count": 71,
      "metadata": {
        "id": "cm_lsKdMn5JP"
      },
      "outputs": [],
      "source": [
        "import numpy as np\n",
        "import plotly.subplots as sp\n",
        "import plotly.graph_objs as go\n",
        "from plotly.subplots import make_subplots\n",
        "import seaborn as sns\n",
        "import sklearn\n",
        "from sklearn import preprocessing\n",
        "from sklearn.ensemble import RandomForestClassifier\n",
        "import matplotlib.pyplot as plt\n",
        "import plotly.express as px\n",
        "import random\n",
        "%matplotlib inline"
      ]
    },
    {
      "cell_type": "code",
      "source": [
        "import seaborn as sns\n",
        "from fuzzywuzzy import fuzz\n",
        "import locale"
      ],
      "metadata": {
        "id": "EXzJJ7tUrLOp"
      },
      "execution_count": 98,
      "outputs": []
    },
    {
      "cell_type": "code",
      "source": [
        " from __future__ import division\n",
        " from __future__ import print_function\n",
        " import os\n",
        " import sys\n",
        " from time import time\n",
        " import numpy as np\n",
        " from numpy import percentile\n",
        " import matplotlib.pyplot as plt\n",
        " import matplotlib.font_manager"
      ],
      "metadata": {
        "id": "oTGIvUMe3D2d"
      },
      "execution_count": 34,
      "outputs": []
    },
    {
      "cell_type": "code",
      "source": [
        " from pyod.models.abod import ABOD\n",
        " from pyod.models.cblof import CBLOF\n",
        " from pyod.models.iforest import IForest\n",
        " from pyod.models.knn import KNN\n",
        " from pyod.models.lof import LOF\n",
        " from pyod.models.ocsvm import OCSVM\n",
        " from pyod.models.pca import PCA "
      ],
      "metadata": {
        "id": "N9NGe14o3OgA"
      },
      "execution_count": 35,
      "outputs": []
    },
    {
      "cell_type": "code",
      "source": [
        "pd.options.display.max_rows\n",
        "pd.options.display.max_rows = 500\n",
        "pd.options.display.max_rows"
      ],
      "metadata": {
        "colab": {
          "base_uri": "https://localhost:8080/"
        },
        "id": "lGvYrDK9rRfy",
        "outputId": "d4a4bcf5-fc85-4b66-9a23-6a7d35790cc2"
      },
      "execution_count": 3,
      "outputs": [
        {
          "output_type": "execute_result",
          "data": {
            "text/plain": [
              "500"
            ]
          },
          "metadata": {},
          "execution_count": 3
        }
      ]
    },
    {
      "cell_type": "markdown",
      "source": [
        "# **Upload Data from Local Storage**"
      ],
      "metadata": {
        "id": "1xnHKXDTrX7c"
      }
    },
    {
      "cell_type": "code",
      "source": [
        "#Load CSV File of Data into the Google Colab Environment\n",
        "from google.colab import files\n",
        "upload = files.upload()"
      ],
      "metadata": {
        "colab": {
          "base_uri": "https://localhost:8080/",
          "height": 73
        },
        "id": "hvqQsaPNrYwN",
        "outputId": "099d20bc-46b3-49b5-c935-075bde08e889"
      },
      "execution_count": 4,
      "outputs": [
        {
          "output_type": "display_data",
          "data": {
            "text/plain": [
              "<IPython.core.display.HTML object>"
            ],
            "text/html": [
              "\n",
              "     <input type=\"file\" id=\"files-6009c3ca-4da9-4b82-83d3-e19c7c3994d0\" name=\"files[]\" multiple disabled\n",
              "        style=\"border:none\" />\n",
              "     <output id=\"result-6009c3ca-4da9-4b82-83d3-e19c7c3994d0\">\n",
              "      Upload widget is only available when the cell has been executed in the\n",
              "      current browser session. Please rerun this cell to enable.\n",
              "      </output>\n",
              "      <script>// Copyright 2017 Google LLC\n",
              "//\n",
              "// Licensed under the Apache License, Version 2.0 (the \"License\");\n",
              "// you may not use this file except in compliance with the License.\n",
              "// You may obtain a copy of the License at\n",
              "//\n",
              "//      http://www.apache.org/licenses/LICENSE-2.0\n",
              "//\n",
              "// Unless required by applicable law or agreed to in writing, software\n",
              "// distributed under the License is distributed on an \"AS IS\" BASIS,\n",
              "// WITHOUT WARRANTIES OR CONDITIONS OF ANY KIND, either express or implied.\n",
              "// See the License for the specific language governing permissions and\n",
              "// limitations under the License.\n",
              "\n",
              "/**\n",
              " * @fileoverview Helpers for google.colab Python module.\n",
              " */\n",
              "(function(scope) {\n",
              "function span(text, styleAttributes = {}) {\n",
              "  const element = document.createElement('span');\n",
              "  element.textContent = text;\n",
              "  for (const key of Object.keys(styleAttributes)) {\n",
              "    element.style[key] = styleAttributes[key];\n",
              "  }\n",
              "  return element;\n",
              "}\n",
              "\n",
              "// Max number of bytes which will be uploaded at a time.\n",
              "const MAX_PAYLOAD_SIZE = 100 * 1024;\n",
              "\n",
              "function _uploadFiles(inputId, outputId) {\n",
              "  const steps = uploadFilesStep(inputId, outputId);\n",
              "  const outputElement = document.getElementById(outputId);\n",
              "  // Cache steps on the outputElement to make it available for the next call\n",
              "  // to uploadFilesContinue from Python.\n",
              "  outputElement.steps = steps;\n",
              "\n",
              "  return _uploadFilesContinue(outputId);\n",
              "}\n",
              "\n",
              "// This is roughly an async generator (not supported in the browser yet),\n",
              "// where there are multiple asynchronous steps and the Python side is going\n",
              "// to poll for completion of each step.\n",
              "// This uses a Promise to block the python side on completion of each step,\n",
              "// then passes the result of the previous step as the input to the next step.\n",
              "function _uploadFilesContinue(outputId) {\n",
              "  const outputElement = document.getElementById(outputId);\n",
              "  const steps = outputElement.steps;\n",
              "\n",
              "  const next = steps.next(outputElement.lastPromiseValue);\n",
              "  return Promise.resolve(next.value.promise).then((value) => {\n",
              "    // Cache the last promise value to make it available to the next\n",
              "    // step of the generator.\n",
              "    outputElement.lastPromiseValue = value;\n",
              "    return next.value.response;\n",
              "  });\n",
              "}\n",
              "\n",
              "/**\n",
              " * Generator function which is called between each async step of the upload\n",
              " * process.\n",
              " * @param {string} inputId Element ID of the input file picker element.\n",
              " * @param {string} outputId Element ID of the output display.\n",
              " * @return {!Iterable<!Object>} Iterable of next steps.\n",
              " */\n",
              "function* uploadFilesStep(inputId, outputId) {\n",
              "  const inputElement = document.getElementById(inputId);\n",
              "  inputElement.disabled = false;\n",
              "\n",
              "  const outputElement = document.getElementById(outputId);\n",
              "  outputElement.innerHTML = '';\n",
              "\n",
              "  const pickedPromise = new Promise((resolve) => {\n",
              "    inputElement.addEventListener('change', (e) => {\n",
              "      resolve(e.target.files);\n",
              "    });\n",
              "  });\n",
              "\n",
              "  const cancel = document.createElement('button');\n",
              "  inputElement.parentElement.appendChild(cancel);\n",
              "  cancel.textContent = 'Cancel upload';\n",
              "  const cancelPromise = new Promise((resolve) => {\n",
              "    cancel.onclick = () => {\n",
              "      resolve(null);\n",
              "    };\n",
              "  });\n",
              "\n",
              "  // Wait for the user to pick the files.\n",
              "  const files = yield {\n",
              "    promise: Promise.race([pickedPromise, cancelPromise]),\n",
              "    response: {\n",
              "      action: 'starting',\n",
              "    }\n",
              "  };\n",
              "\n",
              "  cancel.remove();\n",
              "\n",
              "  // Disable the input element since further picks are not allowed.\n",
              "  inputElement.disabled = true;\n",
              "\n",
              "  if (!files) {\n",
              "    return {\n",
              "      response: {\n",
              "        action: 'complete',\n",
              "      }\n",
              "    };\n",
              "  }\n",
              "\n",
              "  for (const file of files) {\n",
              "    const li = document.createElement('li');\n",
              "    li.append(span(file.name, {fontWeight: 'bold'}));\n",
              "    li.append(span(\n",
              "        `(${file.type || 'n/a'}) - ${file.size} bytes, ` +\n",
              "        `last modified: ${\n",
              "            file.lastModifiedDate ? file.lastModifiedDate.toLocaleDateString() :\n",
              "                                    'n/a'} - `));\n",
              "    const percent = span('0% done');\n",
              "    li.appendChild(percent);\n",
              "\n",
              "    outputElement.appendChild(li);\n",
              "\n",
              "    const fileDataPromise = new Promise((resolve) => {\n",
              "      const reader = new FileReader();\n",
              "      reader.onload = (e) => {\n",
              "        resolve(e.target.result);\n",
              "      };\n",
              "      reader.readAsArrayBuffer(file);\n",
              "    });\n",
              "    // Wait for the data to be ready.\n",
              "    let fileData = yield {\n",
              "      promise: fileDataPromise,\n",
              "      response: {\n",
              "        action: 'continue',\n",
              "      }\n",
              "    };\n",
              "\n",
              "    // Use a chunked sending to avoid message size limits. See b/62115660.\n",
              "    let position = 0;\n",
              "    do {\n",
              "      const length = Math.min(fileData.byteLength - position, MAX_PAYLOAD_SIZE);\n",
              "      const chunk = new Uint8Array(fileData, position, length);\n",
              "      position += length;\n",
              "\n",
              "      const base64 = btoa(String.fromCharCode.apply(null, chunk));\n",
              "      yield {\n",
              "        response: {\n",
              "          action: 'append',\n",
              "          file: file.name,\n",
              "          data: base64,\n",
              "        },\n",
              "      };\n",
              "\n",
              "      let percentDone = fileData.byteLength === 0 ?\n",
              "          100 :\n",
              "          Math.round((position / fileData.byteLength) * 100);\n",
              "      percent.textContent = `${percentDone}% done`;\n",
              "\n",
              "    } while (position < fileData.byteLength);\n",
              "  }\n",
              "\n",
              "  // All done.\n",
              "  yield {\n",
              "    response: {\n",
              "      action: 'complete',\n",
              "    }\n",
              "  };\n",
              "}\n",
              "\n",
              "scope.google = scope.google || {};\n",
              "scope.google.colab = scope.google.colab || {};\n",
              "scope.google.colab._files = {\n",
              "  _uploadFiles,\n",
              "  _uploadFilesContinue,\n",
              "};\n",
              "})(self);\n",
              "</script> "
            ]
          },
          "metadata": {}
        },
        {
          "output_type": "stream",
          "name": "stdout",
          "text": [
            "Saving Fitness_trackers_updated.csv to Fitness_trackers_updated.csv\n"
          ]
        }
      ]
    },
    {
      "cell_type": "code",
      "source": [
        "#Store Data into Dataframe for Local Notebook Space\n",
        "df = pd.read_csv('Fitness_trackers_updated.csv')"
      ],
      "metadata": {
        "id": "ObUO9jyGrepj"
      },
      "execution_count": 100,
      "outputs": []
    },
    {
      "cell_type": "markdown",
      "source": [
        "# **Explore Data**"
      ],
      "metadata": {
        "id": "OAvvhqQvrnHc"
      }
    },
    {
      "cell_type": "code",
      "source": [
        "#Dataframe Head\n",
        "df.head()"
      ],
      "metadata": {
        "colab": {
          "base_uri": "https://localhost:8080/",
          "height": 206
        },
        "id": "eIe1VrAMrpM8",
        "outputId": "78934ac8-55bb-4670-8097-cbab66073919"
      },
      "execution_count": 6,
      "outputs": [
        {
          "output_type": "execute_result",
          "data": {
            "text/plain": [
              "  Brand Name  Device Type    Model Name  Color Selling Price Original Price  \\\n",
              "0     Xiaomi  FitnessBand  Smart Band 5  Black         2,499          2,999   \n",
              "1     Xiaomi  FitnessBand  Smart Band 4  Black         2,099          2,499   \n",
              "2     Xiaomi  FitnessBand      HMSH01GE  Black         1,722          2,099   \n",
              "3     Xiaomi  FitnessBand  Smart Band 5  Black         2,469          2,999   \n",
              "4     Xiaomi  FitnessBand        Band 3  Black         1,799          2,199   \n",
              "\n",
              "          Display  Rating (Out of 5)              Strap Material  \\\n",
              "0  AMOLED Display                4.1  Thermoplastic polyurethane   \n",
              "1  AMOLED Display                4.2  Thermoplastic polyurethane   \n",
              "2     LCD Display                3.5                     Leather   \n",
              "3  AMOLED Display                4.1  Thermoplastic polyurethane   \n",
              "4    OLED Display                4.3                     Plastic   \n",
              "\n",
              "   Average Battery Life (in days) Reviews  \n",
              "0                              14     NaN  \n",
              "1                              14     NaN  \n",
              "2                              14     NaN  \n",
              "3                              14     NaN  \n",
              "4                               7     NaN  "
            ],
            "text/html": [
              "\n",
              "  <div id=\"df-8f5e7e56-37fc-40a8-b4af-4a13d00710f2\">\n",
              "    <div class=\"colab-df-container\">\n",
              "      <div>\n",
              "<style scoped>\n",
              "    .dataframe tbody tr th:only-of-type {\n",
              "        vertical-align: middle;\n",
              "    }\n",
              "\n",
              "    .dataframe tbody tr th {\n",
              "        vertical-align: top;\n",
              "    }\n",
              "\n",
              "    .dataframe thead th {\n",
              "        text-align: right;\n",
              "    }\n",
              "</style>\n",
              "<table border=\"1\" class=\"dataframe\">\n",
              "  <thead>\n",
              "    <tr style=\"text-align: right;\">\n",
              "      <th></th>\n",
              "      <th>Brand Name</th>\n",
              "      <th>Device Type</th>\n",
              "      <th>Model Name</th>\n",
              "      <th>Color</th>\n",
              "      <th>Selling Price</th>\n",
              "      <th>Original Price</th>\n",
              "      <th>Display</th>\n",
              "      <th>Rating (Out of 5)</th>\n",
              "      <th>Strap Material</th>\n",
              "      <th>Average Battery Life (in days)</th>\n",
              "      <th>Reviews</th>\n",
              "    </tr>\n",
              "  </thead>\n",
              "  <tbody>\n",
              "    <tr>\n",
              "      <th>0</th>\n",
              "      <td>Xiaomi</td>\n",
              "      <td>FitnessBand</td>\n",
              "      <td>Smart Band 5</td>\n",
              "      <td>Black</td>\n",
              "      <td>2,499</td>\n",
              "      <td>2,999</td>\n",
              "      <td>AMOLED Display</td>\n",
              "      <td>4.1</td>\n",
              "      <td>Thermoplastic polyurethane</td>\n",
              "      <td>14</td>\n",
              "      <td>NaN</td>\n",
              "    </tr>\n",
              "    <tr>\n",
              "      <th>1</th>\n",
              "      <td>Xiaomi</td>\n",
              "      <td>FitnessBand</td>\n",
              "      <td>Smart Band 4</td>\n",
              "      <td>Black</td>\n",
              "      <td>2,099</td>\n",
              "      <td>2,499</td>\n",
              "      <td>AMOLED Display</td>\n",
              "      <td>4.2</td>\n",
              "      <td>Thermoplastic polyurethane</td>\n",
              "      <td>14</td>\n",
              "      <td>NaN</td>\n",
              "    </tr>\n",
              "    <tr>\n",
              "      <th>2</th>\n",
              "      <td>Xiaomi</td>\n",
              "      <td>FitnessBand</td>\n",
              "      <td>HMSH01GE</td>\n",
              "      <td>Black</td>\n",
              "      <td>1,722</td>\n",
              "      <td>2,099</td>\n",
              "      <td>LCD Display</td>\n",
              "      <td>3.5</td>\n",
              "      <td>Leather</td>\n",
              "      <td>14</td>\n",
              "      <td>NaN</td>\n",
              "    </tr>\n",
              "    <tr>\n",
              "      <th>3</th>\n",
              "      <td>Xiaomi</td>\n",
              "      <td>FitnessBand</td>\n",
              "      <td>Smart Band 5</td>\n",
              "      <td>Black</td>\n",
              "      <td>2,469</td>\n",
              "      <td>2,999</td>\n",
              "      <td>AMOLED Display</td>\n",
              "      <td>4.1</td>\n",
              "      <td>Thermoplastic polyurethane</td>\n",
              "      <td>14</td>\n",
              "      <td>NaN</td>\n",
              "    </tr>\n",
              "    <tr>\n",
              "      <th>4</th>\n",
              "      <td>Xiaomi</td>\n",
              "      <td>FitnessBand</td>\n",
              "      <td>Band 3</td>\n",
              "      <td>Black</td>\n",
              "      <td>1,799</td>\n",
              "      <td>2,199</td>\n",
              "      <td>OLED Display</td>\n",
              "      <td>4.3</td>\n",
              "      <td>Plastic</td>\n",
              "      <td>7</td>\n",
              "      <td>NaN</td>\n",
              "    </tr>\n",
              "  </tbody>\n",
              "</table>\n",
              "</div>\n",
              "      <button class=\"colab-df-convert\" onclick=\"convertToInteractive('df-8f5e7e56-37fc-40a8-b4af-4a13d00710f2')\"\n",
              "              title=\"Convert this dataframe to an interactive table.\"\n",
              "              style=\"display:none;\">\n",
              "        \n",
              "  <svg xmlns=\"http://www.w3.org/2000/svg\" height=\"24px\"viewBox=\"0 0 24 24\"\n",
              "       width=\"24px\">\n",
              "    <path d=\"M0 0h24v24H0V0z\" fill=\"none\"/>\n",
              "    <path d=\"M18.56 5.44l.94 2.06.94-2.06 2.06-.94-2.06-.94-.94-2.06-.94 2.06-2.06.94zm-11 1L8.5 8.5l.94-2.06 2.06-.94-2.06-.94L8.5 2.5l-.94 2.06-2.06.94zm10 10l.94 2.06.94-2.06 2.06-.94-2.06-.94-.94-2.06-.94 2.06-2.06.94z\"/><path d=\"M17.41 7.96l-1.37-1.37c-.4-.4-.92-.59-1.43-.59-.52 0-1.04.2-1.43.59L10.3 9.45l-7.72 7.72c-.78.78-.78 2.05 0 2.83L4 21.41c.39.39.9.59 1.41.59.51 0 1.02-.2 1.41-.59l7.78-7.78 2.81-2.81c.8-.78.8-2.07 0-2.86zM5.41 20L4 18.59l7.72-7.72 1.47 1.35L5.41 20z\"/>\n",
              "  </svg>\n",
              "      </button>\n",
              "      \n",
              "  <style>\n",
              "    .colab-df-container {\n",
              "      display:flex;\n",
              "      flex-wrap:wrap;\n",
              "      gap: 12px;\n",
              "    }\n",
              "\n",
              "    .colab-df-convert {\n",
              "      background-color: #E8F0FE;\n",
              "      border: none;\n",
              "      border-radius: 50%;\n",
              "      cursor: pointer;\n",
              "      display: none;\n",
              "      fill: #1967D2;\n",
              "      height: 32px;\n",
              "      padding: 0 0 0 0;\n",
              "      width: 32px;\n",
              "    }\n",
              "\n",
              "    .colab-df-convert:hover {\n",
              "      background-color: #E2EBFA;\n",
              "      box-shadow: 0px 1px 2px rgba(60, 64, 67, 0.3), 0px 1px 3px 1px rgba(60, 64, 67, 0.15);\n",
              "      fill: #174EA6;\n",
              "    }\n",
              "\n",
              "    [theme=dark] .colab-df-convert {\n",
              "      background-color: #3B4455;\n",
              "      fill: #D2E3FC;\n",
              "    }\n",
              "\n",
              "    [theme=dark] .colab-df-convert:hover {\n",
              "      background-color: #434B5C;\n",
              "      box-shadow: 0px 1px 3px 1px rgba(0, 0, 0, 0.15);\n",
              "      filter: drop-shadow(0px 1px 2px rgba(0, 0, 0, 0.3));\n",
              "      fill: #FFFFFF;\n",
              "    }\n",
              "  </style>\n",
              "\n",
              "      <script>\n",
              "        const buttonEl =\n",
              "          document.querySelector('#df-8f5e7e56-37fc-40a8-b4af-4a13d00710f2 button.colab-df-convert');\n",
              "        buttonEl.style.display =\n",
              "          google.colab.kernel.accessAllowed ? 'block' : 'none';\n",
              "\n",
              "        async function convertToInteractive(key) {\n",
              "          const element = document.querySelector('#df-8f5e7e56-37fc-40a8-b4af-4a13d00710f2');\n",
              "          const dataTable =\n",
              "            await google.colab.kernel.invokeFunction('convertToInteractive',\n",
              "                                                     [key], {});\n",
              "          if (!dataTable) return;\n",
              "\n",
              "          const docLinkHtml = 'Like what you see? Visit the ' +\n",
              "            '<a target=\"_blank\" href=https://colab.research.google.com/notebooks/data_table.ipynb>data table notebook</a>'\n",
              "            + ' to learn more about interactive tables.';\n",
              "          element.innerHTML = '';\n",
              "          dataTable['output_type'] = 'display_data';\n",
              "          await google.colab.output.renderOutput(dataTable, element);\n",
              "          const docLink = document.createElement('div');\n",
              "          docLink.innerHTML = docLinkHtml;\n",
              "          element.appendChild(docLink);\n",
              "        }\n",
              "      </script>\n",
              "    </div>\n",
              "  </div>\n",
              "  "
            ]
          },
          "metadata": {},
          "execution_count": 6
        }
      ]
    },
    {
      "cell_type": "code",
      "source": [
        "#Shape of Dataset\n",
        "df.shape"
      ],
      "metadata": {
        "colab": {
          "base_uri": "https://localhost:8080/"
        },
        "id": "praHXe_3rr4m",
        "outputId": "8525ac7b-875c-45b8-c833-7521e8efcb2f"
      },
      "execution_count": 7,
      "outputs": [
        {
          "output_type": "execute_result",
          "data": {
            "text/plain": [
              "(610, 11)"
            ]
          },
          "metadata": {},
          "execution_count": 7
        }
      ]
    },
    {
      "cell_type": "code",
      "source": [
        "#List Column Names\n",
        "list(df.columns.values)"
      ],
      "metadata": {
        "colab": {
          "base_uri": "https://localhost:8080/"
        },
        "id": "4yDA_U-8rwC2",
        "outputId": "10659e1c-7025-41cb-cebd-4896048f4f6e"
      },
      "execution_count": 8,
      "outputs": [
        {
          "output_type": "execute_result",
          "data": {
            "text/plain": [
              "['Brand Name',\n",
              " 'Device Type',\n",
              " 'Model Name',\n",
              " 'Color',\n",
              " 'Selling Price',\n",
              " 'Original Price',\n",
              " 'Display',\n",
              " 'Rating (Out of 5)',\n",
              " 'Strap Material',\n",
              " 'Average Battery Life (in days)',\n",
              " 'Reviews']"
            ]
          },
          "metadata": {},
          "execution_count": 8
        }
      ]
    },
    {
      "cell_type": "code",
      "source": [
        "#Datatypes\n",
        "df.dtypes"
      ],
      "metadata": {
        "colab": {
          "base_uri": "https://localhost:8080/"
        },
        "id": "D5VK26fYrxA0",
        "outputId": "937aec89-1806-40f1-d75e-3eace69ae717"
      },
      "execution_count": 9,
      "outputs": [
        {
          "output_type": "execute_result",
          "data": {
            "text/plain": [
              "Brand Name                         object\n",
              "Device Type                        object\n",
              "Model Name                         object\n",
              "Color                              object\n",
              "Selling Price                      object\n",
              "Original Price                     object\n",
              "Display                            object\n",
              "Rating (Out of 5)                 float64\n",
              "Strap Material                     object\n",
              "Average Battery Life (in days)      int64\n",
              "Reviews                            object\n",
              "dtype: object"
            ]
          },
          "metadata": {},
          "execution_count": 9
        }
      ]
    },
    {
      "cell_type": "code",
      "source": [
        "#Dataframe Summary\n",
        "df.info()"
      ],
      "metadata": {
        "colab": {
          "base_uri": "https://localhost:8080/"
        },
        "id": "BqCg6pX0r12V",
        "outputId": "1f719156-d3f4-4c65-abda-9702d7df2f6f"
      },
      "execution_count": 10,
      "outputs": [
        {
          "output_type": "stream",
          "name": "stdout",
          "text": [
            "<class 'pandas.core.frame.DataFrame'>\n",
            "RangeIndex: 610 entries, 0 to 609\n",
            "Data columns (total 11 columns):\n",
            " #   Column                          Non-Null Count  Dtype  \n",
            "---  ------                          --------------  -----  \n",
            " 0   Brand Name                      610 non-null    object \n",
            " 1   Device Type                     610 non-null    object \n",
            " 2   Model Name                      610 non-null    object \n",
            " 3   Color                           610 non-null    object \n",
            " 4   Selling Price                   610 non-null    object \n",
            " 5   Original Price                  610 non-null    object \n",
            " 6   Display                         610 non-null    object \n",
            " 7   Rating (Out of 5)               554 non-null    float64\n",
            " 8   Strap Material                  610 non-null    object \n",
            " 9   Average Battery Life (in days)  610 non-null    int64  \n",
            " 10  Reviews                         114 non-null    object \n",
            "dtypes: float64(1), int64(1), object(9)\n",
            "memory usage: 52.5+ KB\n"
          ]
        }
      ]
    },
    {
      "cell_type": "code",
      "source": [
        "#Dataframe Description\n",
        "df.describe()"
      ],
      "metadata": {
        "colab": {
          "base_uri": "https://localhost:8080/",
          "height": 300
        },
        "id": "Xiv6y0ezr648",
        "outputId": "3a105f9b-7a9e-4750-931d-e66c490ba219"
      },
      "execution_count": 11,
      "outputs": [
        {
          "output_type": "execute_result",
          "data": {
            "text/plain": [
              "       Rating (Out of 5)  Average Battery Life (in days)\n",
              "count         554.000000                      610.000000\n",
              "mean            4.195668                        8.926230\n",
              "std             0.422576                        7.632107\n",
              "min             2.000000                        1.000000\n",
              "25%             4.000000                        2.000000\n",
              "50%             4.200000                        7.000000\n",
              "75%             4.500000                       14.000000\n",
              "max             5.000000                       45.000000"
            ],
            "text/html": [
              "\n",
              "  <div id=\"df-6de16b6f-6931-4d7b-aacd-540f07e78e19\">\n",
              "    <div class=\"colab-df-container\">\n",
              "      <div>\n",
              "<style scoped>\n",
              "    .dataframe tbody tr th:only-of-type {\n",
              "        vertical-align: middle;\n",
              "    }\n",
              "\n",
              "    .dataframe tbody tr th {\n",
              "        vertical-align: top;\n",
              "    }\n",
              "\n",
              "    .dataframe thead th {\n",
              "        text-align: right;\n",
              "    }\n",
              "</style>\n",
              "<table border=\"1\" class=\"dataframe\">\n",
              "  <thead>\n",
              "    <tr style=\"text-align: right;\">\n",
              "      <th></th>\n",
              "      <th>Rating (Out of 5)</th>\n",
              "      <th>Average Battery Life (in days)</th>\n",
              "    </tr>\n",
              "  </thead>\n",
              "  <tbody>\n",
              "    <tr>\n",
              "      <th>count</th>\n",
              "      <td>554.000000</td>\n",
              "      <td>610.000000</td>\n",
              "    </tr>\n",
              "    <tr>\n",
              "      <th>mean</th>\n",
              "      <td>4.195668</td>\n",
              "      <td>8.926230</td>\n",
              "    </tr>\n",
              "    <tr>\n",
              "      <th>std</th>\n",
              "      <td>0.422576</td>\n",
              "      <td>7.632107</td>\n",
              "    </tr>\n",
              "    <tr>\n",
              "      <th>min</th>\n",
              "      <td>2.000000</td>\n",
              "      <td>1.000000</td>\n",
              "    </tr>\n",
              "    <tr>\n",
              "      <th>25%</th>\n",
              "      <td>4.000000</td>\n",
              "      <td>2.000000</td>\n",
              "    </tr>\n",
              "    <tr>\n",
              "      <th>50%</th>\n",
              "      <td>4.200000</td>\n",
              "      <td>7.000000</td>\n",
              "    </tr>\n",
              "    <tr>\n",
              "      <th>75%</th>\n",
              "      <td>4.500000</td>\n",
              "      <td>14.000000</td>\n",
              "    </tr>\n",
              "    <tr>\n",
              "      <th>max</th>\n",
              "      <td>5.000000</td>\n",
              "      <td>45.000000</td>\n",
              "    </tr>\n",
              "  </tbody>\n",
              "</table>\n",
              "</div>\n",
              "      <button class=\"colab-df-convert\" onclick=\"convertToInteractive('df-6de16b6f-6931-4d7b-aacd-540f07e78e19')\"\n",
              "              title=\"Convert this dataframe to an interactive table.\"\n",
              "              style=\"display:none;\">\n",
              "        \n",
              "  <svg xmlns=\"http://www.w3.org/2000/svg\" height=\"24px\"viewBox=\"0 0 24 24\"\n",
              "       width=\"24px\">\n",
              "    <path d=\"M0 0h24v24H0V0z\" fill=\"none\"/>\n",
              "    <path d=\"M18.56 5.44l.94 2.06.94-2.06 2.06-.94-2.06-.94-.94-2.06-.94 2.06-2.06.94zm-11 1L8.5 8.5l.94-2.06 2.06-.94-2.06-.94L8.5 2.5l-.94 2.06-2.06.94zm10 10l.94 2.06.94-2.06 2.06-.94-2.06-.94-.94-2.06-.94 2.06-2.06.94z\"/><path d=\"M17.41 7.96l-1.37-1.37c-.4-.4-.92-.59-1.43-.59-.52 0-1.04.2-1.43.59L10.3 9.45l-7.72 7.72c-.78.78-.78 2.05 0 2.83L4 21.41c.39.39.9.59 1.41.59.51 0 1.02-.2 1.41-.59l7.78-7.78 2.81-2.81c.8-.78.8-2.07 0-2.86zM5.41 20L4 18.59l7.72-7.72 1.47 1.35L5.41 20z\"/>\n",
              "  </svg>\n",
              "      </button>\n",
              "      \n",
              "  <style>\n",
              "    .colab-df-container {\n",
              "      display:flex;\n",
              "      flex-wrap:wrap;\n",
              "      gap: 12px;\n",
              "    }\n",
              "\n",
              "    .colab-df-convert {\n",
              "      background-color: #E8F0FE;\n",
              "      border: none;\n",
              "      border-radius: 50%;\n",
              "      cursor: pointer;\n",
              "      display: none;\n",
              "      fill: #1967D2;\n",
              "      height: 32px;\n",
              "      padding: 0 0 0 0;\n",
              "      width: 32px;\n",
              "    }\n",
              "\n",
              "    .colab-df-convert:hover {\n",
              "      background-color: #E2EBFA;\n",
              "      box-shadow: 0px 1px 2px rgba(60, 64, 67, 0.3), 0px 1px 3px 1px rgba(60, 64, 67, 0.15);\n",
              "      fill: #174EA6;\n",
              "    }\n",
              "\n",
              "    [theme=dark] .colab-df-convert {\n",
              "      background-color: #3B4455;\n",
              "      fill: #D2E3FC;\n",
              "    }\n",
              "\n",
              "    [theme=dark] .colab-df-convert:hover {\n",
              "      background-color: #434B5C;\n",
              "      box-shadow: 0px 1px 3px 1px rgba(0, 0, 0, 0.15);\n",
              "      filter: drop-shadow(0px 1px 2px rgba(0, 0, 0, 0.3));\n",
              "      fill: #FFFFFF;\n",
              "    }\n",
              "  </style>\n",
              "\n",
              "      <script>\n",
              "        const buttonEl =\n",
              "          document.querySelector('#df-6de16b6f-6931-4d7b-aacd-540f07e78e19 button.colab-df-convert');\n",
              "        buttonEl.style.display =\n",
              "          google.colab.kernel.accessAllowed ? 'block' : 'none';\n",
              "\n",
              "        async function convertToInteractive(key) {\n",
              "          const element = document.querySelector('#df-6de16b6f-6931-4d7b-aacd-540f07e78e19');\n",
              "          const dataTable =\n",
              "            await google.colab.kernel.invokeFunction('convertToInteractive',\n",
              "                                                     [key], {});\n",
              "          if (!dataTable) return;\n",
              "\n",
              "          const docLinkHtml = 'Like what you see? Visit the ' +\n",
              "            '<a target=\"_blank\" href=https://colab.research.google.com/notebooks/data_table.ipynb>data table notebook</a>'\n",
              "            + ' to learn more about interactive tables.';\n",
              "          element.innerHTML = '';\n",
              "          dataTable['output_type'] = 'display_data';\n",
              "          await google.colab.output.renderOutput(dataTable, element);\n",
              "          const docLink = document.createElement('div');\n",
              "          docLink.innerHTML = docLinkHtml;\n",
              "          element.appendChild(docLink);\n",
              "        }\n",
              "      </script>\n",
              "    </div>\n",
              "  </div>\n",
              "  "
            ]
          },
          "metadata": {},
          "execution_count": 11
        }
      ]
    },
    {
      "cell_type": "code",
      "source": [
        "#Find the duplicates\n",
        "df.duplicated().sum()"
      ],
      "metadata": {
        "colab": {
          "base_uri": "https://localhost:8080/"
        },
        "id": "rP6Klkukr95I",
        "outputId": "49a25ab2-494f-46fd-ac75-76e9cce1a80f"
      },
      "execution_count": 12,
      "outputs": [
        {
          "output_type": "execute_result",
          "data": {
            "text/plain": [
              "4"
            ]
          },
          "metadata": {},
          "execution_count": 12
        }
      ]
    },
    {
      "cell_type": "code",
      "source": [
        "#Checking for Top Brands\n",
        "#Check for and Filter for Apple Devices with fuzzy logic\n",
        "df[df['Brand Name'].apply(lambda x: fuzz.token_sort_ratio(x.lower(), 'Apple')) > 80].head()"
      ],
      "metadata": {
        "colab": {
          "base_uri": "https://localhost:8080/",
          "height": 206
        },
        "id": "eO12zOT2xH2k",
        "outputId": "f6fd3642-643b-4c99-ae35-af2b5d1492e4"
      },
      "execution_count": 29,
      "outputs": [
        {
          "output_type": "execute_result",
          "data": {
            "text/plain": [
              "    Brand Name Device Type                                         Model Name  \\\n",
              "354      APPLE  Smartwatch     Series 3 GPS - 42 mm Space Grey Aluminium Case   \n",
              "355      APPLE  Smartwatch                 SE 44 mm Space Grey Aluminium Case   \n",
              "356      APPLE  Smartwatch     Series 3 GPS - 38 mm Space Grey Aluminium Case   \n",
              "357      APPLE  Smartwatch             SE GPS + Cellular 44 mm Aluminium Case   \n",
              "358      APPLE  Smartwatch  SE GPS + Cellular 40 mm Space Grey Aluminium Case   \n",
              "\n",
              "        Color Selling Price Original Price              Display  \\\n",
              "354     Black        18,900         23,900  OLED Retina Display   \n",
              "355     Black        30,400         32,900  OLED Retina Display   \n",
              "356     Black        16,900         20,900  OLED Retina Display   \n",
              "357     Black        36,900         36,900  OLED Retina Display   \n",
              "358  Charcoal        31,400         33,900  OLED Retina Display   \n",
              "\n",
              "     Rating (Out of 5) Strap Material  Average Battery Life (in days) Reviews  \n",
              "354                4.6      Aluminium                               1     NaN  \n",
              "355                4.7      Aluminium                               1     NaN  \n",
              "356                4.6      Aluminium                               1     NaN  \n",
              "357                4.6      Aluminium                               1     NaN  \n",
              "358                4.6      Aluminium                               1     NaN  "
            ],
            "text/html": [
              "\n",
              "  <div id=\"df-50f6d8e1-71f1-42f1-9077-0c0d0d239a24\">\n",
              "    <div class=\"colab-df-container\">\n",
              "      <div>\n",
              "<style scoped>\n",
              "    .dataframe tbody tr th:only-of-type {\n",
              "        vertical-align: middle;\n",
              "    }\n",
              "\n",
              "    .dataframe tbody tr th {\n",
              "        vertical-align: top;\n",
              "    }\n",
              "\n",
              "    .dataframe thead th {\n",
              "        text-align: right;\n",
              "    }\n",
              "</style>\n",
              "<table border=\"1\" class=\"dataframe\">\n",
              "  <thead>\n",
              "    <tr style=\"text-align: right;\">\n",
              "      <th></th>\n",
              "      <th>Brand Name</th>\n",
              "      <th>Device Type</th>\n",
              "      <th>Model Name</th>\n",
              "      <th>Color</th>\n",
              "      <th>Selling Price</th>\n",
              "      <th>Original Price</th>\n",
              "      <th>Display</th>\n",
              "      <th>Rating (Out of 5)</th>\n",
              "      <th>Strap Material</th>\n",
              "      <th>Average Battery Life (in days)</th>\n",
              "      <th>Reviews</th>\n",
              "    </tr>\n",
              "  </thead>\n",
              "  <tbody>\n",
              "    <tr>\n",
              "      <th>354</th>\n",
              "      <td>APPLE</td>\n",
              "      <td>Smartwatch</td>\n",
              "      <td>Series 3 GPS - 42 mm Space Grey Aluminium Case</td>\n",
              "      <td>Black</td>\n",
              "      <td>18,900</td>\n",
              "      <td>23,900</td>\n",
              "      <td>OLED Retina Display</td>\n",
              "      <td>4.6</td>\n",
              "      <td>Aluminium</td>\n",
              "      <td>1</td>\n",
              "      <td>NaN</td>\n",
              "    </tr>\n",
              "    <tr>\n",
              "      <th>355</th>\n",
              "      <td>APPLE</td>\n",
              "      <td>Smartwatch</td>\n",
              "      <td>SE 44 mm Space Grey Aluminium Case</td>\n",
              "      <td>Black</td>\n",
              "      <td>30,400</td>\n",
              "      <td>32,900</td>\n",
              "      <td>OLED Retina Display</td>\n",
              "      <td>4.7</td>\n",
              "      <td>Aluminium</td>\n",
              "      <td>1</td>\n",
              "      <td>NaN</td>\n",
              "    </tr>\n",
              "    <tr>\n",
              "      <th>356</th>\n",
              "      <td>APPLE</td>\n",
              "      <td>Smartwatch</td>\n",
              "      <td>Series 3 GPS - 38 mm Space Grey Aluminium Case</td>\n",
              "      <td>Black</td>\n",
              "      <td>16,900</td>\n",
              "      <td>20,900</td>\n",
              "      <td>OLED Retina Display</td>\n",
              "      <td>4.6</td>\n",
              "      <td>Aluminium</td>\n",
              "      <td>1</td>\n",
              "      <td>NaN</td>\n",
              "    </tr>\n",
              "    <tr>\n",
              "      <th>357</th>\n",
              "      <td>APPLE</td>\n",
              "      <td>Smartwatch</td>\n",
              "      <td>SE GPS + Cellular 44 mm Aluminium Case</td>\n",
              "      <td>Black</td>\n",
              "      <td>36,900</td>\n",
              "      <td>36,900</td>\n",
              "      <td>OLED Retina Display</td>\n",
              "      <td>4.6</td>\n",
              "      <td>Aluminium</td>\n",
              "      <td>1</td>\n",
              "      <td>NaN</td>\n",
              "    </tr>\n",
              "    <tr>\n",
              "      <th>358</th>\n",
              "      <td>APPLE</td>\n",
              "      <td>Smartwatch</td>\n",
              "      <td>SE GPS + Cellular 40 mm Space Grey Aluminium Case</td>\n",
              "      <td>Charcoal</td>\n",
              "      <td>31,400</td>\n",
              "      <td>33,900</td>\n",
              "      <td>OLED Retina Display</td>\n",
              "      <td>4.6</td>\n",
              "      <td>Aluminium</td>\n",
              "      <td>1</td>\n",
              "      <td>NaN</td>\n",
              "    </tr>\n",
              "  </tbody>\n",
              "</table>\n",
              "</div>\n",
              "      <button class=\"colab-df-convert\" onclick=\"convertToInteractive('df-50f6d8e1-71f1-42f1-9077-0c0d0d239a24')\"\n",
              "              title=\"Convert this dataframe to an interactive table.\"\n",
              "              style=\"display:none;\">\n",
              "        \n",
              "  <svg xmlns=\"http://www.w3.org/2000/svg\" height=\"24px\"viewBox=\"0 0 24 24\"\n",
              "       width=\"24px\">\n",
              "    <path d=\"M0 0h24v24H0V0z\" fill=\"none\"/>\n",
              "    <path d=\"M18.56 5.44l.94 2.06.94-2.06 2.06-.94-2.06-.94-.94-2.06-.94 2.06-2.06.94zm-11 1L8.5 8.5l.94-2.06 2.06-.94-2.06-.94L8.5 2.5l-.94 2.06-2.06.94zm10 10l.94 2.06.94-2.06 2.06-.94-2.06-.94-.94-2.06-.94 2.06-2.06.94z\"/><path d=\"M17.41 7.96l-1.37-1.37c-.4-.4-.92-.59-1.43-.59-.52 0-1.04.2-1.43.59L10.3 9.45l-7.72 7.72c-.78.78-.78 2.05 0 2.83L4 21.41c.39.39.9.59 1.41.59.51 0 1.02-.2 1.41-.59l7.78-7.78 2.81-2.81c.8-.78.8-2.07 0-2.86zM5.41 20L4 18.59l7.72-7.72 1.47 1.35L5.41 20z\"/>\n",
              "  </svg>\n",
              "      </button>\n",
              "      \n",
              "  <style>\n",
              "    .colab-df-container {\n",
              "      display:flex;\n",
              "      flex-wrap:wrap;\n",
              "      gap: 12px;\n",
              "    }\n",
              "\n",
              "    .colab-df-convert {\n",
              "      background-color: #E8F0FE;\n",
              "      border: none;\n",
              "      border-radius: 50%;\n",
              "      cursor: pointer;\n",
              "      display: none;\n",
              "      fill: #1967D2;\n",
              "      height: 32px;\n",
              "      padding: 0 0 0 0;\n",
              "      width: 32px;\n",
              "    }\n",
              "\n",
              "    .colab-df-convert:hover {\n",
              "      background-color: #E2EBFA;\n",
              "      box-shadow: 0px 1px 2px rgba(60, 64, 67, 0.3), 0px 1px 3px 1px rgba(60, 64, 67, 0.15);\n",
              "      fill: #174EA6;\n",
              "    }\n",
              "\n",
              "    [theme=dark] .colab-df-convert {\n",
              "      background-color: #3B4455;\n",
              "      fill: #D2E3FC;\n",
              "    }\n",
              "\n",
              "    [theme=dark] .colab-df-convert:hover {\n",
              "      background-color: #434B5C;\n",
              "      box-shadow: 0px 1px 3px 1px rgba(0, 0, 0, 0.15);\n",
              "      filter: drop-shadow(0px 1px 2px rgba(0, 0, 0, 0.3));\n",
              "      fill: #FFFFFF;\n",
              "    }\n",
              "  </style>\n",
              "\n",
              "      <script>\n",
              "        const buttonEl =\n",
              "          document.querySelector('#df-50f6d8e1-71f1-42f1-9077-0c0d0d239a24 button.colab-df-convert');\n",
              "        buttonEl.style.display =\n",
              "          google.colab.kernel.accessAllowed ? 'block' : 'none';\n",
              "\n",
              "        async function convertToInteractive(key) {\n",
              "          const element = document.querySelector('#df-50f6d8e1-71f1-42f1-9077-0c0d0d239a24');\n",
              "          const dataTable =\n",
              "            await google.colab.kernel.invokeFunction('convertToInteractive',\n",
              "                                                     [key], {});\n",
              "          if (!dataTable) return;\n",
              "\n",
              "          const docLinkHtml = 'Like what you see? Visit the ' +\n",
              "            '<a target=\"_blank\" href=https://colab.research.google.com/notebooks/data_table.ipynb>data table notebook</a>'\n",
              "            + ' to learn more about interactive tables.';\n",
              "          element.innerHTML = '';\n",
              "          dataTable['output_type'] = 'display_data';\n",
              "          await google.colab.output.renderOutput(dataTable, element);\n",
              "          const docLink = document.createElement('div');\n",
              "          docLink.innerHTML = docLinkHtml;\n",
              "          element.appendChild(docLink);\n",
              "        }\n",
              "      </script>\n",
              "    </div>\n",
              "  </div>\n",
              "  "
            ]
          },
          "metadata": {},
          "execution_count": 29
        }
      ]
    },
    {
      "cell_type": "code",
      "source": [
        "#Checking for Top Brands\n",
        "#Check & Filter for FitBit Devices\n",
        "#Check for Mispellings and Alternate Capitalizations with fuzzy logic\n",
        "df[df['Brand Name'].apply(lambda x: fuzz.token_sort_ratio(x.lower(), 'FitBit')) > 80].head()"
      ],
      "metadata": {
        "colab": {
          "base_uri": "https://localhost:8080/",
          "height": 206
        },
        "id": "sHpUhdgUyYas",
        "outputId": "937432cd-14f5-4826-8049-eaf1289081bd"
      },
      "execution_count": 30,
      "outputs": [
        {
          "output_type": "execute_result",
          "data": {
            "text/plain": [
              "   Brand Name  Device Type Model Name                        Color  \\\n",
              "12     FitBit   Smartwatch    Versa 2            Grey, Pink, Black   \n",
              "13     FitBit   Smartwatch      Sense           Black, Pink, Beige   \n",
              "14     FitBit   Smartwatch    Versa 3            Black, Blue, Pink   \n",
              "15     FitBit  FitnessBand   Charge 4  Storm Blue, Black, Rosewood   \n",
              "16     FitBit  FitnessBand    Inspire                      Maroon    \n",
              "\n",
              "   Selling Price Original Price         Display  Rating (Out of 5)  \\\n",
              "12        11,999         14,999  AMOLED Display                4.3   \n",
              "13        21,499         22,999  AMOLED Display                4.2   \n",
              "14        17,999         18,999  AMOLED Display                4.3   \n",
              "15         9,999          9,999  PMOLED Display                4.2   \n",
              "16         7,990          7,999     LED Display                4.2   \n",
              "\n",
              "   Strap Material  Average Battery Life (in days) Reviews  \n",
              "12       Silicone                               7     NaN  \n",
              "13      Elastomer                               7     NaN  \n",
              "14      Elastomer                               7     NaN  \n",
              "15      Elastomer                               7     NaN  \n",
              "16       Silicone                               5     NaN  "
            ],
            "text/html": [
              "\n",
              "  <div id=\"df-f2c83ced-a691-49c6-8cd8-5edeb82a25a1\">\n",
              "    <div class=\"colab-df-container\">\n",
              "      <div>\n",
              "<style scoped>\n",
              "    .dataframe tbody tr th:only-of-type {\n",
              "        vertical-align: middle;\n",
              "    }\n",
              "\n",
              "    .dataframe tbody tr th {\n",
              "        vertical-align: top;\n",
              "    }\n",
              "\n",
              "    .dataframe thead th {\n",
              "        text-align: right;\n",
              "    }\n",
              "</style>\n",
              "<table border=\"1\" class=\"dataframe\">\n",
              "  <thead>\n",
              "    <tr style=\"text-align: right;\">\n",
              "      <th></th>\n",
              "      <th>Brand Name</th>\n",
              "      <th>Device Type</th>\n",
              "      <th>Model Name</th>\n",
              "      <th>Color</th>\n",
              "      <th>Selling Price</th>\n",
              "      <th>Original Price</th>\n",
              "      <th>Display</th>\n",
              "      <th>Rating (Out of 5)</th>\n",
              "      <th>Strap Material</th>\n",
              "      <th>Average Battery Life (in days)</th>\n",
              "      <th>Reviews</th>\n",
              "    </tr>\n",
              "  </thead>\n",
              "  <tbody>\n",
              "    <tr>\n",
              "      <th>12</th>\n",
              "      <td>FitBit</td>\n",
              "      <td>Smartwatch</td>\n",
              "      <td>Versa 2</td>\n",
              "      <td>Grey, Pink, Black</td>\n",
              "      <td>11,999</td>\n",
              "      <td>14,999</td>\n",
              "      <td>AMOLED Display</td>\n",
              "      <td>4.3</td>\n",
              "      <td>Silicone</td>\n",
              "      <td>7</td>\n",
              "      <td>NaN</td>\n",
              "    </tr>\n",
              "    <tr>\n",
              "      <th>13</th>\n",
              "      <td>FitBit</td>\n",
              "      <td>Smartwatch</td>\n",
              "      <td>Sense</td>\n",
              "      <td>Black, Pink, Beige</td>\n",
              "      <td>21,499</td>\n",
              "      <td>22,999</td>\n",
              "      <td>AMOLED Display</td>\n",
              "      <td>4.2</td>\n",
              "      <td>Elastomer</td>\n",
              "      <td>7</td>\n",
              "      <td>NaN</td>\n",
              "    </tr>\n",
              "    <tr>\n",
              "      <th>14</th>\n",
              "      <td>FitBit</td>\n",
              "      <td>Smartwatch</td>\n",
              "      <td>Versa 3</td>\n",
              "      <td>Black, Blue, Pink</td>\n",
              "      <td>17,999</td>\n",
              "      <td>18,999</td>\n",
              "      <td>AMOLED Display</td>\n",
              "      <td>4.3</td>\n",
              "      <td>Elastomer</td>\n",
              "      <td>7</td>\n",
              "      <td>NaN</td>\n",
              "    </tr>\n",
              "    <tr>\n",
              "      <th>15</th>\n",
              "      <td>FitBit</td>\n",
              "      <td>FitnessBand</td>\n",
              "      <td>Charge 4</td>\n",
              "      <td>Storm Blue, Black, Rosewood</td>\n",
              "      <td>9,999</td>\n",
              "      <td>9,999</td>\n",
              "      <td>PMOLED Display</td>\n",
              "      <td>4.2</td>\n",
              "      <td>Elastomer</td>\n",
              "      <td>7</td>\n",
              "      <td>NaN</td>\n",
              "    </tr>\n",
              "    <tr>\n",
              "      <th>16</th>\n",
              "      <td>FitBit</td>\n",
              "      <td>FitnessBand</td>\n",
              "      <td>Inspire</td>\n",
              "      <td>Maroon</td>\n",
              "      <td>7,990</td>\n",
              "      <td>7,999</td>\n",
              "      <td>LED Display</td>\n",
              "      <td>4.2</td>\n",
              "      <td>Silicone</td>\n",
              "      <td>5</td>\n",
              "      <td>NaN</td>\n",
              "    </tr>\n",
              "  </tbody>\n",
              "</table>\n",
              "</div>\n",
              "      <button class=\"colab-df-convert\" onclick=\"convertToInteractive('df-f2c83ced-a691-49c6-8cd8-5edeb82a25a1')\"\n",
              "              title=\"Convert this dataframe to an interactive table.\"\n",
              "              style=\"display:none;\">\n",
              "        \n",
              "  <svg xmlns=\"http://www.w3.org/2000/svg\" height=\"24px\"viewBox=\"0 0 24 24\"\n",
              "       width=\"24px\">\n",
              "    <path d=\"M0 0h24v24H0V0z\" fill=\"none\"/>\n",
              "    <path d=\"M18.56 5.44l.94 2.06.94-2.06 2.06-.94-2.06-.94-.94-2.06-.94 2.06-2.06.94zm-11 1L8.5 8.5l.94-2.06 2.06-.94-2.06-.94L8.5 2.5l-.94 2.06-2.06.94zm10 10l.94 2.06.94-2.06 2.06-.94-2.06-.94-.94-2.06-.94 2.06-2.06.94z\"/><path d=\"M17.41 7.96l-1.37-1.37c-.4-.4-.92-.59-1.43-.59-.52 0-1.04.2-1.43.59L10.3 9.45l-7.72 7.72c-.78.78-.78 2.05 0 2.83L4 21.41c.39.39.9.59 1.41.59.51 0 1.02-.2 1.41-.59l7.78-7.78 2.81-2.81c.8-.78.8-2.07 0-2.86zM5.41 20L4 18.59l7.72-7.72 1.47 1.35L5.41 20z\"/>\n",
              "  </svg>\n",
              "      </button>\n",
              "      \n",
              "  <style>\n",
              "    .colab-df-container {\n",
              "      display:flex;\n",
              "      flex-wrap:wrap;\n",
              "      gap: 12px;\n",
              "    }\n",
              "\n",
              "    .colab-df-convert {\n",
              "      background-color: #E8F0FE;\n",
              "      border: none;\n",
              "      border-radius: 50%;\n",
              "      cursor: pointer;\n",
              "      display: none;\n",
              "      fill: #1967D2;\n",
              "      height: 32px;\n",
              "      padding: 0 0 0 0;\n",
              "      width: 32px;\n",
              "    }\n",
              "\n",
              "    .colab-df-convert:hover {\n",
              "      background-color: #E2EBFA;\n",
              "      box-shadow: 0px 1px 2px rgba(60, 64, 67, 0.3), 0px 1px 3px 1px rgba(60, 64, 67, 0.15);\n",
              "      fill: #174EA6;\n",
              "    }\n",
              "\n",
              "    [theme=dark] .colab-df-convert {\n",
              "      background-color: #3B4455;\n",
              "      fill: #D2E3FC;\n",
              "    }\n",
              "\n",
              "    [theme=dark] .colab-df-convert:hover {\n",
              "      background-color: #434B5C;\n",
              "      box-shadow: 0px 1px 3px 1px rgba(0, 0, 0, 0.15);\n",
              "      filter: drop-shadow(0px 1px 2px rgba(0, 0, 0, 0.3));\n",
              "      fill: #FFFFFF;\n",
              "    }\n",
              "  </style>\n",
              "\n",
              "      <script>\n",
              "        const buttonEl =\n",
              "          document.querySelector('#df-f2c83ced-a691-49c6-8cd8-5edeb82a25a1 button.colab-df-convert');\n",
              "        buttonEl.style.display =\n",
              "          google.colab.kernel.accessAllowed ? 'block' : 'none';\n",
              "\n",
              "        async function convertToInteractive(key) {\n",
              "          const element = document.querySelector('#df-f2c83ced-a691-49c6-8cd8-5edeb82a25a1');\n",
              "          const dataTable =\n",
              "            await google.colab.kernel.invokeFunction('convertToInteractive',\n",
              "                                                     [key], {});\n",
              "          if (!dataTable) return;\n",
              "\n",
              "          const docLinkHtml = 'Like what you see? Visit the ' +\n",
              "            '<a target=\"_blank\" href=https://colab.research.google.com/notebooks/data_table.ipynb>data table notebook</a>'\n",
              "            + ' to learn more about interactive tables.';\n",
              "          element.innerHTML = '';\n",
              "          dataTable['output_type'] = 'display_data';\n",
              "          await google.colab.output.renderOutput(dataTable, element);\n",
              "          const docLink = document.createElement('div');\n",
              "          docLink.innerHTML = docLinkHtml;\n",
              "          element.appendChild(docLink);\n",
              "        }\n",
              "      </script>\n",
              "    </div>\n",
              "  </div>\n",
              "  "
            ]
          },
          "metadata": {},
          "execution_count": 30
        }
      ]
    },
    {
      "cell_type": "code",
      "source": [
        "#Filter dataframe for Fitbit\n",
        "#Checking for Top Brands\n",
        "#Check for and Filter for SAMSUNG Devices\n",
        "#Check for Mispellings and Alternate Capitalizations with fuzzy logic\n",
        "df[df['Brand Name'].apply(lambda x: fuzz.token_sort_ratio(x.lower(), 'samsung')) > 80].head()"
      ],
      "metadata": {
        "colab": {
          "base_uri": "https://localhost:8080/",
          "height": 206
        },
        "id": "i2kzIaEqzPnU",
        "outputId": "9d31e4e1-fcf0-4758-a209-cb184239bb29"
      },
      "execution_count": 31,
      "outputs": [
        {
          "output_type": "execute_result",
          "data": {
            "text/plain": [
              "    Brand Name Device Type        Model Name         Color Selling Price  \\\n",
              "174   SAMSUNG   Smartwatch   Galaxy Active 2  Black, Beige        11,990   \n",
              "175   SAMSUNG   Smartwatch   Galaxy Active 2          Grey        12,990   \n",
              "176   SAMSUNG   Smartwatch  Galaxy Classic 4         Black        32,959   \n",
              "177   SAMSUNG   Smartwatch  Galaxy Classic 4        Silver        40,000   \n",
              "178   SAMSUNG   Smartwatch  Galaxy Classic 4        Silver        34,999   \n",
              "\n",
              "    Original Price         Display  Rating (Out of 5) Strap Material  \\\n",
              "174         25,990  AMOLED Display                4.5       Silicone   \n",
              "175         25,990  AMOLED Display                4.5       Silicone   \n",
              "176         37,999  AMOLED Display                4.6      Elastomer   \n",
              "177         42,999  AMOLED Display                4.6      Elastomer   \n",
              "178         37,999  AMOLED Display                4.6      Elastomer   \n",
              "\n",
              "     Average Battery Life (in days) Reviews  \n",
              "174                               7     NaN  \n",
              "175                               7     NaN  \n",
              "176                              14     NaN  \n",
              "177                              14     NaN  \n",
              "178                              14     NaN  "
            ],
            "text/html": [
              "\n",
              "  <div id=\"df-571e49a3-695c-4845-90a5-27337f58ca60\">\n",
              "    <div class=\"colab-df-container\">\n",
              "      <div>\n",
              "<style scoped>\n",
              "    .dataframe tbody tr th:only-of-type {\n",
              "        vertical-align: middle;\n",
              "    }\n",
              "\n",
              "    .dataframe tbody tr th {\n",
              "        vertical-align: top;\n",
              "    }\n",
              "\n",
              "    .dataframe thead th {\n",
              "        text-align: right;\n",
              "    }\n",
              "</style>\n",
              "<table border=\"1\" class=\"dataframe\">\n",
              "  <thead>\n",
              "    <tr style=\"text-align: right;\">\n",
              "      <th></th>\n",
              "      <th>Brand Name</th>\n",
              "      <th>Device Type</th>\n",
              "      <th>Model Name</th>\n",
              "      <th>Color</th>\n",
              "      <th>Selling Price</th>\n",
              "      <th>Original Price</th>\n",
              "      <th>Display</th>\n",
              "      <th>Rating (Out of 5)</th>\n",
              "      <th>Strap Material</th>\n",
              "      <th>Average Battery Life (in days)</th>\n",
              "      <th>Reviews</th>\n",
              "    </tr>\n",
              "  </thead>\n",
              "  <tbody>\n",
              "    <tr>\n",
              "      <th>174</th>\n",
              "      <td>SAMSUNG</td>\n",
              "      <td>Smartwatch</td>\n",
              "      <td>Galaxy Active 2</td>\n",
              "      <td>Black, Beige</td>\n",
              "      <td>11,990</td>\n",
              "      <td>25,990</td>\n",
              "      <td>AMOLED Display</td>\n",
              "      <td>4.5</td>\n",
              "      <td>Silicone</td>\n",
              "      <td>7</td>\n",
              "      <td>NaN</td>\n",
              "    </tr>\n",
              "    <tr>\n",
              "      <th>175</th>\n",
              "      <td>SAMSUNG</td>\n",
              "      <td>Smartwatch</td>\n",
              "      <td>Galaxy Active 2</td>\n",
              "      <td>Grey</td>\n",
              "      <td>12,990</td>\n",
              "      <td>25,990</td>\n",
              "      <td>AMOLED Display</td>\n",
              "      <td>4.5</td>\n",
              "      <td>Silicone</td>\n",
              "      <td>7</td>\n",
              "      <td>NaN</td>\n",
              "    </tr>\n",
              "    <tr>\n",
              "      <th>176</th>\n",
              "      <td>SAMSUNG</td>\n",
              "      <td>Smartwatch</td>\n",
              "      <td>Galaxy Classic 4</td>\n",
              "      <td>Black</td>\n",
              "      <td>32,959</td>\n",
              "      <td>37,999</td>\n",
              "      <td>AMOLED Display</td>\n",
              "      <td>4.6</td>\n",
              "      <td>Elastomer</td>\n",
              "      <td>14</td>\n",
              "      <td>NaN</td>\n",
              "    </tr>\n",
              "    <tr>\n",
              "      <th>177</th>\n",
              "      <td>SAMSUNG</td>\n",
              "      <td>Smartwatch</td>\n",
              "      <td>Galaxy Classic 4</td>\n",
              "      <td>Silver</td>\n",
              "      <td>40,000</td>\n",
              "      <td>42,999</td>\n",
              "      <td>AMOLED Display</td>\n",
              "      <td>4.6</td>\n",
              "      <td>Elastomer</td>\n",
              "      <td>14</td>\n",
              "      <td>NaN</td>\n",
              "    </tr>\n",
              "    <tr>\n",
              "      <th>178</th>\n",
              "      <td>SAMSUNG</td>\n",
              "      <td>Smartwatch</td>\n",
              "      <td>Galaxy Classic 4</td>\n",
              "      <td>Silver</td>\n",
              "      <td>34,999</td>\n",
              "      <td>37,999</td>\n",
              "      <td>AMOLED Display</td>\n",
              "      <td>4.6</td>\n",
              "      <td>Elastomer</td>\n",
              "      <td>14</td>\n",
              "      <td>NaN</td>\n",
              "    </tr>\n",
              "  </tbody>\n",
              "</table>\n",
              "</div>\n",
              "      <button class=\"colab-df-convert\" onclick=\"convertToInteractive('df-571e49a3-695c-4845-90a5-27337f58ca60')\"\n",
              "              title=\"Convert this dataframe to an interactive table.\"\n",
              "              style=\"display:none;\">\n",
              "        \n",
              "  <svg xmlns=\"http://www.w3.org/2000/svg\" height=\"24px\"viewBox=\"0 0 24 24\"\n",
              "       width=\"24px\">\n",
              "    <path d=\"M0 0h24v24H0V0z\" fill=\"none\"/>\n",
              "    <path d=\"M18.56 5.44l.94 2.06.94-2.06 2.06-.94-2.06-.94-.94-2.06-.94 2.06-2.06.94zm-11 1L8.5 8.5l.94-2.06 2.06-.94-2.06-.94L8.5 2.5l-.94 2.06-2.06.94zm10 10l.94 2.06.94-2.06 2.06-.94-2.06-.94-.94-2.06-.94 2.06-2.06.94z\"/><path d=\"M17.41 7.96l-1.37-1.37c-.4-.4-.92-.59-1.43-.59-.52 0-1.04.2-1.43.59L10.3 9.45l-7.72 7.72c-.78.78-.78 2.05 0 2.83L4 21.41c.39.39.9.59 1.41.59.51 0 1.02-.2 1.41-.59l7.78-7.78 2.81-2.81c.8-.78.8-2.07 0-2.86zM5.41 20L4 18.59l7.72-7.72 1.47 1.35L5.41 20z\"/>\n",
              "  </svg>\n",
              "      </button>\n",
              "      \n",
              "  <style>\n",
              "    .colab-df-container {\n",
              "      display:flex;\n",
              "      flex-wrap:wrap;\n",
              "      gap: 12px;\n",
              "    }\n",
              "\n",
              "    .colab-df-convert {\n",
              "      background-color: #E8F0FE;\n",
              "      border: none;\n",
              "      border-radius: 50%;\n",
              "      cursor: pointer;\n",
              "      display: none;\n",
              "      fill: #1967D2;\n",
              "      height: 32px;\n",
              "      padding: 0 0 0 0;\n",
              "      width: 32px;\n",
              "    }\n",
              "\n",
              "    .colab-df-convert:hover {\n",
              "      background-color: #E2EBFA;\n",
              "      box-shadow: 0px 1px 2px rgba(60, 64, 67, 0.3), 0px 1px 3px 1px rgba(60, 64, 67, 0.15);\n",
              "      fill: #174EA6;\n",
              "    }\n",
              "\n",
              "    [theme=dark] .colab-df-convert {\n",
              "      background-color: #3B4455;\n",
              "      fill: #D2E3FC;\n",
              "    }\n",
              "\n",
              "    [theme=dark] .colab-df-convert:hover {\n",
              "      background-color: #434B5C;\n",
              "      box-shadow: 0px 1px 3px 1px rgba(0, 0, 0, 0.15);\n",
              "      filter: drop-shadow(0px 1px 2px rgba(0, 0, 0, 0.3));\n",
              "      fill: #FFFFFF;\n",
              "    }\n",
              "  </style>\n",
              "\n",
              "      <script>\n",
              "        const buttonEl =\n",
              "          document.querySelector('#df-571e49a3-695c-4845-90a5-27337f58ca60 button.colab-df-convert');\n",
              "        buttonEl.style.display =\n",
              "          google.colab.kernel.accessAllowed ? 'block' : 'none';\n",
              "\n",
              "        async function convertToInteractive(key) {\n",
              "          const element = document.querySelector('#df-571e49a3-695c-4845-90a5-27337f58ca60');\n",
              "          const dataTable =\n",
              "            await google.colab.kernel.invokeFunction('convertToInteractive',\n",
              "                                                     [key], {});\n",
              "          if (!dataTable) return;\n",
              "\n",
              "          const docLinkHtml = 'Like what you see? Visit the ' +\n",
              "            '<a target=\"_blank\" href=https://colab.research.google.com/notebooks/data_table.ipynb>data table notebook</a>'\n",
              "            + ' to learn more about interactive tables.';\n",
              "          element.innerHTML = '';\n",
              "          dataTable['output_type'] = 'display_data';\n",
              "          await google.colab.output.renderOutput(dataTable, element);\n",
              "          const docLink = document.createElement('div');\n",
              "          docLink.innerHTML = docLinkHtml;\n",
              "          element.appendChild(docLink);\n",
              "        }\n",
              "      </script>\n",
              "    </div>\n",
              "  </div>\n",
              "  "
            ]
          },
          "metadata": {},
          "execution_count": 31
        }
      ]
    },
    {
      "cell_type": "code",
      "source": [
        "#Find null values\n",
        "df.isnull().sum()"
      ],
      "metadata": {
        "colab": {
          "base_uri": "https://localhost:8080/"
        },
        "id": "CyH2x2MM2LpI",
        "outputId": "d530ce07-da4b-4d42-ac35-55c82e3c1436"
      },
      "execution_count": 32,
      "outputs": [
        {
          "output_type": "execute_result",
          "data": {
            "text/plain": [
              "Brand Name                          0\n",
              "Device Type                         0\n",
              "Model Name                          0\n",
              "Color                               0\n",
              "Selling Price                       0\n",
              "Original Price                      0\n",
              "Display                             0\n",
              "Rating (Out of 5)                  56\n",
              "Strap Material                      0\n",
              "Average Battery Life (in days)      0\n",
              "Reviews                           496\n",
              "dtype: int64"
            ]
          },
          "metadata": {},
          "execution_count": 32
        }
      ]
    },
    {
      "cell_type": "markdown",
      "source": [
        "# **Data Viz**"
      ],
      "metadata": {
        "id": "PBap92bqBWSj"
      }
    },
    {
      "cell_type": "code",
      "source": [
        "#Create a list of colors using the rainbow color scheme\n",
        "num_plots = 11\n",
        "colors = ['hsl(' + str(h) + ',70%' + ',70%)' for h in [int(360.0 / num_plots * i) for i in range(num_plots)]]\n",
        "\n",
        "#Create subplots\n",
        "fig = make_subplots(rows=4, cols=3)\n",
        "\n",
        "#Add traces to the subplots\n",
        "fig.add_trace(go.Histogram(x=df['Brand Name'], marker_color=colors[0], showlegend=False), row=1, col=1)\n",
        "fig.add_trace(go.Histogram(x=df['Device Type'], marker_color=colors[1], showlegend=False), row=1, col=2)\n",
        "fig.add_trace(go.Histogram(x=df['Model Name'], marker_color=colors[2], showlegend=False), row=1, col=3)\n",
        "fig.add_trace(go.Histogram(x=df['Color'], marker_color=colors[3], showlegend=False), row=2, col=1)\n",
        "fig.add_trace(go.Histogram(x=df['Selling Price'], marker_color=colors[4], showlegend=False), row=2, col=2)\n",
        "fig.add_trace(go.Histogram(x=df['Original Price'], marker_color=colors[5], showlegend=False), row=2, col=3)\n",
        "fig.add_trace(go.Histogram(x=df['Display'], marker_color=colors[6], showlegend=False), row=3, col=1)\n",
        "fig.add_trace(go.Histogram(x=df['Rating (Out of 5)'], marker_color=colors[7], showlegend=False), row=3, col=2)\n",
        "fig.add_trace(go.Histogram(x=df['Strap Material'], marker_color=colors[8], showlegend=False), row=3, col=3)\n",
        "fig.add_trace(go.Histogram(x=df['Average Battery Life (in days)'], marker_color=colors[9], showlegend=False), row=4, col=1)\n",
        "fig.add_trace(go.Histogram(x=df['Reviews'], marker_color=colors[10], showlegend=False), row=4, col=2)\n",
        "\n",
        "#Update layout\n",
        "fig.update_layout(\n",
        "    title=\"Fitness Tracker Data\",\n",
        "    height=1200,\n",
        "    width=1000,\n",
        "    showlegend=False,\n",
        "    plot_bgcolor='rgba(0,0,0,0)'\n",
        ")\n",
        "\n",
        "#Show plot\n",
        "fig.show()"
      ],
      "metadata": {
        "colab": {
          "base_uri": "https://localhost:8080/",
          "height": 1000
        },
        "id": "1aMeZajKEag-",
        "outputId": "501f238e-cc23-4cf7-941b-6dcd8aab4671"
      },
      "execution_count": 77,
      "outputs": [
        {
          "output_type": "display_data",
          "data": {
            "text/html": [
              "<html>\n",
              "<head><meta charset=\"utf-8\" /></head>\n",
              "<body>\n",
              "    <div>            <script src=\"https://cdnjs.cloudflare.com/ajax/libs/mathjax/2.7.5/MathJax.js?config=TeX-AMS-MML_SVG\"></script><script type=\"text/javascript\">if (window.MathJax && window.MathJax.Hub && window.MathJax.Hub.Config) {window.MathJax.Hub.Config({SVG: {font: \"STIX-Web\"}});}</script>                <script type=\"text/javascript\">window.PlotlyConfig = {MathJaxConfig: 'local'};</script>\n",
              "        <script src=\"https://cdn.plot.ly/plotly-2.18.2.min.js\"></script>                <div id=\"44a779d3-5201-48c5-8f25-647b9ceccaa9\" class=\"plotly-graph-div\" style=\"height:1200px; width:1000px;\"></div>            <script type=\"text/javascript\">                                    window.PLOTLYENV=window.PLOTLYENV || {};                                    if (document.getElementById(\"44a779d3-5201-48c5-8f25-647b9ceccaa9\")) {                    Plotly.newPlot(                        \"44a779d3-5201-48c5-8f25-647b9ceccaa9\",                        [{\"marker\":{\"color\":\"hsl(0,70%,70%)\"},\"showlegend\":false,\"x\":[\"Xiaomi\",\"Xiaomi\",\"Xiaomi\",\"Xiaomi\",\"Xiaomi\",\"Xiaomi\",\"Xiaomi\",\"Xiaomi\",\"Xiaomi\",\"Xiaomi\",\"OnePlus \",\"OnePlus \",\"FitBit\",\"FitBit\",\"FitBit\",\"FitBit\",\"FitBit\",\"FitBit\",\"FitBit\",\"FitBit\",\"FitBit\",\"FitBit\",\"FitBit\",\"FitBit\",\"FitBit\",\"FitBit\",\"FitBit\",\"FitBit\",\"FitBit\",\"FitBit\",\"FitBit\",\"FitBit\",\"FitBit\",\"FitBit\",\"FitBit\",\"FitBit\",\"FitBit\",\"FitBit\",\"FitBit\",\"FitBit\",\"FitBit\",\"FitBit\",\"FitBit\",\"FitBit\",\"FitBit\",\"FitBit\",\"FitBit\",\"FitBit\",\"FitBit\",\"FitBit\",\"FitBit\",\"FitBit\",\"FitBit\",\"FitBit\",\"FitBit\",\"FitBit\",\"FitBit\",\"FitBit\",\"FitBit\",\"FitBit\",\"FitBit\",\"FitBit\",\"FitBit\",\"realme\",\"realme\",\"realme\",\"realme\",\"Huawei\",\"Huawei\",\"Huawei\",\"Huawei\",\"Huawei\",\"Huawei\",\"Honor\",\"Honor\",\"Honor\",\"Honor\",\"Honor\",\"Honor\",\"Honor\",\"Honor\",\"Honor\",\"Honor\",\"Honor\",\"Honor\",\"Honor\",\"GOQii\",\"GOQii\",\"Infinix\",\"LCARE\",\"LCARE\",\"LAVA\",\"Noise\",\"Noise\",\"Oppo\",\"Oppo\",\"realme\",\"realme\",\"realme\",\"realme\",\"realme\",\"realme\",\"realme\",\"realme\",\"Fastrack\",\"Fastrack\",\"Fastrack\",\"Fastrack\",\"Fastrack\",\"Fastrack\",\"boAt \",\"boAt \",\"boAt \",\"boAt \",\"Noise \",\"Noise \",\"Noise \",\"Noise \",\"Noise \",\"Noise \",\"Noise \",\"Noise \",\"Noise \",\"Noise \",\"Noise \",\"Noise \",\"Noise \",\"Noise \",\"Noise \",\"Noise \",\"Noise \",\"Honor\",\"Honor\",\"Honor\",\"Honor\",\"Honor\",\"Honor\",\"Honor\",\"huami\",\"huami\",\"huami\",\"huami\",\"huami\",\"huami\",\"huami\",\"huami\",\"huami\",\"huami\",\"huami\",\"huami\",\"huami\",\"huami\",\"huami\",\"huami\",\"huami\",\"huami\",\"huami\",\"huami\",\"huami\",\"huami\",\"huami\",\"huami\",\"huami\",\"huami\",\"huami\",\"huami\",\"huami\",\"huami\",\"huami\",\"huami\",\"huami\",\"huami\",\"huami\",\"huami\",\"SAMSUNG \",\"SAMSUNG \",\"SAMSUNG \",\"SAMSUNG \",\"SAMSUNG \",\"SAMSUNG \",\"SAMSUNG \",\"SAMSUNG \",\"SAMSUNG \",\"SAMSUNG \",\"SAMSUNG \",\"SAMSUNG \",\"SAMSUNG \",\"SAMSUNG \",\"SAMSUNG \",\"SAMSUNG \",\"SAMSUNG \",\"SAMSUNG \",\"SAMSUNG \",\"SAMSUNG \",\"SAMSUNG \",\"SAMSUNG \",\"SAMSUNG \",\"SAMSUNG \",\"SAMSUNG \",\"SAMSUNG \",\"SAMSUNG \",\"SAMSUNG \",\"SAMSUNG \",\"SAMSUNG \",\"SAMSUNG \",\"SAMSUNG \",\"SAMSUNG \",\"SAMSUNG \",\"SAMSUNG \",\"SAMSUNG \",\"SAMSUNG \",\"SAMSUNG \",\"SAMSUNG \",\"SAMSUNG \",\"SAMSUNG \",\"SAMSUNG \",\"SAMSUNG \",\"SAMSUNG \",\"SAMSUNG \",\"SAMSUNG \",\"SAMSUNG \",\"SAMSUNG \",\"FOSSIL \",\"FOSSIL \",\"FOSSIL \",\"FOSSIL \",\"FOSSIL \",\"FOSSIL \",\"FOSSIL \",\"FOSSIL \",\"FOSSIL \",\"FOSSIL \",\"FOSSIL \",\"FOSSIL \",\"FOSSIL \",\"FOSSIL \",\"FOSSIL \",\"FOSSIL \",\"FOSSIL \",\"FOSSIL \",\"FOSSIL \",\"FOSSIL \",\"FOSSIL \",\"FOSSIL \",\"FOSSIL \",\"FOSSIL \",\"FOSSIL \",\"FOSSIL \",\"FOSSIL \",\"FOSSIL \",\"FOSSIL \",\"FOSSIL \",\"FOSSIL \",\"FOSSIL \",\"FOSSIL \",\"FOSSIL \",\"FOSSIL \",\"FOSSIL \",\"FOSSIL \",\"FOSSIL \",\"FOSSIL \",\"FOSSIL \",\"FOSSIL \",\"FOSSIL \",\"FOSSIL \",\"FOSSIL \",\"FOSSIL \",\"FOSSIL \",\"FOSSIL \",\"FOSSIL \",\"FOSSIL \",\"FOSSIL \",\"FOSSIL \",\"FOSSIL \",\"FOSSIL \",\"FOSSIL \",\"FOSSIL \",\"FOSSIL \",\"FOSSIL \",\"FOSSIL \",\"FOSSIL \",\"FOSSIL \",\"FOSSIL \",\"FOSSIL \",\"FOSSIL \",\"FOSSIL \",\"FOSSIL \",\"FOSSIL \",\"FOSSIL \",\"FOSSIL \",\"FOSSIL \",\"FOSSIL \",\"FOSSIL \",\"FOSSIL \",\"FOSSIL \",\"FOSSIL \",\"FOSSIL \",\"FOSSIL \",\"FOSSIL \",\"FOSSIL \",\"FOSSIL \",\"FOSSIL \",\"FOSSIL \",\"FOSSIL \",\"FOSSIL \",\"FOSSIL \",\"FOSSIL \",\"FOSSIL \",\"FOSSIL \",\"FOSSIL \",\"FOSSIL \",\"FOSSIL \",\"FOSSIL \",\"FOSSIL \",\"FOSSIL \",\"FOSSIL \",\"FOSSIL \",\"FOSSIL \",\"FOSSIL \",\"FOSSIL \",\"FOSSIL \",\"FOSSIL \",\"FOSSIL \",\"FOSSIL \",\"FOSSIL \",\"FOSSIL \",\"FOSSIL \",\"FOSSIL \",\"FOSSIL \",\"FOSSIL \",\"FOSSIL \",\"FOSSIL \",\"FOSSIL \",\"FOSSIL \",\"FOSSIL \",\"FOSSIL \",\"FOSSIL \",\"FOSSIL \",\"FOSSIL \",\"FOSSIL \",\"FOSSIL \",\"FOSSIL \",\"FOSSIL \",\"FOSSIL \",\"FOSSIL \",\"FOSSIL \",\"FOSSIL \",\"FOSSIL \",\"FOSSIL \",\"FOSSIL \",\"FOSSIL \",\"FOSSIL \",\"FOSSIL \",\"FOSSIL \",\"APPLE\",\"APPLE\",\"APPLE\",\"APPLE\",\"APPLE\",\"APPLE\",\"APPLE\",\"APPLE\",\"APPLE\",\"APPLE\",\"APPLE\",\"APPLE\",\"APPLE\",\"APPLE\",\"APPLE\",\"APPLE\",\"APPLE\",\"APPLE\",\"APPLE\",\"APPLE\",\"APPLE\",\"APPLE\",\"APPLE\",\"APPLE\",\"APPLE\",\"APPLE\",\"APPLE\",\"APPLE\",\"APPLE\",\"APPLE\",\"APPLE\",\"APPLE\",\"APPLE\",\"APPLE\",\"APPLE\",\"APPLE\",\"APPLE\",\"APPLE\",\"APPLE\",\"APPLE\",\"APPLE\",\"APPLE\",\"APPLE\",\"APPLE\",\"APPLE\",\"APPLE\",\"APPLE\",\"APPLE\",\"APPLE\",\"APPLE\",\"APPLE\",\"APPLE\",\"APPLE\",\"APPLE\",\"APPLE\",\"APPLE\",\"APPLE\",\"APPLE\",\"APPLE\",\"APPLE\",\"APPLE\",\"APPLE\",\"APPLE\",\"APPLE\",\"APPLE\",\"APPLE\",\"APPLE\",\"APPLE\",\"APPLE\",\"APPLE\",\"APPLE\",\"APPLE\",\"APPLE\",\"APPLE\",\"APPLE\",\"APPLE\",\"APPLE\",\"APPLE\",\"APPLE\",\"APPLE\",\"APPLE\",\"APPLE\",\"APPLE\",\"APPLE\",\"APPLE\",\"APPLE\",\"GARMIN \",\"GARMIN \",\"GARMIN \",\"GARMIN \",\"GARMIN \",\"GARMIN \",\"GARMIN \",\"GARMIN \",\"GARMIN \",\"GARMIN \",\"GARMIN \",\"GARMIN \",\"GARMIN \",\"GARMIN \",\"GARMIN \",\"GARMIN \",\"GARMIN \",\"GARMIN \",\"GARMIN \",\"GARMIN \",\"GARMIN \",\"GARMIN \",\"GARMIN \",\"GARMIN \",\"GARMIN \",\"GARMIN \",\"GARMIN \",\"GARMIN \",\"GARMIN \",\"GARMIN \",\"GARMIN \",\"GARMIN \",\"GARMIN \",\"GARMIN \",\"GARMIN \",\"GARMIN \",\"GARMIN \",\"GARMIN \",\"GARMIN \",\"GARMIN \",\"GARMIN \",\"GARMIN \",\"GARMIN \",\"GARMIN \",\"GARMIN \",\"GARMIN \",\"GARMIN \",\"GARMIN \",\"GARMIN \",\"GARMIN \",\"GARMIN \",\"GARMIN \",\"GARMIN \",\"GARMIN \",\"GARMIN \",\"GARMIN \",\"GARMIN \",\"GARMIN \",\"GARMIN \",\"GARMIN \",\"GARMIN \",\"GARMIN \",\"GARMIN \",\"GARMIN \",\"GARMIN \",\"GARMIN \",\"GARMIN \",\"GARMIN \",\"GARMIN \",\"GARMIN \",\"GARMIN \",\"GARMIN \",\"GARMIN \",\"GARMIN \",\"GARMIN \",\"GARMIN \",\"GARMIN \",\"GARMIN \",\"GARMIN \",\"GARMIN \",\"GARMIN \",\"GARMIN \",\"GARMIN \",\"GARMIN \",\"GARMIN \",\"GARMIN \",\"GARMIN \",\"GARMIN \",\"GARMIN \",\"GARMIN \",\"GARMIN \",\"GARMIN \",\"GARMIN \",\"GARMIN \",\"GARMIN \",\"GARMIN \",\"GARMIN \",\"GARMIN \",\"GARMIN \",\"GARMIN \",\"GARMIN \",\"OnePlus \",\"Huawei\",\"Huawei\",\"Huawei\",\"Huawei\",\"Huawei\",\"Huawei\",\"Huawei\",\"Huawei\",\"Huawei\",\"Huawei\",\"Huawei\",\"Huawei\",\"Huawei\",\"Huawei\",\"Huawei\",\"Huawei\",\"Huawei\",\"Huawei\",\"Huawei\",\"Huawei\",\"GOQii\",\"GOQii\",\"FOSSIL \",\"boAt \",\"Crossbeats\",\"Crossbeats\",\"Crossbeats\",\"Crossbeats\",\"Crossbeats\",\"Crossbeats\",\"Crossbeats\",\"Crossbeats\",\"dizo by realme \",\"dizo by realme \",\"Noise \",\"Noise \",\"Noise \",\"Ptron\",\"Ptron\",\"Ptron\",\"Ptron\",\"Ptron\",\"Zebronics\",\"Zebronics\",\"Zebronics\",\"Zebronics\",\"Zebronics\",\"Zebronics\",\"Zebronics\",\"Zebronics\",\"Zebronics\",\"Zebronics\",\"Zebronics\",\"Zebronics\",\"Fire-Boltt\",\"Fire-Boltt\",\"Fire-Boltt\",\"Fire-Boltt\",\"Fire-Boltt\",\"Fire-Boltt\",\"Fire-Boltt\",\"Fire-Boltt\",\"Fire-Boltt\",\"Fire-Boltt\",\"Fire-Boltt\",\"Fire-Boltt\",\"Fire-Boltt\",\"Fire-Boltt\"],\"type\":\"histogram\",\"xaxis\":\"x\",\"yaxis\":\"y\"},{\"marker\":{\"color\":\"hsl(32,70%,70%)\"},\"showlegend\":false,\"x\":[\"FitnessBand\",\"FitnessBand\",\"FitnessBand\",\"FitnessBand\",\"FitnessBand\",\"FitnessBand\",\"FitnessBand\",\"Smartwatch\",\"Smartwatch\",\"FitnessBand\",\"FitnessBand\",\"FitnessBand\",\"Smartwatch\",\"Smartwatch\",\"Smartwatch\",\"FitnessBand\",\"FitnessBand\",\"FitnessBand\",\"FitnessBand\",\"FitnessBand\",\"FitnessBand\",\"FitnessBand\",\"FitnessBand\",\"FitnessBand\",\"FitnessBand\",\"Smartwatch\",\"Smartwatch\",\"Smartwatch\",\"Smartwatch\",\"Smartwatch\",\"Smartwatch\",\"Smartwatch\",\"Smartwatch\",\"FitnessBand\",\"FitnessBand\",\"Smartwatch\",\"Smartwatch\",\"Smartwatch\",\"Smartwatch\",\"FitnessBand\",\"FitnessBand\",\"Smartwatch\",\"Smartwatch\",\"Smartwatch\",\"Smartwatch\",\"FitnessBand\",\"FitnessBand\",\"FitnessBand\",\"Smartwatch\",\"FitnessBand\",\"Smartwatch\",\"FitnessBand\",\"Smartwatch\",\"Smartwatch\",\"Smartwatch\",\"FitnessBand\",\"FitnessBand\",\"FitnessBand\",\"FitnessBand\",\"FitnessBand\",\"FitnessBand\",\"FitnessBand\",\"FitnessBand\",\"FitnessBand\",\"FitnessBand\",\"FitnessBand\",\"FitnessBand\",\"FitnessBand\",\"FitnessBand\",\"FitnessBand\",\"FitnessBand\",\"FitnessBand\",\"FitnessBand\",\"FitnessBand\",\"FitnessBand\",\"FitnessBand\",\"FitnessBand\",\"FitnessBand\",\"FitnessBand\",\"FitnessBand\",\"FitnessBand\",\"FitnessBand\",\"FitnessBand\",\"FitnessBand\",\"FitnessBand\",\"FitnessBand\",\"FitnessBand\",\"FitnessBand\",\"FitnessBand\",\"Smartwatch\",\"FitnessBand\",\"FitnessBand\",\"FitnessBand\",\"FitnessBand\",\"Smartwatch\",\"Smartwatch\",\"Smartwatch\",\"Smartwatch\",\"Smartwatch\",\"Smartwatch\",\"Smartwatch\",\"Smartwatch\",\"Smartwatch\",\"Smartwatch\",\"Smartwatch\",\"Smartwatch\",\"Smartwatch\",\"FitnessBand\",\"FitnessBand\",\"Smartwatch\",\"Smartwatch\",\"Smartwatch\",\"Smartwatch\",\"Smartwatch\",\"Smartwatch\",\"Smartwatch\",\"Smartwatch\",\"Smartwatch\",\"Smartwatch\",\"Smartwatch\",\"Smartwatch\",\"Smartwatch\",\"Smartwatch\",\"Smartwatch\",\"Smartwatch\",\"Smartwatch\",\"Smartwatch\",\"Smartwatch\",\"Smartwatch\",\"Smartwatch\",\"Smartwatch\",\"Smartwatch\",\"Smartwatch\",\"Smartwatch\",\"Smartwatch\",\"Smartwatch\",\"Smartwatch\",\"Smartwatch\",\"Smartwatch\",\"Smartwatch\",\"Smartwatch\",\"Smartwatch\",\"Smartwatch\",\"Smartwatch\",\"Smartwatch\",\"Smartwatch\",\"Smartwatch\",\"Smartwatch\",\"Smartwatch\",\"Smartwatch\",\"Smartwatch\",\"Smartwatch\",\"Smartwatch\",\"Smartwatch\",\"Smartwatch\",\"Smartwatch\",\"Smartwatch\",\"Smartwatch\",\"Smartwatch\",\"Smartwatch\",\"Smartwatch\",\"Smartwatch\",\"Smartwatch\",\"Smartwatch\",\"Smartwatch\",\"Smartwatch\",\"Smartwatch\",\"Smartwatch\",\"Smartwatch\",\"Smartwatch\",\"Smartwatch\",\"Smartwatch\",\"Smartwatch\",\"Smartwatch\",\"Smartwatch\",\"Smartwatch\",\"Smartwatch\",\"Smartwatch\",\"Smartwatch\",\"Smartwatch\",\"FitnessBand\",\"FitnessBand\",\"FitnessBand\",\"Smartwatch\",\"Smartwatch\",\"Smartwatch\",\"Smartwatch\",\"Smartwatch\",\"Smartwatch\",\"Smartwatch\",\"Smartwatch\",\"Smartwatch\",\"Smartwatch\",\"Smartwatch\",\"Smartwatch\",\"Smartwatch\",\"Smartwatch\",\"Smartwatch\",\"Smartwatch\",\"Smartwatch\",\"Smartwatch\",\"Smartwatch\",\"Smartwatch\",\"Smartwatch\",\"Smartwatch\",\"Smartwatch\",\"Smartwatch\",\"Smartwatch\",\"Smartwatch\",\"Smartwatch\",\"Smartwatch\",\"Smartwatch\",\"Smartwatch\",\"Smartwatch\",\"Smartwatch\",\"Smartwatch\",\"Smartwatch\",\"Smartwatch\",\"Smartwatch\",\"Smartwatch\",\"Smartwatch\",\"FitnessBand\",\"Smartwatch\",\"Smartwatch\",\"Smartwatch\",\"Smartwatch\",\"Smartwatch\",\"Smartwatch\",\"Smartwatch\",\"Smartwatch\",\"Smartwatch\",\"Smartwatch\",\"Smartwatch\",\"Smartwatch\",\"Smartwatch\",\"Smartwatch\",\"Smartwatch\",\"Smartwatch\",\"Smartwatch\",\"Smartwatch\",\"Smartwatch\",\"Smartwatch\",\"Smartwatch\",\"Smartwatch\",\"Smartwatch\",\"Smartwatch\",\"Smartwatch\",\"Smartwatch\",\"Smartwatch\",\"Smartwatch\",\"Smartwatch\",\"Smartwatch\",\"Smartwatch\",\"Smartwatch\",\"Smartwatch\",\"Smartwatch\",\"Smartwatch\",\"Smartwatch\",\"Smartwatch\",\"Smartwatch\",\"Smartwatch\",\"Smartwatch\",\"Smartwatch\",\"Smartwatch\",\"Smartwatch\",\"Smartwatch\",\"Smartwatch\",\"Smartwatch\",\"Smartwatch\",\"Smartwatch\",\"Smartwatch\",\"Smartwatch\",\"Smartwatch\",\"Smartwatch\",\"Smartwatch\",\"Smartwatch\",\"Smartwatch\",\"Smartwatch\",\"Smartwatch\",\"Smartwatch\",\"Smartwatch\",\"Smartwatch\",\"Smartwatch\",\"Smartwatch\",\"Smartwatch\",\"Smartwatch\",\"Smartwatch\",\"Smartwatch\",\"Smartwatch\",\"Smartwatch\",\"Smartwatch\",\"Smartwatch\",\"Smartwatch\",\"Smartwatch\",\"Smartwatch\",\"Smartwatch\",\"Smartwatch\",\"Smartwatch\",\"Smartwatch\",\"Smartwatch\",\"Smartwatch\",\"Smartwatch\",\"Smartwatch\",\"Smartwatch\",\"Smartwatch\",\"Smartwatch\",\"Smartwatch\",\"Smartwatch\",\"Smartwatch\",\"Smartwatch\",\"Smartwatch\",\"Smartwatch\",\"Smartwatch\",\"Smartwatch\",\"Smartwatch\",\"Smartwatch\",\"Smartwatch\",\"Smartwatch\",\"Smartwatch\",\"Smartwatch\",\"Smartwatch\",\"Smartwatch\",\"Smartwatch\",\"Smartwatch\",\"Smartwatch\",\"Smartwatch\",\"Smartwatch\",\"Smartwatch\",\"Smartwatch\",\"Smartwatch\",\"Smartwatch\",\"Smartwatch\",\"Smartwatch\",\"Smartwatch\",\"Smartwatch\",\"Smartwatch\",\"Smartwatch\",\"Smartwatch\",\"Smartwatch\",\"Smartwatch\",\"Smartwatch\",\"Smartwatch\",\"Smartwatch\",\"Smartwatch\",\"Smartwatch\",\"Smartwatch\",\"Smartwatch\",\"Smartwatch\",\"Smartwatch\",\"Smartwatch\",\"Smartwatch\",\"Smartwatch\",\"Smartwatch\",\"Smartwatch\",\"Smartwatch\",\"Smartwatch\",\"Smartwatch\",\"Smartwatch\",\"Smartwatch\",\"Smartwatch\",\"Smartwatch\",\"Smartwatch\",\"Smartwatch\",\"Smartwatch\",\"Smartwatch\",\"Smartwatch\",\"Smartwatch\",\"Smartwatch\",\"Smartwatch\",\"Smartwatch\",\"Smartwatch\",\"Smartwatch\",\"Smartwatch\",\"Smartwatch\",\"Smartwatch\",\"Smartwatch\",\"Smartwatch\",\"Smartwatch\",\"Smartwatch\",\"Smartwatch\",\"Smartwatch\",\"Smartwatch\",\"Smartwatch\",\"Smartwatch\",\"Smartwatch\",\"Smartwatch\",\"Smartwatch\",\"Smartwatch\",\"Smartwatch\",\"Smartwatch\",\"Smartwatch\",\"Smartwatch\",\"Smartwatch\",\"Smartwatch\",\"Smartwatch\",\"Smartwatch\",\"Smartwatch\",\"Smartwatch\",\"Smartwatch\",\"Smartwatch\",\"Smartwatch\",\"Smartwatch\",\"Smartwatch\",\"Smartwatch\",\"Smartwatch\",\"Smartwatch\",\"Smartwatch\",\"Smartwatch\",\"Smartwatch\",\"Smartwatch\",\"Smartwatch\",\"Smartwatch\",\"Smartwatch\",\"Smartwatch\",\"Smartwatch\",\"Smartwatch\",\"Smartwatch\",\"Smartwatch\",\"Smartwatch\",\"Smartwatch\",\"Smartwatch\",\"Smartwatch\",\"Smartwatch\",\"Smartwatch\",\"Smartwatch\",\"Smartwatch\",\"Smartwatch\",\"Smartwatch\",\"Smartwatch\",\"Smartwatch\",\"Smartwatch\",\"Smartwatch\",\"Smartwatch\",\"Smartwatch\",\"Smartwatch\",\"Smartwatch\",\"Smartwatch\",\"Smartwatch\",\"Smartwatch\",\"Smartwatch\",\"Smartwatch\",\"Smartwatch\",\"Smartwatch\",\"Smartwatch\",\"Smartwatch\",\"Smartwatch\",\"Smartwatch\",\"Smartwatch\",\"Smartwatch\",\"Smartwatch\",\"Smartwatch\",\"Smartwatch\",\"Smartwatch\",\"Smartwatch\",\"Smartwatch\",\"Smartwatch\",\"Smartwatch\",\"Smartwatch\",\"Smartwatch\",\"Smartwatch\",\"Smartwatch\",\"Smartwatch\",\"Smartwatch\",\"Smartwatch\",\"Smartwatch\",\"Smartwatch\",\"Smartwatch\",\"Smartwatch\",\"Smartwatch\",\"Smartwatch\",\"Smartwatch\",\"Smartwatch\",\"Smartwatch\",\"Smartwatch\",\"Smartwatch\",\"Smartwatch\",\"Smartwatch\",\"Smartwatch\",\"Smartwatch\",\"Smartwatch\",\"Smartwatch\",\"Smartwatch\",\"Smartwatch\",\"Smartwatch\",\"Smartwatch\",\"Smartwatch\",\"Smartwatch\",\"Smartwatch\",\"Smartwatch\",\"Smartwatch\",\"Smartwatch\",\"Smartwatch\",\"Smartwatch\",\"Smartwatch\",\"Smartwatch\",\"Smartwatch\",\"Smartwatch\",\"Smartwatch\",\"Smartwatch\",\"Smartwatch\",\"Smartwatch\",\"Smartwatch\",\"Smartwatch\",\"Smartwatch\",\"Smartwatch\",\"Smartwatch\",\"Smartwatch\",\"Smartwatch\",\"Smartwatch\",\"Smartwatch\",\"Smartwatch\",\"Smartwatch\",\"Smartwatch\",\"Smartwatch\",\"Smartwatch\",\"Smartwatch\",\"Smartwatch\",\"Smartwatch\",\"Smartwatch\",\"Smartwatch\",\"Smartwatch\",\"Smartwatch\",\"Smartwatch\",\"Smartwatch\",\"Smartwatch\",\"Smartwatch\",\"Smartwatch\",\"Smartwatch\",\"Smartwatch\",\"Smartwatch\",\"Smartwatch\",\"Smartwatch\",\"Smartwatch\",\"Smartwatch\",\"Smartwatch\",\"Smartwatch\",\"Smartwatch\",\"Smartwatch\",\"Smartwatch\",\"Smartwatch\",\"Smartwatch\",\"Smartwatch\",\"Smartwatch\",\"Smartwatch\",\"Smartwatch\",\"Smartwatch\",\"Smartwatch\",\"Smartwatch\",\"Smartwatch\",\"Smartwatch\",\"Smartwatch\",\"Smartwatch\",\"Smartwatch\",\"Smartwatch\",\"Smartwatch\",\"Smartwatch\",\"Smartwatch\",\"Smartwatch\",\"Smartwatch\",\"Smartwatch\",\"Smartwatch\",\"Smartwatch\",\"FitnessBand\",\"FitnessBand\",\"Smartwatch\",\"Smartwatch\",\"Smartwatch\",\"Smartwatch\",\"Smartwatch\",\"Smartwatch\",\"Smartwatch\",\"Smartwatch\",\"Smartwatch\",\"Smartwatch\",\"Smartwatch\",\"Smartwatch\",\"Smartwatch\",\"Smartwatch\",\"Smartwatch\",\"Smartwatch\",\"Smartwatch\",\"Smartwatch\",\"Smartwatch\",\"Smartwatch\",\"Smartwatch\",\"Smartwatch\",\"Smartwatch\",\"Smartwatch\",\"Smartwatch\",\"Smartwatch\",\"Smartwatch\",\"Smartwatch\",\"Smartwatch\",\"FitnessBand\",\"FitnessBand\",\"Smartwatch\",\"Smartwatch\",\"Smartwatch\",\"Smartwatch\",\"Smartwatch\",\"Smartwatch\",\"Smartwatch\",\"Smartwatch\",\"Smartwatch\",\"Smartwatch\",\"Smartwatch\",\"Smartwatch\",\"Smartwatch\",\"Smartwatch\",\"Smartwatch\"],\"type\":\"histogram\",\"xaxis\":\"x2\",\"yaxis\":\"y2\"},{\"marker\":{\"color\":\"hsl(65,70%,70%)\"},\"showlegend\":false,\"x\":[\"Smart Band 5\",\"Smart Band 4\",\"HMSH01GE\",\"Smart Band 5\",\"Band 3\",\"Band - HRX Edition\",\"Band 2\",\"Revolve\",\"RevolveActive\",\"Smart Band 3i\",\"Steven Harrington Edition Band\",\"Band\",\"Versa 2\",\"Sense\",\"Versa 3\",\"Charge 4\",\"Inspire\",\"Inspire 2\",\"Lunar\",\"Charge 4\",\"FB413LVLV\",\"Flex Small\",\"Inspire HR\",\"Inspire\",\"Charge 3\",\"Versa Special Edition\",\"Ionic\",\"Versa 2 Special Edition\",\"Ionic\",\"Ionic\",\"Versa\",\"Versa\",\"Surge\",\"Charge 2\",\"Charge 3 Special Edition\",\"Blaze\",\"Blaze\",\"Blaze\",\"Surge\",\"Alta HR\",\"Charge 2\",\"Versa Lite Edition\",\"Surge\",\"versa\",\"Versa\",\"Charge HR\",\"Charge HR\",\"Alta HR\",\"Versa Lite Edition\",\"Alta\",\"Versa 3\",\"Charge 2\",\"Versa\",\"Versa 2\",\"Surge\",\"Charge 3\",\"Charge 2\",\"Charge 2\",\"Charge 2\",\"Charge 2\",\"Charge 2\",\"Inspire HR\",\"Inspire HR\",\"Band 2\",\"Band\",\"Smart band\",\"Band\",\"Band 4\",\"Band 2\",\"Band 2\",\"Band 2\",\"Band 6\",\"Band 2 Pro Activity\",\"Band 6\",\"Band 4\",\"Band 3\",\"Band 5i\",\"Band 3\",\"Band 5\",\"Band 5\",\"Band 5\",\"Band 4\",\"Band 5i\",\"band 4 running\",\"Band Z1\",\"Band 3\",\"Beat\",\"Vital 3.0\",\"Band 5\",\"Watch\",\"Mambo\",\"BeFit\",\"ColorFit\",\"ColorFit2\",\"46 mm\",\"41mm\",\"2 Pro\",\"2S\",\"S\",\"S\",\"S Pro\",\"S Master\",\"Fashion\",\"Classic\",\"Reflex 3.0\",\"Reflex 3.0\",\"Reflex Beat\",\"Reflex Smart Band\",\"Reflex Smart Band\",\"Reflex 2.0\",\"Storm\",\"Xplorer\",\"Delta\",\"O2\",\"ColorFit Qube SpO2\",\"ColorFit Pro 3\",\"ColorFit Qube SpO2\",\"ColorFit Brio\",\"ColorFit Pro 2\",\"Fit Active\",\"ColorFit Qube\",\"ColorFit Pro 2 Oxy\",\"ColorFit Brio\",\"NoiseFit Endure\",\"NoiseFit Endure\",\"ColorFit Pro\",\"ColorFit Pro\",\"Fit Evolve\",\"Fusiom Hybrid\",\"Evolve\",\"NoiseFit Endure\",\"Z1\",\"GS Pro\",\"GS Pro\",\"Watch Magic\",\"Magic Watch 2\",\"Watch ES\",\"Magic Watch\",\"Amazfit GTS\",\"Amazfit GTS\",\"Amazfit GTS\",\"Amazfit GTS\",\"Amazfit Bip U\",\"Amazfit Bip S Lite\",\"Amazfit T-Rex\",\"Amazfit GTS 2e\",\"Amazfit GTR 2 Aluminium\",\"Amazfit GTS 2\",\"Amazfit GTR 2 Stainless Steel\",\"Amazfit Bip\",\"Amazfit GTR 42 mm Glitter\",\"Amazfit Neo\",\"Amazfit Bip S\",\"Amazfit GTR 42\",\"Amazfit Stratos 3\",\"Amazfit GTR 42\",\"Amazfit Pace\",\"Amazfit Bip S\",\"Amazfit Bip S\",\"Amazfit Bip\",\"Amazfit Bip S\",\"Amazfit GTR 47\",\"Amazfit GTR 47\",\"Amazfit Verge\",\"Amazfit Verge\",\"Amazfit Verge\",\"Amazfit Bip\",\"Amazfit Verge\",\"Amazfit Bip\",\"Amazfit Stratos\",\"Amazfit Bip Lite\",\"Amazfit Verge Lite\",\"Amazfit Bip\",\"Bip Lite On\",\"Galaxy Active 2\",\"Galaxy Active 2\",\"Galaxy Classic 4\",\"Galaxy Classic 4\",\"Galaxy Classic 4\",\"Galaxy Classic 4 LTE\",\"Galaxy Fit-e Smart\",\"Galaxy Fit-e Smart\",\"Galaxy Fit\",\"Galaxy Watch 3\",\"Galaxy Watch 4 LTE\",\"Galaxy Watch 4 Classic LTE\",\"Galaxy Watch 4 LTE\",\"Galaxy Active 2\",\"Galaxy 46mm\",\"Galaxy Classic 4 LTE\",\"Galaxy Active Steel 2 LTE\",\"Galaxy Active Steel 2\",\"Galaxy Classic 4\",\"Galaxy Active 42mm\",\"Galaxy 44mm\",\"Galaxy LTE\",\"Gear Fit 2\",\"Gear Fit\",\"Galaxy Active 2 Steel\",\"Gear S2\",\"Galaxy Active Steel\",\"Gear Fit 2 Pro\",\"Gear Fit 2\",\"Gear 2\",\"Neo Gear 2\",\"Galaxy Active 46mm\",\"Galaxy Watch LTE\",\"Galaxy 42\",\"Gear Live\",\"Gear Fit 2\",\"Galaxy Watch 3\",\"Galaxy 42\",\"Gear S3 Frontier\",\"Gear Sport\",\"Gear S2 Classic\",\"T-Mobile\",\"Gear S2\",\"R600NZBAXAR 600\",\"Gear S2 Classic\",\"Gear R730V S2\",\"Galaxy Gear\",\"Activity Tracker\",\"Gen 5 Carlyle HR\",\"Gen 5 Carlyle HR\",\"Gen 5 Garrett HR\",\"Gen 5 Julianna HR\",\"Gen 5 Julianna HR\",\"Latitude Hybrid HR\",\"Gen 5 Garrett HR\",\"FB-01 Hybrid HR\",\"Gen 5 Julianna HR\",\"Collider Hybrid\",\"Collider Hybrid\",\"Sadie Hybrid\",\"FB-01 Hybrid HR\",\"Commuter\",\"Latitude Hybrid HR\",\"Sport\",\"Charter Hybrid HR\",\"Carlie Hybrid\",\"Carlie\",\"Neutra Hybrid\",\"Q Venture\",\"Jacqueline\",\"Q Neely\",\"FTW5018 Hybrid\",\"FTW5012 Hybrid\",\"Jacqueline Hybrid\",\"Q Annette\",\"Gen 5 Julianna HR\",\"FTW6007\",\"Gen 5E\",\"Neutra Hybrid\",\"Gen 5 Julianna HR\",\"FTW1151 Hybrid\",\"Barstow Hybrid\",\"Wander RG\",\"Charter Hybrid HR\",\"Q Wander\",\"Q Founder\",\"Garrett Hybrid\",\"Q Explorist\",\"Marshall\",\"Gen 3 Q Venture\",\"FTW4003\",\"Gen 5E\",\"Sport 43\",\"The Carlyle HR\",\"Garrett HR\",\"4th Gen Explorist HR\",\"Sport\",\"FTW6001\",\"Q Founder 2.0\",\"Cameron Hybrid\",\"Gen 3 Q Explorist\",\"4th Gen Venture HR\",\"FTW6005\",\"Marshall\",\"Garrett Hybrid\",\"4th Gen Venture HR\",\"Marshall\",\"FTW1161 Hybrid\",\"FTW1142 Q Hybrid\",\"Jacqueline Hybrid\",\"Gen 3 Q Explorist\",\"Gen 5 Julianna HR\",\"Cameron Hybrid Smartwatch\",\"Gen 3 Q Venture\",\"Jacqueline Hybrid\",\"Q Annette\",\"Sport 43\",\"Sport 41\",\"Gen 3 Q Explorist\",\"Marshall\",\"Q Jacqueline\",\"Garrett\",\"Machine Hybrid\",\"Sloan HR\",\"Sloan HR\",\"Garrett Hybrid\",\"4th Gen Venture HR\",\"Gen 3 Q Explorist\",\"Charter Hybrid HR\",\"Q Wander\",\"Neely\",\"Rose Gold Smart\",\"Q Founder 2.0\",\"FTW1159 Hybrid\",\"Q Wander\",\"FTW4010 Gold HR\",\"FTW6009 Black HR\",\"Eleanor Hybrid\",\"FTW1146 Q Hybrid\",\"Jacqueline Hybrid\",\"FTW20013 Q\",\"FTW5016 Hybrid\",\"FTW5017 Hybrid\",\"FTW1141 Q Hybrid\",\"Sport\",\"FTW5003 Hybrid\",\"Jacqueline Hybrid\",\"Commuter Hybrid\",\"Q MACHINE\",\"FB-01 Hybrid\",\"Q Jacqueline\",\"Q GRANT\",\"FTW2114 Q\",\"FTW1140 Q Hybrid\",\"Garrett HR\",\"FTW1134 Q Hybrid\",\"Carlie Hybrid\",\"Q Control\",\"Q Control\",\"FTW1144 Q Hybrid\",\"Rose Gold HR\",\"5th Gen Julianna\",\"Q Venture\",\"Q Machine\",\"FTW1145 Q Hybrid\",\"FTW5011 Hybrid\",\"FTW2120SET Q\",\"FTW1136 Q Hybrid\",\"Q Venture\",\"FTW2115 Q Watch\",\"FTW6010 Pink HR\",\"Q ACTIVIST\",\"Carlie Hybrid\",\"FTW1154 Hybrid\",\"FTW5015 Hybrid\",\"Sport\",\"Sloan HR\",\"Q GRANT\",\"Sport 41\",\"FTW6006 Gold HR\",\"Series 3 GPS - 42 mm Space Grey Aluminium Case\",\"SE 44 mm Space Grey Aluminium Case\",\"Series 3 GPS - 38 mm Space Grey Aluminium Case\",\"SE GPS + Cellular 44 mm Aluminium Case\",\"SE GPS + Cellular 40 mm Space Grey Aluminium Case\",\"SE 40 mm Space Grey Aluminium Case\",\"Series 6 GPS + Cellular 40 mm Red Aluminium Case\",\"SE 44 mm Gold Aluminium Case\",\"SE GPS + Cellular 40 mm Gold Aluminium Case\",\"SE GPS + Cellular 40 mm Aluminium Case\",\"Series 6 GPS 40 mm Silver Aluminium Case\",\"Series 6 GPS + Cellular 40 mm Blue Aluminium Case\",\"Series 6 GPS + Cellular 40 mm Graphite Stainless Steel Case\",\"Series 6 GPS 44 mm Red Aluminium Case\",\"SE GPS 44 mm Aluminium Case\",\"Series 6 GPS + Cellular 40 mm Space Grey Aluminium Case\",\"Series 6 GPS + Cellular 40 mm Space Grey Aluminium Case\",\"Series 5 GPS + Cellular 40 mm Space Black Stainless Steel Case\",\"Series 5 GPS + Cellular 44 mm Gold Stainless Steel Case\",\"Series 6 GPS 44 mm Blue Aluminium Case\",\"Series 6 GPS + Cellular 44 mm Silver Aluminium Case\",\"Series 6 GPS + Cellular 40 mm Gold Aluminium Case\",\"Series 6 GPS + Cellular 40 mm Gold Stainless Steel Case\",\"Series 5 GPS + Cellular 40 mm Stainless Steel Case\",\"Series 5 GPS + Cellular 44 mm Gold Aluminium Case\",\"Series 5 GPS + Cellular 44 mm Space Grey Aluminium Case\",\"Series 2 - 38 mm Stainless Steel Case\",\"Series 2 - 42 mm Stainless Steel Case\",\"Series 2 - 42 mm Space Black Stainless Steel Case\",\"Series 6 GPS + Cellular 40 mm Red Aluminium Case\",\"Series 5 GPS + Cellular 40 mm Space Grey Aluminium Case\",\"Series 6 GPS + Cellular 40 mm Silver Aluminium Case\",\"Series 6 GPS + Cellular 40 mm Gold Stainless Steel Case\",\"SE GPS 40 mm Aluminium Case\",\"Series 5 GPS + Cellular 44 mm Stainless Steel Case\",\"Series 5 GPS + Cellular 44 mm Gold Stainless Steel Case\",\"Series 5 GPS 40 mm Silver Aluminium Case\",\"Series 6 GPS 44 mm Blue Aluminium Case\",\"Series 7 GPS 45 mm\",\"SE GPS + Cellular 44 mm Space Grey Aluminium Case\",\"SE GPS + Cellular 40 mm Space Grey Aluminium Case\",\"Series 6 GPS + Cellular 44 mm Space Grey Aluminium Case\",\"Series 7 GPS + Cellular 41 mm Aluminium\",\"Series 7 GPS + Cellular, 45 mm Aluminium\",\"SE GPS + Cellular 40 mm Silver Aluminium Case\",\"Series 6 GPS 40 mm Blue Aluminium Case\",\"SE GPS + Cellular 40 mm Silver Aluminium Case\",\"Series 6 GPS 40 mm Gold Aluminium Case\",\"SE GPS + Cellular 44 mm Space Grey Aluminium Case\",\"SE GPS + Cellular 40 mm Gold Aluminium Case\",\"Series 6 GPS + Cellular 44 mm Red Aluminium Case\",\"Series 6 GPS 40 mm Space Grey Aluminium Case\",\"Series 6 GPS + Cellular 44 mm Silver Stainless Steel Case\",\"Nike Series 5 GPS + Cellular 44 mm\",\"Series 6 GPS + Cellular 44 mm Blue Aluminium Case\",\"SE GPS + Cellular 40 mm Gold Aluminium Case\",\"SE GPS + Cellular 44 mm Gold Aluminium Case\",\"SE GPS + Cellular 44 mm Silver Aluminium Case\",\"Series 6 GPS 44 mm Space Grey Aluminium Case\",\"SE GPS + Cellular 44 mm Silver Aluminium Case\",\"Series 6 GPS 44 mm Silver Aluminium Case\",\"Series 6 GPS + Cellular 44 mm Graphite Stainless Steel Case\",\"SE GPS + Cellular 44 mm Gold Aluminium Case\",\"SE GPS + Cellular 44 mm Gold Aluminium Case\",\"Series 5 GPS + Cellular 44 mm Space Black Stainless Steel Case\",\"42 mm White Ceramic Case with Cloud Sport\",\"Series 7 GPS 41 mm Aluminium Case\",\"38 mm Space Black Stainless Steel Case\",\"Series 7 GPS + Cellular, 45 mm Stainless Steel\",\"Sport 42 mm Space Grey Aluminium Case\",\"Series 7 GPS + Cellular, 45 mm Stainless Steel\",\"8 mm Stainless Steel Case\",\"Series 7 GPS + Cellular, 41 mm Stainless Steel\",\"42 mm Black Stainless Steel Case with Link Bracelet\",\"42 mm Space Gray Aluminium\",\"Series 1 - 38 mm Silver Aluminium Case\",\"Series 3 GPS + Cellular- 42 mm Gray Ceramic Case\",\"42 mm Stainless Steel Case\",\"Series 1 - 42 mm Gold Aluminium Case\",\"2 - 42 mm Silver Aluminium Case\",\"Nike+ GPS - 42 mm Space Gray Aluminium Case\",\"Series 3 GPS + Cellular- 42 mm White Ceramic Case\",\"38 mm Stainless Steel Stainless Steel Case with Modern Buckle\",\"8 mm Stainless Steel Case\",\"series 2 - 38 mm Stainless Steel Case\",\"Nike+ - 38 mm Space Gray Aluminium Case\",\"Venu Sq - Music Edition\",\"Venu Sq\",\"Garmin Instinct Tactical\",\"Venu\",\"Forerunner 45\",\"Venu 2\",\"Vivosmart 4\",\"Garmin Instinct HR\",\"Approach S62\",\"Venu 2S\",\"Forerunner 245 Music\",\"Garmin Instinct HR\",\"Instinct\",\"Forerunner 245\",\"Vivomove Style\",\"Fenix 6 Pro Solar\",\"Fenix 6X\",\"FORERUNNER 745 Magma Red\",\"Fenix 6\",\"Lily\",\"Approach S12\",\"Instinct\",\"Vivomove 3\",\"Fenix 6X Solar\",\"Fenix 6\",\"Fenix 5X\",\"Vivomove Luxe\",\"Fenix 6\",\"Vivomove\",\"Fenix 6S\",\"Forerunner 945\",\"Forerunner 55\",\"VIVOMOVE LUXE\",\"Lily\",\"Fenix 5X Plus\",\"Swim 2\",\"Vivoactive 3 Element\",\"Vivomove 3S\",\"Forerunner 55\",\"Vivoactive 3 Music\",\"Vivomove HR\",\"Fenix 6X\",\"HRM-Swim\",\"Garmin Instinct Solar Tactical\",\"Fenix 5S Frost Blue\",\"Forerunner 935\",\"Hybrid 3\",\"Forerunner 245 Music Japan Edition\",\"Fenix 5\",\"Instinct Solar Tidal\",\"Fenix 5S Plus\",\"Fenix 6 Sapphire Titanium\",\"Fenix 6 Sapphire Gray DLC\",\"Vivoactive 3 Music\",\"Forerunner 935\",\"Forerunner 745 Whitestone\",\"VIVOACTIVE 4S\",\"Forerunner 935\",\"Forerunner 235\",\"Fenix 6S\",\"Forerunner 235\",\"Venu\",\"Vivoactive 4\",\"Forerunner 245 Music\",\"Fenix 6 Pro Solar\",\"Garmin Instinct Solar Tactical\",\"Forerunner 745 Black\",\"Vivoactive HR\",\"Fenix 5s\",\"vivoactive 4S 40mm\",\"Instinct\",\"Instinct Solar Camo Edition\",\"Vivomove 3S\",\"Lily\",\"Vivoactive 3 Element Cerise\",\"Forerunner 235\",\"VIVOMOVE 3S Navy\",\"Fenix 5s\",\"Vivoactive 4\",\"Vivoactive 3 Music\",\"Forerunner15 Heart\",\"Running GPS 935\",\"Forerunner\",\"Approach S20\",\"Forerunner 235 Activity Tracker\",\"Vivoactive 3 element\",\"Fenix\",\"Forerunner 35\",\"Forerunner\",\"Forerunner\",\"Vivoactive 3 element\",\"Rubber 35\",\"FORRUNNER 235\",\"Forerunner\",\"Forerunner Fitness Notifier\",\"Vivomove HR\",\"Vivoactive 3 element\",\"Vivoactive\",\"Forerunner 735XT\",\"HR GPS Smart\",\"Hybrid\",\"Watch\",\"GT2 46mm\",\"GT2 Pro\",\"GT2 Pro\",\"GT2 eSport\",\"GT2 eSport\",\"GT2 eActive\",\"GT2 42mm\",\"Stainless Steel\",\"GT Active\",\"GT Active\",\"GT Sport\",\"GT Classic\",\"GT2 46mm\",\"Fit\",\"Fit\",\"Watch 2 Sport\",\"Watch 32564546\",\"Watch 2\",\"Watch 36456\",\"GT Fortuna-B19S Sport\",\"HR\",\"Vital\",\"Gen 5E\",\"Vertex\",\"Orbit Sport\",\"Ignite S3\",\"Ace\",\"Orbit \",\"Ignite  \",\"Ignite Pro\",\"Orbit - Special Edition\",\"Trak\",\"Watch 2\",\"Watch Pro\",\"ColorFit Caliber\",\"Evolve 2 \",\"ColorFit IconBuzz\",\"Pulsefit\",\"Pulsefit P461\",\"Pulsefit P261\",\"Tronite\",\"Rhythm\",\"ZEB-FIT8220CH\",\"ZEB-FIT4220CH\",\"ZEB-FIT920CH\",\"ZEB-FITMe\",\"ZEB-FIT5220CH\",\"ZEB-FIT1220CH\",\"ZEB-FIT5220CH\",\"ZEB-FIT650CH\",\"Smarttime 200\",\"ZEB-FIT450\",\"zeb-fit\",\"Fit-650\",\"Ninja touch to Wake\",\"Ultron\",\"Ninja Pro\",\"Mercury\",\"SpO2 Full Touch\",\"Max\",\"AI-BT Calling\",\"BSW004\",\"Spin\",\"Talk Bluetooth\",\"Almighty\",\"Mercury\",\"Spin\",\"Ninja Pro\"],\"type\":\"histogram\",\"xaxis\":\"x3\",\"yaxis\":\"y3\"},{\"marker\":{\"color\":\"hsl(98,70%,70%)\"},\"showlegend\":false,\"x\":[\"Black\",\"Black\",\"Black\",\"Black\",\"Black\",\"Black\",\"Black\",\"Black\",\"Black\",\"Black\",\"Blue\",\"Dual Color\",\"Grey, Pink, Black\",\"Black, Pink, Beige\",\"Black, Blue, Pink\",\"Storm Blue, Black, Rosewood\",\"Maroon \",\"Black, Desert Rose, Lunar White\",\"White \",\"Granite Reflective \",\"Lilac \",\"Violet, black, Grey, Teal, Blue, Red\",\"Black \",\"Black \",\"Grey \",\"Charcoal \",\"Black \",\"Multicolor \",\"Blue \",\"Grey \",\"Purple\",\"Grey \",\"Blue\",\"Black \",\"Purple, White\",\"Purple\",\"Blue\",\"Black\",\"Black\",\"Black, Plum, Grey\",\"Plum silver\",\"Purple \",\"Orange\",\"Grey \",\"Pink \",\"Purple \",\"Orange, Pink, Green\",\"Rose Gold, Gun Metal Black\",\"Blue \",\"Black, Purple, Teal, Blue\",\"Black, Blue, Pink\",\"Violet \",\"Black \",\"Purple \",\"Black\",\"Black \",\"Blue \",\"Light Blue\",\"Blue \",\"Black \",\"Sky Blue \",\"Purple \",\"White \",\"Black\",\"Yellow\",\"Grey\",\"Black\",\"Black\",\"Black\",\"Blue\",\"Black\",\"Pink, Black, Teal, Orange\",\"Pink, Black\",\"Sandstone Grey, Meteorite Black, Coral Pink, \",\"Meteorite Black, Midnight Navy\",\"Dynamic Orange\",\"Black\",\"Navy Blue\",\"Black\",\"Black\",\"Olive Green\",\"Black\",\"Black\",\"Black\",\"Black\",\"Black\",\"Black\",\"Black\",\"Black, Blue, Red\",\"Black\",\"Black\",\"Black\",\"Black, Blue\",\"Black, Blue, Pink\",\"Black, Gold\",\"Pink, Silver, Black\",\"Grey\",\"Black\",\"Black, White\",\"Black\",\"Black\",\"Black\",\"Black\",\"Black\",\"Black, Pink\",\"Black\",\"Purple, Black\",\"Orange, Red, Black\",\"Green, Grey\",\"Black, Green\",\"Black, Teal Green, Grey\",\"Black, Red, Blue\",\"Black, Grey, Red\",\"Black, Green\",\"Charcoal Grey, Black, Pink\",\"Green, Grey, Black, Blue, Pink, Red\",\"Charcoal Black, Beige Gold\",\"Black, Pink\",\"Black, Deep Wine, Blue, Grey, Teal\",\"Blue, Black\",\"Black, Green\",\"Black, Blue, Red\",\"Black, Green\",\"Black, Red, Blue\",\"Grey, Green\",\"Black, Blue\",\"Green, Teal, Grey\",\"Red, Black\",\"Blue\",\"Black, Grey, Red\",\"Black, Blue, Teal\",\"Black\",\"Black\",\"Blue\",\"Black\",\"Brown\",\"Black, Pink\",\"Brown\",\"Beige\",\"Black\",\"Pink\",\"Blue\",\"Black, Pink\",\"Black\",\"Green, Grey\",\"Purple\",\"Black, Red\",\"Black\",\"Grey, Blue\",\"Black\",\"White \",\"Black\",\"Black\",\"Black\",\"Black\",\"Red\",\"Black\",\"Red\",\"Green, Grey\",\"Pink\",\"White \",\"Black\",\"Black\",\"Black\",\"Black\",\"Black\",\"Red\",\"Black\",\"Purple\",\"Black\",\"Black\",\"Black\",\"Grey\",\"Black\",\"Black, Beige\",\"Grey\",\"Black\",\"Silver\",\"Silver\",\"Black\",\"Black\",\"Yellow\",\"Silver\",\"Black\",\"Black\",\"Black\",\"Pink\",\"Grey\",\"Grey\",\"Silver, Green\",\"Brown\",\"Black\",\"Blue\",\"Black\",\"Beige\",\"Silver\",\"Blue\",\"Black\",\"Black\",\"Silver, Blue\",\"Blue\",\"Red, Black\",\"Pink, Blue\",\"Black\",\"Black\",\"Black\",\"Beige\",\"Grey\",\"Black\",\"Blue, Black\",\"Black\",\"Black\",\"Black\",\"Black\",\"Black\",\"Black\",\"Silver\",\"Blue\",\"Black\",\"Grey\",\"Gold\",\"Black\",\"Black\",\"Brown, Grey\",\"Silver\",\"Gold\",\"Black\",\"Black\",\"Black\",\"Black\",\"Silver\",\"Black\",\"Brown, Grey\",\"Silver\",\"Silver, Black\",\"Black\",\"Grey\",\"Multicolor\",\"Gold\",\"Gold\",\"Beige\",\"Silver\",\"Blue\",\"Gold\",\"Black\",\"Gold\",\"Brown\",\"Rose Gold\",\"Gold\",\"Grey\",\"Brown\",\"Black, Silver \",\"Brown, Black\",\"Blue\",\"Gold\",\"Brown\",\"Black\",\"Black\",\"Gold\",\"Silver\",\"Black\",\"Black\",\"Grey\",\"Black, Gold\",\"Brown\",\"Grey, Multicolor\",\"Black\",\"Black\",\"Gold\",\"Grey\",\"Red\",\"Gold\",\"Black\",\"Black\",\"Black\",\"Black\",\"Black\",\"Black\",\"Brown\",\"Silver\",\"Blue\",\"Gold\",\"Silver\",\"Navy \",\"Blue\",\"White\",\"Blue\",\"Silver\",\"Black\",\"Silver\",\"Blue\",\"Blue, Black, Gray\",\"Grey\",\"Silver\",\"Gold\",\"Brown\",\"Silver, Brown\",\"Black\",\"Blue\",\"Silver\",\"Black\",\"Silver\",\"Silver\",\"Silver\",\"White\",\"Rose Gold \",\"Blue\",\"Gold\",\"Silver\",\"Gold\",\"Black\",\"Brown, Gold\",\"Gold\",\"Blue\",\"Black\",\"Silver\",\"Gold\",\"Silver\",\"Black\",\"Gold\",\"Silver\",\"Brown\",\"Grey\",\"Blue, Silver\",\"Silver\",\"Grey\",\"Black\",\"Blue\",\"Grey\",\"Gray\",\"Black\",\"multicolor\",\"Brown\",\"Black\",\"Rose Gold \",\"Black \",\"White \",\"Black\",\"Gray\",\"Black\",\"Gray\",\"Blue\",\"Beige\",\"Red\",\"Pink\",\"Brown\",\"Silver\",\"Black\",\"Blue\",\"Grey\",\"Gold\",\"Black\",\"Red, Green\",\"Gold\",\"Black\",\"Black\",\"Black\",\"Black\",\"Charcoal\",\"Black, Pink, White\",\"Red\",\"Pink Sand\",\"Plum\",\"Black\",\"White\",\"Deep Navy\",\"Graphite Milanese\",\"Red\",\"Black\",\"black\",\"White\",\"Black Milanese\",\"Gold Milanese\",\"Deep Navy\",\"White\",\"Pink Sand\",\"Cyprus Green\",\"White\",\"Pink Sand\",\"Black\",\"Saddle Brown\",\"White\",\"Space Black\",\"Red\",\"Black\",\"White\",\"Gold Milanese\",\"Black\",\"Stainless Steel Milanese\",\"Stone\",\"White\",\"Deep Navy\",\"Black\",\"Charcoal\",\"Black\",\"Black\",\"Black\",\"Black\",\"White\",\"Deep Navy\",\"Deep Navy\",\"Pink Sand\",\"Black\",\"Pink Sand\",\"Red\",\"Black\",\"Silver Milanese\",\"Black\",\"Deep Navy\",\"Silver Milanese\",\"Pink Sand\",\"Deep Navy\",\"Black\",\"White\",\"White\",\"Black\",\"Plum\",\"Pink Sand\",\"Black\",\"Cloud\",\"Black\",\"Black\",\"Black\",\"Black\",\"Black\",\"Milanese\",\"Black\",\"Black\",\"Black Woven\",\"White\",\"Black\",\"Leather\",\"Cocoa\",\"Pearl Woven\",\"Black\",\"Black\",\"Black\",\"Saddle Brown\",\"Blue Modern\",\"Black\",\"Multicolor, White, Brown\",\"Grey, White\",\"Black, Brown\",\"Blue\",\"Red, Black\",\"Black, Blue\",\"Purple, Black\",\"Graphite, Sunburst\",\"White, Black\",\"Grey, White\",\"Black, Red \",\"Flame Red\",\"Blue\",\"Grey, Yellow\",\"White, Pink\",\"Grey, Black\",\"Black, Orange, Red\",\"Magma Red\",\"Black, Red, Orange\",\"Purple, Grey, Brown, Black, White \",\"Black, White\",\"Graphite\",\"Black\",\"Black, Grey\",\"Grey, Blue\",\"Black\",\"Black, Silver, White\",\"Black, Grey\",\"Black\",\"Black, Grey\",\"Black, Blue\",\"Black\",\"Navy \",\"Black\",\"White, Black\",\"Slate\",\"Grey\",\"Black\",\"White\",\"Black\",\"Black\",\"Bluw, White \",\"Black\",\"Grey \",\"Blue Sapphire\",\"Tidal Blue\",\"Black\",\"Red, White \",\"Black\",\"Tidal Blue, Flame Red\",\"Blue Sapphire\",\"Blue Sapphire\",\"Black\",\"Blue\",\"Flame Red\",\"White\",\"Powder Gray\",\"Black, Green, Yellow\",\"Black\",\"Black, White\",\"Blue\",\"Black\",\"Black\",\"Grey, White\",\"Yellow\",\"White\",\"Black\",\"Black\",\"Blue Sapphire\",\"Rose Gold, Slate Black\",\"Blue, Orange\",\"Black, Grey\",\"Black\",\"Purple, White\",\"Cerise\",\"Black\",\"Rose Gold\",\"Black, White \",\"Purple\",\"White\",\"Black\",\"Black\",\"Black\",\"Black, White \",\"Black\",\"Black\",\"Black\",\"Frost Blue\",\"Black\",\"Blue\",\"Grey\",\"Black\",\"Black\",\"Black\",\"Black\",\"Black\",\"Blue\",\"Black\",\"Black\",\"Black\",\"Rose Gold\",\"Black, Silver\",\"Black, Brown\",\"Black\",\"Grey\",\"Black\",\"Red\",\"Green, Red\",\"Black\",\"Black\",\"Green\",\"Orange\",\"Black\",\"Brown\",\"Grey\",\"Blue\",\"Orange\",\"Black\",\"Black\",\"Black\",\"Black\",\"Black\",\"Black\",\"Black\",\"Grey, Multicolor\",\"Grey, Blue, Black, Red\",\"Black\",\"Silver, Black, Green\",\"Grey\",\"Black, Blue\",\"Green\",\"Silver, Black\",\"Brown\",\"Black\",\"Black, Blue, Grey, Pink, White\",\"Blue, Black\",\"Black, Blue, White\",\"Black, Grey, Pink\",\"Black, Green, Grey\",\"Black\",\"Black, Blue\",\"Blue\",\"Brown\",\"White\",\"Black, Blue, Red, Rose Gold\",\"Black, Grey, Silver\",\"Black, Grey, Red\",\"Black, Blue, Green, Grey, Pink\",\"Gold\",\"Silver\",\"Blue\",\"Black\",\"Black\",\"Blue\",\"Black, Grey\",\"Black\",\"Beige, Black, Grey\",\"Black, Blue, Grey, Pink \",\"Black, Blue, Green, Red, Beige, Grey\",\"Black, Beige, Grey\",\"Black, Blue, Grey, Pink, Gold\",\"Black, Blue, Green\",\"Black, Blue, Grey, Pink\",\"Green\",\"Blue, Grey, Pink\",\"Black, Grey, Green\",\"Orange\",\"Red\",\"White\",\"White\"],\"type\":\"histogram\",\"xaxis\":\"x4\",\"yaxis\":\"y4\"},{\"marker\":{\"color\":\"hsl(130,70%,70%)\"},\"showlegend\":false,\"x\":[\"2,499\",\"2,099\",\"1,722\",\"2,469\",\"1,799\",\"1,299\",\"2,499\",\"12,349\",\"12,999\",\"1,270\",\"3,299\",\"2,499\",\"11,999\",\"21,499\",\"17,999\",\"9,999\",\"7,990\",\"6,999\",\"10,899\",\"10,999\",\"8,807\",\"8,490\",\"5,599\",\"5,299\",\"7,599\",\"10,365\",\"18,999\",\"15,499\",\"22,499\",\"26,499\",\"16,990\",\"17,895\",\"24,990\",\"7,499\",\"9,999\",\"17,999\",\"19,999\",\"22,999\",\"19,990\",\"14,999\",\"14,999\",\"16,999\",\"24,990\",\"21,499\",\"16,124\",\"6,990\",\"14,990\",\"16,999\",\"14,399\",\"12,999\",\"17,999\",\"14,999\",\"20,590\",\"13,499\",\"9,999\",\"9,999\",\"7,499\",\"14,999\",\"8,999\",\"7,498\",\"14,999\",\"5,598\",\"5,899\",\"2,999\",\"1,499\",\"1,450\",\"1,290\",\"1,899\",\"1,699\",\"6,999\",\"4,599\",\"4,490\",\"2,199\",\"2,999\",\"2,700\",\"2,499\",\"2,469\",\"2,499\",\"2,899\",\"2,099\",\"2,199\",\"2,599\",\"1,799\",\"1,649\",\"5,499\",\"4,750\",\"2,999\",\"3,999\",\"1,499\",\"2,995\",\"1,699\",\"1,999\",\"2,199\",\"1,699\",\"14,990\",\"17,990\",\"4,999\",\"3,499\",\"4,999\",\"6,779\",\"9,999\",\"5,999\",\"5,400\",\"3,921\",\"2,495\",\"2,200\",\"1,645\",\"1,595\",\"1,195\",\"1,395\",\"2,999\",\"3,499\",\"2,499\",\"7,990\",\"2,499\",\"3,999\",\"2,499\",\"2,999\",\"2,699\",\"3,499\",\"2,499\",\"2,499\",\"3,499\",\"2,999\",\"2,599\",\"2,513\",\"2,499\",\"5,499\",\"5,999\",\"4,999\",\"2,799\",\"5,499\",\"13,999\",\"17,999\",\"7,999\",\"13,999\",\"4,999\",\"9,047\",\"5,499\",\"5,299\",\"5,999\",\"5,499\",\"2,999\",\"1,999\",\"5,999\",\"7,999\",\"11,999\",\"11,999\",\"12,499\",\"5,499\",\"9,999\",\"2,499\",\"5,299\",\"8,999\",\"13,999\",\"9,999\",\"9,999\",\"2,999\",\"3,799\",\"5,499\",\"4,999\",\"10,999\",\"8,999\",\"12,999\",\"11,999\",\"5,999\",\"4,950\",\"11,999\",\"5,499\",\"12,999\",\"3,499\",\"5,999\",\"6,399\",\"7,999\",\"11,990\",\"12,990\",\"32,959\",\"40,000\",\"34,999\",\"28,999\",\"2,000\",\"2,490\",\"8,990\",\"28,990\",\"31,999\",\"40,000\",\"28,999\",\"18,990\",\"16,990\",\"36,999\",\"30,990\",\"24,490\",\"34,999\",\"19,990\",\"24,490\",\"31,999\",\"15,000\",\"7,999\",\"24,490\",\"24,300\",\"29,990\",\"9,990\",\"15,000\",\"19,999\",\"15,500\",\"19,990\",\"27,490\",\"21,989\",\"15,900\",\"15,000\",\"39,490\",\"24,989\",\"22,990\",\"15,999\",\"18,999\",\"21,990\",\"24,300\",\"21,390\",\"18,999\",\"18,532\",\"50,408\",\"13,201\",\"15,995\",\"14,995\",\"15,995\",\"18,495\",\"18,995\",\"12,396\",\"14,995\",\"12,396\",\"18,495\",\"16,495\",\"14,995\",\"8,995\",\"14,021\",\"11,995\",\"13,196\",\"17,995\",\"13,196\",\"13,495\",\"11,995\",\"13,495\",\"19,999\",\"13,495\",\"6,995\",\"11,596\",\"9,097\",\"10,796\",\"6,995\",\"15,995\",\"19,995\",\"18,495\",\"11,995\",\"15,995\",\"8,995\",\"8,995\",\"18,995\",\"14,021\",\"19,995\",\"19,995\",\"6,995\",\"19,995\",\"18,995\",\"15,396\",\"19,995\",\"18,495\",\"9,995\",\"25,995\",\"15,995\",\"10,998\",\"17,995\",\"21,995\",\"19,995\",\"8,995\",\"15,749\",\"17,596\",\"19,995\",\"19,995\",\"11,995\",\"10,997\",\"19,995\",\"8,995\",\"9,796\",\"8,995\",\"15,034\",\"14,995\",\"13,495\",\"19,995\",\"11,995\",\"6,995\",\"9,995\",\"17,995\",\"21,995\",\"18,995\",\"13,495\",\"8,995\",\"11,995\",\"24,495\",\"21,995\",\"10,496\",\"13,195\",\"3,999\",\"12,396\",\"11,997\",\"8,995\",\"21,995\",\"11,397\",\"8,995\",\"3,799\",\"15,995\",\"13,995\",\"6,995\",\"11,995\",\"6,995\",\"21,495\",\"6,995\",\"14,495\",\"6,995\",\"17,995\",\"12,995\",\"13,495\",\"8,995\",\"6,995\",\"8,995\",\"8,995\",\"6,995\",\"18,995\",\"6,995\",\"14,995\",\"11,995\",\"6,995\",\"15,995\",\"15,995\",\"8,995\",\"21,995\",\"15,995\",\"4,399\",\"10,796\",\"6,995\",\"8,995\",\"23,995\",\"11,995\",\"15,995\",\"18,995\",\"15,995\",\"6,995\",\"8,995\",\"8,995\",\"6,995\",\"17,995\",\"21,995\",\"6,995\",\"9,995\",\"21,995\",\"18,900\",\"30,400\",\"16,900\",\"36,900\",\"31,400\",\"27,400\",\"45,690\",\"30,400\",\"31,400\",\"33,900\",\"37,490\",\"45,690\",\"67,900\",\"40,190\",\"32,900\",\"45,690\",\"69,900\",\"69,900\",\"73,900\",\"43,900\",\"48,490\",\"45,690\",\"69,900\",\"65,900\",\"52,900\",\"52,900\",\"56,900\",\"50,400\",\"50,400\",\"45,690\",\"39,990\",\"45,690\",\"67,900\",\"29,900\",\"73,900\",\"69,900\",\"40,900\",\"43,900\",\"44,900\",\"33,900\",\"31,400\",\"48,490\",\"50,900\",\"53,900\",\"31,400\",\"37,490\",\"31,400\",\"37,490\",\"33,900\",\"31,400\",\"48,490\",\"37,490\",\"77,900\",\"52,900\",\"48,490\",\"67,900\",\"33,900\",\"33,900\",\"40,190\",\"33,900\",\"43,900\",\"67,900\",\"33,900\",\"43,900\",\"69,900\",\"1,14,900\",\"41,900\",\"48,900\",\"77,900\",\"29,900\",\"73,900\",\"56,900\",\"73,900\",\"79,900\",\"29,900\",\"21,900\",\"1,22,090\",\"60,900\",\"25,900\",\"34,900\",\"32,380\",\"1,22,090\",\"64,900\",\"56,900\",\"64,900\",\"31,600\",\"20,990\",\"15,990\",\"19,990\",\"31,990\",\"14,990\",\"41,990\",\"12,150\",\"34,990\",\"46,990\",\"37,990\",\"30,000\",\"20,990\",\"19,990\",\"24,990\",\"26,990\",\"72,990\",\"79,990\",\"46,990\",\"76,990\",\"18,990\",\"18,990\",\"19,990\",\"19,990\",\"1,05,990\",\"77,990\",\"58,490\",\"39,990\",\"74,990\",\"31,990\",\"70,990\",\"56,490\",\"20,990\",\"35,990\",\"23,490\",\"59,990\",\"20,990\",\"14,990\",\"19,990\",\"20,990\",\"23,990\",\"16,990\",\"86,990\",\"8,990\",\"46,990\",\"39,990\",\"39,990\",\"19,990\",\"29,990\",\"47,990\",\"34,990\",\"49,990\",\"81,990\",\"74,990\",\"26,990\",\"33,742\",\"46,990\",\"34,990\",\"42,990\",\"18,990\",\"77,990\",\"24,990\",\"32,990\",\"28,990\",\"33,490\",\"84,490\",\"42,990\",\"46,990\",\"21,990\",\"54,990\",\"28,990\",\"25,249\",\"47,490\",\"19,990\",\"18,990\",\"14,990\",\"21,999\",\"19,990\",\"34,990\",\"28,990\",\"19,144\",\"12,999\",\"42,990\",\"44,990\",\"15,990\",\"22,990\",\"22,990\",\"54,990\",\"16,990\",\"16,990\",\"29,990\",\"13,578\",\"16,990\",\"22,990\",\"27,990\",\"15,990\",\"12,990\",\"16,990\",\"27,990\",\"39,990\",\"15,999\",\"15,911\",\"14,999\",\"14,990\",\"22,990\",\"24,990\",\"11,990\",\"8,990\",\"11,990\",\"14,990\",\"19,990\",\"8,990\",\"15,990\",\"10,990\",\"10,990\",\"20,990\",\"9,999\",\"6,999\",\"29,999\",\"49,999\",\"25,999\",\"55,000\",\"13,990\",\"1,999\",\"3,499\",\"18,495\",\"2,499\",\"3,799\",\"3,999\",\"2,999\",\"3,799\",\"2,799\",\"2,999\",\"4,190\",\"3,999\",\"2,699\",\"3,799\",\"2,699\",\"3,999\",\"4,999\",\"799\",\"1,399\",\"1,299\",\"949\",\"1,099\",\"2,199\",\"3,299\",\"2,499\",\"2,799\",\"3,299\",\"3,499\",\"3,299\",\"3,297\",\"1,499\",\"1,699\",\"1,283\",\"2,949\",\"1,899\",\"3,999\",\"1,999\",\"2,499\",\"2,999\",\"4,499\",\"4,499\",\"4,800\",\"5,846\",\"3,499\",\"4,999\",\"2,999\",\"5,846\",\"1,999\"],\"type\":\"histogram\",\"xaxis\":\"x5\",\"yaxis\":\"y5\"},{\"marker\":{\"color\":\"hsl(163,70%,70%)\"},\"showlegend\":false,\"x\":[\"2,999\",\"2,499\",\"2,099\",\"2,999\",\"2,199\",\"1,799\",\"2,499\",\"15,999\",\"15,999\",\"1,599\",\"3,999\",\"2,799\",\"14,999\",\"22,999\",\"18,999\",\"9,999\",\"7,999\",\"7,999\",\"10,999\",\"11,999\",\"38,500\",\"8,490\",\"8,999\",\"7,999\",\"13,999\",\"23,499\",\"24,999\",\"23,999\",\"24,999\",\"26,499\",\"23,499\",\"21,499\",\"24,990\",\"14,999\",\"15,999\",\"19,999\",\"19,999\",\"22,999\",\"19,990\",\"14,999\",\"14,999\",\"16,999\",\"24,990\",\"21,499\",\"19,999\",\"14,990\",\"14,990\",\"16,999\",\"15,999\",\"12,999\",\"18,999\",\"14,999\",\"21,499\",\"21,999\",\"19,990\",\"13,999\",\"14,999\",\"14,999\",\"14,999\",\"14,999\",\"14,999\",\"9,999\",\"9,999\",\"3,499\",\"2,999\",\"2,999\",\"2,999\",\"3,099\",\"4,999\",\"6,999\",\"4,599\",\"9,990\",\"5,999\",\"5,999\",\"2,999\",\"2,999\",\"2,999\",\"2,999\",\"2,999\",\"2,999\",\"2,999\",\"2,999\",\"2,999\",\"2,000\",\"5,499\",\"5,499\",\"2,999\",\"3,999\",\"2,999\",\"4,495\",\"2,995\",\"3,499\",\"2,499\",\"2,499\",\"19,990\",\"24,990\",\"5,999\",\"3,999\",\"7,999\",\"7,999\",\"12,999\",\"8,999\",\"6,999\",\"6,999\",\"2,995\",\"2,995\",\"2,195\",\"1,995\",\"1,995\",\"1,995\",\"5,990\",\"7,990\",\"5,990\",\"7,990\",\"4,999\",\"5,999\",\"4,999\",\"5,999\",\"4,999\",\"5,999\",\"4,999\",\"4,999\",\"5,999\",\"5,999\",\"5,999\",\"4,999\",\"4,999\",\"7,999\",\"9,999\",\"7,999\",\"5,999\",\"5,499\",\"20,999\",\"20,999\",\"17,999\",\"15,999\",\"10,999\",\"17,999\",\"12,999\",\"12,999\",\"12,999\",\"12,999\",\"5,999\",\"4,999\",\"10,999\",\"13,999\",\"17,999\",\"17,999\",\"17,999\",\"6,999\",\"16,999\",\"3,999\",\"6,499\",\"12,999\",\"17,999\",\"12,999\",\"10,999\",\"4,999\",\"4,999\",\"5,990\",\"5,999\",\"18,999\",\"13,999\",\"12,999\",\"12,999\",\"8,999\",\"5,990\",\"12,999\",\"6,999\",\"15,999\",\"5,499\",\"8,999\",\"7,399\",\"14,999\",\"25,990\",\"25,990\",\"37,999\",\"42,999\",\"37,999\",\"31,999\",\"2,590\",\"2,590\",\"9,990\",\"30,990\",\"34,999\",\"42,999\",\"31,999\",\"28,490\",\"33,999\",\"39,999\",\"34,490\",\"31,990\",\"34,999\",\"19,990\",\"28,490\",\"31,999\",\"15,000\",\"16,860\",\"31,990\",\"24,300\",\"34,490\",\"14,990\",\"15,000\",\"22,550\",\"16,860\",\"19,990\",\"29,989\",\"25,990\",\"15,900\",\"15,000\",\"39,490\",\"25,990\",\"28,500\",\"22,990\",\"34,550\",\"22,990\",\"24,300\",\"25,155\",\"30,000\",\"22,498\",\"60,241\",\"15,885\",\"22,995\",\"22,995\",\"22,995\",\"18,495\",\"22,995\",\"14,995\",\"22,995\",\"14,995\",\"18,495\",\"16,495\",\"14,995\",\"13,495\",\"16,495\",\"11,995\",\"16,495\",\"17,995\",\"16,495\",\"13,495\",\"11,995\",\"13,495\",\"21,995\",\"13,495\",\"12,995\",\"14,495\",\"12,995\",\"13,495\",\"13,495\",\"22,995\",\"19,995\",\"18,495\",\"11,995\",\"22,995\",\"11,995\",\"11,995\",\"18,995\",\"16,495\",\"19,995\",\"19,995\",\"11,995\",\"19,995\",\"18,995\",\"21,995\",\"19,995\",\"18,495\",\"17,995\",\"25,995\",\"22,995\",\"21,995\",\"17,995\",\"21,995\",\"19,995\",\"13,495\",\"19,995\",\"21,995\",\"19,995\",\"19,995\",\"11,995\",\"21,995\",\"19,995\",\"14,495\",\"13,995\",\"13,495\",\"15,034\",\"22,995\",\"13,495\",\"19,995\",\"11,995\",\"11,995\",\"17,995\",\"17,995\",\"21,995\",\"18,995\",\"13,495\",\"11,995\",\"11,995\",\"24,495\",\"21,995\",\"14,995\",\"21,995\",\"19,995\",\"14,995\",\"19,995\",\"13,495\",\"21,995\",\"18,995\",\"12,995\",\"18,995\",\"15,995\",\"13,995\",\"11,995\",\"11,995\",\"11,995\",\"21,495\",\"14,495\",\"14,495\",\"11,995\",\"17,995\",\"12,995\",\"13,495\",\"11,995\",\"6,995\",\"13,495\",\"13,495\",\"6,995\",\"18,995\",\"13,995\",\"22,995\",\"11,995\",\"11,995\",\"15,995\",\"15,995\",\"13,995\",\"21,995\",\"22,995\",\"21,995\",\"13,495\",\"13,995\",\"14,495\",\"23,995\",\"11,995\",\"15,995\",\"18,995\",\"15,995\",\"6,995\",\"13,495\",\"12,995\",\"14,495\",\"17,995\",\"21,995\",\"6,995\",\"17,995\",\"21,995\",\"23,900\",\"32,900\",\"20,900\",\"36,900\",\"33,900\",\"29,900\",\"49,900\",\"32,900\",\"33,900\",\"33,900\",\"40,900\",\"49,900\",\"73,900\",\"43,900\",\"32,900\",\"49,900\",\"69,900\",\"69,900\",\"73,900\",\"43,900\",\"52,900\",\"49,900\",\"69,900\",\"65,900\",\"52,900\",\"52,900\",\"56,900\",\"50,400\",\"50,400\",\"49,900\",\"49,900\",\"49,900\",\"73,900\",\"29,900\",\"73,900\",\"69,900\",\"40,900\",\"43,900\",\"44,900\",\"36,900\",\"33,900\",\"52,900\",\"50,900\",\"53,900\",\"33,900\",\"40,900\",\"33,900\",\"40,900\",\"36,900\",\"33,900\",\"52,900\",\"40,900\",\"77,900\",\"52,900\",\"52,900\",\"73,900\",\"36,900\",\"36,900\",\"43,900\",\"36,900\",\"43,900\",\"73,900\",\"36,900\",\"43,900\",\"69,900\",\"1,14,900\",\"41,900\",\"48,900\",\"77,900\",\"29,900\",\"73,900\",\"56,900\",\"73,900\",\"79,900\",\"29,900\",\"21,900\",\"1,22,090\",\"60,900\",\"25,900\",\"34,900\",\"32,380\",\"1,22,090\",\"64,900\",\"56,900\",\"64,900\",\"31,600\",\"25,990\",\"20,990\",\"31,490\",\"39,990\",\"20,990\",\"41,990\",\"13,490\",\"41,490\",\"51,990\",\"37,990\",\"36,490\",\"28,490\",\"28,490\",\"31,490\",\"31,490\",\"88,490\",\"88,490\",\"51,990\",\"86,690\",\"20,990\",\"20,990\",\"28,490\",\"25,990\",\"1,19,490\",\"86,690\",\"58,490\",\"52,990\",\"82,990\",\"36,790\",\"84,090\",\"62,490\",\"20,990\",\"47,490\",\"25,990\",\"79,990\",\"26,990\",\"16,990\",\"25,990\",\"20,990\",\"29,290\",\"17,990\",\"96,390\",\"8,990\",\"51,990\",\"53,190\",\"48,790\",\"25,990\",\"36,490\",\"52,990\",\"41,490\",\"53,190\",\"96,690\",\"82,990\",\"26,990\",\"48,990\",\"51,990\",\"34,990\",\"42,990\",\"22,990\",\"86,690\",\"31,197\",\"39,990\",\"34,990\",\"34,990\",\"88,490\",\"47,490\",\"51,990\",\"21,990\",\"54,990\",\"34,990\",\"26,990\",\"47,490\",\"25,990\",\"20,990\",\"16,990\",\"27,790\",\"25,990\",\"49,990\",\"34,990\",\"26,990\",\"14,499\",\"42,990\",\"44,990\",\"19,990\",\"22,990\",\"29,990\",\"54,990\",\"16,990\",\"16,990\",\"29,990\",\"24,990\",\"16,990\",\"22,990\",\"27,990\",\"16,743\",\"19,990\",\"16,990\",\"27,990\",\"39,990\",\"20,000\",\"21,335\",\"16,999\",\"20,990\",\"29,990\",\"34,990\",\"19,990\",\"19,990\",\"19,990\",\"19,990\",\"19,990\",\"20,990\",\"20,990\",\"20,990\",\"21,990\",\"30,990\",\"9,999\",\"9,999\",\"29,999\",\"49,999\",\"25,999\",\"55,000\",\"20,990\",\"1,999\",\"3,499\",\"18,495\",\"6,990\",\"9,999\",\"9,999\",\"9,999\",\"9,999\",\"7,999\",\"9,999\",\"9,999\",\"9,999\",\"3,999\",\"5,999\",\"3,999\",\"7,999\",\"4,999\",\"3,199\",\"2,999\",\"2,999\",\"2,000\",\"3,000\",\"3,999\",\"7,999\",\"4,499\",\"4,999\",\"4,999\",\"3,999\",\"4,999\",\"4,199\",\"2,999\",\"1,899\",\"1,899\",\"4,199\",\"4,999\",\"10,999\",\"4,999\",\"7,999\",\"5,999\",\"12,999\",\"9,999\",\"9,999\",\"5,999\",\"9,999\",\"14,999\",\"7,999\",\"5,999\",\"4,999\"],\"type\":\"histogram\",\"xaxis\":\"x6\",\"yaxis\":\"y6\"},{\"marker\":{\"color\":\"hsl(196,70%,70%)\"},\"showlegend\":false,\"x\":[\"AMOLED Display\",\"AMOLED Display\",\"LCD Display\",\"AMOLED Display\",\"OLED Display\",\"OLED Display\",\"OLED Display\",\"AMOLED Display\",\"AMOLED Display\",\"OLED Display\",\"AMOLED Display\",\"AMOLED Display\",\"AMOLED Display\",\"AMOLED Display\",\"AMOLED Display\",\"PMOLED Display\",\"LED Display\",\"PMOLED Display\",\"AMOLED Display\",\"PMOLED Display\",\"AMOLED Display\",\"OLED Display\",\"LED Display\",\"LED Display\",\"OLED Display\",\"AMOLED Display\",\"LCD Display\",\"AMOLED Display\",\"LCD Display\",\"LCD Display\",\"AMOLED Display\",\"AMOLED Display\",\"LCD Display\",\"PMOLED Display\",\"OLED Display\",\"LCD Display\",\"LCD Display\",\"LCD Display\",\"LCD Display\",\"OLED Display\",\"PMOLED Display\",\"AMOLED Display\",\"LCD Display\",\"AMOLED Display\",\"AMOLED Display\",\"OLED Display\",\"OLED Display\",\"OLED Display\",\"AMOLED Display\",\"OLED Display\",\"AMOLED Display\",\"PMOLED Display\",\"AMOLED Display\",\"AMOLED Display\",\"LCD Display\",\"OLED Display\",\"PMOLED Display\",\"PMOLED Display\",\"PMOLED Display\",\"PMOLED Display\",\"PMOLED Display\",\"LED Display\",\"LED Display\",\"TFT-LCD Display\",\"TFT-LCD Display\",\"TFT-LCD Display\",\"TFT-LCD Display\",\"TFT-LCD Display\",\"PMOLED Display\",\"PMOLED Display\",\"PMOLED Display\",\"PMOLED Display\",\"PMOLED Display\",\"AMOLED Display\",\"AMOLED Display\",\"AMOLED Display\",\"LCD Display\",\"PMOLED Display\",\"AMOLED Display\",\"AMOLED Display\",\"AMOLED Display\",\"AMOLED Display\",\"LCD Display\",\"AMOLED Display\",\"AMOLED Display\",\"OLED Display\",\"OLED Display\",\"OLED Display\",\"TFT-LCD Display\",\"OLED Display\",\"OLED Display\",\"LCD Display\",\"LCD Display\",\"TFT-LCD Display\",\"AMOLED Display\",\"AMOLED Display\",\"AMOLED Display\",\"AMOLED Display\",\"AMOLED Display\",\"AMOLED Display\",\"AMOLED Display\",\"AMOLED Display\",\"TFT-LCD Display\",\"TFT-LCD Display\",\"TFT-LCD Display\",\"TFT-LCD Display\",\"TFT-LCD Display\",\"OLED Display\",\"OLED Display\",\"TFT-LCD Display\",\"LCD Display\",\"LCD Display\",\"LCD Display\",\"LCD Display\",\"AMOLED Display\",\"AMOLED Display\",\"AMOLED Display\",\"AMOLED Display\",\"AMOLED Display\",\"AMOLED Display\",\"AMOLED Display\",\"AMOLED Display\",\"AMOLED Display\",\"AMOLED Display\",\"AMOLED Display\",\"AMOLED Display\",\"AMOLED Display\",\"AMOLED Display\",\"AMOLED Display\",\"AMOLED Display\",\"AMOLED Display\",\"OLED Display\",\"AMOLED Display\",\"AMOLED Display\",\"AMOLED Display\",\"AMOLED Display\",\"AMOLED Display\",\"AMOLED Display\",\"AMOLED Display\",\"AMOLED Display\",\"AMOLED Display\",\"AMOLED Display\",\"AMOLED Display\",\"AMOLED Display\",\"AMOLED Display\",\"AMOLED Display\",\"AMOLED Display\",\"AMOLED Display\",\"AMOLED Display\",\"AMOLED Display\",\"AMOLED Display\",\"AMOLED Display\",\"AMOLED Display\",\"AMOLED Display\",\"AMOLED Display\",\"AMOLED Display\",\"AMOLED Display\",\"AMOLED Display\",\"AMOLED Display\",\"AMOLED Display\",\"AMOLED Display\",\"AMOLED Display\",\"AMOLED Display\",\"AMOLED Display\",\"AMOLED Display\",\"AMOLED Display\",\"AMOLED Display\",\"AMOLED Display\",\"AMOLED Display\",\"AMOLED Display\",\"AMOLED Display\",\"AMOLED Display\",\"AMOLED Display\",\"AMOLED Display\",\"AMOLED Display\",\"AMOLED Display\",\"AMOLED Display\",\"AMOLED Display\",\"AMOLED Display\",\"AMOLED Display\",\"PMOLED Display\",\"PMOLED Display\",\"AMOLED Display\",\"AMOLED Display\",\"AMOLED Display\",\"AMOLED Display\",\"AMOLED Display\",\"AMOLED Display\",\"AMOLED Display\",\"AMOLED Display\",\"AMOLED Display\",\"AMOLED Display\",\"AMOLED Display\",\"AMOLED Display\",\"AMOLED Display\",\"AMOLED Display\",\"AMOLED Display\",\"AMOLED Display\",\"AMOLED Display\",\"AMOLED Display\",\"AMOLED Display\",\"AMOLED Display\",\"AMOLED Display\",\"AMOLED Display\",\"AMOLED Display\",\"AMOLED Display\",\"AMOLED Display\",\"AMOLED Display\",\"AMOLED Display\",\"AMOLED Display\",\"AMOLED Display\",\"AMOLED Display\",\"AMOLED Display\",\"AMOLED Display\",\"AMOLED Display\",\"AMOLED Display\",\"AMOLED Display\",\"AMOLED Display\",\"AMOLED Display\",\"AMOLED Display\",\"AMOLED Display\",\"PMOLED Display\",\"AMOLED Display\",\"AMOLED Display\",\"AMOLED Display\",\"AMOLED Display\",\"AMOLED Display\",\"AMOLED Display\",\"AMOLED Display\",\"AMOLED Display\",\"AMOLED Display\",\"AMOLED Display\",\"AMOLED Display\",\"AMOLED Display\",\"AMOLED Display\",\"AMOLED Display\",\"AMOLED Display\",\"AMOLED Display\",\"AMOLED Display\",\"AMOLED Display\",\"AMOLED Display\",\"AMOLED Display\",\"AMOLED Display\",\"AMOLED Display\",\"AMOLED Display\",\"AMOLED Display\",\"AMOLED Display\",\"AMOLED Display\",\"AMOLED Display\",\"AMOLED Display\",\"AMOLED Display\",\"AMOLED Display\",\"AMOLED Display\",\"AMOLED Display\",\"AMOLED Display\",\"AMOLED Display\",\"AMOLED Display\",\"AMOLED Display\",\"AMOLED Display\",\"AMOLED Display\",\"AMOLED Display\",\"AMOLED Display\",\"AMOLED Display\",\"AMOLED Display\",\"AMOLED Display\",\"AMOLED Display\",\"AMOLED Display\",\"AMOLED Display\",\"AMOLED Display\",\"AMOLED Display\",\"AMOLED Display\",\"AMOLED Display\",\"AMOLED Display\",\"AMOLED Display\",\"AMOLED Display\",\"AMOLED Display\",\"AMOLED Display\",\"AMOLED Display\",\"AMOLED Display\",\"AMOLED Display\",\"AMOLED Display\",\"AMOLED Display\",\"AMOLED Display\",\"AMOLED Display\",\"AMOLED Display\",\"AMOLED Display\",\"AMOLED Display\",\"AMOLED Display\",\"AMOLED Display\",\"AMOLED Display\",\"AMOLED Display\",\"AMOLED Display\",\"AMOLED Display\",\"AMOLED Display\",\"AMOLED Display\",\"AMOLED Display\",\"AMOLED Display\",\"AMOLED Display\",\"AMOLED Display\",\"AMOLED Display\",\"AMOLED Display\",\"AMOLED Display\",\"AMOLED Display\",\"AMOLED Display\",\"AMOLED Display\",\"AMOLED Display\",\"AMOLED Display\",\"AMOLED Display\",\"AMOLED Display\",\"AMOLED Display\",\"AMOLED Display\",\"AMOLED Display\",\"AMOLED Display\",\"AMOLED Display\",\"AMOLED Display\",\"AMOLED Display\",\"AMOLED Display\",\"AMOLED Display\",\"AMOLED Display\",\"AMOLED Display\",\"AMOLED Display\",\"AMOLED Display\",\"AMOLED Display\",\"AMOLED Display\",\"AMOLED Display\",\"AMOLED Display\",\"AMOLED Display\",\"AMOLED Display\",\"AMOLED Display\",\"AMOLED Display\",\"AMOLED Display\",\"AMOLED Display\",\"AMOLED Display\",\"AMOLED Display\",\"AMOLED Display\",\"AMOLED Display\",\"AMOLED Display\",\"AMOLED Display\",\"AMOLED Display\",\"AMOLED Display\",\"AMOLED Display\",\"AMOLED Display\",\"AMOLED Display\",\"AMOLED Display\",\"AMOLED Display\",\"AMOLED Display\",\"AMOLED Display\",\"AMOLED Display\",\"AMOLED Display\",\"AMOLED Display\",\"AMOLED Display\",\"AMOLED Display\",\"AMOLED Display\",\"AMOLED Display\",\"OLED Retina Display\",\"OLED Retina Display\",\"OLED Retina Display\",\"OLED Retina Display\",\"OLED Retina Display\",\"OLED Retina Display\",\"OLED Retina Display\",\"OLED Retina Display\",\"OLED Retina Display\",\"OLED Retina Display\",\"OLED Retina Display\",\"OLED Retina Display\",\"OLED Retina Display\",\"OLED Retina Display\",\"OLED Retina Display\",\"OLED Retina Display\",\"OLED Retina Display\",\"OLED Retina Display\",\"OLED Retina Display\",\"OLED Retina Display\",\"OLED Retina Display\",\"OLED Retina Display\",\"OLED Retina Display\",\"OLED Retina Display\",\"OLED Retina Display\",\"OLED Retina Display\",\"OLED Retina Display\",\"OLED Retina Display\",\"OLED Retina Display\",\"OLED Retina Display\",\"OLED Retina Display\",\"OLED Retina Display\",\"OLED Retina Display\",\"OLED Retina Display\",\"OLED Retina Display\",\"OLED Retina Display\",\"OLED Retina Display\",\"OLED Retina Display\",\"OLED Retina Display\",\"OLED Retina Display\",\"OLED Retina Display\",\"OLED Retina Display\",\"OLED Retina Display\",\"OLED Retina Display\",\"OLED Retina Display\",\"OLED Retina Display\",\"OLED Retina Display\",\"OLED Retina Display\",\"OLED Retina Display\",\"OLED Retina Display\",\"OLED Retina Display\",\"OLED Retina Display\",\"OLED Retina Display\",\"OLED Retina Display\",\"OLED Retina Display\",\"OLED Retina Display\",\"OLED Retina Display\",\"OLED Retina Display\",\"OLED Retina Display\",\"OLED Retina Display\",\"OLED Retina Display\",\"OLED Retina Display\",\"OLED Retina Display\",\"OLED Retina Display\",\"OLED Retina Display\",\"OLED Retina Display\",\"OLED Retina Display\",\"OLED Retina Display\",\"OLED Retina Display\",\"OLED Retina Display\",\"OLED Retina Display\",\"OLED Retina Display\",\"OLED Retina Display\",\"OLED Retina Display\",\"OLED Retina Display\",\"OLED Retina Display\",\"OLED Retina Display\",\"OLED Retina Display\",\"OLED Retina Display\",\"OLED Retina Display\",\"OLED Retina Display\",\"OLED Retina Display\",\"OLED Retina Display\",\"OLED Retina Display\",\"OLED Retina Display\",\"OLED Retina Display\",\"AMOLED Display\",\"AMOLED Display\",\"AMOLED Display\",\"AMOLED Display\",\"OLED Display\",\"AMOLED Display\",\"OLED Display\",\"AMOLED Display\",\"OLED Display\",\"AMOLED Display\",\"LED Display\",\"AMOLED Display\",\"LED Display\",\"LCD Display\",\"AMOLED Display\",\"AMOLED Display\",\"AMOLED Display\",\"AMOLED Display\",\"LED Display\",\"AMOLED Display\",\"OLED Display\",\"AMOLED Display\",\"OLED Display\",\"AMOLED Display\",\"OLED Display\",\"OLED Display\",\"AMOLED Display\",\"OLED Display\",\"AMOLED Display\",\"LED Display\",\"OLED Display\",\"AMOLED Display\",\"AMOLED Display\",\"AMOLED Display\",\"AMOLED Display\",\"AMOLED Display\",\"AMOLED Display\",\"AMOLED Display\",\"OLED Display\",\"OLED Display\",\"OLED Display\",\"OLED Display\",\"AMOLED Display\",\"AMOLED Display\",\"AMOLED Display\",\"AMOLED Display\",\"LED Display\",\"LED Display\",\"AMOLED Display\",\"AMOLED Display\",\"AMOLED Display\",\"AMOLED Display\",\"AMOLED Display\",\"OLED Display\",\"OLED Display\",\"OLED Display\",\"OLED Display\",\"OLED Display\",\"LED Display\",\"AMOLED Display\",\"LED Display\",\"LED Display\",\"AMOLED Display\",\"AMOLED Display\",\"AMOLED Display\",\"AMOLED Display\",\"AMOLED Display\",\"AMOLED Display\",\"AMOLED Display\",\"AMOLED Display\",\"OLED Display\",\"AMOLED Display\",\"AMOLED Display\",\"LED Display\",\"LED Display\",\"LED Display\",\"LED Display\",\"AMOLED Display\",\"LED Display\",\"LED Display\",\"AMOLED Display\",\"AMOLED Display\",\"AMOLED Display\",\"OLED Display\",\"AMOLED Display\",\"AMOLED Display\",\"AMOLED Display\",\"AMOLED Display\",\"AMOLED Display\",\"AMOLED Display\",\"LED Display\",\"LED Display\",\"LED Display\",\"LED Display\",\"LED Display\",\"LED Display\",\"AMOLED Display\",\"AMOLED Display\",\"LED Display\",\"AMOLED Display\",\"LED Display\",\"AMOLED Display\",\"AMOLED Display\",\"AMOLED Display\",\"AMOLED Display\",\"AMOLED Display\",\"AMOLED Display\",\"AMOLED Display\",\"AMOLED Display\",\"AMOLED Display\",\"AMOLED Display\",\"AMOLED Display\",\"AMOLED Display\",\"AMOLED Display\",\"AMOLED Display\",\"AMOLED Display\",\"AMOLED Display\",\"AMOLED Display\",\"AMOLED Display\",\"AMOLED Display\",\"AMOLED Display\",\"AMOLED Display\",\"OLED Display\",\"OLED Display\",\"AMOLED Display\",\"AMOLED Display\",\"IPS Display\",\"IPS Display\",\"IPS Display\",\"IPS Display\",\"IPS Display\",\"IPS Display\",\"IPS Display\",\"IPS Display\",\"LCD Display\",\"LCD Display\",\"TFT-LCD Display\",\"AMOLED Display\",\"TFT-LCD Display\",\"TFT-LCD Display\",\"TFT-LCD Display\",\"TFT-LCD Display\",\"LCD Display\",\"LCD Display\",\"TFT-LCD Display\",\"TFT-LCD Display\",\"TFT-LCD Display\",\"TFT-LCD Display\",\"TFT-LCD Display\",\"TFT-LCD Display\",\"TFT-LCD Display\",\"TFT-LCD Display\",\"TFT-LCD Display\",\"TFT-LCD Display\",\"TFT-LCD Display\",\"TFT-LCD Display\",\"HD Display\",\"AMOLED Display\",\"HD Display\",\"HD Display\",\"HD Display\",\"AMOLED Display\",\"HD Display\",\"LCD Display\",\"TFT-LCD Display\",\"HD Display\",\"AMOLED Display\",\"HD Display\",\"TFT-LCD Display\",\"HD Display\"],\"type\":\"histogram\",\"xaxis\":\"x7\",\"yaxis\":\"y7\"},{\"marker\":{\"color\":\"hsl(229,70%,70%)\"},\"showlegend\":false,\"x\":[4.1,4.2,3.5,4.1,4.3,4.2,4.3,4.4,4.4,4.2,4.3,4.2,4.3,4.2,4.3,4.2,4.2,4.4,4.7,4.2,4.1,3.8,4.3,4.2,4.3,4.1,4.1,4.4,4.1,4.1,4.1,4.2,3.8,4.3,4.0,4.2,4.2,4.2,3.8,4.3,4.4,4.2,3.8,4.1,4.1,3.9,3.9,4.3,4.2,4.1,4.3,4.3,4.1,4.3,3.8,4.3,4.3,4.4,4.4,4.3,4.3,4.3,4.3,4.1,4.0,4.0,4.0,4.2,4.1,4.2,4.1,4.4,4.1,4.3,4.4,4.3,4.2,4.3,4.4,4.4,4.4,4.4,4.2,3.2,3.9,4.3,2.8,3.1,3.8,3.5,3.8,3.6,3.6,3.9,3.9,3.9,4.4,4.2,4.3,4.3,4.1,4.3,4.0,4.0,3.8,4.1,4.0,4.0,4.1,4.1,4.1,3.8,3.6,4.1,4.3,4.2,4.3,4.3,4.1,4.2,4.0,4.0,4.3,3.9,3.9,3.9,3.9,3.9,4.0,3.9,3.9,3.1,4.4,4.4,4.3,4.4,4.3,4.3,4.3,4.3,4.3,4.3,4.2,3.9,4.3,4.2,4.1,4.1,4.1,4.2,4.2,4.2,4.0,4.3,3.7,4.3,4.2,3.9,3.9,4.2,4.0,4.2,4.3,4.1,4.1,4.2,4.2,4.1,4.2,4.2,4.0,4.2,4.4,4.1,4.5,4.5,4.6,4.6,4.6,5.0,3.8,3.8,4.0,4.3,4.6,4.6,4.6,4.1,4.5,4.6,4.1,4.3,4.6,4.4,3.6,4.6,4.2,3.9,4.4,4.3,4.1,4.3,4.2,2.3,3.9,4.4,4.2,4.6,4.2,4.2,4.3,4.6,4.3,3.0,4.2,4.3,4.1,4.5,4.2,4.6,3.2,4.2,4.2,4.2,4.1,3.8,4.3,4.3,4.1,4.0,3.8,4.0,4.0,4.0,4.0,4.3,4.3,3.9,3.9,4.6,4.8,5.0,3.8,4.6,4.6,4.5,4.6,4.0,4.6,4.3,4.1,3.8,5.0,4.3,4.3,4.6,4.0,3.9,4.0,4.2,3.7,4.4,4.0,4.3,3.1,4.6,4.0,4.2,4.1,3.9,4.6,4.2,4.2,4.6,4.1,3.9,3.8,4.1,3.7,3.9,4.1,4.3,3.7,4.0,4.3,4.3,4.6,4.3,4.6,4.6,4.0,4.0,4.4,4.0,4.4,3.7,4.6,4.1,4.1,3.7,3.9,4.2,3.9,4.1,4.7,4.6,4.1,5.0,4.0,4.8,4.1,4.6,4.6,4.6,4.6,4.6,4.6,4.6,4.6,4.6,4.6,4.6,4.6,3.9,4.4,4.6,4.6,3.8,4.1,4.6,4.6,4.3,4.3,4.6,2.8,4.6,3.8,4.6,4.6,4.8,4.6,4.6,4.6,4.6,4.4,3.0,4.6,4.3,3.0,4.6,4.1,4.6,4.0,3.7,4.6,4.7,4.6,4.6,4.6,4.7,4.5,4.7,4.6,4.6,4.5,4.5,4.5,4.5,4.7,4.5,4.2,4.6,4.2,4.5,4.5,4.5,4.5,3.4,4.7,4.7,4.6,4.7,4.7,4.5,4.5,4.5,4.5,4.7,4.2,4.2,4.7,4.5,5.0,4.6,4.6,4.5,4.6,4.6,4.6,4.5,4.6,4.5,4.6,4.6,4.5,4.5,4.5,4.7,4.5,4.5,4.6,4.6,4.5,4.6,4.5,4.5,4.6,4.5,4.2,4.7,5.0,4.6,4.6,4.6,4.6,4.6,4.6,4.6,4.5,4.6,4.6,4.5,4.6,4.7,4.6,4.6,4.3,4.3,4.6,4.5,4.3,4.2,4.7,4.0,4.4,4.7,3.9,4.1,4.1,4.2,4.2,3.7,4.4,4.6,3.3,null,null,null,null,3.3,4.0,5.0,null,null,null,null,null,null,3.3,null,4.2,null,null,3.3,null,null,3.0,null,null,3.6,3.6,null,null,null,null,4.7,null,null,null,null,null,null,null,3.6,4.7,null,null,4.7,4.7,null,4.7,4.0,4.3,4.2,null,null,5.0,3.5,null,5.0,4.4,4.7,null,3.3,null,4.7,null,null,4.3,3.6,4.7,null,null,4.1,null,3.6,null,null,null,null,3.6,2.0,null,null,null,3.7,3.6,4.8,null,null,null,4.4,4.5,4.4,3.5,4.3,4.3,4.3,4.3,4.5,4.4,4.4,4.4,4.5,4.5,3.4,3.4,3.8,4.1,3.9,4.1,4.1,3.8,3.7,4.2,3.9,4.1,3.9,3.9,3.7,3.9,4.2,3.9,3.8,4.3,4.2,4.3,3.9,null,2.5,3.3,3.1,3.7,3.4,4.5,4.2,4.6,4.5,null,null,null,2.9,3.1,3.3,3.3,3.1,3.9,4.1,4.0,4.0,4.0,4.0,3.7,null,2.4,4.1,4.1,4.0,2.4,4.0],\"type\":\"histogram\",\"xaxis\":\"x8\",\"yaxis\":\"y8\"},{\"marker\":{\"color\":\"hsl(261,70%,70%)\"},\"showlegend\":false,\"x\":[\"Thermoplastic polyurethane\",\"Thermoplastic polyurethane\",\"Leather\",\"Thermoplastic polyurethane\",\"Plastic\",\"Plastic\",\"Plastic\",\"Silicone\",\"Silicone\",\"Thermoplastic polyurethane\",\"Thermoplastic polyurethane\",\"Thermoplastic polyurethane\",\"Silicone\",\"Elastomer\",\"Elastomer\",\"Elastomer\",\"Silicone\",\"Thermoplastic polyurethane\",\"Silicone\",\"Elastomer\",\"Silicone\",\"Rubber\",\"Silicone\",\"Silicone\",\"Silicone\",\"Fabric\",\"Elastomer\",\"Silicone\",\"Elastomer\",\"Elastomer\",\"Silicone\",\"Silicone\",\"Elastomer\",\"Silicone\",\"Silicone\",\"Elastomer\",\"Elastomer\",\"Elastomer\",\"Elastomer\",\"Elastomer\",\"Silicone\",\"Elastomer\",\"Elastomer\",\"Silicone\",\"Silicone\",\"Thermoplastic polyurethane\",\"Thermoplastic polyurethane\",\"Elastomer\",\"Elastomer\",\"Elastomer\",\"Elastomer\",\"Silicone\",\"Silicone\",\"Silicone\",\"Elastomer\",\"Silicone\",\"Silicone\",\"Silicone\",\"Silicone\",\"Silicone\",\"Silicone\",\"Silicone\",\"Silicone\",\"Silicone\",\"Silicone\",\"Silicone\",\"Silicone\",\"Silicone\",\"Silicone\",\"Silicone\",\"Silicone\",\"Silicone\",\"Silicone\",\"Plastic\",\"Plastic\",\"Plastic\",\"Plastic\",\"Plastic\",\"Plastic\",\"Plastic\",\"Plastic\",\"Plastic\",\"Plastic\",\"Plastic\",\"Plastic\",\"Plastic\",\"Silicone\",\"Silicone\",\"Silicone\",\"Silicone\",\"Silicone\",\"Thermoplastic polyurethane\",\"Silicone\",\"Thermoplastic polyurethane\",\"Rubber\",\"Rubber\",\"Silicone\",\"Silicone\",\"Silicone\",\"Silicone\",\"Silicone\",\"Silicone\",\"Silicone\",\"Silicone\",\"Silicone\",\"Silicone\",\"Silicone\",\"Silicone\",\"Silicone\",\"Silicone\",\"Thermoplastic polyurethane\",\"Thermoplastic polyurethane\",\"Silicone\",\"Thermoplastic polyurethane\",\"Thermoplastic polyurethane\",\"Thermoplastic polyurethane\",\"Thermoplastic polyurethane\",\"Thermoplastic polyurethane\",\"Silicone\",\"Silicone\",\"Thermoplastic polyurethane\",\"Thermoplastic polyurethane\",\"Thermoplastic polyurethane\",\"Silicone\",\"Silicone\",\"Silicone\",\"Silicone\",\"Thermoplastic polyurethane\",\"Thermoplastic polyurethane\",\"Thermoplastic polyurethane\",\"Thermoplastic polyurethane\",\"Silicone\",\"Nylon\",\"Nylon\",\"Silicone\",\"Leather\",\"Silicone\",\"Silicone\",\"Silicone\",\"Silicone\",\"Silicone\",\"Silicone\",\"Silicone\",\"Silicone\",\"Silicone\",\"Silicone\",\"Silicone\",\"Silicone\",\"Silicone\",\"Silicone\",\"Silicone\",\"Thermoplastic polyurethane\",\"Thermoplastic polyurethane\",\"Silicone\",\"Silicone\",\"Silicone\",\"Silicone\",\"Thermoplastic polyurethane\",\"Thermoplastic polyurethane\",\"Silicone\",\"Thermoplastic polyurethane\",\"Silicone\",\"Silicone\",\"Silicone\",\"Silicone\",\"Silicone\",\"Silicone\",\"Silicone\",\"Silicone\",\"Silicone\",\"Thermoplastic polyurethane\",\"Silicone\",\"Silicone\",\"Silicone\",\"Silicone\",\"Silicone\",\"Elastomer\",\"Elastomer\",\"Elastomer\",\"Elastomer\",\"Rubber\",\"Rubber\",\"Rubber\",\"Leather\",\"Elastomer\",\"Elastomer\",\"Elastomer\",\"Silicone\",\"Elastomer\",\"Elastomer\",\"Silicone\",\"Silicone\",\"Silicone\",\"Elastomer\",\"Silicone\",\"Elastomer\",\"Silicone\",\"Silicone\",\"Leather\",\"Elastomer\",\"Silicone\",\"Silicone\",\"Silicone\",\"Silicone\",\"Rubber\",\"Elastomer\",\"Silicone\",\"Elastomer\",\"Rubber\",\"Silicone\",\"Leather\",\"Elastomer\",\"Silicone\",\"Silicone\",\"Leather\",\"Leather\",\"Elastomer\",\"Rubber\",\"Leather\",\"Elastomer\",\"Rubber\",\"Rubber\",\"Leather\",\"Leather\",\"Stainless Steel\",\"Stainless Steel\",\"Stainless Steel\",\"Stainless Steel\",\"Stainless Steel\",\"Silicone\",\"Stainless Steel\",\"Silicone\",\"Silicone\",\"Stainless Steel\",\"Stainless Steel\",\"Leather\",\"Stainless Steel\",\"Silicone\",\"Leather\",\"Stainless Steel\",\"Leather\",\"Stainless Steel\",\"Leather\",\"Leather\",\"Leather\",\"Stainless Steel\",\"Leather\",\"Leather\",\"Leather\",\"Stainless Steel\",\"Leather\",\"Stainless Steel\",\"Leather\",\"Stainless Steel\",\"Leather\",\"Leather\",\"Silicone\",\"Leather\",\"Stainless Steel\",\"Stainless Steel\",\"Stainless Steel\",\"Leather\",\"Stainless Steel\",\"Stainless Steel\",\"Leather\",\"Stainless Steel\",\"Silicone\",\"Leather\",\"Stainless Steel\",\"Stainless Steel\",\"Silicone\",\"Stainless Steel\",\"Stainless Steel\",\"Stainless Steel\",\"Stainless Steel\",\"Stainless Steel\",\"Stainless Steel\",\"Stainless Steel\",\"Leather\",\"Stainless Steel\",\"Stainless Steel\",\"Stainless Steel\",\"Stainless Steel\",\"Leather\",\"Stainless Steel\",\"Stainless Steel\",\"Leather\",\"Stainless Steel\",\"Leather\",\"Silicone\",\"Silicone\",\"Silicone\",\"Stainless Steel\",\"Stainless Steel\",\"Silicone\",\"Leather\",\"Stainless Steel\",\"Silicone\",\"Silicone\",\"Stainless Steel\",\"Stainless Steel\",\"Stainless Steel\",\"Leather\",\"Stainless Steel\",\"Leather\",\"Stainless Steel\",\"Stainless Steel\",\"Stainless Steel\",\"Stainless Steel\",\"Stainless Steel\",\"Leather\",\"Stainless Steel\",\"Leather\",\"Leather\",\"Leather\",\"Stainless Steel\",\"Stainless Steel\",\"Stainless Steel\",\"Silicone\",\"Stainless Steel\",\"Leather\",\"Leather\",\"Stainless Steel\",\"Silicone\",\"Silicone\",\"Stainless Steel\",\"Stainless Steel\",\"Stainless Steel\",\"Leather\",\"Stainless Steel\",\"Stainless Steel\",\"Silicone\",\"Silicone\",\"Leather\",\"Stainless Steel\",\"Stainless Steel\",\"Leather\",\"Stainless Steel\",\"Leather\",\"Leather\",\"Leather\",\"Leather\",\"Leather\",\"Stainless Steel\",\"Stainless Steel\",\"leather\",\"Stainless Steel\",\"Stainless Steel\",\"Stainless Steel\",\"Silicone\",\"Silicone\",\"Stainless Steel\",\"Silicone\",\"Stainless Steel\",\"Aluminium\",\"Aluminium\",\"Aluminium\",\"Aluminium\",\"Aluminium\",\"Aluminium\",\"Aluminium\",\"Aluminium\",\"Aluminium\",\"Aluminium\",\"Aluminium\",\"Aluminium\",\"Stainless Steel\",\"Aluminium\",\"Aluminium\",\"Aluminium\",\"Aluminium\",\"Stainless Steel\",\"Stainless Steel\",\"Aluminium\",\"Aluminium\",\"Aluminium\",\"Stainless Steel\",\"Stainless Steel\",\"Aluminium\",\"Aluminium\",\"Stainless Steel\",\"Stainless Steel\",\"Stainless Steel\",\"Aluminium\",\"Aluminium\",\"Aluminium\",\"Stainless Steel\",\"Aluminium\",\"Stainless Steel\",\"Stainless Steel\",\"Aluminium\",\"Aluminium\",\"Silicone\",\"Aluminium\",\"Aluminium\",\"Aluminium\",\"Aluminium\",\"Aluminium\",\"Aluminium\",\"Aluminium\",\"Aluminium\",\"Aluminium\",\"Aluminium\",\"Aluminium\",\"Aluminium\",\"Aluminium\",\"Stainless Steel\",\"Silicone\",\"Aluminium\",\"Aluminium\",\"Aluminium\",\"Aluminium\",\"Aluminium\",\"Aluminium\",\"Aluminium\",\"Stainless Steel\",\"Aluminium\",\"Aluminium\",\"Stainless Steel\",\"Nylon\",\"Aluminium\",\"Stainless Steel\",\"Stainless Steel\",\"Aluminium\",\"Stainless Steel\",\"Stainless Steel\",\"Stainless Steel\",\"Stainless Steel\",\"Aluminium\",\"Aluminium\",\"Nylon\",\"Stainless Steel\",\"Aluminium\",\"Aluminium\",\"Aluminium\",\"Nylon\",\"Stainless Steel\",\"Stainless Steel\",\"Stainless Steel\",\"Aluminium\",\"Silicone\",\"Silicone\",\"Silicone\",\"Silicone\",\"Silicone\",\"Leather\",\"Silicone\",\"Silicone\",\"Silicone\",\"Silicone\",\"Silicone\",\"Silicone\",\"Silicone\",\"Silicone\",\"Nylon\",\"Nylon\",\"Nylon\",\"Silicone\",\"Nylon\",\"Silicone\",\"Silicone\",\"Silicone\",\"Silicone\",\"Leather\",\"Nylon\",\"Silicone\",\"Silicone\",\"Leather\",\"Silicone\",\"Stainless Steel\",\"Silicone\",\"Silicone\",\"Silicone\",\"Silicone\",\"Silicone\",\"Silicone\",\"Silicone\",\"Silicone\",\"Silicone\",\"Silicone\",\"Silicone\",\"Leather\",\"Silicone\",\"Silicone\",\"Silicone\",\"Silicone\",\"Silicone\",\"Silicone\",\"Silicone\",\"Silicone\",\"Silicone\",\"Leather \",\"Leather\",\"Silicone\",\"Silicone\",\"Silicone\",\"Silicone\",\"Silicone\",\"Silicone\",\"Nylon\",\"Silicone\",\"Silicone\",\"Silicone\",\"Silicone\",\"Nylon\",\"Silicone\",\"Silicone\",\"Silicone\",\"Silicone\",\"Silicone\",\"Silicone\",\"Silicone\",\"Silicone\",\"Silicone\",\"Silicone\",\"Silicone\",\"Silicone\",\"Silicone\",\"Silicone\",\"Silicone\",\"Silicone\",\"Leather\",\"Leather\",\"Silicone\",\"Silicone\",\"Silicone\",\"Leather\",\"Silicone\",\"Silicone\",\"Silicone\",\"Silicone\",\"Silicone\",\"Silicone\",\"Silicone\",\"Silicone\",\"Silicone\",\"Silicone\",\"Silicone\",\"Silicone\",\"Silicone\",\"Silicone\",\"Elastomer\",\"Elastomer\",\"Elastomer\",\"Elastomer\",\"Elastomer\",\"Elastomer\",\"Thermoplastic polyurethane\",\"Elastomer\",\"Leather\",\"Silicone\",\"Silicone\",\"Silicone\",\"Leather\",\"Stainless Steel\",\"Silicone\",\"Silicone\",\"Silicone\",\"Silicone\",\"Leather\",\"Silicone\",\"Elastomer\",\"Silicone\",\"Thermoplastic polyurethane\",\"Stainless Steel\",\"Silicone\",\"Silicone\",\"Silicone\",\"Silicone\",\"Silicone\",\"Silicone\",\"Silicone\",\"Leather\",\"Silicone\",\"Silicone\",\"Silicone\",\"Silicone\",\"Silicone\",\"Silicone\",\"Silicone\",\"Silicone\",\"Silicone\",\"Silicone\",\"Silicone\",\"Silicone\",\"Silicone\",\"Thermoplastic polyurethane\",\"Thermoplastic polyurethane\",\"Rubber\",\"Silicone\",\"Rubber\",\"Silicone\",\"Rubber\",\"Silicone\",\"Silicone\",\"Leather\",\"Silicone\",\"Silicone\",\"Silicone\",\"Silicone\",\"Silicone\",\"Silicone\",\"Silicone\",\"Silicone\",\"Silicone\",\"Silicone\",\"Silicone\",\"Silicone\",\"Silicone\",\"Silicone\"],\"type\":\"histogram\",\"xaxis\":\"x9\",\"yaxis\":\"y9\"},{\"marker\":{\"color\":\"hsl(294,70%,70%)\"},\"showlegend\":false,\"x\":[14,14,14,14,7,20,7,14,14,7,7,7,7,7,7,7,5,10,7,7,5,5,5,5,7,7,7,7,7,7,7,7,7,7,7,7,7,7,7,7,7,7,7,7,7,7,7,7,7,7,7,7,7,7,7,7,7,7,7,7,7,5,5,7,7,7,7,7,7,7,7,7,7,14,7,7,7,7,14,14,14,7,14,7,14,7,7,7,4,7,4,7,3,7,14,14,14,7,14,14,14,14,14,7,7,4,4,4,4,10,7,10,7,10,7,7,7,10,10,7,7,7,7,7,7,7,7,7,7,7,7,14,25,25,7,14,10,7,14,14,14,14,9,14,20,14,10,7,10,28,12,7,15,14,14,12,14,15,15,28,15,25,25,25,25,14,28,7,28,25,7,5,28,7,7,7,14,14,14,14,7,7,7,14,14,14,14,14,7,14,14,14,14,14,14,14,7,7,14,14,14,7,7,14,7,14,14,14,7,7,14,14,14,7,14,14,14,14,14,14,14,7,2,2,2,2,2,14,2,14,2,14,14,10,14,14,14,2,12,12,10,12,1,1,2,2,2,12,1,2,2,1,12,2,2,12,5,12,1,1,12,2,1,1,2,1,2,14,14,2,2,2,1,12,2,14,2,1,12,14,1,2,2,12,2,2,12,1,12,1,2,2,2,1,1,1,12,14,14,12,14,2,12,1,1,3,1,2,1,6,14,12,2,12,2,2,2,2,2,2,12,12,1,14,1,7,2,2,14,2,12,1,1,2,3,1,1,1,2,2,2,2,1,2,14,1,12,2,2,2,14,7,2,6,1,1,1,1,1,1,1,1,1,1,1,1,1,1,1,1,1,1,1,1,1,1,1,1,1,1,1,1,1,1,1,1,1,1,1,1,1,1,1,1,1,1,1,1,1,1,1,1,1,1,1,1,1,1,1,1,1,1,1,1,1,1,1,1,1,1,1,1,1,1,1,1,1,1,1,1,1,1,1,1,1,1,1,1,1,1,7,7,7,7,7,14,5,14,12,14,7,7,7,7,14,45,45,14,30,7,12,7,7,45,45,30,14,30,7,30,14,7,14,7,30,7,7,14,14,14,14,45,14,14,30,14,14,14,30,14,30,45,30,14,14,14,14,14,14,45,14,14,14,14,45,14,14,14,30,14,14,14,14,14,14,14,14,30,14,14,14,14,14,12,14,14,30,14,14,14,14,14,14,14,14,14,14,14,14,14,7,14,14,14,14,14,14,14,14,14,14,14,14,14,14,7,7,7,14,7,14,14,7,7,1,7,10,7,15,10,10,7,10,15,10,14,15,7,7,3,3,3,3,7,7,10,7,7,7,7,7,7,3,3,3,3,5,5,10,8,8,10,10,7,5,10,10,8,5,10],\"type\":\"histogram\",\"xaxis\":\"x10\",\"yaxis\":\"y10\"},{\"marker\":{\"color\":\"hsl(327,70%,70%)\"},\"showlegend\":false,\"x\":[null,null,null,null,null,null,null,\"2\",\"3\",null,null,null,null,null,null,null,null,null,null,null,null,null,null,null,null,null,null,null,null,null,null,null,null,null,null,null,null,null,null,null,null,null,null,null,null,null,null,null,null,null,null,null,null,null,null,null,null,null,null,null,null,null,null,null,null,null,null,null,null,null,null,null,null,\"6568\",\"17809\",\"23426\",\"4628\",\"23426\",\"4628\",\"4628\",\"4628\",\"17809\",\"4628\",\"4628\",\"77\",\"122\",null,null,null,null,null,null,null,null,\"484\",null,\"338\",\"928\",\"4,142\",null,\"259\",null,null,null,null,null,null,null,null,null,\"1070\",\"23069\",\"529\",\"20122\",null,null,null,null,null,null,null,null,null,null,null,null,null,null,null,null,null,\"102\",\"215\",\"215\",\"281\",\"1663\",\"354\",\"281\",\"1907\",\"1907\",\"1907\",\"1907\",\"1334\",\"849\",\"359\",\"294\",\"647\",\"153\",\"647\",\"4651\",\"3\",\"176\",\"489\",null,null,\"146\",null,\"489\",\"489\",\"489\",\"489\",null,\"176\",\"489\",\"489\",\"489\",\"176\",\"176\",\"176\",\"103\",\"125\",\"136\",\"176\",\"183\",null,null,null,null,null,null,null,null,null,null,null,null,null,null,null,null,null,null,null,null,null,null,null,null,null,null,null,null,null,null,null,null,null,null,null,null,null,null,null,null,null,null,null,null,null,null,null,null,null,null,null,null,null,null,null,null,null,null,null,null,null,null,null,null,\"4\",null,null,null,\"54\",null,null,null,null,null,null,null,null,null,null,null,null,null,null,\"6\",null,null,null,null,null,\"7\",null,null,null,null,null,\"600\",null,null,\"61\",null,null,\"46\",null,null,null,\"46\",null,null,null,null,null,null,null,\"78\",null,null,null,\"55\",null,null,null,null,null,null,null,null,\"46\",null,\"6\",null,null,null,\"61\",null,null,null,null,null,null,null,null,null,null,null,null,null,null,null,null,null,null,null,null,null,null,null,null,null,null,null,null,null,\"46\",null,null,null,null,null,\"46\",null,null,null,null,null,null,null,null,null,null,null,null,null,null,null,null,null,null,null,null,null,null,null,null,null,null,null,null,null,null,null,null,null,null,null,null,null,null,null,null,null,null,null,null,null,null,null,null,null,null,null,null,null,null,null,null,null,null,null,null,null,null,null,null,null,null,null,null,null,null,null,null,null,null,null,null,null,null,null,null,null,null,null,null,null,null,null,null,null,null,null,null,null,null,null,null,null,null,null,null,null,null,null,null,null,null,null,null,null,null,null,null,null,null,null,null,null,null,null,null,null,null,null,null,null,null,null,null,null,null,null,null,null,null,null,null,null,null,null,null,null,null,null,null,null,null,null,null,null,null,null,null,null,null,null,null,null,null,null,null,null,null,null,null,null,null,null,null,null,null,null,null,null,null,null,null,null,null,null,null,null,null,null,null,null,null,null,null,null,null,null,null,null,null,null,null,null,null,null,null,null,null,null,null,null,null,null,null,null,null,null,null,null,null,null,null,null,null,null,null,null,null,\"1301\",\"319\",\"96\",\"545\",\"281\",\"309\",\"84\",\"108\",\"127\",null,\"360\",null,null,null,\"264\",\"477\",\"327\",\"16\",\"120\",\"34\",\"46\",\"41\",\"29\",null,null,null,\"5\",\"5\",null,\"4\",\"3\",\"6046\",\"229\",\"688\",\"4941\",\"2525\",\"519\",\"423\",null,\"15\",\"923\",\"212\",\"4941\",\"15\",\"688\"],\"type\":\"histogram\",\"xaxis\":\"x11\",\"yaxis\":\"y11\"}],                        {\"template\":{\"data\":{\"histogram2dcontour\":[{\"type\":\"histogram2dcontour\",\"colorbar\":{\"outlinewidth\":0,\"ticks\":\"\"},\"colorscale\":[[0.0,\"#0d0887\"],[0.1111111111111111,\"#46039f\"],[0.2222222222222222,\"#7201a8\"],[0.3333333333333333,\"#9c179e\"],[0.4444444444444444,\"#bd3786\"],[0.5555555555555556,\"#d8576b\"],[0.6666666666666666,\"#ed7953\"],[0.7777777777777778,\"#fb9f3a\"],[0.8888888888888888,\"#fdca26\"],[1.0,\"#f0f921\"]]}],\"choropleth\":[{\"type\":\"choropleth\",\"colorbar\":{\"outlinewidth\":0,\"ticks\":\"\"}}],\"histogram2d\":[{\"type\":\"histogram2d\",\"colorbar\":{\"outlinewidth\":0,\"ticks\":\"\"},\"colorscale\":[[0.0,\"#0d0887\"],[0.1111111111111111,\"#46039f\"],[0.2222222222222222,\"#7201a8\"],[0.3333333333333333,\"#9c179e\"],[0.4444444444444444,\"#bd3786\"],[0.5555555555555556,\"#d8576b\"],[0.6666666666666666,\"#ed7953\"],[0.7777777777777778,\"#fb9f3a\"],[0.8888888888888888,\"#fdca26\"],[1.0,\"#f0f921\"]]}],\"heatmap\":[{\"type\":\"heatmap\",\"colorbar\":{\"outlinewidth\":0,\"ticks\":\"\"},\"colorscale\":[[0.0,\"#0d0887\"],[0.1111111111111111,\"#46039f\"],[0.2222222222222222,\"#7201a8\"],[0.3333333333333333,\"#9c179e\"],[0.4444444444444444,\"#bd3786\"],[0.5555555555555556,\"#d8576b\"],[0.6666666666666666,\"#ed7953\"],[0.7777777777777778,\"#fb9f3a\"],[0.8888888888888888,\"#fdca26\"],[1.0,\"#f0f921\"]]}],\"heatmapgl\":[{\"type\":\"heatmapgl\",\"colorbar\":{\"outlinewidth\":0,\"ticks\":\"\"},\"colorscale\":[[0.0,\"#0d0887\"],[0.1111111111111111,\"#46039f\"],[0.2222222222222222,\"#7201a8\"],[0.3333333333333333,\"#9c179e\"],[0.4444444444444444,\"#bd3786\"],[0.5555555555555556,\"#d8576b\"],[0.6666666666666666,\"#ed7953\"],[0.7777777777777778,\"#fb9f3a\"],[0.8888888888888888,\"#fdca26\"],[1.0,\"#f0f921\"]]}],\"contourcarpet\":[{\"type\":\"contourcarpet\",\"colorbar\":{\"outlinewidth\":0,\"ticks\":\"\"}}],\"contour\":[{\"type\":\"contour\",\"colorbar\":{\"outlinewidth\":0,\"ticks\":\"\"},\"colorscale\":[[0.0,\"#0d0887\"],[0.1111111111111111,\"#46039f\"],[0.2222222222222222,\"#7201a8\"],[0.3333333333333333,\"#9c179e\"],[0.4444444444444444,\"#bd3786\"],[0.5555555555555556,\"#d8576b\"],[0.6666666666666666,\"#ed7953\"],[0.7777777777777778,\"#fb9f3a\"],[0.8888888888888888,\"#fdca26\"],[1.0,\"#f0f921\"]]}],\"surface\":[{\"type\":\"surface\",\"colorbar\":{\"outlinewidth\":0,\"ticks\":\"\"},\"colorscale\":[[0.0,\"#0d0887\"],[0.1111111111111111,\"#46039f\"],[0.2222222222222222,\"#7201a8\"],[0.3333333333333333,\"#9c179e\"],[0.4444444444444444,\"#bd3786\"],[0.5555555555555556,\"#d8576b\"],[0.6666666666666666,\"#ed7953\"],[0.7777777777777778,\"#fb9f3a\"],[0.8888888888888888,\"#fdca26\"],[1.0,\"#f0f921\"]]}],\"mesh3d\":[{\"type\":\"mesh3d\",\"colorbar\":{\"outlinewidth\":0,\"ticks\":\"\"}}],\"scatter\":[{\"fillpattern\":{\"fillmode\":\"overlay\",\"size\":10,\"solidity\":0.2},\"type\":\"scatter\"}],\"parcoords\":[{\"type\":\"parcoords\",\"line\":{\"colorbar\":{\"outlinewidth\":0,\"ticks\":\"\"}}}],\"scatterpolargl\":[{\"type\":\"scatterpolargl\",\"marker\":{\"colorbar\":{\"outlinewidth\":0,\"ticks\":\"\"}}}],\"bar\":[{\"error_x\":{\"color\":\"#2a3f5f\"},\"error_y\":{\"color\":\"#2a3f5f\"},\"marker\":{\"line\":{\"color\":\"#E5ECF6\",\"width\":0.5},\"pattern\":{\"fillmode\":\"overlay\",\"size\":10,\"solidity\":0.2}},\"type\":\"bar\"}],\"scattergeo\":[{\"type\":\"scattergeo\",\"marker\":{\"colorbar\":{\"outlinewidth\":0,\"ticks\":\"\"}}}],\"scatterpolar\":[{\"type\":\"scatterpolar\",\"marker\":{\"colorbar\":{\"outlinewidth\":0,\"ticks\":\"\"}}}],\"histogram\":[{\"marker\":{\"pattern\":{\"fillmode\":\"overlay\",\"size\":10,\"solidity\":0.2}},\"type\":\"histogram\"}],\"scattergl\":[{\"type\":\"scattergl\",\"marker\":{\"colorbar\":{\"outlinewidth\":0,\"ticks\":\"\"}}}],\"scatter3d\":[{\"type\":\"scatter3d\",\"line\":{\"colorbar\":{\"outlinewidth\":0,\"ticks\":\"\"}},\"marker\":{\"colorbar\":{\"outlinewidth\":0,\"ticks\":\"\"}}}],\"scattermapbox\":[{\"type\":\"scattermapbox\",\"marker\":{\"colorbar\":{\"outlinewidth\":0,\"ticks\":\"\"}}}],\"scatterternary\":[{\"type\":\"scatterternary\",\"marker\":{\"colorbar\":{\"outlinewidth\":0,\"ticks\":\"\"}}}],\"scattercarpet\":[{\"type\":\"scattercarpet\",\"marker\":{\"colorbar\":{\"outlinewidth\":0,\"ticks\":\"\"}}}],\"carpet\":[{\"aaxis\":{\"endlinecolor\":\"#2a3f5f\",\"gridcolor\":\"white\",\"linecolor\":\"white\",\"minorgridcolor\":\"white\",\"startlinecolor\":\"#2a3f5f\"},\"baxis\":{\"endlinecolor\":\"#2a3f5f\",\"gridcolor\":\"white\",\"linecolor\":\"white\",\"minorgridcolor\":\"white\",\"startlinecolor\":\"#2a3f5f\"},\"type\":\"carpet\"}],\"table\":[{\"cells\":{\"fill\":{\"color\":\"#EBF0F8\"},\"line\":{\"color\":\"white\"}},\"header\":{\"fill\":{\"color\":\"#C8D4E3\"},\"line\":{\"color\":\"white\"}},\"type\":\"table\"}],\"barpolar\":[{\"marker\":{\"line\":{\"color\":\"#E5ECF6\",\"width\":0.5},\"pattern\":{\"fillmode\":\"overlay\",\"size\":10,\"solidity\":0.2}},\"type\":\"barpolar\"}],\"pie\":[{\"automargin\":true,\"type\":\"pie\"}]},\"layout\":{\"autotypenumbers\":\"strict\",\"colorway\":[\"#636efa\",\"#EF553B\",\"#00cc96\",\"#ab63fa\",\"#FFA15A\",\"#19d3f3\",\"#FF6692\",\"#B6E880\",\"#FF97FF\",\"#FECB52\"],\"font\":{\"color\":\"#2a3f5f\"},\"hovermode\":\"closest\",\"hoverlabel\":{\"align\":\"left\"},\"paper_bgcolor\":\"white\",\"plot_bgcolor\":\"#E5ECF6\",\"polar\":{\"bgcolor\":\"#E5ECF6\",\"angularaxis\":{\"gridcolor\":\"white\",\"linecolor\":\"white\",\"ticks\":\"\"},\"radialaxis\":{\"gridcolor\":\"white\",\"linecolor\":\"white\",\"ticks\":\"\"}},\"ternary\":{\"bgcolor\":\"#E5ECF6\",\"aaxis\":{\"gridcolor\":\"white\",\"linecolor\":\"white\",\"ticks\":\"\"},\"baxis\":{\"gridcolor\":\"white\",\"linecolor\":\"white\",\"ticks\":\"\"},\"caxis\":{\"gridcolor\":\"white\",\"linecolor\":\"white\",\"ticks\":\"\"}},\"coloraxis\":{\"colorbar\":{\"outlinewidth\":0,\"ticks\":\"\"}},\"colorscale\":{\"sequential\":[[0.0,\"#0d0887\"],[0.1111111111111111,\"#46039f\"],[0.2222222222222222,\"#7201a8\"],[0.3333333333333333,\"#9c179e\"],[0.4444444444444444,\"#bd3786\"],[0.5555555555555556,\"#d8576b\"],[0.6666666666666666,\"#ed7953\"],[0.7777777777777778,\"#fb9f3a\"],[0.8888888888888888,\"#fdca26\"],[1.0,\"#f0f921\"]],\"sequentialminus\":[[0.0,\"#0d0887\"],[0.1111111111111111,\"#46039f\"],[0.2222222222222222,\"#7201a8\"],[0.3333333333333333,\"#9c179e\"],[0.4444444444444444,\"#bd3786\"],[0.5555555555555556,\"#d8576b\"],[0.6666666666666666,\"#ed7953\"],[0.7777777777777778,\"#fb9f3a\"],[0.8888888888888888,\"#fdca26\"],[1.0,\"#f0f921\"]],\"diverging\":[[0,\"#8e0152\"],[0.1,\"#c51b7d\"],[0.2,\"#de77ae\"],[0.3,\"#f1b6da\"],[0.4,\"#fde0ef\"],[0.5,\"#f7f7f7\"],[0.6,\"#e6f5d0\"],[0.7,\"#b8e186\"],[0.8,\"#7fbc41\"],[0.9,\"#4d9221\"],[1,\"#276419\"]]},\"xaxis\":{\"gridcolor\":\"white\",\"linecolor\":\"white\",\"ticks\":\"\",\"title\":{\"standoff\":15},\"zerolinecolor\":\"white\",\"automargin\":true,\"zerolinewidth\":2},\"yaxis\":{\"gridcolor\":\"white\",\"linecolor\":\"white\",\"ticks\":\"\",\"title\":{\"standoff\":15},\"zerolinecolor\":\"white\",\"automargin\":true,\"zerolinewidth\":2},\"scene\":{\"xaxis\":{\"backgroundcolor\":\"#E5ECF6\",\"gridcolor\":\"white\",\"linecolor\":\"white\",\"showbackground\":true,\"ticks\":\"\",\"zerolinecolor\":\"white\",\"gridwidth\":2},\"yaxis\":{\"backgroundcolor\":\"#E5ECF6\",\"gridcolor\":\"white\",\"linecolor\":\"white\",\"showbackground\":true,\"ticks\":\"\",\"zerolinecolor\":\"white\",\"gridwidth\":2},\"zaxis\":{\"backgroundcolor\":\"#E5ECF6\",\"gridcolor\":\"white\",\"linecolor\":\"white\",\"showbackground\":true,\"ticks\":\"\",\"zerolinecolor\":\"white\",\"gridwidth\":2}},\"shapedefaults\":{\"line\":{\"color\":\"#2a3f5f\"}},\"annotationdefaults\":{\"arrowcolor\":\"#2a3f5f\",\"arrowhead\":0,\"arrowwidth\":1},\"geo\":{\"bgcolor\":\"white\",\"landcolor\":\"#E5ECF6\",\"subunitcolor\":\"white\",\"showland\":true,\"showlakes\":true,\"lakecolor\":\"white\"},\"title\":{\"x\":0.05},\"mapbox\":{\"style\":\"light\"}}},\"xaxis\":{\"anchor\":\"y\",\"domain\":[0.0,0.2888888888888889]},\"yaxis\":{\"anchor\":\"x\",\"domain\":[0.80625,1.0]},\"xaxis2\":{\"anchor\":\"y2\",\"domain\":[0.35555555555555557,0.6444444444444445]},\"yaxis2\":{\"anchor\":\"x2\",\"domain\":[0.80625,1.0]},\"xaxis3\":{\"anchor\":\"y3\",\"domain\":[0.7111111111111111,1.0]},\"yaxis3\":{\"anchor\":\"x3\",\"domain\":[0.80625,1.0]},\"xaxis4\":{\"anchor\":\"y4\",\"domain\":[0.0,0.2888888888888889]},\"yaxis4\":{\"anchor\":\"x4\",\"domain\":[0.5375,0.73125]},\"xaxis5\":{\"anchor\":\"y5\",\"domain\":[0.35555555555555557,0.6444444444444445]},\"yaxis5\":{\"anchor\":\"x5\",\"domain\":[0.5375,0.73125]},\"xaxis6\":{\"anchor\":\"y6\",\"domain\":[0.7111111111111111,1.0]},\"yaxis6\":{\"anchor\":\"x6\",\"domain\":[0.5375,0.73125]},\"xaxis7\":{\"anchor\":\"y7\",\"domain\":[0.0,0.2888888888888889]},\"yaxis7\":{\"anchor\":\"x7\",\"domain\":[0.26875,0.4625]},\"xaxis8\":{\"anchor\":\"y8\",\"domain\":[0.35555555555555557,0.6444444444444445]},\"yaxis8\":{\"anchor\":\"x8\",\"domain\":[0.26875,0.4625]},\"xaxis9\":{\"anchor\":\"y9\",\"domain\":[0.7111111111111111,1.0]},\"yaxis9\":{\"anchor\":\"x9\",\"domain\":[0.26875,0.4625]},\"xaxis10\":{\"anchor\":\"y10\",\"domain\":[0.0,0.2888888888888889]},\"yaxis10\":{\"anchor\":\"x10\",\"domain\":[0.0,0.19375]},\"xaxis11\":{\"anchor\":\"y11\",\"domain\":[0.35555555555555557,0.6444444444444445]},\"yaxis11\":{\"anchor\":\"x11\",\"domain\":[0.0,0.19375]},\"xaxis12\":{\"anchor\":\"y12\",\"domain\":[0.7111111111111111,1.0]},\"yaxis12\":{\"anchor\":\"x12\",\"domain\":[0.0,0.19375]},\"title\":{\"text\":\"Fitness Tracker Data\"},\"height\":1200,\"width\":1000,\"showlegend\":false,\"plot_bgcolor\":\"rgba(0,0,0,0)\"},                        {\"responsive\": true}                    ).then(function(){\n",
              "                            \n",
              "var gd = document.getElementById('44a779d3-5201-48c5-8f25-647b9ceccaa9');\n",
              "var x = new MutationObserver(function (mutations, observer) {{\n",
              "        var display = window.getComputedStyle(gd).display;\n",
              "        if (!display || display === 'none') {{\n",
              "            console.log([gd, 'removed!']);\n",
              "            Plotly.purge(gd);\n",
              "            observer.disconnect();\n",
              "        }}\n",
              "}});\n",
              "\n",
              "// Listen for the removal of the full notebook cells\n",
              "var notebookContainer = gd.closest('#notebook-container');\n",
              "if (notebookContainer) {{\n",
              "    x.observe(notebookContainer, {childList: true});\n",
              "}}\n",
              "\n",
              "// Listen for the clearing of the current output cell\n",
              "var outputEl = gd.closest('.output');\n",
              "if (outputEl) {{\n",
              "    x.observe(outputEl, {childList: true});\n",
              "}}\n",
              "\n",
              "                        })                };                            </script>        </div>\n",
              "</body>\n",
              "</html>"
            ]
          },
          "metadata": {}
        }
      ]
    },
    {
      "cell_type": "code",
      "source": [
        "#Just the Fitness Tracker Brands\n",
        "#Histogram Plot\n",
        "fig = px.histogram(df, x='Brand Name', title='Fitness Tracker Brands', color_discrete_sequence=[f'#{random.randint(0, 0xFFFFFF):06x}'])\n",
        "\n",
        "fig.show()"
      ],
      "metadata": {
        "colab": {
          "base_uri": "https://localhost:8080/",
          "height": 542
        },
        "id": "SvNi5jeONMVz",
        "outputId": "43294255-46fb-4d6a-a769-fa52b5699e1e"
      },
      "execution_count": 81,
      "outputs": [
        {
          "output_type": "display_data",
          "data": {
            "text/html": [
              "<html>\n",
              "<head><meta charset=\"utf-8\" /></head>\n",
              "<body>\n",
              "    <div>            <script src=\"https://cdnjs.cloudflare.com/ajax/libs/mathjax/2.7.5/MathJax.js?config=TeX-AMS-MML_SVG\"></script><script type=\"text/javascript\">if (window.MathJax && window.MathJax.Hub && window.MathJax.Hub.Config) {window.MathJax.Hub.Config({SVG: {font: \"STIX-Web\"}});}</script>                <script type=\"text/javascript\">window.PlotlyConfig = {MathJaxConfig: 'local'};</script>\n",
              "        <script src=\"https://cdn.plot.ly/plotly-2.18.2.min.js\"></script>                <div id=\"0e0d2266-30f6-4d7a-ad9d-c2d84939897c\" class=\"plotly-graph-div\" style=\"height:525px; width:100%;\"></div>            <script type=\"text/javascript\">                                    window.PLOTLYENV=window.PLOTLYENV || {};                                    if (document.getElementById(\"0e0d2266-30f6-4d7a-ad9d-c2d84939897c\")) {                    Plotly.newPlot(                        \"0e0d2266-30f6-4d7a-ad9d-c2d84939897c\",                        [{\"alignmentgroup\":\"True\",\"bingroup\":\"x\",\"hovertemplate\":\"Brand Name=%{x}<br>count=%{y}<extra></extra>\",\"legendgroup\":\"\",\"marker\":{\"color\":\"#005195\",\"pattern\":{\"shape\":\"\"}},\"name\":\"\",\"offsetgroup\":\"\",\"orientation\":\"v\",\"showlegend\":false,\"x\":[\"Xiaomi\",\"Xiaomi\",\"Xiaomi\",\"Xiaomi\",\"Xiaomi\",\"Xiaomi\",\"Xiaomi\",\"Xiaomi\",\"Xiaomi\",\"Xiaomi\",\"OnePlus \",\"OnePlus \",\"FitBit\",\"FitBit\",\"FitBit\",\"FitBit\",\"FitBit\",\"FitBit\",\"FitBit\",\"FitBit\",\"FitBit\",\"FitBit\",\"FitBit\",\"FitBit\",\"FitBit\",\"FitBit\",\"FitBit\",\"FitBit\",\"FitBit\",\"FitBit\",\"FitBit\",\"FitBit\",\"FitBit\",\"FitBit\",\"FitBit\",\"FitBit\",\"FitBit\",\"FitBit\",\"FitBit\",\"FitBit\",\"FitBit\",\"FitBit\",\"FitBit\",\"FitBit\",\"FitBit\",\"FitBit\",\"FitBit\",\"FitBit\",\"FitBit\",\"FitBit\",\"FitBit\",\"FitBit\",\"FitBit\",\"FitBit\",\"FitBit\",\"FitBit\",\"FitBit\",\"FitBit\",\"FitBit\",\"FitBit\",\"FitBit\",\"FitBit\",\"FitBit\",\"realme\",\"realme\",\"realme\",\"realme\",\"Huawei\",\"Huawei\",\"Huawei\",\"Huawei\",\"Huawei\",\"Huawei\",\"Honor\",\"Honor\",\"Honor\",\"Honor\",\"Honor\",\"Honor\",\"Honor\",\"Honor\",\"Honor\",\"Honor\",\"Honor\",\"Honor\",\"Honor\",\"GOQii\",\"GOQii\",\"Infinix\",\"LCARE\",\"LCARE\",\"LAVA\",\"Noise\",\"Noise\",\"Oppo\",\"Oppo\",\"realme\",\"realme\",\"realme\",\"realme\",\"realme\",\"realme\",\"realme\",\"realme\",\"Fastrack\",\"Fastrack\",\"Fastrack\",\"Fastrack\",\"Fastrack\",\"Fastrack\",\"boAt \",\"boAt \",\"boAt \",\"boAt \",\"Noise \",\"Noise \",\"Noise \",\"Noise \",\"Noise \",\"Noise \",\"Noise \",\"Noise \",\"Noise \",\"Noise \",\"Noise \",\"Noise \",\"Noise \",\"Noise \",\"Noise \",\"Noise \",\"Noise \",\"Honor\",\"Honor\",\"Honor\",\"Honor\",\"Honor\",\"Honor\",\"Honor\",\"huami\",\"huami\",\"huami\",\"huami\",\"huami\",\"huami\",\"huami\",\"huami\",\"huami\",\"huami\",\"huami\",\"huami\",\"huami\",\"huami\",\"huami\",\"huami\",\"huami\",\"huami\",\"huami\",\"huami\",\"huami\",\"huami\",\"huami\",\"huami\",\"huami\",\"huami\",\"huami\",\"huami\",\"huami\",\"huami\",\"huami\",\"huami\",\"huami\",\"huami\",\"huami\",\"huami\",\"SAMSUNG \",\"SAMSUNG \",\"SAMSUNG \",\"SAMSUNG \",\"SAMSUNG \",\"SAMSUNG \",\"SAMSUNG \",\"SAMSUNG \",\"SAMSUNG \",\"SAMSUNG \",\"SAMSUNG \",\"SAMSUNG \",\"SAMSUNG \",\"SAMSUNG \",\"SAMSUNG \",\"SAMSUNG \",\"SAMSUNG \",\"SAMSUNG \",\"SAMSUNG \",\"SAMSUNG \",\"SAMSUNG \",\"SAMSUNG \",\"SAMSUNG \",\"SAMSUNG \",\"SAMSUNG \",\"SAMSUNG \",\"SAMSUNG \",\"SAMSUNG \",\"SAMSUNG \",\"SAMSUNG \",\"SAMSUNG \",\"SAMSUNG \",\"SAMSUNG \",\"SAMSUNG \",\"SAMSUNG \",\"SAMSUNG \",\"SAMSUNG \",\"SAMSUNG \",\"SAMSUNG \",\"SAMSUNG \",\"SAMSUNG \",\"SAMSUNG \",\"SAMSUNG \",\"SAMSUNG \",\"SAMSUNG \",\"SAMSUNG \",\"SAMSUNG \",\"SAMSUNG \",\"FOSSIL \",\"FOSSIL \",\"FOSSIL \",\"FOSSIL \",\"FOSSIL \",\"FOSSIL \",\"FOSSIL \",\"FOSSIL \",\"FOSSIL \",\"FOSSIL \",\"FOSSIL \",\"FOSSIL \",\"FOSSIL \",\"FOSSIL \",\"FOSSIL \",\"FOSSIL \",\"FOSSIL \",\"FOSSIL \",\"FOSSIL \",\"FOSSIL \",\"FOSSIL \",\"FOSSIL \",\"FOSSIL \",\"FOSSIL \",\"FOSSIL \",\"FOSSIL \",\"FOSSIL \",\"FOSSIL \",\"FOSSIL \",\"FOSSIL \",\"FOSSIL \",\"FOSSIL \",\"FOSSIL \",\"FOSSIL \",\"FOSSIL \",\"FOSSIL \",\"FOSSIL \",\"FOSSIL \",\"FOSSIL \",\"FOSSIL \",\"FOSSIL \",\"FOSSIL \",\"FOSSIL \",\"FOSSIL \",\"FOSSIL \",\"FOSSIL \",\"FOSSIL \",\"FOSSIL \",\"FOSSIL \",\"FOSSIL \",\"FOSSIL \",\"FOSSIL \",\"FOSSIL \",\"FOSSIL \",\"FOSSIL \",\"FOSSIL \",\"FOSSIL \",\"FOSSIL \",\"FOSSIL \",\"FOSSIL \",\"FOSSIL \",\"FOSSIL \",\"FOSSIL \",\"FOSSIL \",\"FOSSIL \",\"FOSSIL \",\"FOSSIL \",\"FOSSIL \",\"FOSSIL \",\"FOSSIL \",\"FOSSIL \",\"FOSSIL \",\"FOSSIL \",\"FOSSIL \",\"FOSSIL \",\"FOSSIL \",\"FOSSIL \",\"FOSSIL \",\"FOSSIL \",\"FOSSIL \",\"FOSSIL \",\"FOSSIL \",\"FOSSIL \",\"FOSSIL \",\"FOSSIL \",\"FOSSIL \",\"FOSSIL \",\"FOSSIL \",\"FOSSIL \",\"FOSSIL \",\"FOSSIL \",\"FOSSIL \",\"FOSSIL \",\"FOSSIL \",\"FOSSIL \",\"FOSSIL \",\"FOSSIL \",\"FOSSIL \",\"FOSSIL \",\"FOSSIL \",\"FOSSIL \",\"FOSSIL \",\"FOSSIL \",\"FOSSIL \",\"FOSSIL \",\"FOSSIL \",\"FOSSIL \",\"FOSSIL \",\"FOSSIL \",\"FOSSIL \",\"FOSSIL \",\"FOSSIL \",\"FOSSIL \",\"FOSSIL \",\"FOSSIL \",\"FOSSIL \",\"FOSSIL \",\"FOSSIL \",\"FOSSIL \",\"FOSSIL \",\"FOSSIL \",\"FOSSIL \",\"FOSSIL \",\"FOSSIL \",\"FOSSIL \",\"FOSSIL \",\"FOSSIL \",\"FOSSIL \",\"FOSSIL \",\"FOSSIL \",\"FOSSIL \",\"FOSSIL \",\"APPLE\",\"APPLE\",\"APPLE\",\"APPLE\",\"APPLE\",\"APPLE\",\"APPLE\",\"APPLE\",\"APPLE\",\"APPLE\",\"APPLE\",\"APPLE\",\"APPLE\",\"APPLE\",\"APPLE\",\"APPLE\",\"APPLE\",\"APPLE\",\"APPLE\",\"APPLE\",\"APPLE\",\"APPLE\",\"APPLE\",\"APPLE\",\"APPLE\",\"APPLE\",\"APPLE\",\"APPLE\",\"APPLE\",\"APPLE\",\"APPLE\",\"APPLE\",\"APPLE\",\"APPLE\",\"APPLE\",\"APPLE\",\"APPLE\",\"APPLE\",\"APPLE\",\"APPLE\",\"APPLE\",\"APPLE\",\"APPLE\",\"APPLE\",\"APPLE\",\"APPLE\",\"APPLE\",\"APPLE\",\"APPLE\",\"APPLE\",\"APPLE\",\"APPLE\",\"APPLE\",\"APPLE\",\"APPLE\",\"APPLE\",\"APPLE\",\"APPLE\",\"APPLE\",\"APPLE\",\"APPLE\",\"APPLE\",\"APPLE\",\"APPLE\",\"APPLE\",\"APPLE\",\"APPLE\",\"APPLE\",\"APPLE\",\"APPLE\",\"APPLE\",\"APPLE\",\"APPLE\",\"APPLE\",\"APPLE\",\"APPLE\",\"APPLE\",\"APPLE\",\"APPLE\",\"APPLE\",\"APPLE\",\"APPLE\",\"APPLE\",\"APPLE\",\"APPLE\",\"APPLE\",\"GARMIN \",\"GARMIN \",\"GARMIN \",\"GARMIN \",\"GARMIN \",\"GARMIN \",\"GARMIN \",\"GARMIN \",\"GARMIN \",\"GARMIN \",\"GARMIN \",\"GARMIN \",\"GARMIN \",\"GARMIN \",\"GARMIN \",\"GARMIN \",\"GARMIN \",\"GARMIN \",\"GARMIN \",\"GARMIN \",\"GARMIN \",\"GARMIN \",\"GARMIN \",\"GARMIN \",\"GARMIN \",\"GARMIN \",\"GARMIN \",\"GARMIN \",\"GARMIN \",\"GARMIN \",\"GARMIN \",\"GARMIN \",\"GARMIN \",\"GARMIN \",\"GARMIN \",\"GARMIN \",\"GARMIN \",\"GARMIN \",\"GARMIN \",\"GARMIN \",\"GARMIN \",\"GARMIN \",\"GARMIN \",\"GARMIN \",\"GARMIN \",\"GARMIN \",\"GARMIN \",\"GARMIN \",\"GARMIN \",\"GARMIN \",\"GARMIN \",\"GARMIN \",\"GARMIN \",\"GARMIN \",\"GARMIN \",\"GARMIN \",\"GARMIN \",\"GARMIN \",\"GARMIN \",\"GARMIN \",\"GARMIN \",\"GARMIN \",\"GARMIN \",\"GARMIN \",\"GARMIN \",\"GARMIN \",\"GARMIN \",\"GARMIN \",\"GARMIN \",\"GARMIN \",\"GARMIN \",\"GARMIN \",\"GARMIN \",\"GARMIN \",\"GARMIN \",\"GARMIN \",\"GARMIN \",\"GARMIN \",\"GARMIN \",\"GARMIN \",\"GARMIN \",\"GARMIN \",\"GARMIN \",\"GARMIN \",\"GARMIN \",\"GARMIN \",\"GARMIN \",\"GARMIN \",\"GARMIN \",\"GARMIN \",\"GARMIN \",\"GARMIN \",\"GARMIN \",\"GARMIN \",\"GARMIN \",\"GARMIN \",\"GARMIN \",\"GARMIN \",\"GARMIN \",\"GARMIN \",\"GARMIN \",\"OnePlus \",\"Huawei\",\"Huawei\",\"Huawei\",\"Huawei\",\"Huawei\",\"Huawei\",\"Huawei\",\"Huawei\",\"Huawei\",\"Huawei\",\"Huawei\",\"Huawei\",\"Huawei\",\"Huawei\",\"Huawei\",\"Huawei\",\"Huawei\",\"Huawei\",\"Huawei\",\"Huawei\",\"GOQii\",\"GOQii\",\"FOSSIL \",\"boAt \",\"Crossbeats\",\"Crossbeats\",\"Crossbeats\",\"Crossbeats\",\"Crossbeats\",\"Crossbeats\",\"Crossbeats\",\"Crossbeats\",\"dizo by realme \",\"dizo by realme \",\"Noise \",\"Noise \",\"Noise \",\"Ptron\",\"Ptron\",\"Ptron\",\"Ptron\",\"Ptron\",\"Zebronics\",\"Zebronics\",\"Zebronics\",\"Zebronics\",\"Zebronics\",\"Zebronics\",\"Zebronics\",\"Zebronics\",\"Zebronics\",\"Zebronics\",\"Zebronics\",\"Zebronics\",\"Fire-Boltt\",\"Fire-Boltt\",\"Fire-Boltt\",\"Fire-Boltt\",\"Fire-Boltt\",\"Fire-Boltt\",\"Fire-Boltt\",\"Fire-Boltt\",\"Fire-Boltt\",\"Fire-Boltt\",\"Fire-Boltt\",\"Fire-Boltt\",\"Fire-Boltt\",\"Fire-Boltt\"],\"xaxis\":\"x\",\"yaxis\":\"y\",\"type\":\"histogram\"}],                        {\"template\":{\"data\":{\"histogram2dcontour\":[{\"type\":\"histogram2dcontour\",\"colorbar\":{\"outlinewidth\":0,\"ticks\":\"\"},\"colorscale\":[[0.0,\"#0d0887\"],[0.1111111111111111,\"#46039f\"],[0.2222222222222222,\"#7201a8\"],[0.3333333333333333,\"#9c179e\"],[0.4444444444444444,\"#bd3786\"],[0.5555555555555556,\"#d8576b\"],[0.6666666666666666,\"#ed7953\"],[0.7777777777777778,\"#fb9f3a\"],[0.8888888888888888,\"#fdca26\"],[1.0,\"#f0f921\"]]}],\"choropleth\":[{\"type\":\"choropleth\",\"colorbar\":{\"outlinewidth\":0,\"ticks\":\"\"}}],\"histogram2d\":[{\"type\":\"histogram2d\",\"colorbar\":{\"outlinewidth\":0,\"ticks\":\"\"},\"colorscale\":[[0.0,\"#0d0887\"],[0.1111111111111111,\"#46039f\"],[0.2222222222222222,\"#7201a8\"],[0.3333333333333333,\"#9c179e\"],[0.4444444444444444,\"#bd3786\"],[0.5555555555555556,\"#d8576b\"],[0.6666666666666666,\"#ed7953\"],[0.7777777777777778,\"#fb9f3a\"],[0.8888888888888888,\"#fdca26\"],[1.0,\"#f0f921\"]]}],\"heatmap\":[{\"type\":\"heatmap\",\"colorbar\":{\"outlinewidth\":0,\"ticks\":\"\"},\"colorscale\":[[0.0,\"#0d0887\"],[0.1111111111111111,\"#46039f\"],[0.2222222222222222,\"#7201a8\"],[0.3333333333333333,\"#9c179e\"],[0.4444444444444444,\"#bd3786\"],[0.5555555555555556,\"#d8576b\"],[0.6666666666666666,\"#ed7953\"],[0.7777777777777778,\"#fb9f3a\"],[0.8888888888888888,\"#fdca26\"],[1.0,\"#f0f921\"]]}],\"heatmapgl\":[{\"type\":\"heatmapgl\",\"colorbar\":{\"outlinewidth\":0,\"ticks\":\"\"},\"colorscale\":[[0.0,\"#0d0887\"],[0.1111111111111111,\"#46039f\"],[0.2222222222222222,\"#7201a8\"],[0.3333333333333333,\"#9c179e\"],[0.4444444444444444,\"#bd3786\"],[0.5555555555555556,\"#d8576b\"],[0.6666666666666666,\"#ed7953\"],[0.7777777777777778,\"#fb9f3a\"],[0.8888888888888888,\"#fdca26\"],[1.0,\"#f0f921\"]]}],\"contourcarpet\":[{\"type\":\"contourcarpet\",\"colorbar\":{\"outlinewidth\":0,\"ticks\":\"\"}}],\"contour\":[{\"type\":\"contour\",\"colorbar\":{\"outlinewidth\":0,\"ticks\":\"\"},\"colorscale\":[[0.0,\"#0d0887\"],[0.1111111111111111,\"#46039f\"],[0.2222222222222222,\"#7201a8\"],[0.3333333333333333,\"#9c179e\"],[0.4444444444444444,\"#bd3786\"],[0.5555555555555556,\"#d8576b\"],[0.6666666666666666,\"#ed7953\"],[0.7777777777777778,\"#fb9f3a\"],[0.8888888888888888,\"#fdca26\"],[1.0,\"#f0f921\"]]}],\"surface\":[{\"type\":\"surface\",\"colorbar\":{\"outlinewidth\":0,\"ticks\":\"\"},\"colorscale\":[[0.0,\"#0d0887\"],[0.1111111111111111,\"#46039f\"],[0.2222222222222222,\"#7201a8\"],[0.3333333333333333,\"#9c179e\"],[0.4444444444444444,\"#bd3786\"],[0.5555555555555556,\"#d8576b\"],[0.6666666666666666,\"#ed7953\"],[0.7777777777777778,\"#fb9f3a\"],[0.8888888888888888,\"#fdca26\"],[1.0,\"#f0f921\"]]}],\"mesh3d\":[{\"type\":\"mesh3d\",\"colorbar\":{\"outlinewidth\":0,\"ticks\":\"\"}}],\"scatter\":[{\"fillpattern\":{\"fillmode\":\"overlay\",\"size\":10,\"solidity\":0.2},\"type\":\"scatter\"}],\"parcoords\":[{\"type\":\"parcoords\",\"line\":{\"colorbar\":{\"outlinewidth\":0,\"ticks\":\"\"}}}],\"scatterpolargl\":[{\"type\":\"scatterpolargl\",\"marker\":{\"colorbar\":{\"outlinewidth\":0,\"ticks\":\"\"}}}],\"bar\":[{\"error_x\":{\"color\":\"#2a3f5f\"},\"error_y\":{\"color\":\"#2a3f5f\"},\"marker\":{\"line\":{\"color\":\"#E5ECF6\",\"width\":0.5},\"pattern\":{\"fillmode\":\"overlay\",\"size\":10,\"solidity\":0.2}},\"type\":\"bar\"}],\"scattergeo\":[{\"type\":\"scattergeo\",\"marker\":{\"colorbar\":{\"outlinewidth\":0,\"ticks\":\"\"}}}],\"scatterpolar\":[{\"type\":\"scatterpolar\",\"marker\":{\"colorbar\":{\"outlinewidth\":0,\"ticks\":\"\"}}}],\"histogram\":[{\"marker\":{\"pattern\":{\"fillmode\":\"overlay\",\"size\":10,\"solidity\":0.2}},\"type\":\"histogram\"}],\"scattergl\":[{\"type\":\"scattergl\",\"marker\":{\"colorbar\":{\"outlinewidth\":0,\"ticks\":\"\"}}}],\"scatter3d\":[{\"type\":\"scatter3d\",\"line\":{\"colorbar\":{\"outlinewidth\":0,\"ticks\":\"\"}},\"marker\":{\"colorbar\":{\"outlinewidth\":0,\"ticks\":\"\"}}}],\"scattermapbox\":[{\"type\":\"scattermapbox\",\"marker\":{\"colorbar\":{\"outlinewidth\":0,\"ticks\":\"\"}}}],\"scatterternary\":[{\"type\":\"scatterternary\",\"marker\":{\"colorbar\":{\"outlinewidth\":0,\"ticks\":\"\"}}}],\"scattercarpet\":[{\"type\":\"scattercarpet\",\"marker\":{\"colorbar\":{\"outlinewidth\":0,\"ticks\":\"\"}}}],\"carpet\":[{\"aaxis\":{\"endlinecolor\":\"#2a3f5f\",\"gridcolor\":\"white\",\"linecolor\":\"white\",\"minorgridcolor\":\"white\",\"startlinecolor\":\"#2a3f5f\"},\"baxis\":{\"endlinecolor\":\"#2a3f5f\",\"gridcolor\":\"white\",\"linecolor\":\"white\",\"minorgridcolor\":\"white\",\"startlinecolor\":\"#2a3f5f\"},\"type\":\"carpet\"}],\"table\":[{\"cells\":{\"fill\":{\"color\":\"#EBF0F8\"},\"line\":{\"color\":\"white\"}},\"header\":{\"fill\":{\"color\":\"#C8D4E3\"},\"line\":{\"color\":\"white\"}},\"type\":\"table\"}],\"barpolar\":[{\"marker\":{\"line\":{\"color\":\"#E5ECF6\",\"width\":0.5},\"pattern\":{\"fillmode\":\"overlay\",\"size\":10,\"solidity\":0.2}},\"type\":\"barpolar\"}],\"pie\":[{\"automargin\":true,\"type\":\"pie\"}]},\"layout\":{\"autotypenumbers\":\"strict\",\"colorway\":[\"#636efa\",\"#EF553B\",\"#00cc96\",\"#ab63fa\",\"#FFA15A\",\"#19d3f3\",\"#FF6692\",\"#B6E880\",\"#FF97FF\",\"#FECB52\"],\"font\":{\"color\":\"#2a3f5f\"},\"hovermode\":\"closest\",\"hoverlabel\":{\"align\":\"left\"},\"paper_bgcolor\":\"white\",\"plot_bgcolor\":\"#E5ECF6\",\"polar\":{\"bgcolor\":\"#E5ECF6\",\"angularaxis\":{\"gridcolor\":\"white\",\"linecolor\":\"white\",\"ticks\":\"\"},\"radialaxis\":{\"gridcolor\":\"white\",\"linecolor\":\"white\",\"ticks\":\"\"}},\"ternary\":{\"bgcolor\":\"#E5ECF6\",\"aaxis\":{\"gridcolor\":\"white\",\"linecolor\":\"white\",\"ticks\":\"\"},\"baxis\":{\"gridcolor\":\"white\",\"linecolor\":\"white\",\"ticks\":\"\"},\"caxis\":{\"gridcolor\":\"white\",\"linecolor\":\"white\",\"ticks\":\"\"}},\"coloraxis\":{\"colorbar\":{\"outlinewidth\":0,\"ticks\":\"\"}},\"colorscale\":{\"sequential\":[[0.0,\"#0d0887\"],[0.1111111111111111,\"#46039f\"],[0.2222222222222222,\"#7201a8\"],[0.3333333333333333,\"#9c179e\"],[0.4444444444444444,\"#bd3786\"],[0.5555555555555556,\"#d8576b\"],[0.6666666666666666,\"#ed7953\"],[0.7777777777777778,\"#fb9f3a\"],[0.8888888888888888,\"#fdca26\"],[1.0,\"#f0f921\"]],\"sequentialminus\":[[0.0,\"#0d0887\"],[0.1111111111111111,\"#46039f\"],[0.2222222222222222,\"#7201a8\"],[0.3333333333333333,\"#9c179e\"],[0.4444444444444444,\"#bd3786\"],[0.5555555555555556,\"#d8576b\"],[0.6666666666666666,\"#ed7953\"],[0.7777777777777778,\"#fb9f3a\"],[0.8888888888888888,\"#fdca26\"],[1.0,\"#f0f921\"]],\"diverging\":[[0,\"#8e0152\"],[0.1,\"#c51b7d\"],[0.2,\"#de77ae\"],[0.3,\"#f1b6da\"],[0.4,\"#fde0ef\"],[0.5,\"#f7f7f7\"],[0.6,\"#e6f5d0\"],[0.7,\"#b8e186\"],[0.8,\"#7fbc41\"],[0.9,\"#4d9221\"],[1,\"#276419\"]]},\"xaxis\":{\"gridcolor\":\"white\",\"linecolor\":\"white\",\"ticks\":\"\",\"title\":{\"standoff\":15},\"zerolinecolor\":\"white\",\"automargin\":true,\"zerolinewidth\":2},\"yaxis\":{\"gridcolor\":\"white\",\"linecolor\":\"white\",\"ticks\":\"\",\"title\":{\"standoff\":15},\"zerolinecolor\":\"white\",\"automargin\":true,\"zerolinewidth\":2},\"scene\":{\"xaxis\":{\"backgroundcolor\":\"#E5ECF6\",\"gridcolor\":\"white\",\"linecolor\":\"white\",\"showbackground\":true,\"ticks\":\"\",\"zerolinecolor\":\"white\",\"gridwidth\":2},\"yaxis\":{\"backgroundcolor\":\"#E5ECF6\",\"gridcolor\":\"white\",\"linecolor\":\"white\",\"showbackground\":true,\"ticks\":\"\",\"zerolinecolor\":\"white\",\"gridwidth\":2},\"zaxis\":{\"backgroundcolor\":\"#E5ECF6\",\"gridcolor\":\"white\",\"linecolor\":\"white\",\"showbackground\":true,\"ticks\":\"\",\"zerolinecolor\":\"white\",\"gridwidth\":2}},\"shapedefaults\":{\"line\":{\"color\":\"#2a3f5f\"}},\"annotationdefaults\":{\"arrowcolor\":\"#2a3f5f\",\"arrowhead\":0,\"arrowwidth\":1},\"geo\":{\"bgcolor\":\"white\",\"landcolor\":\"#E5ECF6\",\"subunitcolor\":\"white\",\"showland\":true,\"showlakes\":true,\"lakecolor\":\"white\"},\"title\":{\"x\":0.05},\"mapbox\":{\"style\":\"light\"}}},\"xaxis\":{\"anchor\":\"y\",\"domain\":[0.0,1.0],\"title\":{\"text\":\"Brand Name\"}},\"yaxis\":{\"anchor\":\"x\",\"domain\":[0.0,1.0],\"title\":{\"text\":\"count\"}},\"legend\":{\"tracegroupgap\":0},\"title\":{\"text\":\"Fitness Tracker Brands\"},\"barmode\":\"relative\"},                        {\"responsive\": true}                    ).then(function(){\n",
              "                            \n",
              "var gd = document.getElementById('0e0d2266-30f6-4d7a-ad9d-c2d84939897c');\n",
              "var x = new MutationObserver(function (mutations, observer) {{\n",
              "        var display = window.getComputedStyle(gd).display;\n",
              "        if (!display || display === 'none') {{\n",
              "            console.log([gd, 'removed!']);\n",
              "            Plotly.purge(gd);\n",
              "            observer.disconnect();\n",
              "        }}\n",
              "}});\n",
              "\n",
              "// Listen for the removal of the full notebook cells\n",
              "var notebookContainer = gd.closest('#notebook-container');\n",
              "if (notebookContainer) {{\n",
              "    x.observe(notebookContainer, {childList: true});\n",
              "}}\n",
              "\n",
              "// Listen for the clearing of the current output cell\n",
              "var outputEl = gd.closest('.output');\n",
              "if (outputEl) {{\n",
              "    x.observe(outputEl, {childList: true});\n",
              "}}\n",
              "\n",
              "                        })                };                            </script>        </div>\n",
              "</body>\n",
              "</html>"
            ]
          },
          "metadata": {}
        }
      ]
    },
    {
      "cell_type": "code",
      "source": [
        "#Just the Fitness Tracker Device Types\n",
        "#Histogram Plot\n",
        "fig = px.histogram(df, x='Device Type', title='Fitness Tracker Device Type', color_discrete_sequence=[f'#{random.randint(0, 0xFFFFFF):06x}'])\n",
        "\n",
        "fig.show()"
      ],
      "metadata": {
        "colab": {
          "base_uri": "https://localhost:8080/",
          "height": 542
        },
        "id": "BQ2OXAMJNWUc",
        "outputId": "2786ec71-c631-4832-aeb7-5e015ebadfc2"
      },
      "execution_count": 83,
      "outputs": [
        {
          "output_type": "display_data",
          "data": {
            "text/html": [
              "<html>\n",
              "<head><meta charset=\"utf-8\" /></head>\n",
              "<body>\n",
              "    <div>            <script src=\"https://cdnjs.cloudflare.com/ajax/libs/mathjax/2.7.5/MathJax.js?config=TeX-AMS-MML_SVG\"></script><script type=\"text/javascript\">if (window.MathJax && window.MathJax.Hub && window.MathJax.Hub.Config) {window.MathJax.Hub.Config({SVG: {font: \"STIX-Web\"}});}</script>                <script type=\"text/javascript\">window.PlotlyConfig = {MathJaxConfig: 'local'};</script>\n",
              "        <script src=\"https://cdn.plot.ly/plotly-2.18.2.min.js\"></script>                <div id=\"c22f1038-00fd-4cfd-9ca5-714eadd268fc\" class=\"plotly-graph-div\" style=\"height:525px; width:100%;\"></div>            <script type=\"text/javascript\">                                    window.PLOTLYENV=window.PLOTLYENV || {};                                    if (document.getElementById(\"c22f1038-00fd-4cfd-9ca5-714eadd268fc\")) {                    Plotly.newPlot(                        \"c22f1038-00fd-4cfd-9ca5-714eadd268fc\",                        [{\"alignmentgroup\":\"True\",\"bingroup\":\"x\",\"hovertemplate\":\"Device Type=%{x}<br>count=%{y}<extra></extra>\",\"legendgroup\":\"\",\"marker\":{\"color\":\"#553787\",\"pattern\":{\"shape\":\"\"}},\"name\":\"\",\"offsetgroup\":\"\",\"orientation\":\"v\",\"showlegend\":false,\"x\":[\"FitnessBand\",\"FitnessBand\",\"FitnessBand\",\"FitnessBand\",\"FitnessBand\",\"FitnessBand\",\"FitnessBand\",\"Smartwatch\",\"Smartwatch\",\"FitnessBand\",\"FitnessBand\",\"FitnessBand\",\"Smartwatch\",\"Smartwatch\",\"Smartwatch\",\"FitnessBand\",\"FitnessBand\",\"FitnessBand\",\"FitnessBand\",\"FitnessBand\",\"FitnessBand\",\"FitnessBand\",\"FitnessBand\",\"FitnessBand\",\"FitnessBand\",\"Smartwatch\",\"Smartwatch\",\"Smartwatch\",\"Smartwatch\",\"Smartwatch\",\"Smartwatch\",\"Smartwatch\",\"Smartwatch\",\"FitnessBand\",\"FitnessBand\",\"Smartwatch\",\"Smartwatch\",\"Smartwatch\",\"Smartwatch\",\"FitnessBand\",\"FitnessBand\",\"Smartwatch\",\"Smartwatch\",\"Smartwatch\",\"Smartwatch\",\"FitnessBand\",\"FitnessBand\",\"FitnessBand\",\"Smartwatch\",\"FitnessBand\",\"Smartwatch\",\"FitnessBand\",\"Smartwatch\",\"Smartwatch\",\"Smartwatch\",\"FitnessBand\",\"FitnessBand\",\"FitnessBand\",\"FitnessBand\",\"FitnessBand\",\"FitnessBand\",\"FitnessBand\",\"FitnessBand\",\"FitnessBand\",\"FitnessBand\",\"FitnessBand\",\"FitnessBand\",\"FitnessBand\",\"FitnessBand\",\"FitnessBand\",\"FitnessBand\",\"FitnessBand\",\"FitnessBand\",\"FitnessBand\",\"FitnessBand\",\"FitnessBand\",\"FitnessBand\",\"FitnessBand\",\"FitnessBand\",\"FitnessBand\",\"FitnessBand\",\"FitnessBand\",\"FitnessBand\",\"FitnessBand\",\"FitnessBand\",\"FitnessBand\",\"FitnessBand\",\"FitnessBand\",\"FitnessBand\",\"Smartwatch\",\"FitnessBand\",\"FitnessBand\",\"FitnessBand\",\"FitnessBand\",\"Smartwatch\",\"Smartwatch\",\"Smartwatch\",\"Smartwatch\",\"Smartwatch\",\"Smartwatch\",\"Smartwatch\",\"Smartwatch\",\"Smartwatch\",\"Smartwatch\",\"Smartwatch\",\"Smartwatch\",\"Smartwatch\",\"FitnessBand\",\"FitnessBand\",\"Smartwatch\",\"Smartwatch\",\"Smartwatch\",\"Smartwatch\",\"Smartwatch\",\"Smartwatch\",\"Smartwatch\",\"Smartwatch\",\"Smartwatch\",\"Smartwatch\",\"Smartwatch\",\"Smartwatch\",\"Smartwatch\",\"Smartwatch\",\"Smartwatch\",\"Smartwatch\",\"Smartwatch\",\"Smartwatch\",\"Smartwatch\",\"Smartwatch\",\"Smartwatch\",\"Smartwatch\",\"Smartwatch\",\"Smartwatch\",\"Smartwatch\",\"Smartwatch\",\"Smartwatch\",\"Smartwatch\",\"Smartwatch\",\"Smartwatch\",\"Smartwatch\",\"Smartwatch\",\"Smartwatch\",\"Smartwatch\",\"Smartwatch\",\"Smartwatch\",\"Smartwatch\",\"Smartwatch\",\"Smartwatch\",\"Smartwatch\",\"Smartwatch\",\"Smartwatch\",\"Smartwatch\",\"Smartwatch\",\"Smartwatch\",\"Smartwatch\",\"Smartwatch\",\"Smartwatch\",\"Smartwatch\",\"Smartwatch\",\"Smartwatch\",\"Smartwatch\",\"Smartwatch\",\"Smartwatch\",\"Smartwatch\",\"Smartwatch\",\"Smartwatch\",\"Smartwatch\",\"Smartwatch\",\"Smartwatch\",\"Smartwatch\",\"Smartwatch\",\"Smartwatch\",\"Smartwatch\",\"Smartwatch\",\"Smartwatch\",\"Smartwatch\",\"Smartwatch\",\"Smartwatch\",\"Smartwatch\",\"Smartwatch\",\"FitnessBand\",\"FitnessBand\",\"FitnessBand\",\"Smartwatch\",\"Smartwatch\",\"Smartwatch\",\"Smartwatch\",\"Smartwatch\",\"Smartwatch\",\"Smartwatch\",\"Smartwatch\",\"Smartwatch\",\"Smartwatch\",\"Smartwatch\",\"Smartwatch\",\"Smartwatch\",\"Smartwatch\",\"Smartwatch\",\"Smartwatch\",\"Smartwatch\",\"Smartwatch\",\"Smartwatch\",\"Smartwatch\",\"Smartwatch\",\"Smartwatch\",\"Smartwatch\",\"Smartwatch\",\"Smartwatch\",\"Smartwatch\",\"Smartwatch\",\"Smartwatch\",\"Smartwatch\",\"Smartwatch\",\"Smartwatch\",\"Smartwatch\",\"Smartwatch\",\"Smartwatch\",\"Smartwatch\",\"Smartwatch\",\"Smartwatch\",\"Smartwatch\",\"FitnessBand\",\"Smartwatch\",\"Smartwatch\",\"Smartwatch\",\"Smartwatch\",\"Smartwatch\",\"Smartwatch\",\"Smartwatch\",\"Smartwatch\",\"Smartwatch\",\"Smartwatch\",\"Smartwatch\",\"Smartwatch\",\"Smartwatch\",\"Smartwatch\",\"Smartwatch\",\"Smartwatch\",\"Smartwatch\",\"Smartwatch\",\"Smartwatch\",\"Smartwatch\",\"Smartwatch\",\"Smartwatch\",\"Smartwatch\",\"Smartwatch\",\"Smartwatch\",\"Smartwatch\",\"Smartwatch\",\"Smartwatch\",\"Smartwatch\",\"Smartwatch\",\"Smartwatch\",\"Smartwatch\",\"Smartwatch\",\"Smartwatch\",\"Smartwatch\",\"Smartwatch\",\"Smartwatch\",\"Smartwatch\",\"Smartwatch\",\"Smartwatch\",\"Smartwatch\",\"Smartwatch\",\"Smartwatch\",\"Smartwatch\",\"Smartwatch\",\"Smartwatch\",\"Smartwatch\",\"Smartwatch\",\"Smartwatch\",\"Smartwatch\",\"Smartwatch\",\"Smartwatch\",\"Smartwatch\",\"Smartwatch\",\"Smartwatch\",\"Smartwatch\",\"Smartwatch\",\"Smartwatch\",\"Smartwatch\",\"Smartwatch\",\"Smartwatch\",\"Smartwatch\",\"Smartwatch\",\"Smartwatch\",\"Smartwatch\",\"Smartwatch\",\"Smartwatch\",\"Smartwatch\",\"Smartwatch\",\"Smartwatch\",\"Smartwatch\",\"Smartwatch\",\"Smartwatch\",\"Smartwatch\",\"Smartwatch\",\"Smartwatch\",\"Smartwatch\",\"Smartwatch\",\"Smartwatch\",\"Smartwatch\",\"Smartwatch\",\"Smartwatch\",\"Smartwatch\",\"Smartwatch\",\"Smartwatch\",\"Smartwatch\",\"Smartwatch\",\"Smartwatch\",\"Smartwatch\",\"Smartwatch\",\"Smartwatch\",\"Smartwatch\",\"Smartwatch\",\"Smartwatch\",\"Smartwatch\",\"Smartwatch\",\"Smartwatch\",\"Smartwatch\",\"Smartwatch\",\"Smartwatch\",\"Smartwatch\",\"Smartwatch\",\"Smartwatch\",\"Smartwatch\",\"Smartwatch\",\"Smartwatch\",\"Smartwatch\",\"Smartwatch\",\"Smartwatch\",\"Smartwatch\",\"Smartwatch\",\"Smartwatch\",\"Smartwatch\",\"Smartwatch\",\"Smartwatch\",\"Smartwatch\",\"Smartwatch\",\"Smartwatch\",\"Smartwatch\",\"Smartwatch\",\"Smartwatch\",\"Smartwatch\",\"Smartwatch\",\"Smartwatch\",\"Smartwatch\",\"Smartwatch\",\"Smartwatch\",\"Smartwatch\",\"Smartwatch\",\"Smartwatch\",\"Smartwatch\",\"Smartwatch\",\"Smartwatch\",\"Smartwatch\",\"Smartwatch\",\"Smartwatch\",\"Smartwatch\",\"Smartwatch\",\"Smartwatch\",\"Smartwatch\",\"Smartwatch\",\"Smartwatch\",\"Smartwatch\",\"Smartwatch\",\"Smartwatch\",\"Smartwatch\",\"Smartwatch\",\"Smartwatch\",\"Smartwatch\",\"Smartwatch\",\"Smartwatch\",\"Smartwatch\",\"Smartwatch\",\"Smartwatch\",\"Smartwatch\",\"Smartwatch\",\"Smartwatch\",\"Smartwatch\",\"Smartwatch\",\"Smartwatch\",\"Smartwatch\",\"Smartwatch\",\"Smartwatch\",\"Smartwatch\",\"Smartwatch\",\"Smartwatch\",\"Smartwatch\",\"Smartwatch\",\"Smartwatch\",\"Smartwatch\",\"Smartwatch\",\"Smartwatch\",\"Smartwatch\",\"Smartwatch\",\"Smartwatch\",\"Smartwatch\",\"Smartwatch\",\"Smartwatch\",\"Smartwatch\",\"Smartwatch\",\"Smartwatch\",\"Smartwatch\",\"Smartwatch\",\"Smartwatch\",\"Smartwatch\",\"Smartwatch\",\"Smartwatch\",\"Smartwatch\",\"Smartwatch\",\"Smartwatch\",\"Smartwatch\",\"Smartwatch\",\"Smartwatch\",\"Smartwatch\",\"Smartwatch\",\"Smartwatch\",\"Smartwatch\",\"Smartwatch\",\"Smartwatch\",\"Smartwatch\",\"Smartwatch\",\"Smartwatch\",\"Smartwatch\",\"Smartwatch\",\"Smartwatch\",\"Smartwatch\",\"Smartwatch\",\"Smartwatch\",\"Smartwatch\",\"Smartwatch\",\"Smartwatch\",\"Smartwatch\",\"Smartwatch\",\"Smartwatch\",\"Smartwatch\",\"Smartwatch\",\"Smartwatch\",\"Smartwatch\",\"Smartwatch\",\"Smartwatch\",\"Smartwatch\",\"Smartwatch\",\"Smartwatch\",\"Smartwatch\",\"Smartwatch\",\"Smartwatch\",\"Smartwatch\",\"Smartwatch\",\"Smartwatch\",\"Smartwatch\",\"Smartwatch\",\"Smartwatch\",\"Smartwatch\",\"Smartwatch\",\"Smartwatch\",\"Smartwatch\",\"Smartwatch\",\"Smartwatch\",\"Smartwatch\",\"Smartwatch\",\"Smartwatch\",\"Smartwatch\",\"Smartwatch\",\"Smartwatch\",\"Smartwatch\",\"Smartwatch\",\"Smartwatch\",\"Smartwatch\",\"Smartwatch\",\"Smartwatch\",\"Smartwatch\",\"Smartwatch\",\"Smartwatch\",\"Smartwatch\",\"Smartwatch\",\"Smartwatch\",\"Smartwatch\",\"Smartwatch\",\"Smartwatch\",\"Smartwatch\",\"Smartwatch\",\"Smartwatch\",\"Smartwatch\",\"Smartwatch\",\"Smartwatch\",\"Smartwatch\",\"Smartwatch\",\"Smartwatch\",\"Smartwatch\",\"Smartwatch\",\"Smartwatch\",\"Smartwatch\",\"Smartwatch\",\"Smartwatch\",\"Smartwatch\",\"Smartwatch\",\"Smartwatch\",\"Smartwatch\",\"Smartwatch\",\"Smartwatch\",\"Smartwatch\",\"Smartwatch\",\"Smartwatch\",\"Smartwatch\",\"Smartwatch\",\"Smartwatch\",\"Smartwatch\",\"Smartwatch\",\"Smartwatch\",\"Smartwatch\",\"Smartwatch\",\"Smartwatch\",\"Smartwatch\",\"Smartwatch\",\"Smartwatch\",\"Smartwatch\",\"Smartwatch\",\"Smartwatch\",\"Smartwatch\",\"Smartwatch\",\"Smartwatch\",\"Smartwatch\",\"Smartwatch\",\"Smartwatch\",\"Smartwatch\",\"Smartwatch\",\"Smartwatch\",\"Smartwatch\",\"Smartwatch\",\"Smartwatch\",\"Smartwatch\",\"Smartwatch\",\"Smartwatch\",\"Smartwatch\",\"Smartwatch\",\"Smartwatch\",\"Smartwatch\",\"Smartwatch\",\"Smartwatch\",\"Smartwatch\",\"Smartwatch\",\"Smartwatch\",\"Smartwatch\",\"Smartwatch\",\"Smartwatch\",\"Smartwatch\",\"Smartwatch\",\"Smartwatch\",\"Smartwatch\",\"Smartwatch\",\"Smartwatch\",\"Smartwatch\",\"Smartwatch\",\"Smartwatch\",\"Smartwatch\",\"Smartwatch\",\"Smartwatch\",\"Smartwatch\",\"Smartwatch\",\"Smartwatch\",\"FitnessBand\",\"FitnessBand\",\"Smartwatch\",\"Smartwatch\",\"Smartwatch\",\"Smartwatch\",\"Smartwatch\",\"Smartwatch\",\"Smartwatch\",\"Smartwatch\",\"Smartwatch\",\"Smartwatch\",\"Smartwatch\",\"Smartwatch\",\"Smartwatch\",\"Smartwatch\",\"Smartwatch\",\"Smartwatch\",\"Smartwatch\",\"Smartwatch\",\"Smartwatch\",\"Smartwatch\",\"Smartwatch\",\"Smartwatch\",\"Smartwatch\",\"Smartwatch\",\"Smartwatch\",\"Smartwatch\",\"Smartwatch\",\"Smartwatch\",\"Smartwatch\",\"FitnessBand\",\"FitnessBand\",\"Smartwatch\",\"Smartwatch\",\"Smartwatch\",\"Smartwatch\",\"Smartwatch\",\"Smartwatch\",\"Smartwatch\",\"Smartwatch\",\"Smartwatch\",\"Smartwatch\",\"Smartwatch\",\"Smartwatch\",\"Smartwatch\",\"Smartwatch\",\"Smartwatch\"],\"xaxis\":\"x\",\"yaxis\":\"y\",\"type\":\"histogram\"}],                        {\"template\":{\"data\":{\"histogram2dcontour\":[{\"type\":\"histogram2dcontour\",\"colorbar\":{\"outlinewidth\":0,\"ticks\":\"\"},\"colorscale\":[[0.0,\"#0d0887\"],[0.1111111111111111,\"#46039f\"],[0.2222222222222222,\"#7201a8\"],[0.3333333333333333,\"#9c179e\"],[0.4444444444444444,\"#bd3786\"],[0.5555555555555556,\"#d8576b\"],[0.6666666666666666,\"#ed7953\"],[0.7777777777777778,\"#fb9f3a\"],[0.8888888888888888,\"#fdca26\"],[1.0,\"#f0f921\"]]}],\"choropleth\":[{\"type\":\"choropleth\",\"colorbar\":{\"outlinewidth\":0,\"ticks\":\"\"}}],\"histogram2d\":[{\"type\":\"histogram2d\",\"colorbar\":{\"outlinewidth\":0,\"ticks\":\"\"},\"colorscale\":[[0.0,\"#0d0887\"],[0.1111111111111111,\"#46039f\"],[0.2222222222222222,\"#7201a8\"],[0.3333333333333333,\"#9c179e\"],[0.4444444444444444,\"#bd3786\"],[0.5555555555555556,\"#d8576b\"],[0.6666666666666666,\"#ed7953\"],[0.7777777777777778,\"#fb9f3a\"],[0.8888888888888888,\"#fdca26\"],[1.0,\"#f0f921\"]]}],\"heatmap\":[{\"type\":\"heatmap\",\"colorbar\":{\"outlinewidth\":0,\"ticks\":\"\"},\"colorscale\":[[0.0,\"#0d0887\"],[0.1111111111111111,\"#46039f\"],[0.2222222222222222,\"#7201a8\"],[0.3333333333333333,\"#9c179e\"],[0.4444444444444444,\"#bd3786\"],[0.5555555555555556,\"#d8576b\"],[0.6666666666666666,\"#ed7953\"],[0.7777777777777778,\"#fb9f3a\"],[0.8888888888888888,\"#fdca26\"],[1.0,\"#f0f921\"]]}],\"heatmapgl\":[{\"type\":\"heatmapgl\",\"colorbar\":{\"outlinewidth\":0,\"ticks\":\"\"},\"colorscale\":[[0.0,\"#0d0887\"],[0.1111111111111111,\"#46039f\"],[0.2222222222222222,\"#7201a8\"],[0.3333333333333333,\"#9c179e\"],[0.4444444444444444,\"#bd3786\"],[0.5555555555555556,\"#d8576b\"],[0.6666666666666666,\"#ed7953\"],[0.7777777777777778,\"#fb9f3a\"],[0.8888888888888888,\"#fdca26\"],[1.0,\"#f0f921\"]]}],\"contourcarpet\":[{\"type\":\"contourcarpet\",\"colorbar\":{\"outlinewidth\":0,\"ticks\":\"\"}}],\"contour\":[{\"type\":\"contour\",\"colorbar\":{\"outlinewidth\":0,\"ticks\":\"\"},\"colorscale\":[[0.0,\"#0d0887\"],[0.1111111111111111,\"#46039f\"],[0.2222222222222222,\"#7201a8\"],[0.3333333333333333,\"#9c179e\"],[0.4444444444444444,\"#bd3786\"],[0.5555555555555556,\"#d8576b\"],[0.6666666666666666,\"#ed7953\"],[0.7777777777777778,\"#fb9f3a\"],[0.8888888888888888,\"#fdca26\"],[1.0,\"#f0f921\"]]}],\"surface\":[{\"type\":\"surface\",\"colorbar\":{\"outlinewidth\":0,\"ticks\":\"\"},\"colorscale\":[[0.0,\"#0d0887\"],[0.1111111111111111,\"#46039f\"],[0.2222222222222222,\"#7201a8\"],[0.3333333333333333,\"#9c179e\"],[0.4444444444444444,\"#bd3786\"],[0.5555555555555556,\"#d8576b\"],[0.6666666666666666,\"#ed7953\"],[0.7777777777777778,\"#fb9f3a\"],[0.8888888888888888,\"#fdca26\"],[1.0,\"#f0f921\"]]}],\"mesh3d\":[{\"type\":\"mesh3d\",\"colorbar\":{\"outlinewidth\":0,\"ticks\":\"\"}}],\"scatter\":[{\"fillpattern\":{\"fillmode\":\"overlay\",\"size\":10,\"solidity\":0.2},\"type\":\"scatter\"}],\"parcoords\":[{\"type\":\"parcoords\",\"line\":{\"colorbar\":{\"outlinewidth\":0,\"ticks\":\"\"}}}],\"scatterpolargl\":[{\"type\":\"scatterpolargl\",\"marker\":{\"colorbar\":{\"outlinewidth\":0,\"ticks\":\"\"}}}],\"bar\":[{\"error_x\":{\"color\":\"#2a3f5f\"},\"error_y\":{\"color\":\"#2a3f5f\"},\"marker\":{\"line\":{\"color\":\"#E5ECF6\",\"width\":0.5},\"pattern\":{\"fillmode\":\"overlay\",\"size\":10,\"solidity\":0.2}},\"type\":\"bar\"}],\"scattergeo\":[{\"type\":\"scattergeo\",\"marker\":{\"colorbar\":{\"outlinewidth\":0,\"ticks\":\"\"}}}],\"scatterpolar\":[{\"type\":\"scatterpolar\",\"marker\":{\"colorbar\":{\"outlinewidth\":0,\"ticks\":\"\"}}}],\"histogram\":[{\"marker\":{\"pattern\":{\"fillmode\":\"overlay\",\"size\":10,\"solidity\":0.2}},\"type\":\"histogram\"}],\"scattergl\":[{\"type\":\"scattergl\",\"marker\":{\"colorbar\":{\"outlinewidth\":0,\"ticks\":\"\"}}}],\"scatter3d\":[{\"type\":\"scatter3d\",\"line\":{\"colorbar\":{\"outlinewidth\":0,\"ticks\":\"\"}},\"marker\":{\"colorbar\":{\"outlinewidth\":0,\"ticks\":\"\"}}}],\"scattermapbox\":[{\"type\":\"scattermapbox\",\"marker\":{\"colorbar\":{\"outlinewidth\":0,\"ticks\":\"\"}}}],\"scatterternary\":[{\"type\":\"scatterternary\",\"marker\":{\"colorbar\":{\"outlinewidth\":0,\"ticks\":\"\"}}}],\"scattercarpet\":[{\"type\":\"scattercarpet\",\"marker\":{\"colorbar\":{\"outlinewidth\":0,\"ticks\":\"\"}}}],\"carpet\":[{\"aaxis\":{\"endlinecolor\":\"#2a3f5f\",\"gridcolor\":\"white\",\"linecolor\":\"white\",\"minorgridcolor\":\"white\",\"startlinecolor\":\"#2a3f5f\"},\"baxis\":{\"endlinecolor\":\"#2a3f5f\",\"gridcolor\":\"white\",\"linecolor\":\"white\",\"minorgridcolor\":\"white\",\"startlinecolor\":\"#2a3f5f\"},\"type\":\"carpet\"}],\"table\":[{\"cells\":{\"fill\":{\"color\":\"#EBF0F8\"},\"line\":{\"color\":\"white\"}},\"header\":{\"fill\":{\"color\":\"#C8D4E3\"},\"line\":{\"color\":\"white\"}},\"type\":\"table\"}],\"barpolar\":[{\"marker\":{\"line\":{\"color\":\"#E5ECF6\",\"width\":0.5},\"pattern\":{\"fillmode\":\"overlay\",\"size\":10,\"solidity\":0.2}},\"type\":\"barpolar\"}],\"pie\":[{\"automargin\":true,\"type\":\"pie\"}]},\"layout\":{\"autotypenumbers\":\"strict\",\"colorway\":[\"#636efa\",\"#EF553B\",\"#00cc96\",\"#ab63fa\",\"#FFA15A\",\"#19d3f3\",\"#FF6692\",\"#B6E880\",\"#FF97FF\",\"#FECB52\"],\"font\":{\"color\":\"#2a3f5f\"},\"hovermode\":\"closest\",\"hoverlabel\":{\"align\":\"left\"},\"paper_bgcolor\":\"white\",\"plot_bgcolor\":\"#E5ECF6\",\"polar\":{\"bgcolor\":\"#E5ECF6\",\"angularaxis\":{\"gridcolor\":\"white\",\"linecolor\":\"white\",\"ticks\":\"\"},\"radialaxis\":{\"gridcolor\":\"white\",\"linecolor\":\"white\",\"ticks\":\"\"}},\"ternary\":{\"bgcolor\":\"#E5ECF6\",\"aaxis\":{\"gridcolor\":\"white\",\"linecolor\":\"white\",\"ticks\":\"\"},\"baxis\":{\"gridcolor\":\"white\",\"linecolor\":\"white\",\"ticks\":\"\"},\"caxis\":{\"gridcolor\":\"white\",\"linecolor\":\"white\",\"ticks\":\"\"}},\"coloraxis\":{\"colorbar\":{\"outlinewidth\":0,\"ticks\":\"\"}},\"colorscale\":{\"sequential\":[[0.0,\"#0d0887\"],[0.1111111111111111,\"#46039f\"],[0.2222222222222222,\"#7201a8\"],[0.3333333333333333,\"#9c179e\"],[0.4444444444444444,\"#bd3786\"],[0.5555555555555556,\"#d8576b\"],[0.6666666666666666,\"#ed7953\"],[0.7777777777777778,\"#fb9f3a\"],[0.8888888888888888,\"#fdca26\"],[1.0,\"#f0f921\"]],\"sequentialminus\":[[0.0,\"#0d0887\"],[0.1111111111111111,\"#46039f\"],[0.2222222222222222,\"#7201a8\"],[0.3333333333333333,\"#9c179e\"],[0.4444444444444444,\"#bd3786\"],[0.5555555555555556,\"#d8576b\"],[0.6666666666666666,\"#ed7953\"],[0.7777777777777778,\"#fb9f3a\"],[0.8888888888888888,\"#fdca26\"],[1.0,\"#f0f921\"]],\"diverging\":[[0,\"#8e0152\"],[0.1,\"#c51b7d\"],[0.2,\"#de77ae\"],[0.3,\"#f1b6da\"],[0.4,\"#fde0ef\"],[0.5,\"#f7f7f7\"],[0.6,\"#e6f5d0\"],[0.7,\"#b8e186\"],[0.8,\"#7fbc41\"],[0.9,\"#4d9221\"],[1,\"#276419\"]]},\"xaxis\":{\"gridcolor\":\"white\",\"linecolor\":\"white\",\"ticks\":\"\",\"title\":{\"standoff\":15},\"zerolinecolor\":\"white\",\"automargin\":true,\"zerolinewidth\":2},\"yaxis\":{\"gridcolor\":\"white\",\"linecolor\":\"white\",\"ticks\":\"\",\"title\":{\"standoff\":15},\"zerolinecolor\":\"white\",\"automargin\":true,\"zerolinewidth\":2},\"scene\":{\"xaxis\":{\"backgroundcolor\":\"#E5ECF6\",\"gridcolor\":\"white\",\"linecolor\":\"white\",\"showbackground\":true,\"ticks\":\"\",\"zerolinecolor\":\"white\",\"gridwidth\":2},\"yaxis\":{\"backgroundcolor\":\"#E5ECF6\",\"gridcolor\":\"white\",\"linecolor\":\"white\",\"showbackground\":true,\"ticks\":\"\",\"zerolinecolor\":\"white\",\"gridwidth\":2},\"zaxis\":{\"backgroundcolor\":\"#E5ECF6\",\"gridcolor\":\"white\",\"linecolor\":\"white\",\"showbackground\":true,\"ticks\":\"\",\"zerolinecolor\":\"white\",\"gridwidth\":2}},\"shapedefaults\":{\"line\":{\"color\":\"#2a3f5f\"}},\"annotationdefaults\":{\"arrowcolor\":\"#2a3f5f\",\"arrowhead\":0,\"arrowwidth\":1},\"geo\":{\"bgcolor\":\"white\",\"landcolor\":\"#E5ECF6\",\"subunitcolor\":\"white\",\"showland\":true,\"showlakes\":true,\"lakecolor\":\"white\"},\"title\":{\"x\":0.05},\"mapbox\":{\"style\":\"light\"}}},\"xaxis\":{\"anchor\":\"y\",\"domain\":[0.0,1.0],\"title\":{\"text\":\"Device Type\"}},\"yaxis\":{\"anchor\":\"x\",\"domain\":[0.0,1.0],\"title\":{\"text\":\"count\"}},\"legend\":{\"tracegroupgap\":0},\"title\":{\"text\":\"Fitness Tracker Device Type\"},\"barmode\":\"relative\"},                        {\"responsive\": true}                    ).then(function(){\n",
              "                            \n",
              "var gd = document.getElementById('c22f1038-00fd-4cfd-9ca5-714eadd268fc');\n",
              "var x = new MutationObserver(function (mutations, observer) {{\n",
              "        var display = window.getComputedStyle(gd).display;\n",
              "        if (!display || display === 'none') {{\n",
              "            console.log([gd, 'removed!']);\n",
              "            Plotly.purge(gd);\n",
              "            observer.disconnect();\n",
              "        }}\n",
              "}});\n",
              "\n",
              "// Listen for the removal of the full notebook cells\n",
              "var notebookContainer = gd.closest('#notebook-container');\n",
              "if (notebookContainer) {{\n",
              "    x.observe(notebookContainer, {childList: true});\n",
              "}}\n",
              "\n",
              "// Listen for the clearing of the current output cell\n",
              "var outputEl = gd.closest('.output');\n",
              "if (outputEl) {{\n",
              "    x.observe(outputEl, {childList: true});\n",
              "}}\n",
              "\n",
              "                        })                };                            </script>        </div>\n",
              "</body>\n",
              "</html>"
            ]
          },
          "metadata": {}
        }
      ]
    },
    {
      "cell_type": "code",
      "source": [
        "#Create scatter plot with two subplots for Selling Price and Original Price\n",
        "fig = px.scatter(df, x='Selling Price', y='Original Price', title='Fitness Tracker Price Comparison', \n",
        "                 trendline='ols', color_discrete_sequence=px.colors.sequential.Rainbow, \n",
        "                 width=1000, height=500, facet_col='Device Type')\n",
        "\n",
        "#Update plot layout\n",
        "fig.update_layout(\n",
        "    margin=dict(l=50, r=50, t=50, b=50),\n",
        "    font=dict(size=18),\n",
        "    hovermode='closest',\n",
        "    legend=dict(\n",
        "        title='',\n",
        "        orientation='h',\n",
        "        yanchor='bottom',\n",
        "        y=1.02,\n",
        "        xanchor='right',\n",
        "        x=1\n",
        "    ),\n",
        "    xaxis_title='Selling Price',\n",
        "    yaxis_title='Original Price'\n",
        ")\n",
        "\n",
        "#Show the plot\n",
        "fig.show()"
      ],
      "metadata": {
        "colab": {
          "base_uri": "https://localhost:8080/",
          "height": 517
        },
        "id": "Ghkt56KGTtNs",
        "outputId": "37376491-64f1-44f9-a451-7dcbfba9e60f"
      },
      "execution_count": 104,
      "outputs": [
        {
          "output_type": "display_data",
          "data": {
            "text/html": [
              "<html>\n",
              "<head><meta charset=\"utf-8\" /></head>\n",
              "<body>\n",
              "    <div>            <script src=\"https://cdnjs.cloudflare.com/ajax/libs/mathjax/2.7.5/MathJax.js?config=TeX-AMS-MML_SVG\"></script><script type=\"text/javascript\">if (window.MathJax && window.MathJax.Hub && window.MathJax.Hub.Config) {window.MathJax.Hub.Config({SVG: {font: \"STIX-Web\"}});}</script>                <script type=\"text/javascript\">window.PlotlyConfig = {MathJaxConfig: 'local'};</script>\n",
              "        <script src=\"https://cdn.plot.ly/plotly-2.18.2.min.js\"></script>                <div id=\"d597d438-45bb-4eac-9c2d-9feb6f6adf7c\" class=\"plotly-graph-div\" style=\"height:500px; width:1000px;\"></div>            <script type=\"text/javascript\">                                    window.PLOTLYENV=window.PLOTLYENV || {};                                    if (document.getElementById(\"d597d438-45bb-4eac-9c2d-9feb6f6adf7c\")) {                    Plotly.newPlot(                        \"d597d438-45bb-4eac-9c2d-9feb6f6adf7c\",                        [{\"hovertemplate\":\"Device Type=FitnessBand<br>Selling Price=%{x}<br>Original Price=%{y}<extra></extra>\",\"legendgroup\":\"\",\"marker\":{\"color\":\"rgb(150,0,90)\",\"symbol\":\"circle\"},\"mode\":\"markers\",\"name\":\"\",\"orientation\":\"v\",\"showlegend\":false,\"x\":[2499,2099,1722,2469,1799,1299,2499,1270,3299,2499,9999,7990,6999,10899,10999,8807,8490,5599,5299,7599,7499,9999,14999,14999,6990,14990,16999,12999,14999,9999,7499,14999,8999,7498,14999,5598,5899,2999,1499,1450,1290,1899,1699,6999,4599,4490,2199,2999,2700,2499,2469,2499,2899,2099,2199,2599,1799,1649,5499,4750,2999,3999,1499,1699,1999,2199,1699,1595,1195,2000,2490,8990,13201,1999,3499,1699,1283],\"xaxis\":\"x\",\"y\":[2999,2499,2099,2999,2199,1799,2499,1599,3999,2799,9999,7999,7999,10999,11999,38500,8490,8999,7999,13999,14999,15999,14999,14999,14990,14990,16999,12999,14999,13999,14999,14999,14999,14999,14999,9999,9999,3499,2999,2999,2999,3099,4999,6999,4599,9990,5999,5999,2999,2999,2999,2999,2999,2999,2999,2999,2999,2000,5499,5499,2999,3999,2999,2995,3499,2499,2499,1995,1995,2590,2590,9990,15885,1999,3499,1899,1899],\"yaxis\":\"y\",\"type\":\"scatter\"},{\"hovertemplate\":\"<b>OLS trendline</b><br>Original Price = 1.10764 * Selling Price + 1285.18<br>R<sup>2</sup>=0.620413<br><br>Device Type=FitnessBand<br>Selling Price=%{x}<br>Original Price=%{y} <b>(trend)</b><extra></extra>\",\"legendgroup\":\"\",\"marker\":{\"color\":\"rgb(150,0,90)\",\"symbol\":\"circle\"},\"mode\":\"lines\",\"name\":\"\",\"showlegend\":false,\"x\":[1195,1270,1283,1290,1299,1450,1499,1499,1595,1649,1699,1699,1699,1699,1722,1799,1799,1899,1999,1999,2000,2099,2099,2199,2199,2199,2469,2469,2490,2499,2499,2499,2499,2499,2599,2700,2899,2999,2999,2999,3299,3499,3999,4490,4599,4750,5299,5499,5598,5599,5899,6990,6999,6999,7498,7499,7499,7599,7990,8490,8807,8990,8999,9999,9999,9999,10899,10999,12999,13201,14990,14999,14999,14999,14999,14999,16999],\"xaxis\":\"x\",\"y\":[2608.8073914383754,2691.880310764529,2706.279616781062,2714.033089251503,2724.001839570641,2891.2553171472973,2945.529624440384,2945.529624440384,3051.8629611778606,3111.6754630926907,3167.0574093101263,3167.0574093101263,3167.0574093101263,3167.0574093101263,3192.533104570147,3277.8213017449975,3277.8213017449975,3388.5851941798687,3499.34908661474,3499.34908661474,3500.456725539089,3610.112979049611,3610.112979049611,3720.8768714844828,3720.8768714844828,3720.8768714844828,4019.939381058635,4019.939381058635,4043.199798469958,4053.1685487890963,4053.1685487890963,4053.1685487890963,4053.1685487890963,4053.1685487890963,4163.9324412239675,4275.803972583188,4496.224118528581,4606.988010963452,4606.988010963452,4606.988010963452,4939.279688268067,5160.807473137809,5714.626935312164,6258.477647167383,6379.210289921391,6546.463767498048,7154.557536965491,7376.085321835233,7485.741575345755,7486.849214270105,7819.140891574718,9027.574958039164,9037.543708358302,9037.543708358302,9590.255531608309,9591.363170532659,9591.363170532659,9702.12706296753,10135.213882387876,10689.033344562233,11040.154883580773,11242.852806736588,11252.821557055728,12360.46048140444,12360.46048140444,12360.46048140444,13357.335513318281,13468.099405753152,15683.377254450577,15907.120317169016,17888.68635282886,17898.655103148,17898.655103148,17898.655103148,17898.655103148,17898.655103148,20113.932951845425],\"yaxis\":\"y\",\"type\":\"scatter\"},{\"hovertemplate\":\"Device Type=Smartwatch<br>Selling Price=%{x}<br>Original Price=%{y}<extra></extra>\",\"legendgroup\":\"\",\"marker\":{\"color\":\"rgb(150,0,90)\",\"symbol\":\"circle\"},\"mode\":\"markers\",\"name\":\"\",\"orientation\":\"v\",\"showlegend\":false,\"x\":[12349,12999,11999,21499,17999,10365,18999,15499,22499,26499,16990,17895,24990,17999,19999,22999,19990,16999,24990,21499,16124,14399,17999,20590,13499,9999,2995,14990,17990,4999,3499,4999,6779,9999,5999,5400,3921,2495,2200,1645,1395,2999,3499,2499,7990,2499,3999,2499,2999,2699,3499,2499,2499,3499,2999,2599,2513,2499,5499,5999,4999,2799,5499,13999,17999,7999,13999,4999,9047,5499,5299,5999,5499,2999,1999,5999,7999,11999,11999,12499,5499,9999,2499,5299,8999,13999,9999,9999,2999,3799,5499,4999,10999,8999,12999,11999,5999,4950,11999,5499,12999,3499,5999,6399,7999,11990,12990,32959,40000,34999,28999,28990,31999,40000,28999,18990,16990,36999,30990,24490,34999,19990,24490,31999,15000,7999,24490,24300,29990,9990,15000,19999,15500,19990,27490,21989,15900,15000,39490,24989,22990,15999,18999,21990,24300,21390,18999,18532,50408,15995,14995,15995,18495,18995,12396,14995,12396,18495,16495,14995,8995,14021,11995,13196,17995,13196,13495,11995,13495,19999,13495,6995,11596,9097,10796,6995,15995,19995,18495,11995,15995,8995,8995,18995,14021,19995,19995,6995,19995,18995,15396,19995,18495,9995,25995,15995,10998,17995,21995,19995,8995,15749,17596,19995,19995,11995,10997,19995,8995,9796,8995,15034,14995,13495,19995,11995,6995,9995,17995,21995,18995,13495,8995,11995,24495,21995,10496,13195,3999,12396,11997,8995,21995,11397,8995,3799,15995,13995,6995,11995,6995,21495,6995,14495,6995,17995,12995,13495,8995,6995,8995,8995,6995,18995,6995,14995,11995,6995,15995,15995,8995,21995,15995,4399,10796,6995,8995,23995,11995,15995,18995,15995,6995,8995,8995,6995,17995,21995,6995,9995,21995,18900,30400,16900,36900,31400,27400,45690,30400,31400,33900,37490,45690,67900,40190,32900,45690,69900,69900,73900,43900,48490,45690,69900,65900,52900,52900,56900,50400,50400,45690,39990,45690,67900,29900,73900,69900,40900,43900,44900,33900,31400,48490,50900,53900,31400,37490,31400,37490,33900,31400,48490,37490,77900,52900,48490,67900,33900,33900,40190,33900,43900,67900,33900,43900,69900,114900,41900,48900,77900,29900,73900,56900,73900,79900,29900,21900,122090,60900,25900,34900,32380,122090,64900,56900,64900,31600,20990,15990,19990,31990,14990,41990,12150,34990,46990,37990,30000,20990,19990,24990,26990,72990,79990,46990,76990,18990,18990,19990,19990,105990,77990,58490,39990,74990,31990,70990,56490,20990,35990,23490,59990,20990,14990,19990,20990,23990,16990,86990,8990,46990,39990,39990,19990,29990,47990,34990,49990,81990,74990,26990,33742,46990,34990,42990,18990,77990,24990,32990,28990,33490,84490,42990,46990,21990,54990,28990,25249,47490,19990,18990,14990,21999,19990,34990,28990,19144,12999,42990,44990,15990,22990,22990,54990,16990,16990,29990,13578,16990,22990,27990,15990,12990,16990,27990,39990,15999,15911,14999,14990,22990,24990,11990,8990,11990,14990,19990,8990,15990,10990,10990,20990,9999,6999,29999,49999,25999,55000,13990,18495,2499,3799,3999,2999,3799,2799,2999,4190,3999,2699,3799,2699,3999,4999,799,1399,1299,949,1099,2199,3299,2499,2799,3299,3499,3299,3297,1499,2949,1899,3999,1999,2499,2999,4499,4499,4800,5846,3499,4999,2999,5846,1999],\"xaxis\":\"x2\",\"y\":[15999,15999,14999,22999,18999,23499,24999,23999,24999,26499,23499,21499,24990,19999,19999,22999,19990,16999,24990,21499,19999,15999,18999,21499,21999,19990,4495,19990,24990,5999,3999,7999,7999,12999,8999,6999,6999,2995,2995,2195,1995,5990,7990,5990,7990,4999,5999,4999,5999,4999,5999,4999,4999,5999,5999,5999,4999,4999,7999,9999,7999,5999,5499,20999,20999,17999,15999,10999,17999,12999,12999,12999,12999,5999,4999,10999,13999,17999,17999,17999,6999,16999,3999,6499,12999,17999,12999,10999,4999,4999,5990,5999,18999,13999,12999,12999,8999,5990,12999,6999,15999,5499,8999,7399,14999,25990,25990,37999,42999,37999,31999,30990,34999,42999,31999,28490,33999,39999,34490,31990,34999,19990,28490,31999,15000,16860,31990,24300,34490,14990,15000,22550,16860,19990,29989,25990,15900,15000,39490,25990,28500,22990,34550,22990,24300,25155,30000,22498,60241,22995,22995,22995,18495,22995,14995,22995,14995,18495,16495,14995,13495,16495,11995,16495,17995,16495,13495,11995,13495,21995,13495,12995,14495,12995,13495,13495,22995,19995,18495,11995,22995,11995,11995,18995,16495,19995,19995,11995,19995,18995,21995,19995,18495,17995,25995,22995,21995,17995,21995,19995,13495,19995,21995,19995,19995,11995,21995,19995,14495,13995,13495,15034,22995,13495,19995,11995,11995,17995,17995,21995,18995,13495,11995,11995,24495,21995,14995,21995,19995,14995,19995,13495,21995,18995,12995,18995,15995,13995,11995,11995,11995,21495,14495,14495,11995,17995,12995,13495,11995,6995,13495,13495,6995,18995,13995,22995,11995,11995,15995,15995,13995,21995,22995,21995,13495,13995,14495,23995,11995,15995,18995,15995,6995,13495,12995,14495,17995,21995,6995,17995,21995,23900,32900,20900,36900,33900,29900,49900,32900,33900,33900,40900,49900,73900,43900,32900,49900,69900,69900,73900,43900,52900,49900,69900,65900,52900,52900,56900,50400,50400,49900,49900,49900,73900,29900,73900,69900,40900,43900,44900,36900,33900,52900,50900,53900,33900,40900,33900,40900,36900,33900,52900,40900,77900,52900,52900,73900,36900,36900,43900,36900,43900,73900,36900,43900,69900,114900,41900,48900,77900,29900,73900,56900,73900,79900,29900,21900,122090,60900,25900,34900,32380,122090,64900,56900,64900,31600,25990,20990,31490,39990,20990,41990,13490,41490,51990,37990,36490,28490,28490,31490,31490,88490,88490,51990,86690,20990,20990,28490,25990,119490,86690,58490,52990,82990,36790,84090,62490,20990,47490,25990,79990,26990,16990,25990,20990,29290,17990,96390,8990,51990,53190,48790,25990,36490,52990,41490,53190,96690,82990,26990,48990,51990,34990,42990,22990,86690,31197,39990,34990,34990,88490,47490,51990,21990,54990,34990,26990,47490,25990,20990,16990,27790,25990,49990,34990,26990,14499,42990,44990,19990,22990,29990,54990,16990,16990,29990,24990,16990,22990,27990,16743,19990,16990,27990,39990,20000,21335,16999,20990,29990,34990,19990,19990,19990,19990,19990,20990,20990,20990,21990,30990,9999,9999,29999,49999,25999,55000,20990,18495,6990,9999,9999,9999,9999,7999,9999,9999,9999,3999,5999,3999,7999,4999,3199,2999,2999,2000,3000,3999,7999,4499,4999,4999,3999,4999,4199,2999,4199,4999,10999,4999,7999,5999,12999,9999,9999,5999,9999,14999,7999,5999,4999],\"yaxis\":\"y2\",\"type\":\"scatter\"},{\"hovertemplate\":\"<b>OLS trendline</b><br>Original Price = 0.995735 * Selling Price + 3571.65<br>R<sup>2</sup>=0.967898<br><br>Device Type=Smartwatch<br>Selling Price=%{x}<br>Original Price=%{y} <b>(trend)</b><extra></extra>\",\"legendgroup\":\"\",\"marker\":{\"color\":\"rgb(150,0,90)\",\"symbol\":\"circle\"},\"mode\":\"lines\",\"name\":\"\",\"showlegend\":false,\"x\":[799,949,1099,1299,1395,1399,1499,1645,1899,1999,1999,1999,2199,2200,2495,2499,2499,2499,2499,2499,2499,2499,2499,2499,2499,2513,2599,2699,2699,2699,2799,2799,2799,2949,2995,2999,2999,2999,2999,2999,2999,2999,2999,2999,3297,3299,3299,3299,3499,3499,3499,3499,3499,3499,3499,3799,3799,3799,3799,3799,3921,3999,3999,3999,3999,3999,3999,4190,4399,4499,4499,4800,4950,4999,4999,4999,4999,4999,4999,4999,5299,5299,5400,5499,5499,5499,5499,5499,5499,5499,5846,5846,5999,5999,5999,5999,5999,5999,6399,6779,6995,6995,6995,6995,6995,6995,6995,6995,6995,6995,6995,6995,6995,6995,6995,6995,6999,7990,7999,7999,7999,7999,8990,8990,8990,8995,8995,8995,8995,8995,8995,8995,8995,8995,8995,8995,8995,8995,8995,8995,8995,8999,8999,9047,9097,9796,9990,9995,9995,9995,9999,9999,9999,9999,9999,9999,10365,10496,10796,10796,10990,10990,10997,10998,10999,11397,11596,11990,11990,11990,11995,11995,11995,11995,11995,11995,11995,11995,11995,11997,11999,11999,11999,11999,11999,12150,12349,12396,12396,12396,12499,12990,12990,12995,12999,12999,12999,12999,13195,13196,13196,13495,13495,13495,13495,13495,13495,13499,13578,13990,13995,13999,13999,13999,14021,14021,14399,14495,14990,14990,14990,14990,14990,14990,14995,14995,14995,14995,14995,14999,15000,15000,15000,15034,15396,15499,15500,15749,15900,15911,15990,15990,15990,15990,15995,15995,15995,15995,15995,15995,15995,15995,15995,15995,15995,15999,15999,16124,16495,16900,16990,16990,16990,16990,16990,16990,16990,16999,17596,17895,17990,17995,17995,17995,17995,17995,17999,17999,17999,17999,18495,18495,18495,18495,18495,18532,18900,18990,18990,18990,18990,18990,18995,18995,18995,18995,18995,18995,18999,18999,18999,19144,19990,19990,19990,19990,19990,19990,19990,19990,19990,19990,19990,19990,19995,19995,19995,19995,19995,19995,19995,19995,19995,19995,19999,19999,19999,20590,20990,20990,20990,20990,20990,20990,21390,21495,21499,21499,21900,21989,21990,21990,21995,21995,21995,21995,21995,21995,21995,21999,22499,22990,22990,22990,22990,22990,22999,23490,23990,23995,24300,24300,24490,24490,24490,24495,24989,24990,24990,24990,24990,24990,25249,25900,25995,25999,26499,26990,26990,27400,27490,27990,27990,28990,28990,28990,28990,28999,28999,29900,29900,29900,29990,29990,29990,29999,30000,30400,30400,30990,31400,31400,31400,31400,31400,31400,31600,31990,31990,31999,31999,32380,32900,32959,32990,33490,33742,33900,33900,33900,33900,33900,33900,33900,34900,34990,34990,34990,34990,34999,34999,35990,36900,36999,37490,37490,37490,37490,37990,39490,39990,39990,39990,39990,39990,40000,40000,40190,40190,40900,41900,41990,42990,42990,42990,43900,43900,43900,43900,44900,44990,45690,45690,45690,45690,45690,45690,46990,46990,46990,46990,46990,47490,47990,48490,48490,48490,48490,48900,49990,49999,50400,50400,50408,50900,52900,52900,52900,53900,54990,54990,55000,56490,56900,56900,56900,58490,59990,60900,64900,64900,65900,67900,67900,67900,67900,69900,69900,69900,69900,69900,70990,72990,73900,73900,73900,73900,74990,74990,76990,77900,77900,77990,77990,79900,79990,81990,84490,86990,105990,114900,122090,122090],\"xaxis\":\"x2\",\"y\":[4367.245106160121,4516.605300871833,4665.965495583543,4865.112421865824,4960.7029464813195,4964.685885006965,5064.259348148105,5209.636604334171,5462.553200712668,5562.126663853809,5562.126663853809,5562.126663853809,5761.27359013609,5762.2693247675015,6056.011041033866,6059.993979559511,6059.993979559511,6059.993979559511,6059.993979559511,6059.993979559511,6059.993979559511,6059.993979559511,6059.993979559511,6059.993979559511,6059.993979559511,6073.934264399271,6159.5674427006525,6259.140905841793,6259.140905841793,6259.140905841793,6358.714368982934,6358.714368982934,6358.714368982934,6508.074563694645,6553.878356739569,6557.861295265215,6557.861295265215,6557.861295265215,6557.861295265215,6557.861295265215,6557.861295265215,6557.861295265215,6557.861295265215,6557.861295265215,6854.590215425814,6856.581684688636,6856.581684688636,6856.581684688636,7055.7286109709175,7055.7286109709175,7055.7286109709175,7055.7286109709175,7055.7286109709175,7055.7286109709175,7055.7286109709175,7354.449000394339,7354.449000394339,7354.449000394339,7354.449000394339,7354.449000394339,7475.928625426531,7553.59592667662,7553.59592667662,7553.59592667662,7553.59592667662,7553.59592667662,7553.59592667662,7743.781241276199,7951.889779241183,8051.463242382323,8051.463242382323,8351.179366437158,8500.539561148868,8549.330558088026,8549.330558088026,8549.330558088026,8549.330558088026,8549.330558088026,8549.330558088026,8549.330558088026,8848.050947511449,8848.050947511449,8948.620145284,9047.19787379373,9047.19787379373,9047.19787379373,9047.19787379373,9047.19787379373,9047.19787379373,9047.19787379373,9392.717790893486,9392.717790893486,9545.065189499433,9545.065189499433,9545.065189499433,9545.065189499433,9545.065189499433,9545.065189499433,9943.359042063996,10321.738202000328,10536.816882385192,10536.816882385192,10536.816882385192,10536.816882385192,10536.816882385192,10536.816882385192,10536.816882385192,10536.816882385192,10536.816882385192,10536.816882385192,10536.816882385192,10536.816882385192,10536.816882385192,10536.816882385192,10536.816882385192,10536.816882385192,10540.799820910837,11527.572840639543,11536.534452322245,11536.534452322245,11536.534452322245,11536.534452322245,12523.307472050947,12523.307472050947,12523.307472050947,12528.286145208003,12528.286145208003,12528.286145208003,12528.286145208003,12528.286145208003,12528.286145208003,12528.286145208003,12528.286145208003,12528.286145208003,12528.286145208003,12528.286145208003,12528.286145208003,12528.286145208003,12528.286145208003,12528.286145208003,12528.286145208003,12532.269083733649,12532.269083733649,12580.0643460414,12629.85107761197,13325.86958496854,13519.042103462354,13524.02077661941,13524.02077661941,13524.02077661941,13528.003715145056,13528.003715145056,13528.003715145056,13528.003715145056,13528.003715145056,13528.003715145056,13892.44259024163,14022.883826956524,14321.604216379947,14321.604216379947,14514.776734873758,14514.776734873758,14521.74687729364,14522.742611925052,14523.738346556464,14920.040729858203,15118.191921509071,15510.511366285165,15510.511366285165,15510.511366285165,15515.490039442222,15515.490039442222,15515.490039442222,15515.490039442222,15515.490039442222,15515.490039442222,15515.490039442222,15515.490039442222,15515.490039442222,15517.481508705045,15519.472977967867,15519.472977967867,15519.472977967867,15519.472977967867,15519.472977967867,15669.828907310992,15867.98009896186,15914.779626638196,15914.779626638196,15914.779626638196,16017.340293673573,16506.245997696573,16506.245997696573,16511.22467085363,16515.207609379275,16515.207609379275,16515.207609379275,16515.207609379275,16710.37159713591,16711.36733176732,16711.36733176732,17009.09198655933,17009.09198655933,17009.09198655933,17009.09198655933,17009.09198655933,17009.09198655933,17013.074925084977,17091.73796096648,17501.980629107977,17506.959302265033,17510.94224079068,17510.94224079068,17510.94224079068,17532.84840268173,17532.84840268173,17909.23609335524,18004.82661797074,18497.715260519384,18497.715260519384,18497.715260519384,18497.715260519384,18497.715260519384,18497.715260519384,18502.69393367644,18502.69393367644,18502.69393367644,18502.69393367644,18502.69393367644,18506.676872202086,18507.672606833497,18507.672606833497,18507.672606833497,18541.527584301486,18901.983520872414,19004.544187907788,19005.5399225392,19253.47784576064,19403.83377510376,19414.78685604929,19493.449891930788,19493.449891930788,19493.449891930788,19493.449891930788,19498.428565087845,19498.428565087845,19498.428565087845,19498.428565087845,19498.428565087845,19498.428565087845,19498.428565087845,19498.428565087845,19498.428565087845,19498.428565087845,19498.428565087845,19502.411503613494,19502.411503613494,19626.878332539916,19996.29588079355,20399.56840651517,20489.184523342195,20489.184523342195,20489.184523342195,20489.184523342195,20489.184523342195,20489.184523342195,20489.184523342195,20498.146135024897,21092.599709977505,21390.324364769516,21484.9191547536,21489.897827910656,21489.897827910656,21489.897827910656,21489.897827910656,21489.897827910656,21493.8807664363,21493.8807664363,21493.8807664363,21493.8807664363,21987.76514361636,21987.76514361636,21987.76514361636,21987.76514361636,21987.76514361636,22024.607324978584,22391.03766933798,22480.653786165007,22480.653786165007,22480.653786165007,22480.653786165007,22480.653786165007,22485.632459322063,22485.632459322063,22485.632459322063,22485.632459322063,22485.632459322063,22485.632459322063,22489.61539784771,22489.61539784771,22489.61539784771,22633.99691940236,23476.38841757641,23476.38841757641,23476.38841757641,23476.38841757641,23476.38841757641,23476.38841757641,23476.38841757641,23476.38841757641,23476.38841757641,23476.38841757641,23476.38841757641,23476.38841757641,23481.36709073347,23481.36709073347,23481.36709073347,23481.36709073347,23481.36709073347,23481.36709073347,23481.36709073347,23481.36709073347,23481.36709073347,23481.36709073347,23485.350029259116,23485.350029259116,23485.350029259116,24073.829196423256,24472.123048987818,24472.123048987818,24472.123048987818,24472.123048987818,24472.123048987818,24472.123048987818,24870.41690155238,24974.969037850577,24978.951976376226,24978.951976376226,25378.2415635722,25466.861945767814,25467.857680399226,25467.857680399226,25472.836353556282,25472.836353556282,25472.836353556282,25472.836353556282,25472.836353556282,25472.836353556282,25472.836353556282,25476.819292081927,25974.68660778763,26463.59231181063,26463.59231181063,26463.59231181063,26463.59231181063,26463.59231181063,26472.55392349333,26961.45962751633,27459.326943222037,27464.305616379093,27768.004678959573,27768.004678959573,27957.19425892774,27957.19425892774,27957.19425892774,27962.172932084795,28454.06584000203,28455.06157463344,28455.06157463344,28455.06157463344,28455.06157463344,28455.06157463344,28712.956844168995,29361.18008921782,29455.774879201905,29459.75781772755,29957.625133433252,30446.530837456256,30446.530837456256,30854.78203633493,30944.398153161957,31442.26546886766,31442.26546886766,32438.000100279067,32438.000100279067,32438.000100279067,32438.000100279067,32446.96171196177,32446.96171196177,33344.118614863444,33344.118614863444,33344.118614863444,33433.73473169047,33433.73473169047,33433.73473169047,33442.69634337317,33443.692078004584,33841.98593056915,33841.98593056915,34429.46936310188,34837.72056198055,34837.72056198055,34837.72056198055,34837.72056198055,34837.72056198055,34837.72056198055,35036.86748826284,35425.203994513286,35425.203994513286,35434.16560619599,35434.16560619599,35813.54050076373,36331.32250909766,36390.07085235094,36420.9386259247,36918.805941630395,37169.73106874607,37327.057140509074,37327.057140509074,37327.057140509074,37327.057140509074,37327.057140509074,37327.057140509074,37327.057140509074,38322.79177192048,38412.407888747504,38412.407888747504,38412.407888747504,38412.407888747504,38421.369500430206,38421.369500430206,39408.14252015891,40314.26103474329,40412.83876325302,40901.74446727602,40901.74446727602,40901.74446727602,40901.74446727602,41399.61178298172,42893.21373009883,43391.08104580454,43391.08104580454,43391.08104580454,43391.08104580454,43391.08104580454,43401.03839211865,43401.03839211865,43590.22797208682,43590.22797208682,44297.199560388915,45292.93419180032,45382.550308627346,46378.28494003875,46378.28494003875,46378.28494003875,47284.403454623134,47284.403454623134,47284.403454623134,47284.403454623134,48280.13808603454,48369.754202861564,49066.76844484955,49066.76844484955,49066.76844484955,49066.76844484955,49066.76844484955,49066.76844484955,50361.22346568438,50361.22346568438,50361.22346568438,50361.22346568438,50361.22346568438,50859.09078139008,51356.95809709578,51854.82541280149,51854.82541280149,51854.82541280149,51854.82541280149,52263.07661168016,53348.42735991859,53357.3889716013,53756.67855879727,53756.67855879727,53764.64443584856,54254.545874502975,56246.01513732578,56246.01513732578,56246.01513732578,57241.749768737194,58327.100516975624,58327.100516975624,58337.05786328974,59820.702464092734,60228.953662971406,60228.953662971406,60228.953662971406,61812.17172691554,63305.77367403265,64211.892188617036,68194.83071426266,68194.83071426266,69190.56534567405,71182.03460849686,71182.03460849686,71182.03460849686,71182.03460849686,73173.50387131968,73173.50387131968,73173.50387131968,73173.50387131968,73173.50387131968,74258.85461955811,76250.32388238092,77156.4423969653,77156.4423969653,77156.4423969653,77156.4423969653,78241.79314520373,78241.79314520373,80233.26240802655,81139.38092261093,81139.38092261093,81228.99703943795,81228.99703943795,83130.85018543374,83220.46630226077,85211.93556508358,87701.27214361209,90190.6087221406,109109.56671895731,117981.56228483295,125140.89428468095,125140.89428468095],\"yaxis\":\"y2\",\"type\":\"scatter\"}],                        {\"template\":{\"data\":{\"histogram2dcontour\":[{\"type\":\"histogram2dcontour\",\"colorbar\":{\"outlinewidth\":0,\"ticks\":\"\"},\"colorscale\":[[0.0,\"#0d0887\"],[0.1111111111111111,\"#46039f\"],[0.2222222222222222,\"#7201a8\"],[0.3333333333333333,\"#9c179e\"],[0.4444444444444444,\"#bd3786\"],[0.5555555555555556,\"#d8576b\"],[0.6666666666666666,\"#ed7953\"],[0.7777777777777778,\"#fb9f3a\"],[0.8888888888888888,\"#fdca26\"],[1.0,\"#f0f921\"]]}],\"choropleth\":[{\"type\":\"choropleth\",\"colorbar\":{\"outlinewidth\":0,\"ticks\":\"\"}}],\"histogram2d\":[{\"type\":\"histogram2d\",\"colorbar\":{\"outlinewidth\":0,\"ticks\":\"\"},\"colorscale\":[[0.0,\"#0d0887\"],[0.1111111111111111,\"#46039f\"],[0.2222222222222222,\"#7201a8\"],[0.3333333333333333,\"#9c179e\"],[0.4444444444444444,\"#bd3786\"],[0.5555555555555556,\"#d8576b\"],[0.6666666666666666,\"#ed7953\"],[0.7777777777777778,\"#fb9f3a\"],[0.8888888888888888,\"#fdca26\"],[1.0,\"#f0f921\"]]}],\"heatmap\":[{\"type\":\"heatmap\",\"colorbar\":{\"outlinewidth\":0,\"ticks\":\"\"},\"colorscale\":[[0.0,\"#0d0887\"],[0.1111111111111111,\"#46039f\"],[0.2222222222222222,\"#7201a8\"],[0.3333333333333333,\"#9c179e\"],[0.4444444444444444,\"#bd3786\"],[0.5555555555555556,\"#d8576b\"],[0.6666666666666666,\"#ed7953\"],[0.7777777777777778,\"#fb9f3a\"],[0.8888888888888888,\"#fdca26\"],[1.0,\"#f0f921\"]]}],\"heatmapgl\":[{\"type\":\"heatmapgl\",\"colorbar\":{\"outlinewidth\":0,\"ticks\":\"\"},\"colorscale\":[[0.0,\"#0d0887\"],[0.1111111111111111,\"#46039f\"],[0.2222222222222222,\"#7201a8\"],[0.3333333333333333,\"#9c179e\"],[0.4444444444444444,\"#bd3786\"],[0.5555555555555556,\"#d8576b\"],[0.6666666666666666,\"#ed7953\"],[0.7777777777777778,\"#fb9f3a\"],[0.8888888888888888,\"#fdca26\"],[1.0,\"#f0f921\"]]}],\"contourcarpet\":[{\"type\":\"contourcarpet\",\"colorbar\":{\"outlinewidth\":0,\"ticks\":\"\"}}],\"contour\":[{\"type\":\"contour\",\"colorbar\":{\"outlinewidth\":0,\"ticks\":\"\"},\"colorscale\":[[0.0,\"#0d0887\"],[0.1111111111111111,\"#46039f\"],[0.2222222222222222,\"#7201a8\"],[0.3333333333333333,\"#9c179e\"],[0.4444444444444444,\"#bd3786\"],[0.5555555555555556,\"#d8576b\"],[0.6666666666666666,\"#ed7953\"],[0.7777777777777778,\"#fb9f3a\"],[0.8888888888888888,\"#fdca26\"],[1.0,\"#f0f921\"]]}],\"surface\":[{\"type\":\"surface\",\"colorbar\":{\"outlinewidth\":0,\"ticks\":\"\"},\"colorscale\":[[0.0,\"#0d0887\"],[0.1111111111111111,\"#46039f\"],[0.2222222222222222,\"#7201a8\"],[0.3333333333333333,\"#9c179e\"],[0.4444444444444444,\"#bd3786\"],[0.5555555555555556,\"#d8576b\"],[0.6666666666666666,\"#ed7953\"],[0.7777777777777778,\"#fb9f3a\"],[0.8888888888888888,\"#fdca26\"],[1.0,\"#f0f921\"]]}],\"mesh3d\":[{\"type\":\"mesh3d\",\"colorbar\":{\"outlinewidth\":0,\"ticks\":\"\"}}],\"scatter\":[{\"fillpattern\":{\"fillmode\":\"overlay\",\"size\":10,\"solidity\":0.2},\"type\":\"scatter\"}],\"parcoords\":[{\"type\":\"parcoords\",\"line\":{\"colorbar\":{\"outlinewidth\":0,\"ticks\":\"\"}}}],\"scatterpolargl\":[{\"type\":\"scatterpolargl\",\"marker\":{\"colorbar\":{\"outlinewidth\":0,\"ticks\":\"\"}}}],\"bar\":[{\"error_x\":{\"color\":\"#2a3f5f\"},\"error_y\":{\"color\":\"#2a3f5f\"},\"marker\":{\"line\":{\"color\":\"#E5ECF6\",\"width\":0.5},\"pattern\":{\"fillmode\":\"overlay\",\"size\":10,\"solidity\":0.2}},\"type\":\"bar\"}],\"scattergeo\":[{\"type\":\"scattergeo\",\"marker\":{\"colorbar\":{\"outlinewidth\":0,\"ticks\":\"\"}}}],\"scatterpolar\":[{\"type\":\"scatterpolar\",\"marker\":{\"colorbar\":{\"outlinewidth\":0,\"ticks\":\"\"}}}],\"histogram\":[{\"marker\":{\"pattern\":{\"fillmode\":\"overlay\",\"size\":10,\"solidity\":0.2}},\"type\":\"histogram\"}],\"scattergl\":[{\"type\":\"scattergl\",\"marker\":{\"colorbar\":{\"outlinewidth\":0,\"ticks\":\"\"}}}],\"scatter3d\":[{\"type\":\"scatter3d\",\"line\":{\"colorbar\":{\"outlinewidth\":0,\"ticks\":\"\"}},\"marker\":{\"colorbar\":{\"outlinewidth\":0,\"ticks\":\"\"}}}],\"scattermapbox\":[{\"type\":\"scattermapbox\",\"marker\":{\"colorbar\":{\"outlinewidth\":0,\"ticks\":\"\"}}}],\"scatterternary\":[{\"type\":\"scatterternary\",\"marker\":{\"colorbar\":{\"outlinewidth\":0,\"ticks\":\"\"}}}],\"scattercarpet\":[{\"type\":\"scattercarpet\",\"marker\":{\"colorbar\":{\"outlinewidth\":0,\"ticks\":\"\"}}}],\"carpet\":[{\"aaxis\":{\"endlinecolor\":\"#2a3f5f\",\"gridcolor\":\"white\",\"linecolor\":\"white\",\"minorgridcolor\":\"white\",\"startlinecolor\":\"#2a3f5f\"},\"baxis\":{\"endlinecolor\":\"#2a3f5f\",\"gridcolor\":\"white\",\"linecolor\":\"white\",\"minorgridcolor\":\"white\",\"startlinecolor\":\"#2a3f5f\"},\"type\":\"carpet\"}],\"table\":[{\"cells\":{\"fill\":{\"color\":\"#EBF0F8\"},\"line\":{\"color\":\"white\"}},\"header\":{\"fill\":{\"color\":\"#C8D4E3\"},\"line\":{\"color\":\"white\"}},\"type\":\"table\"}],\"barpolar\":[{\"marker\":{\"line\":{\"color\":\"#E5ECF6\",\"width\":0.5},\"pattern\":{\"fillmode\":\"overlay\",\"size\":10,\"solidity\":0.2}},\"type\":\"barpolar\"}],\"pie\":[{\"automargin\":true,\"type\":\"pie\"}]},\"layout\":{\"autotypenumbers\":\"strict\",\"colorway\":[\"#636efa\",\"#EF553B\",\"#00cc96\",\"#ab63fa\",\"#FFA15A\",\"#19d3f3\",\"#FF6692\",\"#B6E880\",\"#FF97FF\",\"#FECB52\"],\"font\":{\"color\":\"#2a3f5f\"},\"hovermode\":\"closest\",\"hoverlabel\":{\"align\":\"left\"},\"paper_bgcolor\":\"white\",\"plot_bgcolor\":\"#E5ECF6\",\"polar\":{\"bgcolor\":\"#E5ECF6\",\"angularaxis\":{\"gridcolor\":\"white\",\"linecolor\":\"white\",\"ticks\":\"\"},\"radialaxis\":{\"gridcolor\":\"white\",\"linecolor\":\"white\",\"ticks\":\"\"}},\"ternary\":{\"bgcolor\":\"#E5ECF6\",\"aaxis\":{\"gridcolor\":\"white\",\"linecolor\":\"white\",\"ticks\":\"\"},\"baxis\":{\"gridcolor\":\"white\",\"linecolor\":\"white\",\"ticks\":\"\"},\"caxis\":{\"gridcolor\":\"white\",\"linecolor\":\"white\",\"ticks\":\"\"}},\"coloraxis\":{\"colorbar\":{\"outlinewidth\":0,\"ticks\":\"\"}},\"colorscale\":{\"sequential\":[[0.0,\"#0d0887\"],[0.1111111111111111,\"#46039f\"],[0.2222222222222222,\"#7201a8\"],[0.3333333333333333,\"#9c179e\"],[0.4444444444444444,\"#bd3786\"],[0.5555555555555556,\"#d8576b\"],[0.6666666666666666,\"#ed7953\"],[0.7777777777777778,\"#fb9f3a\"],[0.8888888888888888,\"#fdca26\"],[1.0,\"#f0f921\"]],\"sequentialminus\":[[0.0,\"#0d0887\"],[0.1111111111111111,\"#46039f\"],[0.2222222222222222,\"#7201a8\"],[0.3333333333333333,\"#9c179e\"],[0.4444444444444444,\"#bd3786\"],[0.5555555555555556,\"#d8576b\"],[0.6666666666666666,\"#ed7953\"],[0.7777777777777778,\"#fb9f3a\"],[0.8888888888888888,\"#fdca26\"],[1.0,\"#f0f921\"]],\"diverging\":[[0,\"#8e0152\"],[0.1,\"#c51b7d\"],[0.2,\"#de77ae\"],[0.3,\"#f1b6da\"],[0.4,\"#fde0ef\"],[0.5,\"#f7f7f7\"],[0.6,\"#e6f5d0\"],[0.7,\"#b8e186\"],[0.8,\"#7fbc41\"],[0.9,\"#4d9221\"],[1,\"#276419\"]]},\"xaxis\":{\"gridcolor\":\"white\",\"linecolor\":\"white\",\"ticks\":\"\",\"title\":{\"standoff\":15},\"zerolinecolor\":\"white\",\"automargin\":true,\"zerolinewidth\":2},\"yaxis\":{\"gridcolor\":\"white\",\"linecolor\":\"white\",\"ticks\":\"\",\"title\":{\"standoff\":15},\"zerolinecolor\":\"white\",\"automargin\":true,\"zerolinewidth\":2},\"scene\":{\"xaxis\":{\"backgroundcolor\":\"#E5ECF6\",\"gridcolor\":\"white\",\"linecolor\":\"white\",\"showbackground\":true,\"ticks\":\"\",\"zerolinecolor\":\"white\",\"gridwidth\":2},\"yaxis\":{\"backgroundcolor\":\"#E5ECF6\",\"gridcolor\":\"white\",\"linecolor\":\"white\",\"showbackground\":true,\"ticks\":\"\",\"zerolinecolor\":\"white\",\"gridwidth\":2},\"zaxis\":{\"backgroundcolor\":\"#E5ECF6\",\"gridcolor\":\"white\",\"linecolor\":\"white\",\"showbackground\":true,\"ticks\":\"\",\"zerolinecolor\":\"white\",\"gridwidth\":2}},\"shapedefaults\":{\"line\":{\"color\":\"#2a3f5f\"}},\"annotationdefaults\":{\"arrowcolor\":\"#2a3f5f\",\"arrowhead\":0,\"arrowwidth\":1},\"geo\":{\"bgcolor\":\"white\",\"landcolor\":\"#E5ECF6\",\"subunitcolor\":\"white\",\"showland\":true,\"showlakes\":true,\"lakecolor\":\"white\"},\"title\":{\"x\":0.05},\"mapbox\":{\"style\":\"light\"}}},\"xaxis\":{\"anchor\":\"y\",\"domain\":[0.0,0.49],\"title\":{\"text\":\"Selling Price\"}},\"yaxis\":{\"anchor\":\"x\",\"domain\":[0.0,1.0],\"title\":{\"text\":\"Original Price\"}},\"xaxis2\":{\"anchor\":\"y2\",\"domain\":[0.51,1.0],\"matches\":\"x\",\"title\":{\"text\":\"Selling Price\"}},\"yaxis2\":{\"anchor\":\"x2\",\"domain\":[0.0,1.0],\"matches\":\"y\",\"showticklabels\":false},\"annotations\":[{\"font\":{},\"showarrow\":false,\"text\":\"Device Type=FitnessBand\",\"x\":0.245,\"xanchor\":\"center\",\"xref\":\"paper\",\"y\":1.0,\"yanchor\":\"bottom\",\"yref\":\"paper\"},{\"font\":{},\"showarrow\":false,\"text\":\"Device Type=Smartwatch\",\"x\":0.755,\"xanchor\":\"center\",\"xref\":\"paper\",\"y\":1.0,\"yanchor\":\"bottom\",\"yref\":\"paper\"}],\"legend\":{\"tracegroupgap\":0,\"title\":{\"text\":\"\"},\"orientation\":\"h\",\"yanchor\":\"bottom\",\"y\":1.02,\"xanchor\":\"right\",\"x\":1},\"title\":{\"text\":\"Fitness Tracker Price Comparison\"},\"height\":500,\"width\":1000,\"margin\":{\"l\":50,\"r\":50,\"t\":50,\"b\":50},\"font\":{\"size\":18},\"hovermode\":\"closest\"},                        {\"responsive\": true}                    ).then(function(){\n",
              "                            \n",
              "var gd = document.getElementById('d597d438-45bb-4eac-9c2d-9feb6f6adf7c');\n",
              "var x = new MutationObserver(function (mutations, observer) {{\n",
              "        var display = window.getComputedStyle(gd).display;\n",
              "        if (!display || display === 'none') {{\n",
              "            console.log([gd, 'removed!']);\n",
              "            Plotly.purge(gd);\n",
              "            observer.disconnect();\n",
              "        }}\n",
              "}});\n",
              "\n",
              "// Listen for the removal of the full notebook cells\n",
              "var notebookContainer = gd.closest('#notebook-container');\n",
              "if (notebookContainer) {{\n",
              "    x.observe(notebookContainer, {childList: true});\n",
              "}}\n",
              "\n",
              "// Listen for the clearing of the current output cell\n",
              "var outputEl = gd.closest('.output');\n",
              "if (outputEl) {{\n",
              "    x.observe(outputEl, {childList: true});\n",
              "}}\n",
              "\n",
              "                        })                };                            </script>        </div>\n",
              "</body>\n",
              "</html>"
            ]
          },
          "metadata": {}
        }
      ]
    },
    {
      "cell_type": "markdown",
      "source": [
        "# **Anomaly Review & Additional Data Viz**"
      ],
      "metadata": {
        "id": "5r5HToE12WtX"
      }
    },
    {
      "cell_type": "code",
      "source": [
        "#Boxplot of Fitness Tracker Spec Categories and Values\n",
        "#Melt the DataFrame into a long-form format\n",
        "melted_df = pd.melt(df, var_name='Fitness Tracker Spec Categories', value_name='Fitness Tracker Values')\n",
        "\n",
        "#Generate a list of random colors\n",
        "num_columns = len(df.columns)\n",
        "colors = [f'#{random.randint(0, 0xFFFFFF):06x}' for _ in range(num_columns)]\n",
        "\n",
        "#Create a box plot using Plotly Express with random colors\n",
        "fig = px.box(melted_df, x='Fitness Tracker Spec Categories', y='Fitness Tracker Values', color='Fitness Tracker Spec Categories', color_discrete_sequence=colors)\n",
        "fig.show()"
      ],
      "metadata": {
        "colab": {
          "base_uri": "https://localhost:8080/",
          "height": 542
        },
        "id": "nhQYA29x5Sl6",
        "outputId": "911de016-31e7-4eb9-ec26-a44a3299cc0b"
      },
      "execution_count": 62,
      "outputs": [
        {
          "output_type": "display_data",
          "data": {
            "text/html": [
              "<html>\n",
              "<head><meta charset=\"utf-8\" /></head>\n",
              "<body>\n",
              "    <div>            <script src=\"https://cdnjs.cloudflare.com/ajax/libs/mathjax/2.7.5/MathJax.js?config=TeX-AMS-MML_SVG\"></script><script type=\"text/javascript\">if (window.MathJax && window.MathJax.Hub && window.MathJax.Hub.Config) {window.MathJax.Hub.Config({SVG: {font: \"STIX-Web\"}});}</script>                <script type=\"text/javascript\">window.PlotlyConfig = {MathJaxConfig: 'local'};</script>\n",
              "        <script src=\"https://cdn.plot.ly/plotly-2.18.2.min.js\"></script>                <div id=\"16ac0146-3e91-412d-b04d-1b679439d83b\" class=\"plotly-graph-div\" style=\"height:525px; width:100%;\"></div>            <script type=\"text/javascript\">                                    window.PLOTLYENV=window.PLOTLYENV || {};                                    if (document.getElementById(\"16ac0146-3e91-412d-b04d-1b679439d83b\")) {                    Plotly.newPlot(                        \"16ac0146-3e91-412d-b04d-1b679439d83b\",                        [{\"alignmentgroup\":\"True\",\"hovertemplate\":\"Fitness Tracker Spec Categories=%{x}<br>Fitness Tracker Values=%{y}<extra></extra>\",\"legendgroup\":\"Brand Name\",\"marker\":{\"color\":\"#213adb\"},\"name\":\"Brand Name\",\"notched\":false,\"offsetgroup\":\"Brand Name\",\"orientation\":\"v\",\"showlegend\":true,\"x\":[\"Brand Name\",\"Brand Name\",\"Brand Name\",\"Brand Name\",\"Brand Name\",\"Brand Name\",\"Brand Name\",\"Brand Name\",\"Brand Name\",\"Brand Name\",\"Brand Name\",\"Brand Name\",\"Brand Name\",\"Brand Name\",\"Brand Name\",\"Brand Name\",\"Brand Name\",\"Brand Name\",\"Brand Name\",\"Brand Name\",\"Brand Name\",\"Brand Name\",\"Brand Name\",\"Brand Name\",\"Brand Name\",\"Brand Name\",\"Brand Name\",\"Brand Name\",\"Brand Name\",\"Brand Name\",\"Brand Name\",\"Brand Name\",\"Brand Name\",\"Brand Name\",\"Brand Name\",\"Brand Name\",\"Brand Name\",\"Brand Name\",\"Brand Name\",\"Brand Name\",\"Brand Name\",\"Brand Name\",\"Brand Name\",\"Brand Name\",\"Brand Name\",\"Brand Name\",\"Brand Name\",\"Brand Name\",\"Brand Name\",\"Brand Name\",\"Brand Name\",\"Brand Name\",\"Brand Name\",\"Brand Name\",\"Brand Name\",\"Brand Name\",\"Brand Name\",\"Brand Name\",\"Brand Name\",\"Brand Name\",\"Brand Name\",\"Brand Name\",\"Brand Name\",\"Brand Name\",\"Brand Name\",\"Brand Name\",\"Brand Name\",\"Brand Name\",\"Brand Name\",\"Brand Name\",\"Brand Name\",\"Brand Name\",\"Brand Name\",\"Brand Name\",\"Brand Name\",\"Brand Name\",\"Brand Name\",\"Brand Name\",\"Brand Name\",\"Brand Name\",\"Brand Name\",\"Brand Name\",\"Brand Name\",\"Brand Name\",\"Brand Name\",\"Brand Name\",\"Brand Name\",\"Brand Name\",\"Brand Name\",\"Brand Name\",\"Brand Name\",\"Brand Name\",\"Brand Name\",\"Brand Name\",\"Brand Name\",\"Brand Name\",\"Brand Name\",\"Brand Name\",\"Brand Name\",\"Brand Name\",\"Brand Name\",\"Brand Name\",\"Brand Name\",\"Brand Name\",\"Brand Name\",\"Brand Name\",\"Brand Name\",\"Brand Name\",\"Brand Name\",\"Brand Name\",\"Brand Name\",\"Brand Name\",\"Brand Name\",\"Brand Name\",\"Brand Name\",\"Brand Name\",\"Brand Name\",\"Brand Name\",\"Brand Name\",\"Brand Name\",\"Brand Name\",\"Brand Name\",\"Brand Name\",\"Brand Name\",\"Brand Name\",\"Brand Name\",\"Brand Name\",\"Brand Name\",\"Brand Name\",\"Brand Name\",\"Brand Name\",\"Brand Name\",\"Brand Name\",\"Brand Name\",\"Brand Name\",\"Brand Name\",\"Brand Name\",\"Brand Name\",\"Brand Name\",\"Brand Name\",\"Brand Name\",\"Brand Name\",\"Brand Name\",\"Brand Name\",\"Brand Name\",\"Brand Name\",\"Brand Name\",\"Brand Name\",\"Brand Name\",\"Brand Name\",\"Brand Name\",\"Brand Name\",\"Brand Name\",\"Brand Name\",\"Brand Name\",\"Brand Name\",\"Brand Name\",\"Brand Name\",\"Brand Name\",\"Brand Name\",\"Brand Name\",\"Brand Name\",\"Brand Name\",\"Brand Name\",\"Brand Name\",\"Brand Name\",\"Brand Name\",\"Brand Name\",\"Brand Name\",\"Brand Name\",\"Brand Name\",\"Brand Name\",\"Brand Name\",\"Brand Name\",\"Brand Name\",\"Brand Name\",\"Brand Name\",\"Brand Name\",\"Brand Name\",\"Brand Name\",\"Brand Name\",\"Brand Name\",\"Brand Name\",\"Brand Name\",\"Brand Name\",\"Brand Name\",\"Brand Name\",\"Brand Name\",\"Brand Name\",\"Brand Name\",\"Brand Name\",\"Brand Name\",\"Brand Name\",\"Brand Name\",\"Brand Name\",\"Brand Name\",\"Brand Name\",\"Brand Name\",\"Brand Name\",\"Brand Name\",\"Brand Name\",\"Brand Name\",\"Brand Name\",\"Brand Name\",\"Brand Name\",\"Brand Name\",\"Brand Name\",\"Brand Name\",\"Brand Name\",\"Brand Name\",\"Brand Name\",\"Brand Name\",\"Brand Name\",\"Brand Name\",\"Brand Name\",\"Brand Name\",\"Brand Name\",\"Brand Name\",\"Brand Name\",\"Brand Name\",\"Brand Name\",\"Brand Name\",\"Brand Name\",\"Brand Name\",\"Brand Name\",\"Brand Name\",\"Brand Name\",\"Brand Name\",\"Brand Name\",\"Brand Name\",\"Brand Name\",\"Brand Name\",\"Brand Name\",\"Brand Name\",\"Brand Name\",\"Brand Name\",\"Brand Name\",\"Brand Name\",\"Brand Name\",\"Brand Name\",\"Brand Name\",\"Brand Name\",\"Brand Name\",\"Brand Name\",\"Brand Name\",\"Brand Name\",\"Brand Name\",\"Brand Name\",\"Brand Name\",\"Brand Name\",\"Brand Name\",\"Brand Name\",\"Brand Name\",\"Brand Name\",\"Brand Name\",\"Brand Name\",\"Brand Name\",\"Brand Name\",\"Brand Name\",\"Brand Name\",\"Brand Name\",\"Brand Name\",\"Brand Name\",\"Brand Name\",\"Brand Name\",\"Brand Name\",\"Brand Name\",\"Brand Name\",\"Brand Name\",\"Brand Name\",\"Brand Name\",\"Brand Name\",\"Brand Name\",\"Brand Name\",\"Brand Name\",\"Brand Name\",\"Brand Name\",\"Brand Name\",\"Brand Name\",\"Brand Name\",\"Brand Name\",\"Brand Name\",\"Brand Name\",\"Brand Name\",\"Brand Name\",\"Brand Name\",\"Brand Name\",\"Brand Name\",\"Brand Name\",\"Brand Name\",\"Brand Name\",\"Brand Name\",\"Brand Name\",\"Brand Name\",\"Brand Name\",\"Brand Name\",\"Brand Name\",\"Brand Name\",\"Brand Name\",\"Brand Name\",\"Brand Name\",\"Brand Name\",\"Brand Name\",\"Brand Name\",\"Brand Name\",\"Brand Name\",\"Brand Name\",\"Brand Name\",\"Brand Name\",\"Brand Name\",\"Brand Name\",\"Brand Name\",\"Brand Name\",\"Brand Name\",\"Brand Name\",\"Brand Name\",\"Brand Name\",\"Brand Name\",\"Brand Name\",\"Brand Name\",\"Brand Name\",\"Brand Name\",\"Brand Name\",\"Brand Name\",\"Brand Name\",\"Brand Name\",\"Brand Name\",\"Brand Name\",\"Brand Name\",\"Brand Name\",\"Brand Name\",\"Brand Name\",\"Brand Name\",\"Brand Name\",\"Brand Name\",\"Brand Name\",\"Brand Name\",\"Brand Name\",\"Brand Name\",\"Brand Name\",\"Brand Name\",\"Brand Name\",\"Brand Name\",\"Brand Name\",\"Brand Name\",\"Brand Name\",\"Brand Name\",\"Brand Name\",\"Brand Name\",\"Brand Name\",\"Brand Name\",\"Brand Name\",\"Brand Name\",\"Brand Name\",\"Brand Name\",\"Brand Name\",\"Brand Name\",\"Brand Name\",\"Brand Name\",\"Brand Name\",\"Brand Name\",\"Brand Name\",\"Brand Name\",\"Brand Name\",\"Brand Name\",\"Brand Name\",\"Brand Name\",\"Brand Name\",\"Brand Name\",\"Brand Name\",\"Brand Name\",\"Brand Name\",\"Brand Name\",\"Brand Name\",\"Brand Name\",\"Brand Name\",\"Brand Name\",\"Brand Name\",\"Brand Name\",\"Brand Name\",\"Brand Name\",\"Brand Name\",\"Brand Name\",\"Brand Name\",\"Brand Name\",\"Brand Name\",\"Brand Name\",\"Brand Name\",\"Brand Name\",\"Brand Name\",\"Brand Name\",\"Brand Name\",\"Brand Name\",\"Brand Name\",\"Brand Name\",\"Brand Name\",\"Brand Name\",\"Brand Name\",\"Brand Name\",\"Brand Name\",\"Brand Name\",\"Brand Name\",\"Brand Name\",\"Brand Name\",\"Brand Name\",\"Brand Name\",\"Brand Name\",\"Brand Name\",\"Brand Name\",\"Brand Name\",\"Brand Name\",\"Brand Name\",\"Brand Name\",\"Brand Name\",\"Brand Name\",\"Brand Name\",\"Brand Name\",\"Brand Name\",\"Brand Name\",\"Brand Name\",\"Brand Name\",\"Brand Name\",\"Brand Name\",\"Brand Name\",\"Brand Name\",\"Brand Name\",\"Brand Name\",\"Brand Name\",\"Brand Name\",\"Brand Name\",\"Brand Name\",\"Brand Name\",\"Brand Name\",\"Brand Name\",\"Brand Name\",\"Brand Name\",\"Brand Name\",\"Brand Name\",\"Brand Name\",\"Brand Name\",\"Brand Name\",\"Brand Name\",\"Brand Name\",\"Brand Name\",\"Brand Name\",\"Brand Name\",\"Brand Name\",\"Brand Name\",\"Brand Name\",\"Brand Name\",\"Brand Name\",\"Brand Name\",\"Brand Name\",\"Brand Name\",\"Brand Name\",\"Brand Name\",\"Brand Name\",\"Brand Name\",\"Brand Name\",\"Brand Name\",\"Brand Name\",\"Brand Name\",\"Brand Name\",\"Brand Name\",\"Brand Name\",\"Brand Name\",\"Brand Name\",\"Brand Name\",\"Brand Name\",\"Brand Name\",\"Brand Name\",\"Brand Name\",\"Brand Name\",\"Brand Name\",\"Brand Name\",\"Brand Name\",\"Brand Name\",\"Brand Name\",\"Brand Name\",\"Brand Name\",\"Brand Name\",\"Brand Name\",\"Brand Name\",\"Brand Name\",\"Brand Name\",\"Brand Name\",\"Brand Name\",\"Brand Name\",\"Brand Name\",\"Brand Name\",\"Brand Name\",\"Brand Name\",\"Brand Name\",\"Brand Name\",\"Brand Name\",\"Brand Name\",\"Brand Name\",\"Brand Name\",\"Brand Name\",\"Brand Name\",\"Brand Name\",\"Brand Name\",\"Brand Name\",\"Brand Name\",\"Brand Name\",\"Brand Name\",\"Brand Name\",\"Brand Name\",\"Brand Name\",\"Brand Name\",\"Brand Name\",\"Brand Name\",\"Brand Name\",\"Brand Name\",\"Brand Name\",\"Brand Name\",\"Brand Name\",\"Brand Name\",\"Brand Name\",\"Brand Name\",\"Brand Name\",\"Brand Name\",\"Brand Name\",\"Brand Name\",\"Brand Name\",\"Brand Name\",\"Brand Name\",\"Brand Name\",\"Brand Name\",\"Brand Name\",\"Brand Name\",\"Brand Name\",\"Brand Name\",\"Brand Name\",\"Brand Name\",\"Brand Name\",\"Brand Name\",\"Brand Name\",\"Brand Name\",\"Brand Name\",\"Brand Name\",\"Brand Name\",\"Brand Name\",\"Brand Name\",\"Brand Name\",\"Brand Name\",\"Brand Name\",\"Brand Name\",\"Brand Name\",\"Brand Name\",\"Brand Name\",\"Brand Name\",\"Brand Name\",\"Brand Name\",\"Brand Name\",\"Brand Name\",\"Brand Name\",\"Brand Name\",\"Brand Name\",\"Brand Name\",\"Brand Name\",\"Brand Name\",\"Brand Name\",\"Brand Name\",\"Brand Name\",\"Brand Name\",\"Brand Name\",\"Brand Name\",\"Brand Name\",\"Brand Name\",\"Brand Name\",\"Brand Name\",\"Brand Name\",\"Brand Name\",\"Brand Name\",\"Brand Name\",\"Brand Name\",\"Brand Name\",\"Brand Name\",\"Brand Name\",\"Brand Name\",\"Brand Name\",\"Brand Name\",\"Brand Name\",\"Brand Name\",\"Brand Name\",\"Brand Name\",\"Brand Name\",\"Brand Name\",\"Brand Name\",\"Brand Name\",\"Brand Name\",\"Brand Name\",\"Brand Name\",\"Brand Name\",\"Brand Name\",\"Brand Name\",\"Brand Name\",\"Brand Name\",\"Brand Name\",\"Brand Name\",\"Brand Name\",\"Brand Name\",\"Brand Name\",\"Brand Name\",\"Brand Name\",\"Brand Name\",\"Brand Name\",\"Brand Name\",\"Brand Name\"],\"x0\":\" \",\"xaxis\":\"x\",\"y\":[\"Xiaomi\",\"Xiaomi\",\"Xiaomi\",\"Xiaomi\",\"Xiaomi\",\"Xiaomi\",\"Xiaomi\",\"Xiaomi\",\"Xiaomi\",\"Xiaomi\",\"OnePlus \",\"OnePlus \",\"FitBit\",\"FitBit\",\"FitBit\",\"FitBit\",\"FitBit\",\"FitBit\",\"FitBit\",\"FitBit\",\"FitBit\",\"FitBit\",\"FitBit\",\"FitBit\",\"FitBit\",\"FitBit\",\"FitBit\",\"FitBit\",\"FitBit\",\"FitBit\",\"FitBit\",\"FitBit\",\"FitBit\",\"FitBit\",\"FitBit\",\"FitBit\",\"FitBit\",\"FitBit\",\"FitBit\",\"FitBit\",\"FitBit\",\"FitBit\",\"FitBit\",\"FitBit\",\"FitBit\",\"FitBit\",\"FitBit\",\"FitBit\",\"FitBit\",\"FitBit\",\"FitBit\",\"FitBit\",\"FitBit\",\"FitBit\",\"FitBit\",\"FitBit\",\"FitBit\",\"FitBit\",\"FitBit\",\"FitBit\",\"FitBit\",\"FitBit\",\"FitBit\",\"realme\",\"realme\",\"realme\",\"realme\",\"Huawei\",\"Huawei\",\"Huawei\",\"Huawei\",\"Huawei\",\"Huawei\",\"Honor\",\"Honor\",\"Honor\",\"Honor\",\"Honor\",\"Honor\",\"Honor\",\"Honor\",\"Honor\",\"Honor\",\"Honor\",\"Honor\",\"Honor\",\"GOQii\",\"GOQii\",\"Infinix\",\"LCARE\",\"LCARE\",\"LAVA\",\"Noise\",\"Noise\",\"Oppo\",\"Oppo\",\"realme\",\"realme\",\"realme\",\"realme\",\"realme\",\"realme\",\"realme\",\"realme\",\"Fastrack\",\"Fastrack\",\"Fastrack\",\"Fastrack\",\"Fastrack\",\"Fastrack\",\"boAt \",\"boAt \",\"boAt \",\"boAt \",\"Noise \",\"Noise \",\"Noise \",\"Noise \",\"Noise \",\"Noise \",\"Noise \",\"Noise \",\"Noise \",\"Noise \",\"Noise \",\"Noise \",\"Noise \",\"Noise \",\"Noise \",\"Noise \",\"Noise \",\"Honor\",\"Honor\",\"Honor\",\"Honor\",\"Honor\",\"Honor\",\"Honor\",\"huami\",\"huami\",\"huami\",\"huami\",\"huami\",\"huami\",\"huami\",\"huami\",\"huami\",\"huami\",\"huami\",\"huami\",\"huami\",\"huami\",\"huami\",\"huami\",\"huami\",\"huami\",\"huami\",\"huami\",\"huami\",\"huami\",\"huami\",\"huami\",\"huami\",\"huami\",\"huami\",\"huami\",\"huami\",\"huami\",\"huami\",\"huami\",\"huami\",\"huami\",\"huami\",\"huami\",\"SAMSUNG \",\"SAMSUNG \",\"SAMSUNG \",\"SAMSUNG \",\"SAMSUNG \",\"SAMSUNG \",\"SAMSUNG \",\"SAMSUNG \",\"SAMSUNG \",\"SAMSUNG \",\"SAMSUNG \",\"SAMSUNG \",\"SAMSUNG \",\"SAMSUNG \",\"SAMSUNG \",\"SAMSUNG \",\"SAMSUNG \",\"SAMSUNG \",\"SAMSUNG \",\"SAMSUNG \",\"SAMSUNG \",\"SAMSUNG \",\"SAMSUNG \",\"SAMSUNG \",\"SAMSUNG \",\"SAMSUNG \",\"SAMSUNG \",\"SAMSUNG \",\"SAMSUNG \",\"SAMSUNG \",\"SAMSUNG \",\"SAMSUNG \",\"SAMSUNG \",\"SAMSUNG \",\"SAMSUNG \",\"SAMSUNG \",\"SAMSUNG \",\"SAMSUNG \",\"SAMSUNG \",\"SAMSUNG \",\"SAMSUNG \",\"SAMSUNG \",\"SAMSUNG \",\"SAMSUNG \",\"SAMSUNG \",\"SAMSUNG \",\"SAMSUNG \",\"SAMSUNG \",\"FOSSIL \",\"FOSSIL \",\"FOSSIL \",\"FOSSIL \",\"FOSSIL \",\"FOSSIL \",\"FOSSIL \",\"FOSSIL \",\"FOSSIL \",\"FOSSIL \",\"FOSSIL \",\"FOSSIL \",\"FOSSIL \",\"FOSSIL \",\"FOSSIL \",\"FOSSIL \",\"FOSSIL \",\"FOSSIL \",\"FOSSIL \",\"FOSSIL \",\"FOSSIL \",\"FOSSIL \",\"FOSSIL \",\"FOSSIL \",\"FOSSIL \",\"FOSSIL \",\"FOSSIL \",\"FOSSIL \",\"FOSSIL \",\"FOSSIL \",\"FOSSIL \",\"FOSSIL \",\"FOSSIL \",\"FOSSIL \",\"FOSSIL \",\"FOSSIL \",\"FOSSIL \",\"FOSSIL \",\"FOSSIL \",\"FOSSIL \",\"FOSSIL \",\"FOSSIL \",\"FOSSIL \",\"FOSSIL \",\"FOSSIL \",\"FOSSIL \",\"FOSSIL \",\"FOSSIL \",\"FOSSIL \",\"FOSSIL \",\"FOSSIL \",\"FOSSIL \",\"FOSSIL \",\"FOSSIL \",\"FOSSIL \",\"FOSSIL \",\"FOSSIL \",\"FOSSIL \",\"FOSSIL \",\"FOSSIL \",\"FOSSIL \",\"FOSSIL \",\"FOSSIL \",\"FOSSIL \",\"FOSSIL \",\"FOSSIL \",\"FOSSIL \",\"FOSSIL \",\"FOSSIL \",\"FOSSIL \",\"FOSSIL \",\"FOSSIL \",\"FOSSIL \",\"FOSSIL \",\"FOSSIL \",\"FOSSIL \",\"FOSSIL \",\"FOSSIL \",\"FOSSIL \",\"FOSSIL \",\"FOSSIL \",\"FOSSIL \",\"FOSSIL \",\"FOSSIL \",\"FOSSIL \",\"FOSSIL \",\"FOSSIL \",\"FOSSIL \",\"FOSSIL \",\"FOSSIL \",\"FOSSIL \",\"FOSSIL \",\"FOSSIL \",\"FOSSIL \",\"FOSSIL \",\"FOSSIL \",\"FOSSIL \",\"FOSSIL \",\"FOSSIL \",\"FOSSIL \",\"FOSSIL \",\"FOSSIL \",\"FOSSIL \",\"FOSSIL \",\"FOSSIL \",\"FOSSIL \",\"FOSSIL \",\"FOSSIL \",\"FOSSIL \",\"FOSSIL \",\"FOSSIL \",\"FOSSIL \",\"FOSSIL \",\"FOSSIL \",\"FOSSIL \",\"FOSSIL \",\"FOSSIL \",\"FOSSIL \",\"FOSSIL \",\"FOSSIL \",\"FOSSIL \",\"FOSSIL \",\"FOSSIL \",\"FOSSIL \",\"FOSSIL \",\"FOSSIL \",\"FOSSIL \",\"FOSSIL \",\"FOSSIL \",\"FOSSIL \",\"FOSSIL \",\"FOSSIL \",\"APPLE\",\"APPLE\",\"APPLE\",\"APPLE\",\"APPLE\",\"APPLE\",\"APPLE\",\"APPLE\",\"APPLE\",\"APPLE\",\"APPLE\",\"APPLE\",\"APPLE\",\"APPLE\",\"APPLE\",\"APPLE\",\"APPLE\",\"APPLE\",\"APPLE\",\"APPLE\",\"APPLE\",\"APPLE\",\"APPLE\",\"APPLE\",\"APPLE\",\"APPLE\",\"APPLE\",\"APPLE\",\"APPLE\",\"APPLE\",\"APPLE\",\"APPLE\",\"APPLE\",\"APPLE\",\"APPLE\",\"APPLE\",\"APPLE\",\"APPLE\",\"APPLE\",\"APPLE\",\"APPLE\",\"APPLE\",\"APPLE\",\"APPLE\",\"APPLE\",\"APPLE\",\"APPLE\",\"APPLE\",\"APPLE\",\"APPLE\",\"APPLE\",\"APPLE\",\"APPLE\",\"APPLE\",\"APPLE\",\"APPLE\",\"APPLE\",\"APPLE\",\"APPLE\",\"APPLE\",\"APPLE\",\"APPLE\",\"APPLE\",\"APPLE\",\"APPLE\",\"APPLE\",\"APPLE\",\"APPLE\",\"APPLE\",\"APPLE\",\"APPLE\",\"APPLE\",\"APPLE\",\"APPLE\",\"APPLE\",\"APPLE\",\"APPLE\",\"APPLE\",\"APPLE\",\"APPLE\",\"APPLE\",\"APPLE\",\"APPLE\",\"APPLE\",\"APPLE\",\"APPLE\",\"GARMIN \",\"GARMIN \",\"GARMIN \",\"GARMIN \",\"GARMIN \",\"GARMIN \",\"GARMIN \",\"GARMIN \",\"GARMIN \",\"GARMIN \",\"GARMIN \",\"GARMIN \",\"GARMIN \",\"GARMIN \",\"GARMIN \",\"GARMIN \",\"GARMIN \",\"GARMIN \",\"GARMIN \",\"GARMIN \",\"GARMIN \",\"GARMIN \",\"GARMIN \",\"GARMIN \",\"GARMIN \",\"GARMIN \",\"GARMIN \",\"GARMIN \",\"GARMIN \",\"GARMIN \",\"GARMIN \",\"GARMIN \",\"GARMIN \",\"GARMIN \",\"GARMIN \",\"GARMIN \",\"GARMIN \",\"GARMIN \",\"GARMIN \",\"GARMIN \",\"GARMIN \",\"GARMIN \",\"GARMIN \",\"GARMIN \",\"GARMIN \",\"GARMIN \",\"GARMIN \",\"GARMIN \",\"GARMIN \",\"GARMIN \",\"GARMIN \",\"GARMIN \",\"GARMIN \",\"GARMIN \",\"GARMIN \",\"GARMIN \",\"GARMIN \",\"GARMIN \",\"GARMIN \",\"GARMIN \",\"GARMIN \",\"GARMIN \",\"GARMIN \",\"GARMIN \",\"GARMIN \",\"GARMIN \",\"GARMIN \",\"GARMIN \",\"GARMIN \",\"GARMIN \",\"GARMIN \",\"GARMIN \",\"GARMIN \",\"GARMIN \",\"GARMIN \",\"GARMIN \",\"GARMIN \",\"GARMIN \",\"GARMIN \",\"GARMIN \",\"GARMIN \",\"GARMIN \",\"GARMIN \",\"GARMIN \",\"GARMIN \",\"GARMIN \",\"GARMIN \",\"GARMIN \",\"GARMIN \",\"GARMIN \",\"GARMIN \",\"GARMIN \",\"GARMIN \",\"GARMIN \",\"GARMIN \",\"GARMIN \",\"GARMIN \",\"GARMIN \",\"GARMIN \",\"GARMIN \",\"GARMIN \",\"OnePlus \",\"Huawei\",\"Huawei\",\"Huawei\",\"Huawei\",\"Huawei\",\"Huawei\",\"Huawei\",\"Huawei\",\"Huawei\",\"Huawei\",\"Huawei\",\"Huawei\",\"Huawei\",\"Huawei\",\"Huawei\",\"Huawei\",\"Huawei\",\"Huawei\",\"Huawei\",\"Huawei\",\"GOQii\",\"GOQii\",\"FOSSIL \",\"boAt \",\"Crossbeats\",\"Crossbeats\",\"Crossbeats\",\"Crossbeats\",\"Crossbeats\",\"Crossbeats\",\"Crossbeats\",\"Crossbeats\",\"dizo by realme \",\"dizo by realme \",\"Noise \",\"Noise \",\"Noise \",\"Ptron\",\"Ptron\",\"Ptron\",\"Ptron\",\"Ptron\",\"Zebronics\",\"Zebronics\",\"Zebronics\",\"Zebronics\",\"Zebronics\",\"Zebronics\",\"Zebronics\",\"Zebronics\",\"Zebronics\",\"Zebronics\",\"Zebronics\",\"Zebronics\",\"Fire-Boltt\",\"Fire-Boltt\",\"Fire-Boltt\",\"Fire-Boltt\",\"Fire-Boltt\",\"Fire-Boltt\",\"Fire-Boltt\",\"Fire-Boltt\",\"Fire-Boltt\",\"Fire-Boltt\",\"Fire-Boltt\",\"Fire-Boltt\",\"Fire-Boltt\",\"Fire-Boltt\"],\"y0\":\" \",\"yaxis\":\"y\",\"type\":\"box\"},{\"alignmentgroup\":\"True\",\"hovertemplate\":\"Fitness Tracker Spec Categories=%{x}<br>Fitness Tracker Values=%{y}<extra></extra>\",\"legendgroup\":\"Device Type\",\"marker\":{\"color\":\"#04fe38\"},\"name\":\"Device Type\",\"notched\":false,\"offsetgroup\":\"Device Type\",\"orientation\":\"v\",\"showlegend\":true,\"x\":[\"Device Type\",\"Device Type\",\"Device Type\",\"Device Type\",\"Device Type\",\"Device Type\",\"Device Type\",\"Device Type\",\"Device Type\",\"Device Type\",\"Device Type\",\"Device Type\",\"Device Type\",\"Device Type\",\"Device Type\",\"Device Type\",\"Device Type\",\"Device Type\",\"Device Type\",\"Device Type\",\"Device Type\",\"Device Type\",\"Device Type\",\"Device Type\",\"Device Type\",\"Device Type\",\"Device Type\",\"Device Type\",\"Device Type\",\"Device Type\",\"Device Type\",\"Device Type\",\"Device Type\",\"Device Type\",\"Device Type\",\"Device Type\",\"Device Type\",\"Device Type\",\"Device Type\",\"Device Type\",\"Device Type\",\"Device Type\",\"Device Type\",\"Device Type\",\"Device Type\",\"Device Type\",\"Device Type\",\"Device Type\",\"Device Type\",\"Device Type\",\"Device Type\",\"Device Type\",\"Device Type\",\"Device Type\",\"Device Type\",\"Device Type\",\"Device Type\",\"Device Type\",\"Device Type\",\"Device Type\",\"Device Type\",\"Device Type\",\"Device Type\",\"Device Type\",\"Device Type\",\"Device Type\",\"Device Type\",\"Device Type\",\"Device Type\",\"Device Type\",\"Device Type\",\"Device Type\",\"Device Type\",\"Device Type\",\"Device Type\",\"Device Type\",\"Device Type\",\"Device Type\",\"Device Type\",\"Device Type\",\"Device Type\",\"Device Type\",\"Device Type\",\"Device Type\",\"Device Type\",\"Device Type\",\"Device Type\",\"Device Type\",\"Device Type\",\"Device Type\",\"Device Type\",\"Device Type\",\"Device Type\",\"Device Type\",\"Device Type\",\"Device Type\",\"Device Type\",\"Device Type\",\"Device Type\",\"Device Type\",\"Device Type\",\"Device Type\",\"Device Type\",\"Device Type\",\"Device Type\",\"Device Type\",\"Device Type\",\"Device Type\",\"Device Type\",\"Device Type\",\"Device Type\",\"Device Type\",\"Device Type\",\"Device Type\",\"Device Type\",\"Device Type\",\"Device Type\",\"Device Type\",\"Device Type\",\"Device Type\",\"Device Type\",\"Device Type\",\"Device Type\",\"Device Type\",\"Device Type\",\"Device Type\",\"Device Type\",\"Device Type\",\"Device Type\",\"Device Type\",\"Device Type\",\"Device Type\",\"Device Type\",\"Device Type\",\"Device Type\",\"Device Type\",\"Device Type\",\"Device Type\",\"Device Type\",\"Device Type\",\"Device Type\",\"Device Type\",\"Device Type\",\"Device Type\",\"Device Type\",\"Device Type\",\"Device Type\",\"Device Type\",\"Device Type\",\"Device Type\",\"Device Type\",\"Device Type\",\"Device Type\",\"Device Type\",\"Device Type\",\"Device Type\",\"Device Type\",\"Device Type\",\"Device Type\",\"Device Type\",\"Device Type\",\"Device Type\",\"Device Type\",\"Device Type\",\"Device Type\",\"Device Type\",\"Device Type\",\"Device Type\",\"Device Type\",\"Device Type\",\"Device Type\",\"Device Type\",\"Device Type\",\"Device Type\",\"Device Type\",\"Device Type\",\"Device Type\",\"Device Type\",\"Device Type\",\"Device Type\",\"Device Type\",\"Device Type\",\"Device Type\",\"Device Type\",\"Device Type\",\"Device Type\",\"Device Type\",\"Device Type\",\"Device Type\",\"Device Type\",\"Device Type\",\"Device Type\",\"Device Type\",\"Device Type\",\"Device Type\",\"Device Type\",\"Device Type\",\"Device Type\",\"Device Type\",\"Device Type\",\"Device Type\",\"Device Type\",\"Device Type\",\"Device Type\",\"Device Type\",\"Device Type\",\"Device Type\",\"Device Type\",\"Device Type\",\"Device Type\",\"Device Type\",\"Device Type\",\"Device Type\",\"Device Type\",\"Device Type\",\"Device Type\",\"Device Type\",\"Device Type\",\"Device Type\",\"Device Type\",\"Device Type\",\"Device Type\",\"Device Type\",\"Device Type\",\"Device Type\",\"Device Type\",\"Device Type\",\"Device Type\",\"Device Type\",\"Device Type\",\"Device Type\",\"Device Type\",\"Device Type\",\"Device Type\",\"Device Type\",\"Device Type\",\"Device Type\",\"Device Type\",\"Device Type\",\"Device Type\",\"Device Type\",\"Device Type\",\"Device Type\",\"Device Type\",\"Device Type\",\"Device Type\",\"Device Type\",\"Device Type\",\"Device Type\",\"Device Type\",\"Device Type\",\"Device Type\",\"Device Type\",\"Device Type\",\"Device Type\",\"Device Type\",\"Device Type\",\"Device Type\",\"Device Type\",\"Device Type\",\"Device Type\",\"Device Type\",\"Device Type\",\"Device Type\",\"Device Type\",\"Device Type\",\"Device Type\",\"Device Type\",\"Device Type\",\"Device Type\",\"Device Type\",\"Device Type\",\"Device Type\",\"Device Type\",\"Device Type\",\"Device Type\",\"Device Type\",\"Device Type\",\"Device Type\",\"Device Type\",\"Device Type\",\"Device Type\",\"Device Type\",\"Device Type\",\"Device Type\",\"Device Type\",\"Device Type\",\"Device Type\",\"Device Type\",\"Device Type\",\"Device Type\",\"Device Type\",\"Device Type\",\"Device Type\",\"Device Type\",\"Device Type\",\"Device Type\",\"Device Type\",\"Device Type\",\"Device Type\",\"Device Type\",\"Device Type\",\"Device Type\",\"Device Type\",\"Device Type\",\"Device Type\",\"Device Type\",\"Device Type\",\"Device Type\",\"Device Type\",\"Device Type\",\"Device Type\",\"Device Type\",\"Device Type\",\"Device Type\",\"Device Type\",\"Device Type\",\"Device Type\",\"Device Type\",\"Device Type\",\"Device Type\",\"Device Type\",\"Device Type\",\"Device Type\",\"Device Type\",\"Device Type\",\"Device Type\",\"Device Type\",\"Device Type\",\"Device Type\",\"Device Type\",\"Device Type\",\"Device Type\",\"Device Type\",\"Device Type\",\"Device Type\",\"Device Type\",\"Device Type\",\"Device Type\",\"Device Type\",\"Device Type\",\"Device Type\",\"Device Type\",\"Device Type\",\"Device Type\",\"Device Type\",\"Device Type\",\"Device Type\",\"Device Type\",\"Device Type\",\"Device Type\",\"Device Type\",\"Device Type\",\"Device Type\",\"Device Type\",\"Device Type\",\"Device Type\",\"Device Type\",\"Device Type\",\"Device Type\",\"Device Type\",\"Device Type\",\"Device Type\",\"Device Type\",\"Device Type\",\"Device Type\",\"Device Type\",\"Device Type\",\"Device Type\",\"Device Type\",\"Device Type\",\"Device Type\",\"Device Type\",\"Device Type\",\"Device Type\",\"Device Type\",\"Device Type\",\"Device Type\",\"Device Type\",\"Device Type\",\"Device Type\",\"Device Type\",\"Device Type\",\"Device Type\",\"Device Type\",\"Device Type\",\"Device Type\",\"Device Type\",\"Device Type\",\"Device Type\",\"Device Type\",\"Device Type\",\"Device Type\",\"Device Type\",\"Device Type\",\"Device Type\",\"Device Type\",\"Device Type\",\"Device Type\",\"Device Type\",\"Device Type\",\"Device Type\",\"Device Type\",\"Device Type\",\"Device Type\",\"Device Type\",\"Device Type\",\"Device Type\",\"Device Type\",\"Device Type\",\"Device Type\",\"Device Type\",\"Device Type\",\"Device Type\",\"Device Type\",\"Device Type\",\"Device Type\",\"Device Type\",\"Device Type\",\"Device Type\",\"Device Type\",\"Device Type\",\"Device Type\",\"Device Type\",\"Device Type\",\"Device Type\",\"Device Type\",\"Device Type\",\"Device Type\",\"Device Type\",\"Device Type\",\"Device Type\",\"Device Type\",\"Device Type\",\"Device Type\",\"Device Type\",\"Device Type\",\"Device Type\",\"Device Type\",\"Device Type\",\"Device Type\",\"Device Type\",\"Device Type\",\"Device Type\",\"Device Type\",\"Device Type\",\"Device Type\",\"Device Type\",\"Device Type\",\"Device Type\",\"Device Type\",\"Device Type\",\"Device Type\",\"Device Type\",\"Device Type\",\"Device Type\",\"Device Type\",\"Device Type\",\"Device Type\",\"Device Type\",\"Device Type\",\"Device Type\",\"Device Type\",\"Device Type\",\"Device Type\",\"Device Type\",\"Device Type\",\"Device Type\",\"Device Type\",\"Device Type\",\"Device Type\",\"Device Type\",\"Device Type\",\"Device Type\",\"Device Type\",\"Device Type\",\"Device Type\",\"Device Type\",\"Device Type\",\"Device Type\",\"Device Type\",\"Device Type\",\"Device Type\",\"Device Type\",\"Device Type\",\"Device Type\",\"Device Type\",\"Device Type\",\"Device Type\",\"Device Type\",\"Device Type\",\"Device Type\",\"Device Type\",\"Device Type\",\"Device Type\",\"Device Type\",\"Device Type\",\"Device Type\",\"Device Type\",\"Device Type\",\"Device Type\",\"Device Type\",\"Device Type\",\"Device Type\",\"Device Type\",\"Device Type\",\"Device Type\",\"Device Type\",\"Device Type\",\"Device Type\",\"Device Type\",\"Device Type\",\"Device Type\",\"Device Type\",\"Device Type\",\"Device Type\",\"Device Type\",\"Device Type\",\"Device Type\",\"Device Type\",\"Device Type\",\"Device Type\",\"Device Type\",\"Device Type\",\"Device Type\",\"Device Type\",\"Device Type\",\"Device Type\",\"Device Type\",\"Device Type\",\"Device Type\",\"Device Type\",\"Device Type\",\"Device Type\",\"Device Type\",\"Device Type\",\"Device Type\",\"Device Type\",\"Device Type\",\"Device Type\",\"Device Type\",\"Device Type\",\"Device Type\",\"Device Type\",\"Device Type\",\"Device Type\",\"Device Type\",\"Device Type\",\"Device Type\",\"Device Type\",\"Device Type\",\"Device Type\",\"Device Type\",\"Device Type\",\"Device Type\",\"Device Type\",\"Device Type\",\"Device Type\",\"Device Type\",\"Device Type\",\"Device Type\",\"Device Type\",\"Device Type\",\"Device Type\",\"Device Type\",\"Device Type\",\"Device Type\",\"Device Type\",\"Device Type\",\"Device Type\",\"Device Type\",\"Device Type\",\"Device Type\",\"Device Type\",\"Device Type\",\"Device Type\",\"Device Type\",\"Device Type\",\"Device Type\",\"Device Type\",\"Device Type\",\"Device Type\",\"Device Type\",\"Device Type\",\"Device Type\",\"Device Type\",\"Device Type\",\"Device Type\",\"Device Type\",\"Device Type\",\"Device Type\",\"Device Type\",\"Device Type\",\"Device Type\",\"Device Type\",\"Device Type\",\"Device Type\",\"Device Type\",\"Device Type\",\"Device Type\",\"Device Type\",\"Device Type\",\"Device Type\",\"Device Type\",\"Device Type\",\"Device Type\",\"Device Type\",\"Device Type\",\"Device Type\",\"Device Type\"],\"x0\":\" \",\"xaxis\":\"x\",\"y\":[\"FitnessBand\",\"FitnessBand\",\"FitnessBand\",\"FitnessBand\",\"FitnessBand\",\"FitnessBand\",\"FitnessBand\",\"Smartwatch\",\"Smartwatch\",\"FitnessBand\",\"FitnessBand\",\"FitnessBand\",\"Smartwatch\",\"Smartwatch\",\"Smartwatch\",\"FitnessBand\",\"FitnessBand\",\"FitnessBand\",\"FitnessBand\",\"FitnessBand\",\"FitnessBand\",\"FitnessBand\",\"FitnessBand\",\"FitnessBand\",\"FitnessBand\",\"Smartwatch\",\"Smartwatch\",\"Smartwatch\",\"Smartwatch\",\"Smartwatch\",\"Smartwatch\",\"Smartwatch\",\"Smartwatch\",\"FitnessBand\",\"FitnessBand\",\"Smartwatch\",\"Smartwatch\",\"Smartwatch\",\"Smartwatch\",\"FitnessBand\",\"FitnessBand\",\"Smartwatch\",\"Smartwatch\",\"Smartwatch\",\"Smartwatch\",\"FitnessBand\",\"FitnessBand\",\"FitnessBand\",\"Smartwatch\",\"FitnessBand\",\"Smartwatch\",\"FitnessBand\",\"Smartwatch\",\"Smartwatch\",\"Smartwatch\",\"FitnessBand\",\"FitnessBand\",\"FitnessBand\",\"FitnessBand\",\"FitnessBand\",\"FitnessBand\",\"FitnessBand\",\"FitnessBand\",\"FitnessBand\",\"FitnessBand\",\"FitnessBand\",\"FitnessBand\",\"FitnessBand\",\"FitnessBand\",\"FitnessBand\",\"FitnessBand\",\"FitnessBand\",\"FitnessBand\",\"FitnessBand\",\"FitnessBand\",\"FitnessBand\",\"FitnessBand\",\"FitnessBand\",\"FitnessBand\",\"FitnessBand\",\"FitnessBand\",\"FitnessBand\",\"FitnessBand\",\"FitnessBand\",\"FitnessBand\",\"FitnessBand\",\"FitnessBand\",\"FitnessBand\",\"FitnessBand\",\"Smartwatch\",\"FitnessBand\",\"FitnessBand\",\"FitnessBand\",\"FitnessBand\",\"Smartwatch\",\"Smartwatch\",\"Smartwatch\",\"Smartwatch\",\"Smartwatch\",\"Smartwatch\",\"Smartwatch\",\"Smartwatch\",\"Smartwatch\",\"Smartwatch\",\"Smartwatch\",\"Smartwatch\",\"Smartwatch\",\"FitnessBand\",\"FitnessBand\",\"Smartwatch\",\"Smartwatch\",\"Smartwatch\",\"Smartwatch\",\"Smartwatch\",\"Smartwatch\",\"Smartwatch\",\"Smartwatch\",\"Smartwatch\",\"Smartwatch\",\"Smartwatch\",\"Smartwatch\",\"Smartwatch\",\"Smartwatch\",\"Smartwatch\",\"Smartwatch\",\"Smartwatch\",\"Smartwatch\",\"Smartwatch\",\"Smartwatch\",\"Smartwatch\",\"Smartwatch\",\"Smartwatch\",\"Smartwatch\",\"Smartwatch\",\"Smartwatch\",\"Smartwatch\",\"Smartwatch\",\"Smartwatch\",\"Smartwatch\",\"Smartwatch\",\"Smartwatch\",\"Smartwatch\",\"Smartwatch\",\"Smartwatch\",\"Smartwatch\",\"Smartwatch\",\"Smartwatch\",\"Smartwatch\",\"Smartwatch\",\"Smartwatch\",\"Smartwatch\",\"Smartwatch\",\"Smartwatch\",\"Smartwatch\",\"Smartwatch\",\"Smartwatch\",\"Smartwatch\",\"Smartwatch\",\"Smartwatch\",\"Smartwatch\",\"Smartwatch\",\"Smartwatch\",\"Smartwatch\",\"Smartwatch\",\"Smartwatch\",\"Smartwatch\",\"Smartwatch\",\"Smartwatch\",\"Smartwatch\",\"Smartwatch\",\"Smartwatch\",\"Smartwatch\",\"Smartwatch\",\"Smartwatch\",\"Smartwatch\",\"Smartwatch\",\"Smartwatch\",\"Smartwatch\",\"Smartwatch\",\"Smartwatch\",\"FitnessBand\",\"FitnessBand\",\"FitnessBand\",\"Smartwatch\",\"Smartwatch\",\"Smartwatch\",\"Smartwatch\",\"Smartwatch\",\"Smartwatch\",\"Smartwatch\",\"Smartwatch\",\"Smartwatch\",\"Smartwatch\",\"Smartwatch\",\"Smartwatch\",\"Smartwatch\",\"Smartwatch\",\"Smartwatch\",\"Smartwatch\",\"Smartwatch\",\"Smartwatch\",\"Smartwatch\",\"Smartwatch\",\"Smartwatch\",\"Smartwatch\",\"Smartwatch\",\"Smartwatch\",\"Smartwatch\",\"Smartwatch\",\"Smartwatch\",\"Smartwatch\",\"Smartwatch\",\"Smartwatch\",\"Smartwatch\",\"Smartwatch\",\"Smartwatch\",\"Smartwatch\",\"Smartwatch\",\"Smartwatch\",\"Smartwatch\",\"Smartwatch\",\"FitnessBand\",\"Smartwatch\",\"Smartwatch\",\"Smartwatch\",\"Smartwatch\",\"Smartwatch\",\"Smartwatch\",\"Smartwatch\",\"Smartwatch\",\"Smartwatch\",\"Smartwatch\",\"Smartwatch\",\"Smartwatch\",\"Smartwatch\",\"Smartwatch\",\"Smartwatch\",\"Smartwatch\",\"Smartwatch\",\"Smartwatch\",\"Smartwatch\",\"Smartwatch\",\"Smartwatch\",\"Smartwatch\",\"Smartwatch\",\"Smartwatch\",\"Smartwatch\",\"Smartwatch\",\"Smartwatch\",\"Smartwatch\",\"Smartwatch\",\"Smartwatch\",\"Smartwatch\",\"Smartwatch\",\"Smartwatch\",\"Smartwatch\",\"Smartwatch\",\"Smartwatch\",\"Smartwatch\",\"Smartwatch\",\"Smartwatch\",\"Smartwatch\",\"Smartwatch\",\"Smartwatch\",\"Smartwatch\",\"Smartwatch\",\"Smartwatch\",\"Smartwatch\",\"Smartwatch\",\"Smartwatch\",\"Smartwatch\",\"Smartwatch\",\"Smartwatch\",\"Smartwatch\",\"Smartwatch\",\"Smartwatch\",\"Smartwatch\",\"Smartwatch\",\"Smartwatch\",\"Smartwatch\",\"Smartwatch\",\"Smartwatch\",\"Smartwatch\",\"Smartwatch\",\"Smartwatch\",\"Smartwatch\",\"Smartwatch\",\"Smartwatch\",\"Smartwatch\",\"Smartwatch\",\"Smartwatch\",\"Smartwatch\",\"Smartwatch\",\"Smartwatch\",\"Smartwatch\",\"Smartwatch\",\"Smartwatch\",\"Smartwatch\",\"Smartwatch\",\"Smartwatch\",\"Smartwatch\",\"Smartwatch\",\"Smartwatch\",\"Smartwatch\",\"Smartwatch\",\"Smartwatch\",\"Smartwatch\",\"Smartwatch\",\"Smartwatch\",\"Smartwatch\",\"Smartwatch\",\"Smartwatch\",\"Smartwatch\",\"Smartwatch\",\"Smartwatch\",\"Smartwatch\",\"Smartwatch\",\"Smartwatch\",\"Smartwatch\",\"Smartwatch\",\"Smartwatch\",\"Smartwatch\",\"Smartwatch\",\"Smartwatch\",\"Smartwatch\",\"Smartwatch\",\"Smartwatch\",\"Smartwatch\",\"Smartwatch\",\"Smartwatch\",\"Smartwatch\",\"Smartwatch\",\"Smartwatch\",\"Smartwatch\",\"Smartwatch\",\"Smartwatch\",\"Smartwatch\",\"Smartwatch\",\"Smartwatch\",\"Smartwatch\",\"Smartwatch\",\"Smartwatch\",\"Smartwatch\",\"Smartwatch\",\"Smartwatch\",\"Smartwatch\",\"Smartwatch\",\"Smartwatch\",\"Smartwatch\",\"Smartwatch\",\"Smartwatch\",\"Smartwatch\",\"Smartwatch\",\"Smartwatch\",\"Smartwatch\",\"Smartwatch\",\"Smartwatch\",\"Smartwatch\",\"Smartwatch\",\"Smartwatch\",\"Smartwatch\",\"Smartwatch\",\"Smartwatch\",\"Smartwatch\",\"Smartwatch\",\"Smartwatch\",\"Smartwatch\",\"Smartwatch\",\"Smartwatch\",\"Smartwatch\",\"Smartwatch\",\"Smartwatch\",\"Smartwatch\",\"Smartwatch\",\"Smartwatch\",\"Smartwatch\",\"Smartwatch\",\"Smartwatch\",\"Smartwatch\",\"Smartwatch\",\"Smartwatch\",\"Smartwatch\",\"Smartwatch\",\"Smartwatch\",\"Smartwatch\",\"Smartwatch\",\"Smartwatch\",\"Smartwatch\",\"Smartwatch\",\"Smartwatch\",\"Smartwatch\",\"Smartwatch\",\"Smartwatch\",\"Smartwatch\",\"Smartwatch\",\"Smartwatch\",\"Smartwatch\",\"Smartwatch\",\"Smartwatch\",\"Smartwatch\",\"Smartwatch\",\"Smartwatch\",\"Smartwatch\",\"Smartwatch\",\"Smartwatch\",\"Smartwatch\",\"Smartwatch\",\"Smartwatch\",\"Smartwatch\",\"Smartwatch\",\"Smartwatch\",\"Smartwatch\",\"Smartwatch\",\"Smartwatch\",\"Smartwatch\",\"Smartwatch\",\"Smartwatch\",\"Smartwatch\",\"Smartwatch\",\"Smartwatch\",\"Smartwatch\",\"Smartwatch\",\"Smartwatch\",\"Smartwatch\",\"Smartwatch\",\"Smartwatch\",\"Smartwatch\",\"Smartwatch\",\"Smartwatch\",\"Smartwatch\",\"Smartwatch\",\"Smartwatch\",\"Smartwatch\",\"Smartwatch\",\"Smartwatch\",\"Smartwatch\",\"Smartwatch\",\"Smartwatch\",\"Smartwatch\",\"Smartwatch\",\"Smartwatch\",\"Smartwatch\",\"Smartwatch\",\"Smartwatch\",\"Smartwatch\",\"Smartwatch\",\"Smartwatch\",\"Smartwatch\",\"Smartwatch\",\"Smartwatch\",\"Smartwatch\",\"Smartwatch\",\"Smartwatch\",\"Smartwatch\",\"Smartwatch\",\"Smartwatch\",\"Smartwatch\",\"Smartwatch\",\"Smartwatch\",\"Smartwatch\",\"Smartwatch\",\"Smartwatch\",\"Smartwatch\",\"Smartwatch\",\"Smartwatch\",\"Smartwatch\",\"Smartwatch\",\"Smartwatch\",\"Smartwatch\",\"Smartwatch\",\"Smartwatch\",\"Smartwatch\",\"Smartwatch\",\"Smartwatch\",\"Smartwatch\",\"Smartwatch\",\"Smartwatch\",\"Smartwatch\",\"Smartwatch\",\"Smartwatch\",\"Smartwatch\",\"Smartwatch\",\"Smartwatch\",\"Smartwatch\",\"Smartwatch\",\"Smartwatch\",\"Smartwatch\",\"Smartwatch\",\"Smartwatch\",\"Smartwatch\",\"Smartwatch\",\"Smartwatch\",\"Smartwatch\",\"Smartwatch\",\"Smartwatch\",\"Smartwatch\",\"Smartwatch\",\"Smartwatch\",\"Smartwatch\",\"Smartwatch\",\"Smartwatch\",\"Smartwatch\",\"Smartwatch\",\"Smartwatch\",\"Smartwatch\",\"Smartwatch\",\"Smartwatch\",\"Smartwatch\",\"Smartwatch\",\"Smartwatch\",\"Smartwatch\",\"Smartwatch\",\"Smartwatch\",\"Smartwatch\",\"Smartwatch\",\"Smartwatch\",\"Smartwatch\",\"Smartwatch\",\"Smartwatch\",\"Smartwatch\",\"Smartwatch\",\"Smartwatch\",\"Smartwatch\",\"Smartwatch\",\"Smartwatch\",\"Smartwatch\",\"Smartwatch\",\"Smartwatch\",\"Smartwatch\",\"Smartwatch\",\"Smartwatch\",\"Smartwatch\",\"Smartwatch\",\"Smartwatch\",\"Smartwatch\",\"Smartwatch\",\"Smartwatch\",\"Smartwatch\",\"Smartwatch\",\"Smartwatch\",\"Smartwatch\",\"Smartwatch\",\"Smartwatch\",\"Smartwatch\",\"Smartwatch\",\"Smartwatch\",\"Smartwatch\",\"Smartwatch\",\"Smartwatch\",\"Smartwatch\",\"Smartwatch\",\"Smartwatch\",\"Smartwatch\",\"Smartwatch\",\"Smartwatch\",\"Smartwatch\",\"Smartwatch\",\"Smartwatch\",\"Smartwatch\",\"Smartwatch\",\"Smartwatch\",\"Smartwatch\",\"FitnessBand\",\"FitnessBand\",\"Smartwatch\",\"Smartwatch\",\"Smartwatch\",\"Smartwatch\",\"Smartwatch\",\"Smartwatch\",\"Smartwatch\",\"Smartwatch\",\"Smartwatch\",\"Smartwatch\",\"Smartwatch\",\"Smartwatch\",\"Smartwatch\",\"Smartwatch\",\"Smartwatch\",\"Smartwatch\",\"Smartwatch\",\"Smartwatch\",\"Smartwatch\",\"Smartwatch\",\"Smartwatch\",\"Smartwatch\",\"Smartwatch\",\"Smartwatch\",\"Smartwatch\",\"Smartwatch\",\"Smartwatch\",\"Smartwatch\",\"Smartwatch\",\"FitnessBand\",\"FitnessBand\",\"Smartwatch\",\"Smartwatch\",\"Smartwatch\",\"Smartwatch\",\"Smartwatch\",\"Smartwatch\",\"Smartwatch\",\"Smartwatch\",\"Smartwatch\",\"Smartwatch\",\"Smartwatch\",\"Smartwatch\",\"Smartwatch\",\"Smartwatch\",\"Smartwatch\"],\"y0\":\" \",\"yaxis\":\"y\",\"type\":\"box\"},{\"alignmentgroup\":\"True\",\"hovertemplate\":\"Fitness Tracker Spec Categories=%{x}<br>Fitness Tracker Values=%{y}<extra></extra>\",\"legendgroup\":\"Model Name\",\"marker\":{\"color\":\"#deab58\"},\"name\":\"Model Name\",\"notched\":false,\"offsetgroup\":\"Model Name\",\"orientation\":\"v\",\"showlegend\":true,\"x\":[\"Model Name\",\"Model Name\",\"Model Name\",\"Model Name\",\"Model Name\",\"Model Name\",\"Model Name\",\"Model Name\",\"Model Name\",\"Model Name\",\"Model Name\",\"Model Name\",\"Model Name\",\"Model Name\",\"Model Name\",\"Model Name\",\"Model Name\",\"Model Name\",\"Model Name\",\"Model Name\",\"Model Name\",\"Model Name\",\"Model Name\",\"Model Name\",\"Model Name\",\"Model Name\",\"Model Name\",\"Model Name\",\"Model Name\",\"Model Name\",\"Model Name\",\"Model Name\",\"Model Name\",\"Model Name\",\"Model Name\",\"Model Name\",\"Model Name\",\"Model Name\",\"Model Name\",\"Model Name\",\"Model Name\",\"Model Name\",\"Model Name\",\"Model Name\",\"Model Name\",\"Model Name\",\"Model Name\",\"Model Name\",\"Model Name\",\"Model Name\",\"Model Name\",\"Model Name\",\"Model Name\",\"Model Name\",\"Model Name\",\"Model Name\",\"Model Name\",\"Model Name\",\"Model Name\",\"Model Name\",\"Model Name\",\"Model Name\",\"Model Name\",\"Model Name\",\"Model Name\",\"Model Name\",\"Model Name\",\"Model Name\",\"Model Name\",\"Model Name\",\"Model Name\",\"Model Name\",\"Model Name\",\"Model Name\",\"Model Name\",\"Model Name\",\"Model Name\",\"Model Name\",\"Model Name\",\"Model Name\",\"Model Name\",\"Model Name\",\"Model Name\",\"Model Name\",\"Model Name\",\"Model Name\",\"Model Name\",\"Model Name\",\"Model Name\",\"Model Name\",\"Model Name\",\"Model Name\",\"Model Name\",\"Model Name\",\"Model Name\",\"Model Name\",\"Model Name\",\"Model Name\",\"Model Name\",\"Model Name\",\"Model Name\",\"Model Name\",\"Model Name\",\"Model Name\",\"Model Name\",\"Model Name\",\"Model Name\",\"Model Name\",\"Model Name\",\"Model Name\",\"Model Name\",\"Model Name\",\"Model Name\",\"Model Name\",\"Model Name\",\"Model Name\",\"Model Name\",\"Model Name\",\"Model Name\",\"Model Name\",\"Model Name\",\"Model Name\",\"Model Name\",\"Model Name\",\"Model Name\",\"Model Name\",\"Model Name\",\"Model Name\",\"Model Name\",\"Model Name\",\"Model Name\",\"Model Name\",\"Model Name\",\"Model Name\",\"Model Name\",\"Model Name\",\"Model Name\",\"Model Name\",\"Model Name\",\"Model Name\",\"Model Name\",\"Model Name\",\"Model Name\",\"Model Name\",\"Model Name\",\"Model Name\",\"Model Name\",\"Model Name\",\"Model Name\",\"Model Name\",\"Model Name\",\"Model Name\",\"Model Name\",\"Model Name\",\"Model Name\",\"Model Name\",\"Model Name\",\"Model Name\",\"Model Name\",\"Model Name\",\"Model Name\",\"Model Name\",\"Model Name\",\"Model Name\",\"Model Name\",\"Model Name\",\"Model Name\",\"Model Name\",\"Model Name\",\"Model Name\",\"Model Name\",\"Model Name\",\"Model Name\",\"Model Name\",\"Model Name\",\"Model Name\",\"Model Name\",\"Model Name\",\"Model Name\",\"Model Name\",\"Model Name\",\"Model Name\",\"Model Name\",\"Model Name\",\"Model Name\",\"Model Name\",\"Model Name\",\"Model Name\",\"Model Name\",\"Model Name\",\"Model Name\",\"Model Name\",\"Model Name\",\"Model Name\",\"Model Name\",\"Model Name\",\"Model Name\",\"Model Name\",\"Model Name\",\"Model Name\",\"Model Name\",\"Model Name\",\"Model Name\",\"Model Name\",\"Model Name\",\"Model Name\",\"Model Name\",\"Model Name\",\"Model Name\",\"Model Name\",\"Model Name\",\"Model Name\",\"Model Name\",\"Model Name\",\"Model Name\",\"Model Name\",\"Model Name\",\"Model Name\",\"Model Name\",\"Model Name\",\"Model Name\",\"Model Name\",\"Model Name\",\"Model Name\",\"Model Name\",\"Model Name\",\"Model Name\",\"Model Name\",\"Model Name\",\"Model Name\",\"Model Name\",\"Model Name\",\"Model Name\",\"Model Name\",\"Model Name\",\"Model Name\",\"Model Name\",\"Model Name\",\"Model Name\",\"Model Name\",\"Model Name\",\"Model Name\",\"Model Name\",\"Model Name\",\"Model Name\",\"Model Name\",\"Model Name\",\"Model Name\",\"Model Name\",\"Model Name\",\"Model Name\",\"Model Name\",\"Model Name\",\"Model Name\",\"Model Name\",\"Model Name\",\"Model Name\",\"Model Name\",\"Model Name\",\"Model Name\",\"Model Name\",\"Model Name\",\"Model Name\",\"Model Name\",\"Model Name\",\"Model Name\",\"Model Name\",\"Model Name\",\"Model Name\",\"Model Name\",\"Model Name\",\"Model Name\",\"Model Name\",\"Model Name\",\"Model Name\",\"Model Name\",\"Model Name\",\"Model Name\",\"Model Name\",\"Model Name\",\"Model Name\",\"Model Name\",\"Model Name\",\"Model Name\",\"Model Name\",\"Model Name\",\"Model Name\",\"Model Name\",\"Model Name\",\"Model Name\",\"Model Name\",\"Model Name\",\"Model Name\",\"Model Name\",\"Model Name\",\"Model Name\",\"Model Name\",\"Model Name\",\"Model Name\",\"Model Name\",\"Model Name\",\"Model Name\",\"Model Name\",\"Model Name\",\"Model Name\",\"Model Name\",\"Model Name\",\"Model Name\",\"Model Name\",\"Model Name\",\"Model Name\",\"Model Name\",\"Model Name\",\"Model Name\",\"Model Name\",\"Model Name\",\"Model Name\",\"Model Name\",\"Model Name\",\"Model Name\",\"Model Name\",\"Model Name\",\"Model Name\",\"Model Name\",\"Model Name\",\"Model Name\",\"Model Name\",\"Model Name\",\"Model Name\",\"Model Name\",\"Model Name\",\"Model Name\",\"Model Name\",\"Model Name\",\"Model Name\",\"Model Name\",\"Model Name\",\"Model Name\",\"Model Name\",\"Model Name\",\"Model Name\",\"Model Name\",\"Model Name\",\"Model Name\",\"Model Name\",\"Model Name\",\"Model Name\",\"Model Name\",\"Model Name\",\"Model Name\",\"Model Name\",\"Model Name\",\"Model Name\",\"Model Name\",\"Model Name\",\"Model Name\",\"Model Name\",\"Model Name\",\"Model Name\",\"Model Name\",\"Model Name\",\"Model Name\",\"Model Name\",\"Model Name\",\"Model Name\",\"Model Name\",\"Model Name\",\"Model Name\",\"Model Name\",\"Model Name\",\"Model Name\",\"Model Name\",\"Model Name\",\"Model Name\",\"Model Name\",\"Model Name\",\"Model Name\",\"Model Name\",\"Model Name\",\"Model Name\",\"Model Name\",\"Model Name\",\"Model Name\",\"Model Name\",\"Model Name\",\"Model Name\",\"Model Name\",\"Model Name\",\"Model Name\",\"Model Name\",\"Model Name\",\"Model Name\",\"Model Name\",\"Model Name\",\"Model Name\",\"Model Name\",\"Model Name\",\"Model Name\",\"Model Name\",\"Model Name\",\"Model Name\",\"Model Name\",\"Model Name\",\"Model Name\",\"Model Name\",\"Model Name\",\"Model Name\",\"Model Name\",\"Model Name\",\"Model Name\",\"Model Name\",\"Model Name\",\"Model Name\",\"Model Name\",\"Model Name\",\"Model Name\",\"Model Name\",\"Model Name\",\"Model Name\",\"Model Name\",\"Model Name\",\"Model Name\",\"Model Name\",\"Model Name\",\"Model Name\",\"Model Name\",\"Model Name\",\"Model Name\",\"Model Name\",\"Model Name\",\"Model Name\",\"Model Name\",\"Model Name\",\"Model Name\",\"Model Name\",\"Model Name\",\"Model Name\",\"Model Name\",\"Model Name\",\"Model Name\",\"Model Name\",\"Model Name\",\"Model Name\",\"Model Name\",\"Model Name\",\"Model Name\",\"Model Name\",\"Model Name\",\"Model Name\",\"Model Name\",\"Model Name\",\"Model Name\",\"Model Name\",\"Model Name\",\"Model Name\",\"Model Name\",\"Model Name\",\"Model Name\",\"Model Name\",\"Model Name\",\"Model Name\",\"Model Name\",\"Model Name\",\"Model Name\",\"Model Name\",\"Model Name\",\"Model Name\",\"Model Name\",\"Model Name\",\"Model Name\",\"Model Name\",\"Model Name\",\"Model Name\",\"Model Name\",\"Model Name\",\"Model Name\",\"Model Name\",\"Model Name\",\"Model Name\",\"Model Name\",\"Model Name\",\"Model Name\",\"Model Name\",\"Model Name\",\"Model Name\",\"Model Name\",\"Model Name\",\"Model Name\",\"Model Name\",\"Model Name\",\"Model Name\",\"Model Name\",\"Model Name\",\"Model Name\",\"Model Name\",\"Model Name\",\"Model Name\",\"Model Name\",\"Model Name\",\"Model Name\",\"Model Name\",\"Model Name\",\"Model Name\",\"Model Name\",\"Model Name\",\"Model Name\",\"Model Name\",\"Model Name\",\"Model Name\",\"Model Name\",\"Model Name\",\"Model Name\",\"Model Name\",\"Model Name\",\"Model Name\",\"Model Name\",\"Model Name\",\"Model Name\",\"Model Name\",\"Model Name\",\"Model Name\",\"Model Name\",\"Model Name\",\"Model Name\",\"Model Name\",\"Model Name\",\"Model Name\",\"Model Name\",\"Model Name\",\"Model Name\",\"Model Name\",\"Model Name\",\"Model Name\",\"Model Name\",\"Model Name\",\"Model Name\",\"Model Name\",\"Model Name\",\"Model Name\",\"Model Name\",\"Model Name\",\"Model Name\",\"Model Name\",\"Model Name\",\"Model Name\",\"Model Name\",\"Model Name\",\"Model Name\",\"Model Name\",\"Model Name\",\"Model Name\",\"Model Name\",\"Model Name\",\"Model Name\",\"Model Name\",\"Model Name\",\"Model Name\",\"Model Name\",\"Model Name\",\"Model Name\",\"Model Name\",\"Model Name\",\"Model Name\",\"Model Name\",\"Model Name\",\"Model Name\",\"Model Name\",\"Model Name\",\"Model Name\",\"Model Name\",\"Model Name\",\"Model Name\",\"Model Name\",\"Model Name\",\"Model Name\",\"Model Name\",\"Model Name\",\"Model Name\",\"Model Name\",\"Model Name\",\"Model Name\",\"Model Name\",\"Model Name\",\"Model Name\",\"Model Name\",\"Model Name\",\"Model Name\",\"Model Name\",\"Model Name\",\"Model Name\",\"Model Name\",\"Model Name\",\"Model Name\",\"Model Name\",\"Model Name\",\"Model Name\",\"Model Name\",\"Model Name\",\"Model Name\",\"Model Name\",\"Model Name\",\"Model Name\",\"Model Name\",\"Model Name\",\"Model Name\",\"Model Name\",\"Model Name\",\"Model Name\",\"Model Name\",\"Model Name\"],\"x0\":\" \",\"xaxis\":\"x\",\"y\":[\"Smart Band 5\",\"Smart Band 4\",\"HMSH01GE\",\"Smart Band 5\",\"Band 3\",\"Band - HRX Edition\",\"Band 2\",\"Revolve\",\"RevolveActive\",\"Smart Band 3i\",\"Steven Harrington Edition Band\",\"Band\",\"Versa 2\",\"Sense\",\"Versa 3\",\"Charge 4\",\"Inspire\",\"Inspire 2\",\"Lunar\",\"Charge 4\",\"FB413LVLV\",\"Flex Small\",\"Inspire HR\",\"Inspire\",\"Charge 3\",\"Versa Special Edition\",\"Ionic\",\"Versa 2 Special Edition\",\"Ionic\",\"Ionic\",\"Versa\",\"Versa\",\"Surge\",\"Charge 2\",\"Charge 3 Special Edition\",\"Blaze\",\"Blaze\",\"Blaze\",\"Surge\",\"Alta HR\",\"Charge 2\",\"Versa Lite Edition\",\"Surge\",\"versa\",\"Versa\",\"Charge HR\",\"Charge HR\",\"Alta HR\",\"Versa Lite Edition\",\"Alta\",\"Versa 3\",\"Charge 2\",\"Versa\",\"Versa 2\",\"Surge\",\"Charge 3\",\"Charge 2\",\"Charge 2\",\"Charge 2\",\"Charge 2\",\"Charge 2\",\"Inspire HR\",\"Inspire HR\",\"Band 2\",\"Band\",\"Smart band\",\"Band\",\"Band 4\",\"Band 2\",\"Band 2\",\"Band 2\",\"Band 6\",\"Band 2 Pro Activity\",\"Band 6\",\"Band 4\",\"Band 3\",\"Band 5i\",\"Band 3\",\"Band 5\",\"Band 5\",\"Band 5\",\"Band 4\",\"Band 5i\",\"band 4 running\",\"Band Z1\",\"Band 3\",\"Beat\",\"Vital 3.0\",\"Band 5\",\"Watch\",\"Mambo\",\"BeFit\",\"ColorFit\",\"ColorFit2\",\"46 mm\",\"41mm\",\"2 Pro\",\"2S\",\"S\",\"S\",\"S Pro\",\"S Master\",\"Fashion\",\"Classic\",\"Reflex 3.0\",\"Reflex 3.0\",\"Reflex Beat\",\"Reflex Smart Band\",\"Reflex Smart Band\",\"Reflex 2.0\",\"Storm\",\"Xplorer\",\"Delta\",\"O2\",\"ColorFit Qube SpO2\",\"ColorFit Pro 3\",\"ColorFit Qube SpO2\",\"ColorFit Brio\",\"ColorFit Pro 2\",\"Fit Active\",\"ColorFit Qube\",\"ColorFit Pro 2 Oxy\",\"ColorFit Brio\",\"NoiseFit Endure\",\"NoiseFit Endure\",\"ColorFit Pro\",\"ColorFit Pro\",\"Fit Evolve\",\"Fusiom Hybrid\",\"Evolve\",\"NoiseFit Endure\",\"Z1\",\"GS Pro\",\"GS Pro\",\"Watch Magic\",\"Magic Watch 2\",\"Watch ES\",\"Magic Watch\",\"Amazfit GTS\",\"Amazfit GTS\",\"Amazfit GTS\",\"Amazfit GTS\",\"Amazfit Bip U\",\"Amazfit Bip S Lite\",\"Amazfit T-Rex\",\"Amazfit GTS 2e\",\"Amazfit GTR 2 Aluminium\",\"Amazfit GTS 2\",\"Amazfit GTR 2 Stainless Steel\",\"Amazfit Bip\",\"Amazfit GTR 42 mm Glitter\",\"Amazfit Neo\",\"Amazfit Bip S\",\"Amazfit GTR 42\",\"Amazfit Stratos 3\",\"Amazfit GTR 42\",\"Amazfit Pace\",\"Amazfit Bip S\",\"Amazfit Bip S\",\"Amazfit Bip\",\"Amazfit Bip S\",\"Amazfit GTR 47\",\"Amazfit GTR 47\",\"Amazfit Verge\",\"Amazfit Verge\",\"Amazfit Verge\",\"Amazfit Bip\",\"Amazfit Verge\",\"Amazfit Bip\",\"Amazfit Stratos\",\"Amazfit Bip Lite\",\"Amazfit Verge Lite\",\"Amazfit Bip\",\"Bip Lite On\",\"Galaxy Active 2\",\"Galaxy Active 2\",\"Galaxy Classic 4\",\"Galaxy Classic 4\",\"Galaxy Classic 4\",\"Galaxy Classic 4 LTE\",\"Galaxy Fit-e Smart\",\"Galaxy Fit-e Smart\",\"Galaxy Fit\",\"Galaxy Watch 3\",\"Galaxy Watch 4 LTE\",\"Galaxy Watch 4 Classic LTE\",\"Galaxy Watch 4 LTE\",\"Galaxy Active 2\",\"Galaxy 46mm\",\"Galaxy Classic 4 LTE\",\"Galaxy Active Steel 2 LTE\",\"Galaxy Active Steel 2\",\"Galaxy Classic 4\",\"Galaxy Active 42mm\",\"Galaxy 44mm\",\"Galaxy LTE\",\"Gear Fit 2\",\"Gear Fit\",\"Galaxy Active 2 Steel\",\"Gear S2\",\"Galaxy Active Steel\",\"Gear Fit 2 Pro\",\"Gear Fit 2\",\"Gear 2\",\"Neo Gear 2\",\"Galaxy Active 46mm\",\"Galaxy Watch LTE\",\"Galaxy 42\",\"Gear Live\",\"Gear Fit 2\",\"Galaxy Watch 3\",\"Galaxy 42\",\"Gear S3 Frontier\",\"Gear Sport\",\"Gear S2 Classic\",\"T-Mobile\",\"Gear S2\",\"R600NZBAXAR 600\",\"Gear S2 Classic\",\"Gear R730V S2\",\"Galaxy Gear\",\"Activity Tracker\",\"Gen 5 Carlyle HR\",\"Gen 5 Carlyle HR\",\"Gen 5 Garrett HR\",\"Gen 5 Julianna HR\",\"Gen 5 Julianna HR\",\"Latitude Hybrid HR\",\"Gen 5 Garrett HR\",\"FB-01 Hybrid HR\",\"Gen 5 Julianna HR\",\"Collider Hybrid\",\"Collider Hybrid\",\"Sadie Hybrid\",\"FB-01 Hybrid HR\",\"Commuter\",\"Latitude Hybrid HR\",\"Sport\",\"Charter Hybrid HR\",\"Carlie Hybrid\",\"Carlie\",\"Neutra Hybrid\",\"Q Venture\",\"Jacqueline\",\"Q Neely\",\"FTW5018 Hybrid\",\"FTW5012 Hybrid\",\"Jacqueline Hybrid\",\"Q Annette\",\"Gen 5 Julianna HR\",\"FTW6007\",\"Gen 5E\",\"Neutra Hybrid\",\"Gen 5 Julianna HR\",\"FTW1151 Hybrid\",\"Barstow Hybrid\",\"Wander RG\",\"Charter Hybrid HR\",\"Q Wander\",\"Q Founder\",\"Garrett Hybrid\",\"Q Explorist\",\"Marshall\",\"Gen 3 Q Venture\",\"FTW4003\",\"Gen 5E\",\"Sport 43\",\"The Carlyle HR\",\"Garrett HR\",\"4th Gen Explorist HR\",\"Sport\",\"FTW6001\",\"Q Founder 2.0\",\"Cameron Hybrid\",\"Gen 3 Q Explorist\",\"4th Gen Venture HR\",\"FTW6005\",\"Marshall\",\"Garrett Hybrid\",\"4th Gen Venture HR\",\"Marshall\",\"FTW1161 Hybrid\",\"FTW1142 Q Hybrid\",\"Jacqueline Hybrid\",\"Gen 3 Q Explorist\",\"Gen 5 Julianna HR\",\"Cameron Hybrid Smartwatch\",\"Gen 3 Q Venture\",\"Jacqueline Hybrid\",\"Q Annette\",\"Sport 43\",\"Sport 41\",\"Gen 3 Q Explorist\",\"Marshall\",\"Q Jacqueline\",\"Garrett\",\"Machine Hybrid\",\"Sloan HR\",\"Sloan HR\",\"Garrett Hybrid\",\"4th Gen Venture HR\",\"Gen 3 Q Explorist\",\"Charter Hybrid HR\",\"Q Wander\",\"Neely\",\"Rose Gold Smart\",\"Q Founder 2.0\",\"FTW1159 Hybrid\",\"Q Wander\",\"FTW4010 Gold HR\",\"FTW6009 Black HR\",\"Eleanor Hybrid\",\"FTW1146 Q Hybrid\",\"Jacqueline Hybrid\",\"FTW20013 Q\",\"FTW5016 Hybrid\",\"FTW5017 Hybrid\",\"FTW1141 Q Hybrid\",\"Sport\",\"FTW5003 Hybrid\",\"Jacqueline Hybrid\",\"Commuter Hybrid\",\"Q MACHINE\",\"FB-01 Hybrid\",\"Q Jacqueline\",\"Q GRANT\",\"FTW2114 Q\",\"FTW1140 Q Hybrid\",\"Garrett HR\",\"FTW1134 Q Hybrid\",\"Carlie Hybrid\",\"Q Control\",\"Q Control\",\"FTW1144 Q Hybrid\",\"Rose Gold HR\",\"5th Gen Julianna\",\"Q Venture\",\"Q Machine\",\"FTW1145 Q Hybrid\",\"FTW5011 Hybrid\",\"FTW2120SET Q\",\"FTW1136 Q Hybrid\",\"Q Venture\",\"FTW2115 Q Watch\",\"FTW6010 Pink HR\",\"Q ACTIVIST\",\"Carlie Hybrid\",\"FTW1154 Hybrid\",\"FTW5015 Hybrid\",\"Sport\",\"Sloan HR\",\"Q GRANT\",\"Sport 41\",\"FTW6006 Gold HR\",\"Series 3 GPS - 42 mm Space Grey Aluminium Case\",\"SE 44 mm Space Grey Aluminium Case\",\"Series 3 GPS - 38 mm Space Grey Aluminium Case\",\"SE GPS + Cellular 44 mm Aluminium Case\",\"SE GPS + Cellular 40 mm Space Grey Aluminium Case\",\"SE 40 mm Space Grey Aluminium Case\",\"Series 6 GPS + Cellular 40 mm Red Aluminium Case\",\"SE 44 mm Gold Aluminium Case\",\"SE GPS + Cellular 40 mm Gold Aluminium Case\",\"SE GPS + Cellular 40 mm Aluminium Case\",\"Series 6 GPS 40 mm Silver Aluminium Case\",\"Series 6 GPS + Cellular 40 mm Blue Aluminium Case\",\"Series 6 GPS + Cellular 40 mm Graphite Stainless Steel Case\",\"Series 6 GPS 44 mm Red Aluminium Case\",\"SE GPS 44 mm Aluminium Case\",\"Series 6 GPS + Cellular 40 mm Space Grey Aluminium Case\",\"Series 6 GPS + Cellular 40 mm Space Grey Aluminium Case\",\"Series 5 GPS + Cellular 40 mm Space Black Stainless Steel Case\",\"Series 5 GPS + Cellular 44 mm Gold Stainless Steel Case\",\"Series 6 GPS 44 mm Blue Aluminium Case\",\"Series 6 GPS + Cellular 44 mm Silver Aluminium Case\",\"Series 6 GPS + Cellular 40 mm Gold Aluminium Case\",\"Series 6 GPS + Cellular 40 mm Gold Stainless Steel Case\",\"Series 5 GPS + Cellular 40 mm Stainless Steel Case\",\"Series 5 GPS + Cellular 44 mm Gold Aluminium Case\",\"Series 5 GPS + Cellular 44 mm Space Grey Aluminium Case\",\"Series 2 - 38 mm Stainless Steel Case\",\"Series 2 - 42 mm Stainless Steel Case\",\"Series 2 - 42 mm Space Black Stainless Steel Case\",\"Series 6 GPS + Cellular 40 mm Red Aluminium Case\",\"Series 5 GPS + Cellular 40 mm Space Grey Aluminium Case\",\"Series 6 GPS + Cellular 40 mm Silver Aluminium Case\",\"Series 6 GPS + Cellular 40 mm Gold Stainless Steel Case\",\"SE GPS 40 mm Aluminium Case\",\"Series 5 GPS + Cellular 44 mm Stainless Steel Case\",\"Series 5 GPS + Cellular 44 mm Gold Stainless Steel Case\",\"Series 5 GPS 40 mm Silver Aluminium Case\",\"Series 6 GPS 44 mm Blue Aluminium Case\",\"Series 7 GPS 45 mm\",\"SE GPS + Cellular 44 mm Space Grey Aluminium Case\",\"SE GPS + Cellular 40 mm Space Grey Aluminium Case\",\"Series 6 GPS + Cellular 44 mm Space Grey Aluminium Case\",\"Series 7 GPS + Cellular 41 mm Aluminium\",\"Series 7 GPS + Cellular, 45 mm Aluminium\",\"SE GPS + Cellular 40 mm Silver Aluminium Case\",\"Series 6 GPS 40 mm Blue Aluminium Case\",\"SE GPS + Cellular 40 mm Silver Aluminium Case\",\"Series 6 GPS 40 mm Gold Aluminium Case\",\"SE GPS + Cellular 44 mm Space Grey Aluminium Case\",\"SE GPS + Cellular 40 mm Gold Aluminium Case\",\"Series 6 GPS + Cellular 44 mm Red Aluminium Case\",\"Series 6 GPS 40 mm Space Grey Aluminium Case\",\"Series 6 GPS + Cellular 44 mm Silver Stainless Steel Case\",\"Nike Series 5 GPS + Cellular 44 mm\",\"Series 6 GPS + Cellular 44 mm Blue Aluminium Case\",\"SE GPS + Cellular 40 mm Gold Aluminium Case\",\"SE GPS + Cellular 44 mm Gold Aluminium Case\",\"SE GPS + Cellular 44 mm Silver Aluminium Case\",\"Series 6 GPS 44 mm Space Grey Aluminium Case\",\"SE GPS + Cellular 44 mm Silver Aluminium Case\",\"Series 6 GPS 44 mm Silver Aluminium Case\",\"Series 6 GPS + Cellular 44 mm Graphite Stainless Steel Case\",\"SE GPS + Cellular 44 mm Gold Aluminium Case\",\"SE GPS + Cellular 44 mm Gold Aluminium Case\",\"Series 5 GPS + Cellular 44 mm Space Black Stainless Steel Case\",\"42 mm White Ceramic Case with Cloud Sport\",\"Series 7 GPS 41 mm Aluminium Case\",\"38 mm Space Black Stainless Steel Case\",\"Series 7 GPS + Cellular, 45 mm Stainless Steel\",\"Sport 42 mm Space Grey Aluminium Case\",\"Series 7 GPS + Cellular, 45 mm Stainless Steel\",\"8 mm Stainless Steel Case\",\"Series 7 GPS + Cellular, 41 mm Stainless Steel\",\"42 mm Black Stainless Steel Case with Link Bracelet\",\"42 mm Space Gray Aluminium\",\"Series 1 - 38 mm Silver Aluminium Case\",\"Series 3 GPS + Cellular- 42 mm Gray Ceramic Case\",\"42 mm Stainless Steel Case\",\"Series 1 - 42 mm Gold Aluminium Case\",\"2 - 42 mm Silver Aluminium Case\",\"Nike+ GPS - 42 mm Space Gray Aluminium Case\",\"Series 3 GPS + Cellular- 42 mm White Ceramic Case\",\"38 mm Stainless Steel Stainless Steel Case with Modern Buckle\",\"8 mm Stainless Steel Case\",\"series 2 - 38 mm Stainless Steel Case\",\"Nike+ - 38 mm Space Gray Aluminium Case\",\"Venu Sq - Music Edition\",\"Venu Sq\",\"Garmin Instinct Tactical\",\"Venu\",\"Forerunner 45\",\"Venu 2\",\"Vivosmart 4\",\"Garmin Instinct HR\",\"Approach S62\",\"Venu 2S\",\"Forerunner 245 Music\",\"Garmin Instinct HR\",\"Instinct\",\"Forerunner 245\",\"Vivomove Style\",\"Fenix 6 Pro Solar\",\"Fenix 6X\",\"FORERUNNER 745 Magma Red\",\"Fenix 6\",\"Lily\",\"Approach S12\",\"Instinct\",\"Vivomove 3\",\"Fenix 6X Solar\",\"Fenix 6\",\"Fenix 5X\",\"Vivomove Luxe\",\"Fenix 6\",\"Vivomove\",\"Fenix 6S\",\"Forerunner 945\",\"Forerunner 55\",\"VIVOMOVE LUXE\",\"Lily\",\"Fenix 5X Plus\",\"Swim 2\",\"Vivoactive 3 Element\",\"Vivomove 3S\",\"Forerunner 55\",\"Vivoactive 3 Music\",\"Vivomove HR\",\"Fenix 6X\",\"HRM-Swim\",\"Garmin Instinct Solar Tactical\",\"Fenix 5S Frost Blue\",\"Forerunner 935\",\"Hybrid 3\",\"Forerunner 245 Music Japan Edition\",\"Fenix 5\",\"Instinct Solar Tidal\",\"Fenix 5S Plus\",\"Fenix 6 Sapphire Titanium\",\"Fenix 6 Sapphire Gray DLC\",\"Vivoactive 3 Music\",\"Forerunner 935\",\"Forerunner 745 Whitestone\",\"VIVOACTIVE 4S\",\"Forerunner 935\",\"Forerunner 235\",\"Fenix 6S\",\"Forerunner 235\",\"Venu\",\"Vivoactive 4\",\"Forerunner 245 Music\",\"Fenix 6 Pro Solar\",\"Garmin Instinct Solar Tactical\",\"Forerunner 745 Black\",\"Vivoactive HR\",\"Fenix 5s\",\"vivoactive 4S 40mm\",\"Instinct\",\"Instinct Solar Camo Edition\",\"Vivomove 3S\",\"Lily\",\"Vivoactive 3 Element Cerise\",\"Forerunner 235\",\"VIVOMOVE 3S Navy\",\"Fenix 5s\",\"Vivoactive 4\",\"Vivoactive 3 Music\",\"Forerunner15 Heart\",\"Running GPS 935\",\"Forerunner\",\"Approach S20\",\"Forerunner 235 Activity Tracker\",\"Vivoactive 3 element\",\"Fenix\",\"Forerunner 35\",\"Forerunner\",\"Forerunner\",\"Vivoactive 3 element\",\"Rubber 35\",\"FORRUNNER 235\",\"Forerunner\",\"Forerunner Fitness Notifier\",\"Vivomove HR\",\"Vivoactive 3 element\",\"Vivoactive\",\"Forerunner 735XT\",\"HR GPS Smart\",\"Hybrid\",\"Watch\",\"GT2 46mm\",\"GT2 Pro\",\"GT2 Pro\",\"GT2 eSport\",\"GT2 eSport\",\"GT2 eActive\",\"GT2 42mm\",\"Stainless Steel\",\"GT Active\",\"GT Active\",\"GT Sport\",\"GT Classic\",\"GT2 46mm\",\"Fit\",\"Fit\",\"Watch 2 Sport\",\"Watch 32564546\",\"Watch 2\",\"Watch 36456\",\"GT Fortuna-B19S Sport\",\"HR\",\"Vital\",\"Gen 5E\",\"Vertex\",\"Orbit Sport\",\"Ignite S3\",\"Ace\",\"Orbit \",\"Ignite  \",\"Ignite Pro\",\"Orbit - Special Edition\",\"Trak\",\"Watch 2\",\"Watch Pro\",\"ColorFit Caliber\",\"Evolve 2 \",\"ColorFit IconBuzz\",\"Pulsefit\",\"Pulsefit P461\",\"Pulsefit P261\",\"Tronite\",\"Rhythm\",\"ZEB-FIT8220CH\",\"ZEB-FIT4220CH\",\"ZEB-FIT920CH\",\"ZEB-FITMe\",\"ZEB-FIT5220CH\",\"ZEB-FIT1220CH\",\"ZEB-FIT5220CH\",\"ZEB-FIT650CH\",\"Smarttime 200\",\"ZEB-FIT450\",\"zeb-fit\",\"Fit-650\",\"Ninja touch to Wake\",\"Ultron\",\"Ninja Pro\",\"Mercury\",\"SpO2 Full Touch\",\"Max\",\"AI-BT Calling\",\"BSW004\",\"Spin\",\"Talk Bluetooth\",\"Almighty\",\"Mercury\",\"Spin\",\"Ninja Pro\"],\"y0\":\" \",\"yaxis\":\"y\",\"type\":\"box\"},{\"alignmentgroup\":\"True\",\"hovertemplate\":\"Fitness Tracker Spec Categories=%{x}<br>Fitness Tracker Values=%{y}<extra></extra>\",\"legendgroup\":\"Color\",\"marker\":{\"color\":\"#eaa836\"},\"name\":\"Color\",\"notched\":false,\"offsetgroup\":\"Color\",\"orientation\":\"v\",\"showlegend\":true,\"x\":[\"Color\",\"Color\",\"Color\",\"Color\",\"Color\",\"Color\",\"Color\",\"Color\",\"Color\",\"Color\",\"Color\",\"Color\",\"Color\",\"Color\",\"Color\",\"Color\",\"Color\",\"Color\",\"Color\",\"Color\",\"Color\",\"Color\",\"Color\",\"Color\",\"Color\",\"Color\",\"Color\",\"Color\",\"Color\",\"Color\",\"Color\",\"Color\",\"Color\",\"Color\",\"Color\",\"Color\",\"Color\",\"Color\",\"Color\",\"Color\",\"Color\",\"Color\",\"Color\",\"Color\",\"Color\",\"Color\",\"Color\",\"Color\",\"Color\",\"Color\",\"Color\",\"Color\",\"Color\",\"Color\",\"Color\",\"Color\",\"Color\",\"Color\",\"Color\",\"Color\",\"Color\",\"Color\",\"Color\",\"Color\",\"Color\",\"Color\",\"Color\",\"Color\",\"Color\",\"Color\",\"Color\",\"Color\",\"Color\",\"Color\",\"Color\",\"Color\",\"Color\",\"Color\",\"Color\",\"Color\",\"Color\",\"Color\",\"Color\",\"Color\",\"Color\",\"Color\",\"Color\",\"Color\",\"Color\",\"Color\",\"Color\",\"Color\",\"Color\",\"Color\",\"Color\",\"Color\",\"Color\",\"Color\",\"Color\",\"Color\",\"Color\",\"Color\",\"Color\",\"Color\",\"Color\",\"Color\",\"Color\",\"Color\",\"Color\",\"Color\",\"Color\",\"Color\",\"Color\",\"Color\",\"Color\",\"Color\",\"Color\",\"Color\",\"Color\",\"Color\",\"Color\",\"Color\",\"Color\",\"Color\",\"Color\",\"Color\",\"Color\",\"Color\",\"Color\",\"Color\",\"Color\",\"Color\",\"Color\",\"Color\",\"Color\",\"Color\",\"Color\",\"Color\",\"Color\",\"Color\",\"Color\",\"Color\",\"Color\",\"Color\",\"Color\",\"Color\",\"Color\",\"Color\",\"Color\",\"Color\",\"Color\",\"Color\",\"Color\",\"Color\",\"Color\",\"Color\",\"Color\",\"Color\",\"Color\",\"Color\",\"Color\",\"Color\",\"Color\",\"Color\",\"Color\",\"Color\",\"Color\",\"Color\",\"Color\",\"Color\",\"Color\",\"Color\",\"Color\",\"Color\",\"Color\",\"Color\",\"Color\",\"Color\",\"Color\",\"Color\",\"Color\",\"Color\",\"Color\",\"Color\",\"Color\",\"Color\",\"Color\",\"Color\",\"Color\",\"Color\",\"Color\",\"Color\",\"Color\",\"Color\",\"Color\",\"Color\",\"Color\",\"Color\",\"Color\",\"Color\",\"Color\",\"Color\",\"Color\",\"Color\",\"Color\",\"Color\",\"Color\",\"Color\",\"Color\",\"Color\",\"Color\",\"Color\",\"Color\",\"Color\",\"Color\",\"Color\",\"Color\",\"Color\",\"Color\",\"Color\",\"Color\",\"Color\",\"Color\",\"Color\",\"Color\",\"Color\",\"Color\",\"Color\",\"Color\",\"Color\",\"Color\",\"Color\",\"Color\",\"Color\",\"Color\",\"Color\",\"Color\",\"Color\",\"Color\",\"Color\",\"Color\",\"Color\",\"Color\",\"Color\",\"Color\",\"Color\",\"Color\",\"Color\",\"Color\",\"Color\",\"Color\",\"Color\",\"Color\",\"Color\",\"Color\",\"Color\",\"Color\",\"Color\",\"Color\",\"Color\",\"Color\",\"Color\",\"Color\",\"Color\",\"Color\",\"Color\",\"Color\",\"Color\",\"Color\",\"Color\",\"Color\",\"Color\",\"Color\",\"Color\",\"Color\",\"Color\",\"Color\",\"Color\",\"Color\",\"Color\",\"Color\",\"Color\",\"Color\",\"Color\",\"Color\",\"Color\",\"Color\",\"Color\",\"Color\",\"Color\",\"Color\",\"Color\",\"Color\",\"Color\",\"Color\",\"Color\",\"Color\",\"Color\",\"Color\",\"Color\",\"Color\",\"Color\",\"Color\",\"Color\",\"Color\",\"Color\",\"Color\",\"Color\",\"Color\",\"Color\",\"Color\",\"Color\",\"Color\",\"Color\",\"Color\",\"Color\",\"Color\",\"Color\",\"Color\",\"Color\",\"Color\",\"Color\",\"Color\",\"Color\",\"Color\",\"Color\",\"Color\",\"Color\",\"Color\",\"Color\",\"Color\",\"Color\",\"Color\",\"Color\",\"Color\",\"Color\",\"Color\",\"Color\",\"Color\",\"Color\",\"Color\",\"Color\",\"Color\",\"Color\",\"Color\",\"Color\",\"Color\",\"Color\",\"Color\",\"Color\",\"Color\",\"Color\",\"Color\",\"Color\",\"Color\",\"Color\",\"Color\",\"Color\",\"Color\",\"Color\",\"Color\",\"Color\",\"Color\",\"Color\",\"Color\",\"Color\",\"Color\",\"Color\",\"Color\",\"Color\",\"Color\",\"Color\",\"Color\",\"Color\",\"Color\",\"Color\",\"Color\",\"Color\",\"Color\",\"Color\",\"Color\",\"Color\",\"Color\",\"Color\",\"Color\",\"Color\",\"Color\",\"Color\",\"Color\",\"Color\",\"Color\",\"Color\",\"Color\",\"Color\",\"Color\",\"Color\",\"Color\",\"Color\",\"Color\",\"Color\",\"Color\",\"Color\",\"Color\",\"Color\",\"Color\",\"Color\",\"Color\",\"Color\",\"Color\",\"Color\",\"Color\",\"Color\",\"Color\",\"Color\",\"Color\",\"Color\",\"Color\",\"Color\",\"Color\",\"Color\",\"Color\",\"Color\",\"Color\",\"Color\",\"Color\",\"Color\",\"Color\",\"Color\",\"Color\",\"Color\",\"Color\",\"Color\",\"Color\",\"Color\",\"Color\",\"Color\",\"Color\",\"Color\",\"Color\",\"Color\",\"Color\",\"Color\",\"Color\",\"Color\",\"Color\",\"Color\",\"Color\",\"Color\",\"Color\",\"Color\",\"Color\",\"Color\",\"Color\",\"Color\",\"Color\",\"Color\",\"Color\",\"Color\",\"Color\",\"Color\",\"Color\",\"Color\",\"Color\",\"Color\",\"Color\",\"Color\",\"Color\",\"Color\",\"Color\",\"Color\",\"Color\",\"Color\",\"Color\",\"Color\",\"Color\",\"Color\",\"Color\",\"Color\",\"Color\",\"Color\",\"Color\",\"Color\",\"Color\",\"Color\",\"Color\",\"Color\",\"Color\",\"Color\",\"Color\",\"Color\",\"Color\",\"Color\",\"Color\",\"Color\",\"Color\",\"Color\",\"Color\",\"Color\",\"Color\",\"Color\",\"Color\",\"Color\",\"Color\",\"Color\",\"Color\",\"Color\",\"Color\",\"Color\",\"Color\",\"Color\",\"Color\",\"Color\",\"Color\",\"Color\",\"Color\",\"Color\",\"Color\",\"Color\",\"Color\",\"Color\",\"Color\",\"Color\",\"Color\",\"Color\",\"Color\",\"Color\",\"Color\",\"Color\",\"Color\",\"Color\",\"Color\",\"Color\",\"Color\",\"Color\",\"Color\",\"Color\",\"Color\",\"Color\",\"Color\",\"Color\",\"Color\",\"Color\",\"Color\",\"Color\",\"Color\",\"Color\",\"Color\",\"Color\",\"Color\",\"Color\",\"Color\",\"Color\",\"Color\",\"Color\",\"Color\",\"Color\",\"Color\",\"Color\",\"Color\",\"Color\",\"Color\",\"Color\",\"Color\",\"Color\",\"Color\",\"Color\",\"Color\",\"Color\",\"Color\",\"Color\",\"Color\",\"Color\",\"Color\",\"Color\",\"Color\",\"Color\",\"Color\",\"Color\",\"Color\",\"Color\",\"Color\",\"Color\",\"Color\",\"Color\",\"Color\",\"Color\",\"Color\",\"Color\",\"Color\",\"Color\",\"Color\",\"Color\",\"Color\",\"Color\",\"Color\",\"Color\",\"Color\",\"Color\",\"Color\",\"Color\",\"Color\",\"Color\",\"Color\",\"Color\",\"Color\",\"Color\",\"Color\",\"Color\",\"Color\",\"Color\"],\"x0\":\" \",\"xaxis\":\"x\",\"y\":[\"Black\",\"Black\",\"Black\",\"Black\",\"Black\",\"Black\",\"Black\",\"Black\",\"Black\",\"Black\",\"Blue\",\"Dual Color\",\"Grey, Pink, Black\",\"Black, Pink, Beige\",\"Black, Blue, Pink\",\"Storm Blue, Black, Rosewood\",\"Maroon \",\"Black, Desert Rose, Lunar White\",\"White \",\"Granite Reflective \",\"Lilac \",\"Violet, black, Grey, Teal, Blue, Red\",\"Black \",\"Black \",\"Grey \",\"Charcoal \",\"Black \",\"Multicolor \",\"Blue \",\"Grey \",\"Purple\",\"Grey \",\"Blue\",\"Black \",\"Purple, White\",\"Purple\",\"Blue\",\"Black\",\"Black\",\"Black, Plum, Grey\",\"Plum silver\",\"Purple \",\"Orange\",\"Grey \",\"Pink \",\"Purple \",\"Orange, Pink, Green\",\"Rose Gold, Gun Metal Black\",\"Blue \",\"Black, Purple, Teal, Blue\",\"Black, Blue, Pink\",\"Violet \",\"Black \",\"Purple \",\"Black\",\"Black \",\"Blue \",\"Light Blue\",\"Blue \",\"Black \",\"Sky Blue \",\"Purple \",\"White \",\"Black\",\"Yellow\",\"Grey\",\"Black\",\"Black\",\"Black\",\"Blue\",\"Black\",\"Pink, Black, Teal, Orange\",\"Pink, Black\",\"Sandstone Grey, Meteorite Black, Coral Pink, \",\"Meteorite Black, Midnight Navy\",\"Dynamic Orange\",\"Black\",\"Navy Blue\",\"Black\",\"Black\",\"Olive Green\",\"Black\",\"Black\",\"Black\",\"Black\",\"Black\",\"Black\",\"Black\",\"Black, Blue, Red\",\"Black\",\"Black\",\"Black\",\"Black, Blue\",\"Black, Blue, Pink\",\"Black, Gold\",\"Pink, Silver, Black\",\"Grey\",\"Black\",\"Black, White\",\"Black\",\"Black\",\"Black\",\"Black\",\"Black\",\"Black, Pink\",\"Black\",\"Purple, Black\",\"Orange, Red, Black\",\"Green, Grey\",\"Black, Green\",\"Black, Teal Green, Grey\",\"Black, Red, Blue\",\"Black, Grey, Red\",\"Black, Green\",\"Charcoal Grey, Black, Pink\",\"Green, Grey, Black, Blue, Pink, Red\",\"Charcoal Black, Beige Gold\",\"Black, Pink\",\"Black, Deep Wine, Blue, Grey, Teal\",\"Blue, Black\",\"Black, Green\",\"Black, Blue, Red\",\"Black, Green\",\"Black, Red, Blue\",\"Grey, Green\",\"Black, Blue\",\"Green, Teal, Grey\",\"Red, Black\",\"Blue\",\"Black, Grey, Red\",\"Black, Blue, Teal\",\"Black\",\"Black\",\"Blue\",\"Black\",\"Brown\",\"Black, Pink\",\"Brown\",\"Beige\",\"Black\",\"Pink\",\"Blue\",\"Black, Pink\",\"Black\",\"Green, Grey\",\"Purple\",\"Black, Red\",\"Black\",\"Grey, Blue\",\"Black\",\"White \",\"Black\",\"Black\",\"Black\",\"Black\",\"Red\",\"Black\",\"Red\",\"Green, Grey\",\"Pink\",\"White \",\"Black\",\"Black\",\"Black\",\"Black\",\"Black\",\"Red\",\"Black\",\"Purple\",\"Black\",\"Black\",\"Black\",\"Grey\",\"Black\",\"Black, Beige\",\"Grey\",\"Black\",\"Silver\",\"Silver\",\"Black\",\"Black\",\"Yellow\",\"Silver\",\"Black\",\"Black\",\"Black\",\"Pink\",\"Grey\",\"Grey\",\"Silver, Green\",\"Brown\",\"Black\",\"Blue\",\"Black\",\"Beige\",\"Silver\",\"Blue\",\"Black\",\"Black\",\"Silver, Blue\",\"Blue\",\"Red, Black\",\"Pink, Blue\",\"Black\",\"Black\",\"Black\",\"Beige\",\"Grey\",\"Black\",\"Blue, Black\",\"Black\",\"Black\",\"Black\",\"Black\",\"Black\",\"Black\",\"Silver\",\"Blue\",\"Black\",\"Grey\",\"Gold\",\"Black\",\"Black\",\"Brown, Grey\",\"Silver\",\"Gold\",\"Black\",\"Black\",\"Black\",\"Black\",\"Silver\",\"Black\",\"Brown, Grey\",\"Silver\",\"Silver, Black\",\"Black\",\"Grey\",\"Multicolor\",\"Gold\",\"Gold\",\"Beige\",\"Silver\",\"Blue\",\"Gold\",\"Black\",\"Gold\",\"Brown\",\"Rose Gold\",\"Gold\",\"Grey\",\"Brown\",\"Black, Silver \",\"Brown, Black\",\"Blue\",\"Gold\",\"Brown\",\"Black\",\"Black\",\"Gold\",\"Silver\",\"Black\",\"Black\",\"Grey\",\"Black, Gold\",\"Brown\",\"Grey, Multicolor\",\"Black\",\"Black\",\"Gold\",\"Grey\",\"Red\",\"Gold\",\"Black\",\"Black\",\"Black\",\"Black\",\"Black\",\"Black\",\"Brown\",\"Silver\",\"Blue\",\"Gold\",\"Silver\",\"Navy \",\"Blue\",\"White\",\"Blue\",\"Silver\",\"Black\",\"Silver\",\"Blue\",\"Blue, Black, Gray\",\"Grey\",\"Silver\",\"Gold\",\"Brown\",\"Silver, Brown\",\"Black\",\"Blue\",\"Silver\",\"Black\",\"Silver\",\"Silver\",\"Silver\",\"White\",\"Rose Gold \",\"Blue\",\"Gold\",\"Silver\",\"Gold\",\"Black\",\"Brown, Gold\",\"Gold\",\"Blue\",\"Black\",\"Silver\",\"Gold\",\"Silver\",\"Black\",\"Gold\",\"Silver\",\"Brown\",\"Grey\",\"Blue, Silver\",\"Silver\",\"Grey\",\"Black\",\"Blue\",\"Grey\",\"Gray\",\"Black\",\"multicolor\",\"Brown\",\"Black\",\"Rose Gold \",\"Black \",\"White \",\"Black\",\"Gray\",\"Black\",\"Gray\",\"Blue\",\"Beige\",\"Red\",\"Pink\",\"Brown\",\"Silver\",\"Black\",\"Blue\",\"Grey\",\"Gold\",\"Black\",\"Red, Green\",\"Gold\",\"Black\",\"Black\",\"Black\",\"Black\",\"Charcoal\",\"Black, Pink, White\",\"Red\",\"Pink Sand\",\"Plum\",\"Black\",\"White\",\"Deep Navy\",\"Graphite Milanese\",\"Red\",\"Black\",\"black\",\"White\",\"Black Milanese\",\"Gold Milanese\",\"Deep Navy\",\"White\",\"Pink Sand\",\"Cyprus Green\",\"White\",\"Pink Sand\",\"Black\",\"Saddle Brown\",\"White\",\"Space Black\",\"Red\",\"Black\",\"White\",\"Gold Milanese\",\"Black\",\"Stainless Steel Milanese\",\"Stone\",\"White\",\"Deep Navy\",\"Black\",\"Charcoal\",\"Black\",\"Black\",\"Black\",\"Black\",\"White\",\"Deep Navy\",\"Deep Navy\",\"Pink Sand\",\"Black\",\"Pink Sand\",\"Red\",\"Black\",\"Silver Milanese\",\"Black\",\"Deep Navy\",\"Silver Milanese\",\"Pink Sand\",\"Deep Navy\",\"Black\",\"White\",\"White\",\"Black\",\"Plum\",\"Pink Sand\",\"Black\",\"Cloud\",\"Black\",\"Black\",\"Black\",\"Black\",\"Black\",\"Milanese\",\"Black\",\"Black\",\"Black Woven\",\"White\",\"Black\",\"Leather\",\"Cocoa\",\"Pearl Woven\",\"Black\",\"Black\",\"Black\",\"Saddle Brown\",\"Blue Modern\",\"Black\",\"Multicolor, White, Brown\",\"Grey, White\",\"Black, Brown\",\"Blue\",\"Red, Black\",\"Black, Blue\",\"Purple, Black\",\"Graphite, Sunburst\",\"White, Black\",\"Grey, White\",\"Black, Red \",\"Flame Red\",\"Blue\",\"Grey, Yellow\",\"White, Pink\",\"Grey, Black\",\"Black, Orange, Red\",\"Magma Red\",\"Black, Red, Orange\",\"Purple, Grey, Brown, Black, White \",\"Black, White\",\"Graphite\",\"Black\",\"Black, Grey\",\"Grey, Blue\",\"Black\",\"Black, Silver, White\",\"Black, Grey\",\"Black\",\"Black, Grey\",\"Black, Blue\",\"Black\",\"Navy \",\"Black\",\"White, Black\",\"Slate\",\"Grey\",\"Black\",\"White\",\"Black\",\"Black\",\"Bluw, White \",\"Black\",\"Grey \",\"Blue Sapphire\",\"Tidal Blue\",\"Black\",\"Red, White \",\"Black\",\"Tidal Blue, Flame Red\",\"Blue Sapphire\",\"Blue Sapphire\",\"Black\",\"Blue\",\"Flame Red\",\"White\",\"Powder Gray\",\"Black, Green, Yellow\",\"Black\",\"Black, White\",\"Blue\",\"Black\",\"Black\",\"Grey, White\",\"Yellow\",\"White\",\"Black\",\"Black\",\"Blue Sapphire\",\"Rose Gold, Slate Black\",\"Blue, Orange\",\"Black, Grey\",\"Black\",\"Purple, White\",\"Cerise\",\"Black\",\"Rose Gold\",\"Black, White \",\"Purple\",\"White\",\"Black\",\"Black\",\"Black\",\"Black, White \",\"Black\",\"Black\",\"Black\",\"Frost Blue\",\"Black\",\"Blue\",\"Grey\",\"Black\",\"Black\",\"Black\",\"Black\",\"Black\",\"Blue\",\"Black\",\"Black\",\"Black\",\"Rose Gold\",\"Black, Silver\",\"Black, Brown\",\"Black\",\"Grey\",\"Black\",\"Red\",\"Green, Red\",\"Black\",\"Black\",\"Green\",\"Orange\",\"Black\",\"Brown\",\"Grey\",\"Blue\",\"Orange\",\"Black\",\"Black\",\"Black\",\"Black\",\"Black\",\"Black\",\"Black\",\"Grey, Multicolor\",\"Grey, Blue, Black, Red\",\"Black\",\"Silver, Black, Green\",\"Grey\",\"Black, Blue\",\"Green\",\"Silver, Black\",\"Brown\",\"Black\",\"Black, Blue, Grey, Pink, White\",\"Blue, Black\",\"Black, Blue, White\",\"Black, Grey, Pink\",\"Black, Green, Grey\",\"Black\",\"Black, Blue\",\"Blue\",\"Brown\",\"White\",\"Black, Blue, Red, Rose Gold\",\"Black, Grey, Silver\",\"Black, Grey, Red\",\"Black, Blue, Green, Grey, Pink\",\"Gold\",\"Silver\",\"Blue\",\"Black\",\"Black\",\"Blue\",\"Black, Grey\",\"Black\",\"Beige, Black, Grey\",\"Black, Blue, Grey, Pink \",\"Black, Blue, Green, Red, Beige, Grey\",\"Black, Beige, Grey\",\"Black, Blue, Grey, Pink, Gold\",\"Black, Blue, Green\",\"Black, Blue, Grey, Pink\",\"Green\",\"Blue, Grey, Pink\",\"Black, Grey, Green\",\"Orange\",\"Red\",\"White\",\"White\"],\"y0\":\" \",\"yaxis\":\"y\",\"type\":\"box\"},{\"alignmentgroup\":\"True\",\"hovertemplate\":\"Fitness Tracker Spec Categories=%{x}<br>Fitness Tracker Values=%{y}<extra></extra>\",\"legendgroup\":\"Selling Price\",\"marker\":{\"color\":\"#9290ce\"},\"name\":\"Selling Price\",\"notched\":false,\"offsetgroup\":\"Selling Price\",\"orientation\":\"v\",\"showlegend\":true,\"x\":[\"Selling Price\",\"Selling Price\",\"Selling Price\",\"Selling Price\",\"Selling Price\",\"Selling Price\",\"Selling Price\",\"Selling Price\",\"Selling Price\",\"Selling Price\",\"Selling Price\",\"Selling Price\",\"Selling Price\",\"Selling Price\",\"Selling Price\",\"Selling Price\",\"Selling Price\",\"Selling Price\",\"Selling Price\",\"Selling Price\",\"Selling Price\",\"Selling Price\",\"Selling Price\",\"Selling Price\",\"Selling Price\",\"Selling Price\",\"Selling Price\",\"Selling Price\",\"Selling Price\",\"Selling Price\",\"Selling Price\",\"Selling Price\",\"Selling Price\",\"Selling Price\",\"Selling Price\",\"Selling Price\",\"Selling Price\",\"Selling Price\",\"Selling Price\",\"Selling Price\",\"Selling Price\",\"Selling Price\",\"Selling Price\",\"Selling Price\",\"Selling Price\",\"Selling Price\",\"Selling Price\",\"Selling Price\",\"Selling Price\",\"Selling Price\",\"Selling Price\",\"Selling Price\",\"Selling Price\",\"Selling Price\",\"Selling Price\",\"Selling Price\",\"Selling Price\",\"Selling Price\",\"Selling Price\",\"Selling Price\",\"Selling Price\",\"Selling Price\",\"Selling Price\",\"Selling Price\",\"Selling Price\",\"Selling Price\",\"Selling Price\",\"Selling Price\",\"Selling Price\",\"Selling Price\",\"Selling Price\",\"Selling Price\",\"Selling Price\",\"Selling Price\",\"Selling Price\",\"Selling Price\",\"Selling Price\",\"Selling Price\",\"Selling Price\",\"Selling Price\",\"Selling Price\",\"Selling Price\",\"Selling Price\",\"Selling Price\",\"Selling Price\",\"Selling Price\",\"Selling Price\",\"Selling Price\",\"Selling Price\",\"Selling Price\",\"Selling Price\",\"Selling Price\",\"Selling Price\",\"Selling Price\",\"Selling Price\",\"Selling Price\",\"Selling Price\",\"Selling Price\",\"Selling Price\",\"Selling Price\",\"Selling Price\",\"Selling Price\",\"Selling Price\",\"Selling Price\",\"Selling Price\",\"Selling Price\",\"Selling Price\",\"Selling Price\",\"Selling Price\",\"Selling Price\",\"Selling Price\",\"Selling Price\",\"Selling Price\",\"Selling Price\",\"Selling Price\",\"Selling Price\",\"Selling Price\",\"Selling Price\",\"Selling Price\",\"Selling Price\",\"Selling Price\",\"Selling Price\",\"Selling Price\",\"Selling Price\",\"Selling Price\",\"Selling Price\",\"Selling Price\",\"Selling Price\",\"Selling Price\",\"Selling Price\",\"Selling Price\",\"Selling Price\",\"Selling Price\",\"Selling Price\",\"Selling Price\",\"Selling Price\",\"Selling Price\",\"Selling Price\",\"Selling Price\",\"Selling Price\",\"Selling Price\",\"Selling Price\",\"Selling Price\",\"Selling Price\",\"Selling Price\",\"Selling Price\",\"Selling Price\",\"Selling Price\",\"Selling Price\",\"Selling Price\",\"Selling Price\",\"Selling Price\",\"Selling Price\",\"Selling Price\",\"Selling Price\",\"Selling Price\",\"Selling Price\",\"Selling Price\",\"Selling Price\",\"Selling Price\",\"Selling Price\",\"Selling Price\",\"Selling Price\",\"Selling Price\",\"Selling Price\",\"Selling Price\",\"Selling Price\",\"Selling Price\",\"Selling Price\",\"Selling Price\",\"Selling Price\",\"Selling Price\",\"Selling Price\",\"Selling Price\",\"Selling Price\",\"Selling Price\",\"Selling Price\",\"Selling Price\",\"Selling Price\",\"Selling Price\",\"Selling Price\",\"Selling Price\",\"Selling Price\",\"Selling Price\",\"Selling Price\",\"Selling Price\",\"Selling Price\",\"Selling Price\",\"Selling Price\",\"Selling Price\",\"Selling Price\",\"Selling Price\",\"Selling Price\",\"Selling Price\",\"Selling Price\",\"Selling Price\",\"Selling Price\",\"Selling Price\",\"Selling Price\",\"Selling Price\",\"Selling Price\",\"Selling Price\",\"Selling Price\",\"Selling Price\",\"Selling Price\",\"Selling Price\",\"Selling Price\",\"Selling Price\",\"Selling Price\",\"Selling Price\",\"Selling Price\",\"Selling Price\",\"Selling Price\",\"Selling Price\",\"Selling Price\",\"Selling Price\",\"Selling Price\",\"Selling Price\",\"Selling Price\",\"Selling Price\",\"Selling Price\",\"Selling Price\",\"Selling Price\",\"Selling Price\",\"Selling Price\",\"Selling Price\",\"Selling Price\",\"Selling Price\",\"Selling Price\",\"Selling Price\",\"Selling Price\",\"Selling Price\",\"Selling Price\",\"Selling Price\",\"Selling Price\",\"Selling Price\",\"Selling Price\",\"Selling Price\",\"Selling Price\",\"Selling Price\",\"Selling Price\",\"Selling Price\",\"Selling Price\",\"Selling Price\",\"Selling Price\",\"Selling Price\",\"Selling Price\",\"Selling Price\",\"Selling Price\",\"Selling Price\",\"Selling Price\",\"Selling Price\",\"Selling Price\",\"Selling Price\",\"Selling Price\",\"Selling Price\",\"Selling Price\",\"Selling Price\",\"Selling Price\",\"Selling Price\",\"Selling Price\",\"Selling Price\",\"Selling Price\",\"Selling Price\",\"Selling Price\",\"Selling Price\",\"Selling Price\",\"Selling Price\",\"Selling Price\",\"Selling Price\",\"Selling Price\",\"Selling Price\",\"Selling Price\",\"Selling Price\",\"Selling Price\",\"Selling Price\",\"Selling Price\",\"Selling Price\",\"Selling Price\",\"Selling Price\",\"Selling Price\",\"Selling Price\",\"Selling Price\",\"Selling Price\",\"Selling Price\",\"Selling Price\",\"Selling Price\",\"Selling Price\",\"Selling Price\",\"Selling Price\",\"Selling Price\",\"Selling Price\",\"Selling Price\",\"Selling Price\",\"Selling Price\",\"Selling Price\",\"Selling Price\",\"Selling Price\",\"Selling Price\",\"Selling Price\",\"Selling Price\",\"Selling Price\",\"Selling Price\",\"Selling Price\",\"Selling Price\",\"Selling Price\",\"Selling Price\",\"Selling Price\",\"Selling Price\",\"Selling Price\",\"Selling Price\",\"Selling Price\",\"Selling Price\",\"Selling Price\",\"Selling Price\",\"Selling Price\",\"Selling Price\",\"Selling Price\",\"Selling Price\",\"Selling Price\",\"Selling Price\",\"Selling Price\",\"Selling Price\",\"Selling Price\",\"Selling Price\",\"Selling Price\",\"Selling Price\",\"Selling Price\",\"Selling Price\",\"Selling Price\",\"Selling Price\",\"Selling Price\",\"Selling Price\",\"Selling Price\",\"Selling Price\",\"Selling Price\",\"Selling Price\",\"Selling Price\",\"Selling Price\",\"Selling Price\",\"Selling Price\",\"Selling Price\",\"Selling Price\",\"Selling Price\",\"Selling Price\",\"Selling Price\",\"Selling Price\",\"Selling Price\",\"Selling Price\",\"Selling Price\",\"Selling Price\",\"Selling Price\",\"Selling Price\",\"Selling Price\",\"Selling Price\",\"Selling Price\",\"Selling Price\",\"Selling Price\",\"Selling Price\",\"Selling Price\",\"Selling Price\",\"Selling Price\",\"Selling Price\",\"Selling Price\",\"Selling Price\",\"Selling Price\",\"Selling Price\",\"Selling Price\",\"Selling Price\",\"Selling Price\",\"Selling Price\",\"Selling Price\",\"Selling Price\",\"Selling Price\",\"Selling Price\",\"Selling Price\",\"Selling Price\",\"Selling Price\",\"Selling Price\",\"Selling Price\",\"Selling Price\",\"Selling Price\",\"Selling Price\",\"Selling Price\",\"Selling Price\",\"Selling Price\",\"Selling Price\",\"Selling Price\",\"Selling Price\",\"Selling Price\",\"Selling Price\",\"Selling Price\",\"Selling Price\",\"Selling Price\",\"Selling Price\",\"Selling Price\",\"Selling Price\",\"Selling Price\",\"Selling Price\",\"Selling Price\",\"Selling Price\",\"Selling Price\",\"Selling Price\",\"Selling Price\",\"Selling Price\",\"Selling Price\",\"Selling Price\",\"Selling Price\",\"Selling Price\",\"Selling Price\",\"Selling Price\",\"Selling Price\",\"Selling Price\",\"Selling Price\",\"Selling Price\",\"Selling Price\",\"Selling Price\",\"Selling Price\",\"Selling Price\",\"Selling Price\",\"Selling Price\",\"Selling Price\",\"Selling Price\",\"Selling Price\",\"Selling Price\",\"Selling Price\",\"Selling Price\",\"Selling Price\",\"Selling Price\",\"Selling Price\",\"Selling Price\",\"Selling Price\",\"Selling Price\",\"Selling Price\",\"Selling Price\",\"Selling Price\",\"Selling Price\",\"Selling Price\",\"Selling Price\",\"Selling Price\",\"Selling Price\",\"Selling Price\",\"Selling Price\",\"Selling Price\",\"Selling Price\",\"Selling Price\",\"Selling Price\",\"Selling Price\",\"Selling Price\",\"Selling Price\",\"Selling Price\",\"Selling Price\",\"Selling Price\",\"Selling Price\",\"Selling Price\",\"Selling Price\",\"Selling Price\",\"Selling Price\",\"Selling Price\",\"Selling Price\",\"Selling Price\",\"Selling Price\",\"Selling Price\",\"Selling Price\",\"Selling Price\",\"Selling Price\",\"Selling Price\",\"Selling Price\",\"Selling Price\",\"Selling Price\",\"Selling Price\",\"Selling Price\",\"Selling Price\",\"Selling Price\",\"Selling Price\",\"Selling Price\",\"Selling Price\",\"Selling Price\",\"Selling Price\",\"Selling Price\",\"Selling Price\",\"Selling Price\",\"Selling Price\",\"Selling Price\",\"Selling Price\",\"Selling Price\",\"Selling Price\",\"Selling Price\",\"Selling Price\",\"Selling Price\",\"Selling Price\",\"Selling Price\",\"Selling Price\",\"Selling Price\",\"Selling Price\",\"Selling Price\",\"Selling Price\",\"Selling Price\",\"Selling Price\",\"Selling Price\",\"Selling Price\",\"Selling Price\",\"Selling Price\",\"Selling Price\",\"Selling Price\",\"Selling Price\",\"Selling Price\",\"Selling Price\",\"Selling Price\",\"Selling Price\",\"Selling Price\",\"Selling Price\",\"Selling Price\",\"Selling Price\",\"Selling Price\",\"Selling Price\",\"Selling Price\",\"Selling Price\",\"Selling Price\",\"Selling Price\",\"Selling Price\",\"Selling Price\",\"Selling Price\",\"Selling Price\",\"Selling Price\",\"Selling Price\",\"Selling Price\",\"Selling Price\",\"Selling Price\",\"Selling Price\",\"Selling Price\",\"Selling Price\",\"Selling Price\",\"Selling Price\",\"Selling Price\",\"Selling Price\",\"Selling Price\",\"Selling Price\",\"Selling Price\",\"Selling Price\",\"Selling Price\",\"Selling Price\",\"Selling Price\",\"Selling Price\",\"Selling Price\",\"Selling Price\",\"Selling Price\",\"Selling Price\",\"Selling Price\",\"Selling Price\",\"Selling Price\",\"Selling Price\",\"Selling Price\",\"Selling Price\",\"Selling Price\",\"Selling Price\",\"Selling Price\",\"Selling Price\",\"Selling Price\",\"Selling Price\",\"Selling Price\",\"Selling Price\",\"Selling Price\",\"Selling Price\",\"Selling Price\",\"Selling Price\",\"Selling Price\",\"Selling Price\",\"Selling Price\",\"Selling Price\",\"Selling Price\",\"Selling Price\",\"Selling Price\",\"Selling Price\",\"Selling Price\",\"Selling Price\",\"Selling Price\",\"Selling Price\",\"Selling Price\",\"Selling Price\",\"Selling Price\",\"Selling Price\",\"Selling Price\",\"Selling Price\",\"Selling Price\",\"Selling Price\",\"Selling Price\",\"Selling Price\",\"Selling Price\",\"Selling Price\",\"Selling Price\",\"Selling Price\",\"Selling Price\",\"Selling Price\",\"Selling Price\",\"Selling Price\",\"Selling Price\",\"Selling Price\",\"Selling Price\",\"Selling Price\",\"Selling Price\",\"Selling Price\",\"Selling Price\",\"Selling Price\",\"Selling Price\",\"Selling Price\",\"Selling Price\",\"Selling Price\",\"Selling Price\",\"Selling Price\"],\"x0\":\" \",\"xaxis\":\"x\",\"y\":[\"2,499\",\"2,099\",\"1,722\",\"2,469\",\"1,799\",\"1,299\",\"2,499\",\"12,349\",\"12,999\",\"1,270\",\"3,299\",\"2,499\",\"11,999\",\"21,499\",\"17,999\",\"9,999\",\"7,990\",\"6,999\",\"10,899\",\"10,999\",\"8,807\",\"8,490\",\"5,599\",\"5,299\",\"7,599\",\"10,365\",\"18,999\",\"15,499\",\"22,499\",\"26,499\",\"16,990\",\"17,895\",\"24,990\",\"7,499\",\"9,999\",\"17,999\",\"19,999\",\"22,999\",\"19,990\",\"14,999\",\"14,999\",\"16,999\",\"24,990\",\"21,499\",\"16,124\",\"6,990\",\"14,990\",\"16,999\",\"14,399\",\"12,999\",\"17,999\",\"14,999\",\"20,590\",\"13,499\",\"9,999\",\"9,999\",\"7,499\",\"14,999\",\"8,999\",\"7,498\",\"14,999\",\"5,598\",\"5,899\",\"2,999\",\"1,499\",\"1,450\",\"1,290\",\"1,899\",\"1,699\",\"6,999\",\"4,599\",\"4,490\",\"2,199\",\"2,999\",\"2,700\",\"2,499\",\"2,469\",\"2,499\",\"2,899\",\"2,099\",\"2,199\",\"2,599\",\"1,799\",\"1,649\",\"5,499\",\"4,750\",\"2,999\",\"3,999\",\"1,499\",\"2,995\",\"1,699\",\"1,999\",\"2,199\",\"1,699\",\"14,990\",\"17,990\",\"4,999\",\"3,499\",\"4,999\",\"6,779\",\"9,999\",\"5,999\",\"5,400\",\"3,921\",\"2,495\",\"2,200\",\"1,645\",\"1,595\",\"1,195\",\"1,395\",\"2,999\",\"3,499\",\"2,499\",\"7,990\",\"2,499\",\"3,999\",\"2,499\",\"2,999\",\"2,699\",\"3,499\",\"2,499\",\"2,499\",\"3,499\",\"2,999\",\"2,599\",\"2,513\",\"2,499\",\"5,499\",\"5,999\",\"4,999\",\"2,799\",\"5,499\",\"13,999\",\"17,999\",\"7,999\",\"13,999\",\"4,999\",\"9,047\",\"5,499\",\"5,299\",\"5,999\",\"5,499\",\"2,999\",\"1,999\",\"5,999\",\"7,999\",\"11,999\",\"11,999\",\"12,499\",\"5,499\",\"9,999\",\"2,499\",\"5,299\",\"8,999\",\"13,999\",\"9,999\",\"9,999\",\"2,999\",\"3,799\",\"5,499\",\"4,999\",\"10,999\",\"8,999\",\"12,999\",\"11,999\",\"5,999\",\"4,950\",\"11,999\",\"5,499\",\"12,999\",\"3,499\",\"5,999\",\"6,399\",\"7,999\",\"11,990\",\"12,990\",\"32,959\",\"40,000\",\"34,999\",\"28,999\",\"2,000\",\"2,490\",\"8,990\",\"28,990\",\"31,999\",\"40,000\",\"28,999\",\"18,990\",\"16,990\",\"36,999\",\"30,990\",\"24,490\",\"34,999\",\"19,990\",\"24,490\",\"31,999\",\"15,000\",\"7,999\",\"24,490\",\"24,300\",\"29,990\",\"9,990\",\"15,000\",\"19,999\",\"15,500\",\"19,990\",\"27,490\",\"21,989\",\"15,900\",\"15,000\",\"39,490\",\"24,989\",\"22,990\",\"15,999\",\"18,999\",\"21,990\",\"24,300\",\"21,390\",\"18,999\",\"18,532\",\"50,408\",\"13,201\",\"15,995\",\"14,995\",\"15,995\",\"18,495\",\"18,995\",\"12,396\",\"14,995\",\"12,396\",\"18,495\",\"16,495\",\"14,995\",\"8,995\",\"14,021\",\"11,995\",\"13,196\",\"17,995\",\"13,196\",\"13,495\",\"11,995\",\"13,495\",\"19,999\",\"13,495\",\"6,995\",\"11,596\",\"9,097\",\"10,796\",\"6,995\",\"15,995\",\"19,995\",\"18,495\",\"11,995\",\"15,995\",\"8,995\",\"8,995\",\"18,995\",\"14,021\",\"19,995\",\"19,995\",\"6,995\",\"19,995\",\"18,995\",\"15,396\",\"19,995\",\"18,495\",\"9,995\",\"25,995\",\"15,995\",\"10,998\",\"17,995\",\"21,995\",\"19,995\",\"8,995\",\"15,749\",\"17,596\",\"19,995\",\"19,995\",\"11,995\",\"10,997\",\"19,995\",\"8,995\",\"9,796\",\"8,995\",\"15,034\",\"14,995\",\"13,495\",\"19,995\",\"11,995\",\"6,995\",\"9,995\",\"17,995\",\"21,995\",\"18,995\",\"13,495\",\"8,995\",\"11,995\",\"24,495\",\"21,995\",\"10,496\",\"13,195\",\"3,999\",\"12,396\",\"11,997\",\"8,995\",\"21,995\",\"11,397\",\"8,995\",\"3,799\",\"15,995\",\"13,995\",\"6,995\",\"11,995\",\"6,995\",\"21,495\",\"6,995\",\"14,495\",\"6,995\",\"17,995\",\"12,995\",\"13,495\",\"8,995\",\"6,995\",\"8,995\",\"8,995\",\"6,995\",\"18,995\",\"6,995\",\"14,995\",\"11,995\",\"6,995\",\"15,995\",\"15,995\",\"8,995\",\"21,995\",\"15,995\",\"4,399\",\"10,796\",\"6,995\",\"8,995\",\"23,995\",\"11,995\",\"15,995\",\"18,995\",\"15,995\",\"6,995\",\"8,995\",\"8,995\",\"6,995\",\"17,995\",\"21,995\",\"6,995\",\"9,995\",\"21,995\",\"18,900\",\"30,400\",\"16,900\",\"36,900\",\"31,400\",\"27,400\",\"45,690\",\"30,400\",\"31,400\",\"33,900\",\"37,490\",\"45,690\",\"67,900\",\"40,190\",\"32,900\",\"45,690\",\"69,900\",\"69,900\",\"73,900\",\"43,900\",\"48,490\",\"45,690\",\"69,900\",\"65,900\",\"52,900\",\"52,900\",\"56,900\",\"50,400\",\"50,400\",\"45,690\",\"39,990\",\"45,690\",\"67,900\",\"29,900\",\"73,900\",\"69,900\",\"40,900\",\"43,900\",\"44,900\",\"33,900\",\"31,400\",\"48,490\",\"50,900\",\"53,900\",\"31,400\",\"37,490\",\"31,400\",\"37,490\",\"33,900\",\"31,400\",\"48,490\",\"37,490\",\"77,900\",\"52,900\",\"48,490\",\"67,900\",\"33,900\",\"33,900\",\"40,190\",\"33,900\",\"43,900\",\"67,900\",\"33,900\",\"43,900\",\"69,900\",\"1,14,900\",\"41,900\",\"48,900\",\"77,900\",\"29,900\",\"73,900\",\"56,900\",\"73,900\",\"79,900\",\"29,900\",\"21,900\",\"1,22,090\",\"60,900\",\"25,900\",\"34,900\",\"32,380\",\"1,22,090\",\"64,900\",\"56,900\",\"64,900\",\"31,600\",\"20,990\",\"15,990\",\"19,990\",\"31,990\",\"14,990\",\"41,990\",\"12,150\",\"34,990\",\"46,990\",\"37,990\",\"30,000\",\"20,990\",\"19,990\",\"24,990\",\"26,990\",\"72,990\",\"79,990\",\"46,990\",\"76,990\",\"18,990\",\"18,990\",\"19,990\",\"19,990\",\"1,05,990\",\"77,990\",\"58,490\",\"39,990\",\"74,990\",\"31,990\",\"70,990\",\"56,490\",\"20,990\",\"35,990\",\"23,490\",\"59,990\",\"20,990\",\"14,990\",\"19,990\",\"20,990\",\"23,990\",\"16,990\",\"86,990\",\"8,990\",\"46,990\",\"39,990\",\"39,990\",\"19,990\",\"29,990\",\"47,990\",\"34,990\",\"49,990\",\"81,990\",\"74,990\",\"26,990\",\"33,742\",\"46,990\",\"34,990\",\"42,990\",\"18,990\",\"77,990\",\"24,990\",\"32,990\",\"28,990\",\"33,490\",\"84,490\",\"42,990\",\"46,990\",\"21,990\",\"54,990\",\"28,990\",\"25,249\",\"47,490\",\"19,990\",\"18,990\",\"14,990\",\"21,999\",\"19,990\",\"34,990\",\"28,990\",\"19,144\",\"12,999\",\"42,990\",\"44,990\",\"15,990\",\"22,990\",\"22,990\",\"54,990\",\"16,990\",\"16,990\",\"29,990\",\"13,578\",\"16,990\",\"22,990\",\"27,990\",\"15,990\",\"12,990\",\"16,990\",\"27,990\",\"39,990\",\"15,999\",\"15,911\",\"14,999\",\"14,990\",\"22,990\",\"24,990\",\"11,990\",\"8,990\",\"11,990\",\"14,990\",\"19,990\",\"8,990\",\"15,990\",\"10,990\",\"10,990\",\"20,990\",\"9,999\",\"6,999\",\"29,999\",\"49,999\",\"25,999\",\"55,000\",\"13,990\",\"1,999\",\"3,499\",\"18,495\",\"2,499\",\"3,799\",\"3,999\",\"2,999\",\"3,799\",\"2,799\",\"2,999\",\"4,190\",\"3,999\",\"2,699\",\"3,799\",\"2,699\",\"3,999\",\"4,999\",\"799\",\"1,399\",\"1,299\",\"949\",\"1,099\",\"2,199\",\"3,299\",\"2,499\",\"2,799\",\"3,299\",\"3,499\",\"3,299\",\"3,297\",\"1,499\",\"1,699\",\"1,283\",\"2,949\",\"1,899\",\"3,999\",\"1,999\",\"2,499\",\"2,999\",\"4,499\",\"4,499\",\"4,800\",\"5,846\",\"3,499\",\"4,999\",\"2,999\",\"5,846\",\"1,999\"],\"y0\":\" \",\"yaxis\":\"y\",\"type\":\"box\"},{\"alignmentgroup\":\"True\",\"hovertemplate\":\"Fitness Tracker Spec Categories=%{x}<br>Fitness Tracker Values=%{y}<extra></extra>\",\"legendgroup\":\"Original Price\",\"marker\":{\"color\":\"#1c632b\"},\"name\":\"Original Price\",\"notched\":false,\"offsetgroup\":\"Original Price\",\"orientation\":\"v\",\"showlegend\":true,\"x\":[\"Original Price\",\"Original Price\",\"Original Price\",\"Original Price\",\"Original Price\",\"Original Price\",\"Original Price\",\"Original Price\",\"Original Price\",\"Original Price\",\"Original Price\",\"Original Price\",\"Original Price\",\"Original Price\",\"Original Price\",\"Original Price\",\"Original Price\",\"Original Price\",\"Original Price\",\"Original Price\",\"Original Price\",\"Original Price\",\"Original Price\",\"Original Price\",\"Original Price\",\"Original Price\",\"Original Price\",\"Original Price\",\"Original Price\",\"Original Price\",\"Original Price\",\"Original Price\",\"Original Price\",\"Original Price\",\"Original Price\",\"Original Price\",\"Original Price\",\"Original Price\",\"Original Price\",\"Original Price\",\"Original Price\",\"Original Price\",\"Original Price\",\"Original Price\",\"Original Price\",\"Original Price\",\"Original Price\",\"Original Price\",\"Original Price\",\"Original Price\",\"Original Price\",\"Original Price\",\"Original Price\",\"Original Price\",\"Original Price\",\"Original Price\",\"Original Price\",\"Original Price\",\"Original Price\",\"Original Price\",\"Original Price\",\"Original Price\",\"Original Price\",\"Original Price\",\"Original Price\",\"Original Price\",\"Original Price\",\"Original Price\",\"Original Price\",\"Original Price\",\"Original Price\",\"Original Price\",\"Original Price\",\"Original Price\",\"Original Price\",\"Original Price\",\"Original Price\",\"Original Price\",\"Original Price\",\"Original Price\",\"Original Price\",\"Original Price\",\"Original Price\",\"Original Price\",\"Original Price\",\"Original Price\",\"Original Price\",\"Original Price\",\"Original Price\",\"Original Price\",\"Original Price\",\"Original Price\",\"Original Price\",\"Original Price\",\"Original Price\",\"Original Price\",\"Original Price\",\"Original Price\",\"Original Price\",\"Original Price\",\"Original Price\",\"Original Price\",\"Original Price\",\"Original Price\",\"Original Price\",\"Original Price\",\"Original Price\",\"Original Price\",\"Original Price\",\"Original Price\",\"Original Price\",\"Original Price\",\"Original Price\",\"Original Price\",\"Original Price\",\"Original Price\",\"Original Price\",\"Original Price\",\"Original Price\",\"Original Price\",\"Original Price\",\"Original Price\",\"Original Price\",\"Original Price\",\"Original Price\",\"Original Price\",\"Original Price\",\"Original Price\",\"Original Price\",\"Original Price\",\"Original Price\",\"Original Price\",\"Original Price\",\"Original Price\",\"Original Price\",\"Original Price\",\"Original Price\",\"Original Price\",\"Original Price\",\"Original Price\",\"Original Price\",\"Original Price\",\"Original Price\",\"Original Price\",\"Original Price\",\"Original Price\",\"Original Price\",\"Original Price\",\"Original Price\",\"Original Price\",\"Original Price\",\"Original Price\",\"Original Price\",\"Original Price\",\"Original Price\",\"Original Price\",\"Original Price\",\"Original Price\",\"Original Price\",\"Original Price\",\"Original Price\",\"Original Price\",\"Original Price\",\"Original Price\",\"Original Price\",\"Original Price\",\"Original Price\",\"Original Price\",\"Original Price\",\"Original Price\",\"Original Price\",\"Original Price\",\"Original Price\",\"Original Price\",\"Original Price\",\"Original Price\",\"Original Price\",\"Original Price\",\"Original Price\",\"Original Price\",\"Original Price\",\"Original Price\",\"Original Price\",\"Original Price\",\"Original Price\",\"Original Price\",\"Original Price\",\"Original Price\",\"Original Price\",\"Original Price\",\"Original Price\",\"Original Price\",\"Original Price\",\"Original Price\",\"Original Price\",\"Original Price\",\"Original Price\",\"Original Price\",\"Original Price\",\"Original Price\",\"Original Price\",\"Original Price\",\"Original Price\",\"Original Price\",\"Original Price\",\"Original Price\",\"Original Price\",\"Original Price\",\"Original Price\",\"Original Price\",\"Original Price\",\"Original Price\",\"Original Price\",\"Original Price\",\"Original Price\",\"Original Price\",\"Original Price\",\"Original Price\",\"Original Price\",\"Original Price\",\"Original Price\",\"Original Price\",\"Original Price\",\"Original Price\",\"Original Price\",\"Original Price\",\"Original Price\",\"Original Price\",\"Original Price\",\"Original Price\",\"Original Price\",\"Original Price\",\"Original Price\",\"Original Price\",\"Original Price\",\"Original Price\",\"Original Price\",\"Original Price\",\"Original Price\",\"Original Price\",\"Original Price\",\"Original Price\",\"Original Price\",\"Original Price\",\"Original Price\",\"Original Price\",\"Original Price\",\"Original Price\",\"Original Price\",\"Original Price\",\"Original Price\",\"Original Price\",\"Original Price\",\"Original Price\",\"Original Price\",\"Original Price\",\"Original Price\",\"Original Price\",\"Original Price\",\"Original Price\",\"Original Price\",\"Original Price\",\"Original Price\",\"Original Price\",\"Original Price\",\"Original Price\",\"Original Price\",\"Original Price\",\"Original Price\",\"Original Price\",\"Original Price\",\"Original Price\",\"Original Price\",\"Original Price\",\"Original Price\",\"Original Price\",\"Original Price\",\"Original Price\",\"Original Price\",\"Original Price\",\"Original Price\",\"Original Price\",\"Original Price\",\"Original Price\",\"Original Price\",\"Original Price\",\"Original Price\",\"Original Price\",\"Original Price\",\"Original Price\",\"Original Price\",\"Original Price\",\"Original Price\",\"Original Price\",\"Original Price\",\"Original Price\",\"Original Price\",\"Original Price\",\"Original Price\",\"Original Price\",\"Original Price\",\"Original Price\",\"Original Price\",\"Original Price\",\"Original Price\",\"Original Price\",\"Original Price\",\"Original Price\",\"Original Price\",\"Original Price\",\"Original Price\",\"Original Price\",\"Original Price\",\"Original Price\",\"Original Price\",\"Original Price\",\"Original Price\",\"Original Price\",\"Original Price\",\"Original Price\",\"Original Price\",\"Original Price\",\"Original Price\",\"Original Price\",\"Original Price\",\"Original Price\",\"Original Price\",\"Original Price\",\"Original Price\",\"Original Price\",\"Original Price\",\"Original Price\",\"Original Price\",\"Original Price\",\"Original Price\",\"Original Price\",\"Original Price\",\"Original Price\",\"Original Price\",\"Original Price\",\"Original Price\",\"Original Price\",\"Original Price\",\"Original Price\",\"Original Price\",\"Original Price\",\"Original Price\",\"Original Price\",\"Original Price\",\"Original Price\",\"Original Price\",\"Original Price\",\"Original Price\",\"Original Price\",\"Original Price\",\"Original Price\",\"Original Price\",\"Original Price\",\"Original Price\",\"Original Price\",\"Original Price\",\"Original Price\",\"Original Price\",\"Original Price\",\"Original Price\",\"Original Price\",\"Original Price\",\"Original Price\",\"Original Price\",\"Original Price\",\"Original Price\",\"Original Price\",\"Original Price\",\"Original Price\",\"Original Price\",\"Original Price\",\"Original Price\",\"Original Price\",\"Original Price\",\"Original Price\",\"Original Price\",\"Original Price\",\"Original Price\",\"Original Price\",\"Original Price\",\"Original Price\",\"Original Price\",\"Original Price\",\"Original Price\",\"Original Price\",\"Original Price\",\"Original Price\",\"Original Price\",\"Original Price\",\"Original Price\",\"Original Price\",\"Original Price\",\"Original Price\",\"Original Price\",\"Original Price\",\"Original Price\",\"Original Price\",\"Original Price\",\"Original Price\",\"Original Price\",\"Original Price\",\"Original Price\",\"Original Price\",\"Original Price\",\"Original Price\",\"Original Price\",\"Original Price\",\"Original Price\",\"Original Price\",\"Original Price\",\"Original Price\",\"Original Price\",\"Original Price\",\"Original Price\",\"Original Price\",\"Original Price\",\"Original Price\",\"Original Price\",\"Original Price\",\"Original Price\",\"Original Price\",\"Original Price\",\"Original Price\",\"Original Price\",\"Original Price\",\"Original Price\",\"Original Price\",\"Original Price\",\"Original Price\",\"Original Price\",\"Original Price\",\"Original Price\",\"Original Price\",\"Original Price\",\"Original Price\",\"Original Price\",\"Original Price\",\"Original Price\",\"Original Price\",\"Original Price\",\"Original Price\",\"Original Price\",\"Original Price\",\"Original Price\",\"Original Price\",\"Original Price\",\"Original Price\",\"Original Price\",\"Original Price\",\"Original Price\",\"Original Price\",\"Original Price\",\"Original Price\",\"Original Price\",\"Original Price\",\"Original Price\",\"Original Price\",\"Original Price\",\"Original Price\",\"Original Price\",\"Original Price\",\"Original Price\",\"Original Price\",\"Original Price\",\"Original Price\",\"Original Price\",\"Original Price\",\"Original Price\",\"Original Price\",\"Original Price\",\"Original Price\",\"Original Price\",\"Original Price\",\"Original Price\",\"Original Price\",\"Original Price\",\"Original Price\",\"Original Price\",\"Original Price\",\"Original Price\",\"Original Price\",\"Original Price\",\"Original Price\",\"Original Price\",\"Original Price\",\"Original Price\",\"Original Price\",\"Original Price\",\"Original Price\",\"Original Price\",\"Original Price\",\"Original Price\",\"Original Price\",\"Original Price\",\"Original Price\",\"Original Price\",\"Original Price\",\"Original Price\",\"Original Price\",\"Original Price\",\"Original Price\",\"Original Price\",\"Original Price\",\"Original Price\",\"Original Price\",\"Original Price\",\"Original Price\",\"Original Price\",\"Original Price\",\"Original Price\",\"Original Price\",\"Original Price\",\"Original Price\",\"Original Price\",\"Original Price\",\"Original Price\",\"Original Price\",\"Original Price\",\"Original Price\",\"Original Price\",\"Original Price\",\"Original Price\",\"Original Price\",\"Original Price\",\"Original Price\",\"Original Price\",\"Original Price\",\"Original Price\",\"Original Price\",\"Original Price\",\"Original Price\",\"Original Price\",\"Original Price\",\"Original Price\",\"Original Price\",\"Original Price\",\"Original Price\",\"Original Price\",\"Original Price\",\"Original Price\",\"Original Price\",\"Original Price\",\"Original Price\",\"Original Price\",\"Original Price\",\"Original Price\",\"Original Price\",\"Original Price\",\"Original Price\",\"Original Price\",\"Original Price\",\"Original Price\",\"Original Price\",\"Original Price\",\"Original Price\",\"Original Price\",\"Original Price\",\"Original Price\",\"Original Price\",\"Original Price\",\"Original Price\",\"Original Price\",\"Original Price\",\"Original Price\",\"Original Price\",\"Original Price\",\"Original Price\",\"Original Price\",\"Original Price\",\"Original Price\",\"Original Price\",\"Original Price\",\"Original Price\",\"Original Price\",\"Original Price\",\"Original Price\",\"Original Price\",\"Original Price\",\"Original Price\",\"Original Price\",\"Original Price\",\"Original Price\",\"Original Price\",\"Original Price\",\"Original Price\",\"Original Price\",\"Original Price\",\"Original Price\",\"Original Price\",\"Original Price\",\"Original Price\",\"Original Price\",\"Original Price\",\"Original Price\",\"Original Price\",\"Original Price\",\"Original Price\",\"Original Price\",\"Original Price\",\"Original Price\",\"Original Price\",\"Original Price\",\"Original Price\",\"Original Price\",\"Original Price\"],\"x0\":\" \",\"xaxis\":\"x\",\"y\":[\"2,999\",\"2,499\",\"2,099\",\"2,999\",\"2,199\",\"1,799\",\"2,499\",\"15,999\",\"15,999\",\"1,599\",\"3,999\",\"2,799\",\"14,999\",\"22,999\",\"18,999\",\"9,999\",\"7,999\",\"7,999\",\"10,999\",\"11,999\",\"38,500\",\"8,490\",\"8,999\",\"7,999\",\"13,999\",\"23,499\",\"24,999\",\"23,999\",\"24,999\",\"26,499\",\"23,499\",\"21,499\",\"24,990\",\"14,999\",\"15,999\",\"19,999\",\"19,999\",\"22,999\",\"19,990\",\"14,999\",\"14,999\",\"16,999\",\"24,990\",\"21,499\",\"19,999\",\"14,990\",\"14,990\",\"16,999\",\"15,999\",\"12,999\",\"18,999\",\"14,999\",\"21,499\",\"21,999\",\"19,990\",\"13,999\",\"14,999\",\"14,999\",\"14,999\",\"14,999\",\"14,999\",\"9,999\",\"9,999\",\"3,499\",\"2,999\",\"2,999\",\"2,999\",\"3,099\",\"4,999\",\"6,999\",\"4,599\",\"9,990\",\"5,999\",\"5,999\",\"2,999\",\"2,999\",\"2,999\",\"2,999\",\"2,999\",\"2,999\",\"2,999\",\"2,999\",\"2,999\",\"2,000\",\"5,499\",\"5,499\",\"2,999\",\"3,999\",\"2,999\",\"4,495\",\"2,995\",\"3,499\",\"2,499\",\"2,499\",\"19,990\",\"24,990\",\"5,999\",\"3,999\",\"7,999\",\"7,999\",\"12,999\",\"8,999\",\"6,999\",\"6,999\",\"2,995\",\"2,995\",\"2,195\",\"1,995\",\"1,995\",\"1,995\",\"5,990\",\"7,990\",\"5,990\",\"7,990\",\"4,999\",\"5,999\",\"4,999\",\"5,999\",\"4,999\",\"5,999\",\"4,999\",\"4,999\",\"5,999\",\"5,999\",\"5,999\",\"4,999\",\"4,999\",\"7,999\",\"9,999\",\"7,999\",\"5,999\",\"5,499\",\"20,999\",\"20,999\",\"17,999\",\"15,999\",\"10,999\",\"17,999\",\"12,999\",\"12,999\",\"12,999\",\"12,999\",\"5,999\",\"4,999\",\"10,999\",\"13,999\",\"17,999\",\"17,999\",\"17,999\",\"6,999\",\"16,999\",\"3,999\",\"6,499\",\"12,999\",\"17,999\",\"12,999\",\"10,999\",\"4,999\",\"4,999\",\"5,990\",\"5,999\",\"18,999\",\"13,999\",\"12,999\",\"12,999\",\"8,999\",\"5,990\",\"12,999\",\"6,999\",\"15,999\",\"5,499\",\"8,999\",\"7,399\",\"14,999\",\"25,990\",\"25,990\",\"37,999\",\"42,999\",\"37,999\",\"31,999\",\"2,590\",\"2,590\",\"9,990\",\"30,990\",\"34,999\",\"42,999\",\"31,999\",\"28,490\",\"33,999\",\"39,999\",\"34,490\",\"31,990\",\"34,999\",\"19,990\",\"28,490\",\"31,999\",\"15,000\",\"16,860\",\"31,990\",\"24,300\",\"34,490\",\"14,990\",\"15,000\",\"22,550\",\"16,860\",\"19,990\",\"29,989\",\"25,990\",\"15,900\",\"15,000\",\"39,490\",\"25,990\",\"28,500\",\"22,990\",\"34,550\",\"22,990\",\"24,300\",\"25,155\",\"30,000\",\"22,498\",\"60,241\",\"15,885\",\"22,995\",\"22,995\",\"22,995\",\"18,495\",\"22,995\",\"14,995\",\"22,995\",\"14,995\",\"18,495\",\"16,495\",\"14,995\",\"13,495\",\"16,495\",\"11,995\",\"16,495\",\"17,995\",\"16,495\",\"13,495\",\"11,995\",\"13,495\",\"21,995\",\"13,495\",\"12,995\",\"14,495\",\"12,995\",\"13,495\",\"13,495\",\"22,995\",\"19,995\",\"18,495\",\"11,995\",\"22,995\",\"11,995\",\"11,995\",\"18,995\",\"16,495\",\"19,995\",\"19,995\",\"11,995\",\"19,995\",\"18,995\",\"21,995\",\"19,995\",\"18,495\",\"17,995\",\"25,995\",\"22,995\",\"21,995\",\"17,995\",\"21,995\",\"19,995\",\"13,495\",\"19,995\",\"21,995\",\"19,995\",\"19,995\",\"11,995\",\"21,995\",\"19,995\",\"14,495\",\"13,995\",\"13,495\",\"15,034\",\"22,995\",\"13,495\",\"19,995\",\"11,995\",\"11,995\",\"17,995\",\"17,995\",\"21,995\",\"18,995\",\"13,495\",\"11,995\",\"11,995\",\"24,495\",\"21,995\",\"14,995\",\"21,995\",\"19,995\",\"14,995\",\"19,995\",\"13,495\",\"21,995\",\"18,995\",\"12,995\",\"18,995\",\"15,995\",\"13,995\",\"11,995\",\"11,995\",\"11,995\",\"21,495\",\"14,495\",\"14,495\",\"11,995\",\"17,995\",\"12,995\",\"13,495\",\"11,995\",\"6,995\",\"13,495\",\"13,495\",\"6,995\",\"18,995\",\"13,995\",\"22,995\",\"11,995\",\"11,995\",\"15,995\",\"15,995\",\"13,995\",\"21,995\",\"22,995\",\"21,995\",\"13,495\",\"13,995\",\"14,495\",\"23,995\",\"11,995\",\"15,995\",\"18,995\",\"15,995\",\"6,995\",\"13,495\",\"12,995\",\"14,495\",\"17,995\",\"21,995\",\"6,995\",\"17,995\",\"21,995\",\"23,900\",\"32,900\",\"20,900\",\"36,900\",\"33,900\",\"29,900\",\"49,900\",\"32,900\",\"33,900\",\"33,900\",\"40,900\",\"49,900\",\"73,900\",\"43,900\",\"32,900\",\"49,900\",\"69,900\",\"69,900\",\"73,900\",\"43,900\",\"52,900\",\"49,900\",\"69,900\",\"65,900\",\"52,900\",\"52,900\",\"56,900\",\"50,400\",\"50,400\",\"49,900\",\"49,900\",\"49,900\",\"73,900\",\"29,900\",\"73,900\",\"69,900\",\"40,900\",\"43,900\",\"44,900\",\"36,900\",\"33,900\",\"52,900\",\"50,900\",\"53,900\",\"33,900\",\"40,900\",\"33,900\",\"40,900\",\"36,900\",\"33,900\",\"52,900\",\"40,900\",\"77,900\",\"52,900\",\"52,900\",\"73,900\",\"36,900\",\"36,900\",\"43,900\",\"36,900\",\"43,900\",\"73,900\",\"36,900\",\"43,900\",\"69,900\",\"1,14,900\",\"41,900\",\"48,900\",\"77,900\",\"29,900\",\"73,900\",\"56,900\",\"73,900\",\"79,900\",\"29,900\",\"21,900\",\"1,22,090\",\"60,900\",\"25,900\",\"34,900\",\"32,380\",\"1,22,090\",\"64,900\",\"56,900\",\"64,900\",\"31,600\",\"25,990\",\"20,990\",\"31,490\",\"39,990\",\"20,990\",\"41,990\",\"13,490\",\"41,490\",\"51,990\",\"37,990\",\"36,490\",\"28,490\",\"28,490\",\"31,490\",\"31,490\",\"88,490\",\"88,490\",\"51,990\",\"86,690\",\"20,990\",\"20,990\",\"28,490\",\"25,990\",\"1,19,490\",\"86,690\",\"58,490\",\"52,990\",\"82,990\",\"36,790\",\"84,090\",\"62,490\",\"20,990\",\"47,490\",\"25,990\",\"79,990\",\"26,990\",\"16,990\",\"25,990\",\"20,990\",\"29,290\",\"17,990\",\"96,390\",\"8,990\",\"51,990\",\"53,190\",\"48,790\",\"25,990\",\"36,490\",\"52,990\",\"41,490\",\"53,190\",\"96,690\",\"82,990\",\"26,990\",\"48,990\",\"51,990\",\"34,990\",\"42,990\",\"22,990\",\"86,690\",\"31,197\",\"39,990\",\"34,990\",\"34,990\",\"88,490\",\"47,490\",\"51,990\",\"21,990\",\"54,990\",\"34,990\",\"26,990\",\"47,490\",\"25,990\",\"20,990\",\"16,990\",\"27,790\",\"25,990\",\"49,990\",\"34,990\",\"26,990\",\"14,499\",\"42,990\",\"44,990\",\"19,990\",\"22,990\",\"29,990\",\"54,990\",\"16,990\",\"16,990\",\"29,990\",\"24,990\",\"16,990\",\"22,990\",\"27,990\",\"16,743\",\"19,990\",\"16,990\",\"27,990\",\"39,990\",\"20,000\",\"21,335\",\"16,999\",\"20,990\",\"29,990\",\"34,990\",\"19,990\",\"19,990\",\"19,990\",\"19,990\",\"19,990\",\"20,990\",\"20,990\",\"20,990\",\"21,990\",\"30,990\",\"9,999\",\"9,999\",\"29,999\",\"49,999\",\"25,999\",\"55,000\",\"20,990\",\"1,999\",\"3,499\",\"18,495\",\"6,990\",\"9,999\",\"9,999\",\"9,999\",\"9,999\",\"7,999\",\"9,999\",\"9,999\",\"9,999\",\"3,999\",\"5,999\",\"3,999\",\"7,999\",\"4,999\",\"3,199\",\"2,999\",\"2,999\",\"2,000\",\"3,000\",\"3,999\",\"7,999\",\"4,499\",\"4,999\",\"4,999\",\"3,999\",\"4,999\",\"4,199\",\"2,999\",\"1,899\",\"1,899\",\"4,199\",\"4,999\",\"10,999\",\"4,999\",\"7,999\",\"5,999\",\"12,999\",\"9,999\",\"9,999\",\"5,999\",\"9,999\",\"14,999\",\"7,999\",\"5,999\",\"4,999\"],\"y0\":\" \",\"yaxis\":\"y\",\"type\":\"box\"},{\"alignmentgroup\":\"True\",\"hovertemplate\":\"Fitness Tracker Spec Categories=%{x}<br>Fitness Tracker Values=%{y}<extra></extra>\",\"legendgroup\":\"Display\",\"marker\":{\"color\":\"#91d6b8\"},\"name\":\"Display\",\"notched\":false,\"offsetgroup\":\"Display\",\"orientation\":\"v\",\"showlegend\":true,\"x\":[\"Display\",\"Display\",\"Display\",\"Display\",\"Display\",\"Display\",\"Display\",\"Display\",\"Display\",\"Display\",\"Display\",\"Display\",\"Display\",\"Display\",\"Display\",\"Display\",\"Display\",\"Display\",\"Display\",\"Display\",\"Display\",\"Display\",\"Display\",\"Display\",\"Display\",\"Display\",\"Display\",\"Display\",\"Display\",\"Display\",\"Display\",\"Display\",\"Display\",\"Display\",\"Display\",\"Display\",\"Display\",\"Display\",\"Display\",\"Display\",\"Display\",\"Display\",\"Display\",\"Display\",\"Display\",\"Display\",\"Display\",\"Display\",\"Display\",\"Display\",\"Display\",\"Display\",\"Display\",\"Display\",\"Display\",\"Display\",\"Display\",\"Display\",\"Display\",\"Display\",\"Display\",\"Display\",\"Display\",\"Display\",\"Display\",\"Display\",\"Display\",\"Display\",\"Display\",\"Display\",\"Display\",\"Display\",\"Display\",\"Display\",\"Display\",\"Display\",\"Display\",\"Display\",\"Display\",\"Display\",\"Display\",\"Display\",\"Display\",\"Display\",\"Display\",\"Display\",\"Display\",\"Display\",\"Display\",\"Display\",\"Display\",\"Display\",\"Display\",\"Display\",\"Display\",\"Display\",\"Display\",\"Display\",\"Display\",\"Display\",\"Display\",\"Display\",\"Display\",\"Display\",\"Display\",\"Display\",\"Display\",\"Display\",\"Display\",\"Display\",\"Display\",\"Display\",\"Display\",\"Display\",\"Display\",\"Display\",\"Display\",\"Display\",\"Display\",\"Display\",\"Display\",\"Display\",\"Display\",\"Display\",\"Display\",\"Display\",\"Display\",\"Display\",\"Display\",\"Display\",\"Display\",\"Display\",\"Display\",\"Display\",\"Display\",\"Display\",\"Display\",\"Display\",\"Display\",\"Display\",\"Display\",\"Display\",\"Display\",\"Display\",\"Display\",\"Display\",\"Display\",\"Display\",\"Display\",\"Display\",\"Display\",\"Display\",\"Display\",\"Display\",\"Display\",\"Display\",\"Display\",\"Display\",\"Display\",\"Display\",\"Display\",\"Display\",\"Display\",\"Display\",\"Display\",\"Display\",\"Display\",\"Display\",\"Display\",\"Display\",\"Display\",\"Display\",\"Display\",\"Display\",\"Display\",\"Display\",\"Display\",\"Display\",\"Display\",\"Display\",\"Display\",\"Display\",\"Display\",\"Display\",\"Display\",\"Display\",\"Display\",\"Display\",\"Display\",\"Display\",\"Display\",\"Display\",\"Display\",\"Display\",\"Display\",\"Display\",\"Display\",\"Display\",\"Display\",\"Display\",\"Display\",\"Display\",\"Display\",\"Display\",\"Display\",\"Display\",\"Display\",\"Display\",\"Display\",\"Display\",\"Display\",\"Display\",\"Display\",\"Display\",\"Display\",\"Display\",\"Display\",\"Display\",\"Display\",\"Display\",\"Display\",\"Display\",\"Display\",\"Display\",\"Display\",\"Display\",\"Display\",\"Display\",\"Display\",\"Display\",\"Display\",\"Display\",\"Display\",\"Display\",\"Display\",\"Display\",\"Display\",\"Display\",\"Display\",\"Display\",\"Display\",\"Display\",\"Display\",\"Display\",\"Display\",\"Display\",\"Display\",\"Display\",\"Display\",\"Display\",\"Display\",\"Display\",\"Display\",\"Display\",\"Display\",\"Display\",\"Display\",\"Display\",\"Display\",\"Display\",\"Display\",\"Display\",\"Display\",\"Display\",\"Display\",\"Display\",\"Display\",\"Display\",\"Display\",\"Display\",\"Display\",\"Display\",\"Display\",\"Display\",\"Display\",\"Display\",\"Display\",\"Display\",\"Display\",\"Display\",\"Display\",\"Display\",\"Display\",\"Display\",\"Display\",\"Display\",\"Display\",\"Display\",\"Display\",\"Display\",\"Display\",\"Display\",\"Display\",\"Display\",\"Display\",\"Display\",\"Display\",\"Display\",\"Display\",\"Display\",\"Display\",\"Display\",\"Display\",\"Display\",\"Display\",\"Display\",\"Display\",\"Display\",\"Display\",\"Display\",\"Display\",\"Display\",\"Display\",\"Display\",\"Display\",\"Display\",\"Display\",\"Display\",\"Display\",\"Display\",\"Display\",\"Display\",\"Display\",\"Display\",\"Display\",\"Display\",\"Display\",\"Display\",\"Display\",\"Display\",\"Display\",\"Display\",\"Display\",\"Display\",\"Display\",\"Display\",\"Display\",\"Display\",\"Display\",\"Display\",\"Display\",\"Display\",\"Display\",\"Display\",\"Display\",\"Display\",\"Display\",\"Display\",\"Display\",\"Display\",\"Display\",\"Display\",\"Display\",\"Display\",\"Display\",\"Display\",\"Display\",\"Display\",\"Display\",\"Display\",\"Display\",\"Display\",\"Display\",\"Display\",\"Display\",\"Display\",\"Display\",\"Display\",\"Display\",\"Display\",\"Display\",\"Display\",\"Display\",\"Display\",\"Display\",\"Display\",\"Display\",\"Display\",\"Display\",\"Display\",\"Display\",\"Display\",\"Display\",\"Display\",\"Display\",\"Display\",\"Display\",\"Display\",\"Display\",\"Display\",\"Display\",\"Display\",\"Display\",\"Display\",\"Display\",\"Display\",\"Display\",\"Display\",\"Display\",\"Display\",\"Display\",\"Display\",\"Display\",\"Display\",\"Display\",\"Display\",\"Display\",\"Display\",\"Display\",\"Display\",\"Display\",\"Display\",\"Display\",\"Display\",\"Display\",\"Display\",\"Display\",\"Display\",\"Display\",\"Display\",\"Display\",\"Display\",\"Display\",\"Display\",\"Display\",\"Display\",\"Display\",\"Display\",\"Display\",\"Display\",\"Display\",\"Display\",\"Display\",\"Display\",\"Display\",\"Display\",\"Display\",\"Display\",\"Display\",\"Display\",\"Display\",\"Display\",\"Display\",\"Display\",\"Display\",\"Display\",\"Display\",\"Display\",\"Display\",\"Display\",\"Display\",\"Display\",\"Display\",\"Display\",\"Display\",\"Display\",\"Display\",\"Display\",\"Display\",\"Display\",\"Display\",\"Display\",\"Display\",\"Display\",\"Display\",\"Display\",\"Display\",\"Display\",\"Display\",\"Display\",\"Display\",\"Display\",\"Display\",\"Display\",\"Display\",\"Display\",\"Display\",\"Display\",\"Display\",\"Display\",\"Display\",\"Display\",\"Display\",\"Display\",\"Display\",\"Display\",\"Display\",\"Display\",\"Display\",\"Display\",\"Display\",\"Display\",\"Display\",\"Display\",\"Display\",\"Display\",\"Display\",\"Display\",\"Display\",\"Display\",\"Display\",\"Display\",\"Display\",\"Display\",\"Display\",\"Display\",\"Display\",\"Display\",\"Display\",\"Display\",\"Display\",\"Display\",\"Display\",\"Display\",\"Display\",\"Display\",\"Display\",\"Display\",\"Display\",\"Display\",\"Display\",\"Display\",\"Display\",\"Display\",\"Display\",\"Display\",\"Display\",\"Display\",\"Display\",\"Display\",\"Display\",\"Display\",\"Display\",\"Display\",\"Display\",\"Display\",\"Display\",\"Display\",\"Display\",\"Display\",\"Display\",\"Display\",\"Display\",\"Display\",\"Display\",\"Display\",\"Display\",\"Display\",\"Display\",\"Display\",\"Display\",\"Display\",\"Display\",\"Display\",\"Display\",\"Display\",\"Display\",\"Display\",\"Display\",\"Display\",\"Display\",\"Display\",\"Display\",\"Display\",\"Display\",\"Display\",\"Display\",\"Display\",\"Display\",\"Display\",\"Display\",\"Display\",\"Display\",\"Display\",\"Display\",\"Display\",\"Display\",\"Display\",\"Display\",\"Display\",\"Display\",\"Display\",\"Display\",\"Display\",\"Display\",\"Display\",\"Display\",\"Display\",\"Display\",\"Display\",\"Display\",\"Display\",\"Display\",\"Display\",\"Display\",\"Display\",\"Display\",\"Display\",\"Display\",\"Display\",\"Display\",\"Display\",\"Display\",\"Display\",\"Display\",\"Display\",\"Display\",\"Display\",\"Display\",\"Display\"],\"x0\":\" \",\"xaxis\":\"x\",\"y\":[\"AMOLED Display\",\"AMOLED Display\",\"LCD Display\",\"AMOLED Display\",\"OLED Display\",\"OLED Display\",\"OLED Display\",\"AMOLED Display\",\"AMOLED Display\",\"OLED Display\",\"AMOLED Display\",\"AMOLED Display\",\"AMOLED Display\",\"AMOLED Display\",\"AMOLED Display\",\"PMOLED Display\",\"LED Display\",\"PMOLED Display\",\"AMOLED Display\",\"PMOLED Display\",\"AMOLED Display\",\"OLED Display\",\"LED Display\",\"LED Display\",\"OLED Display\",\"AMOLED Display\",\"LCD Display\",\"AMOLED Display\",\"LCD Display\",\"LCD Display\",\"AMOLED Display\",\"AMOLED Display\",\"LCD Display\",\"PMOLED Display\",\"OLED Display\",\"LCD Display\",\"LCD Display\",\"LCD Display\",\"LCD Display\",\"OLED Display\",\"PMOLED Display\",\"AMOLED Display\",\"LCD Display\",\"AMOLED Display\",\"AMOLED Display\",\"OLED Display\",\"OLED Display\",\"OLED Display\",\"AMOLED Display\",\"OLED Display\",\"AMOLED Display\",\"PMOLED Display\",\"AMOLED Display\",\"AMOLED Display\",\"LCD Display\",\"OLED Display\",\"PMOLED Display\",\"PMOLED Display\",\"PMOLED Display\",\"PMOLED Display\",\"PMOLED Display\",\"LED Display\",\"LED Display\",\"TFT-LCD Display\",\"TFT-LCD Display\",\"TFT-LCD Display\",\"TFT-LCD Display\",\"TFT-LCD Display\",\"PMOLED Display\",\"PMOLED Display\",\"PMOLED Display\",\"PMOLED Display\",\"PMOLED Display\",\"AMOLED Display\",\"AMOLED Display\",\"AMOLED Display\",\"LCD Display\",\"PMOLED Display\",\"AMOLED Display\",\"AMOLED Display\",\"AMOLED Display\",\"AMOLED Display\",\"LCD Display\",\"AMOLED Display\",\"AMOLED Display\",\"OLED Display\",\"OLED Display\",\"OLED Display\",\"TFT-LCD Display\",\"OLED Display\",\"OLED Display\",\"LCD Display\",\"LCD Display\",\"TFT-LCD Display\",\"AMOLED Display\",\"AMOLED Display\",\"AMOLED Display\",\"AMOLED Display\",\"AMOLED Display\",\"AMOLED Display\",\"AMOLED Display\",\"AMOLED Display\",\"TFT-LCD Display\",\"TFT-LCD Display\",\"TFT-LCD Display\",\"TFT-LCD Display\",\"TFT-LCD Display\",\"OLED Display\",\"OLED Display\",\"TFT-LCD Display\",\"LCD Display\",\"LCD Display\",\"LCD Display\",\"LCD Display\",\"AMOLED Display\",\"AMOLED Display\",\"AMOLED Display\",\"AMOLED Display\",\"AMOLED Display\",\"AMOLED Display\",\"AMOLED Display\",\"AMOLED Display\",\"AMOLED Display\",\"AMOLED Display\",\"AMOLED Display\",\"AMOLED Display\",\"AMOLED Display\",\"AMOLED Display\",\"AMOLED Display\",\"AMOLED Display\",\"AMOLED Display\",\"OLED Display\",\"AMOLED Display\",\"AMOLED Display\",\"AMOLED Display\",\"AMOLED Display\",\"AMOLED Display\",\"AMOLED Display\",\"AMOLED Display\",\"AMOLED Display\",\"AMOLED Display\",\"AMOLED Display\",\"AMOLED Display\",\"AMOLED Display\",\"AMOLED Display\",\"AMOLED Display\",\"AMOLED Display\",\"AMOLED Display\",\"AMOLED Display\",\"AMOLED Display\",\"AMOLED Display\",\"AMOLED Display\",\"AMOLED Display\",\"AMOLED Display\",\"AMOLED Display\",\"AMOLED Display\",\"AMOLED Display\",\"AMOLED Display\",\"AMOLED Display\",\"AMOLED Display\",\"AMOLED Display\",\"AMOLED Display\",\"AMOLED Display\",\"AMOLED Display\",\"AMOLED Display\",\"AMOLED Display\",\"AMOLED Display\",\"AMOLED Display\",\"AMOLED Display\",\"AMOLED Display\",\"AMOLED Display\",\"AMOLED Display\",\"AMOLED Display\",\"AMOLED Display\",\"AMOLED Display\",\"AMOLED Display\",\"AMOLED Display\",\"AMOLED Display\",\"AMOLED Display\",\"AMOLED Display\",\"PMOLED Display\",\"PMOLED Display\",\"AMOLED Display\",\"AMOLED Display\",\"AMOLED Display\",\"AMOLED Display\",\"AMOLED Display\",\"AMOLED Display\",\"AMOLED Display\",\"AMOLED Display\",\"AMOLED Display\",\"AMOLED Display\",\"AMOLED Display\",\"AMOLED Display\",\"AMOLED Display\",\"AMOLED Display\",\"AMOLED Display\",\"AMOLED Display\",\"AMOLED Display\",\"AMOLED Display\",\"AMOLED Display\",\"AMOLED Display\",\"AMOLED Display\",\"AMOLED Display\",\"AMOLED Display\",\"AMOLED Display\",\"AMOLED Display\",\"AMOLED Display\",\"AMOLED Display\",\"AMOLED Display\",\"AMOLED Display\",\"AMOLED Display\",\"AMOLED Display\",\"AMOLED Display\",\"AMOLED Display\",\"AMOLED Display\",\"AMOLED Display\",\"AMOLED Display\",\"AMOLED Display\",\"AMOLED Display\",\"AMOLED Display\",\"PMOLED Display\",\"AMOLED Display\",\"AMOLED Display\",\"AMOLED Display\",\"AMOLED Display\",\"AMOLED Display\",\"AMOLED Display\",\"AMOLED Display\",\"AMOLED Display\",\"AMOLED Display\",\"AMOLED Display\",\"AMOLED Display\",\"AMOLED Display\",\"AMOLED Display\",\"AMOLED Display\",\"AMOLED Display\",\"AMOLED Display\",\"AMOLED Display\",\"AMOLED Display\",\"AMOLED Display\",\"AMOLED Display\",\"AMOLED Display\",\"AMOLED Display\",\"AMOLED Display\",\"AMOLED Display\",\"AMOLED Display\",\"AMOLED Display\",\"AMOLED Display\",\"AMOLED Display\",\"AMOLED Display\",\"AMOLED Display\",\"AMOLED Display\",\"AMOLED Display\",\"AMOLED Display\",\"AMOLED Display\",\"AMOLED Display\",\"AMOLED Display\",\"AMOLED Display\",\"AMOLED Display\",\"AMOLED Display\",\"AMOLED Display\",\"AMOLED Display\",\"AMOLED Display\",\"AMOLED Display\",\"AMOLED Display\",\"AMOLED Display\",\"AMOLED Display\",\"AMOLED Display\",\"AMOLED Display\",\"AMOLED Display\",\"AMOLED Display\",\"AMOLED Display\",\"AMOLED Display\",\"AMOLED Display\",\"AMOLED Display\",\"AMOLED Display\",\"AMOLED Display\",\"AMOLED Display\",\"AMOLED Display\",\"AMOLED Display\",\"AMOLED Display\",\"AMOLED Display\",\"AMOLED Display\",\"AMOLED Display\",\"AMOLED Display\",\"AMOLED Display\",\"AMOLED Display\",\"AMOLED Display\",\"AMOLED Display\",\"AMOLED Display\",\"AMOLED Display\",\"AMOLED Display\",\"AMOLED Display\",\"AMOLED Display\",\"AMOLED Display\",\"AMOLED Display\",\"AMOLED Display\",\"AMOLED Display\",\"AMOLED Display\",\"AMOLED Display\",\"AMOLED Display\",\"AMOLED Display\",\"AMOLED Display\",\"AMOLED Display\",\"AMOLED Display\",\"AMOLED Display\",\"AMOLED Display\",\"AMOLED Display\",\"AMOLED Display\",\"AMOLED Display\",\"AMOLED Display\",\"AMOLED Display\",\"AMOLED Display\",\"AMOLED Display\",\"AMOLED Display\",\"AMOLED Display\",\"AMOLED Display\",\"AMOLED Display\",\"AMOLED Display\",\"AMOLED Display\",\"AMOLED Display\",\"AMOLED Display\",\"AMOLED Display\",\"AMOLED Display\",\"AMOLED Display\",\"AMOLED Display\",\"AMOLED Display\",\"AMOLED Display\",\"AMOLED Display\",\"AMOLED Display\",\"AMOLED Display\",\"AMOLED Display\",\"AMOLED Display\",\"AMOLED Display\",\"AMOLED Display\",\"AMOLED Display\",\"AMOLED Display\",\"AMOLED Display\",\"AMOLED Display\",\"AMOLED Display\",\"AMOLED Display\",\"AMOLED Display\",\"AMOLED Display\",\"AMOLED Display\",\"AMOLED Display\",\"AMOLED Display\",\"AMOLED Display\",\"AMOLED Display\",\"AMOLED Display\",\"AMOLED Display\",\"AMOLED Display\",\"AMOLED Display\",\"AMOLED Display\",\"OLED Retina Display\",\"OLED Retina Display\",\"OLED Retina Display\",\"OLED Retina Display\",\"OLED Retina Display\",\"OLED Retina Display\",\"OLED Retina Display\",\"OLED Retina Display\",\"OLED Retina Display\",\"OLED Retina Display\",\"OLED Retina Display\",\"OLED Retina Display\",\"OLED Retina Display\",\"OLED Retina Display\",\"OLED Retina Display\",\"OLED Retina Display\",\"OLED Retina Display\",\"OLED Retina Display\",\"OLED Retina Display\",\"OLED Retina Display\",\"OLED Retina Display\",\"OLED Retina Display\",\"OLED Retina Display\",\"OLED Retina Display\",\"OLED Retina Display\",\"OLED Retina Display\",\"OLED Retina Display\",\"OLED Retina Display\",\"OLED Retina Display\",\"OLED Retina Display\",\"OLED Retina Display\",\"OLED Retina Display\",\"OLED Retina Display\",\"OLED Retina Display\",\"OLED Retina Display\",\"OLED Retina Display\",\"OLED Retina Display\",\"OLED Retina Display\",\"OLED Retina Display\",\"OLED Retina Display\",\"OLED Retina Display\",\"OLED Retina Display\",\"OLED Retina Display\",\"OLED Retina Display\",\"OLED Retina Display\",\"OLED Retina Display\",\"OLED Retina Display\",\"OLED Retina Display\",\"OLED Retina Display\",\"OLED Retina Display\",\"OLED Retina Display\",\"OLED Retina Display\",\"OLED Retina Display\",\"OLED Retina Display\",\"OLED Retina Display\",\"OLED Retina Display\",\"OLED Retina Display\",\"OLED Retina Display\",\"OLED Retina Display\",\"OLED Retina Display\",\"OLED Retina Display\",\"OLED Retina Display\",\"OLED Retina Display\",\"OLED Retina Display\",\"OLED Retina Display\",\"OLED Retina Display\",\"OLED Retina Display\",\"OLED Retina Display\",\"OLED Retina Display\",\"OLED Retina Display\",\"OLED Retina Display\",\"OLED Retina Display\",\"OLED Retina Display\",\"OLED Retina Display\",\"OLED Retina Display\",\"OLED Retina Display\",\"OLED Retina Display\",\"OLED Retina Display\",\"OLED Retina Display\",\"OLED Retina Display\",\"OLED Retina Display\",\"OLED Retina Display\",\"OLED Retina Display\",\"OLED Retina Display\",\"OLED Retina Display\",\"OLED Retina Display\",\"AMOLED Display\",\"AMOLED Display\",\"AMOLED Display\",\"AMOLED Display\",\"OLED Display\",\"AMOLED Display\",\"OLED Display\",\"AMOLED Display\",\"OLED Display\",\"AMOLED Display\",\"LED Display\",\"AMOLED Display\",\"LED Display\",\"LCD Display\",\"AMOLED Display\",\"AMOLED Display\",\"AMOLED Display\",\"AMOLED Display\",\"LED Display\",\"AMOLED Display\",\"OLED Display\",\"AMOLED Display\",\"OLED Display\",\"AMOLED Display\",\"OLED Display\",\"OLED Display\",\"AMOLED Display\",\"OLED Display\",\"AMOLED Display\",\"LED Display\",\"OLED Display\",\"AMOLED Display\",\"AMOLED Display\",\"AMOLED Display\",\"AMOLED Display\",\"AMOLED Display\",\"AMOLED Display\",\"AMOLED Display\",\"OLED Display\",\"OLED Display\",\"OLED Display\",\"OLED Display\",\"AMOLED Display\",\"AMOLED Display\",\"AMOLED Display\",\"AMOLED Display\",\"LED Display\",\"LED Display\",\"AMOLED Display\",\"AMOLED Display\",\"AMOLED Display\",\"AMOLED Display\",\"AMOLED Display\",\"OLED Display\",\"OLED Display\",\"OLED Display\",\"OLED Display\",\"OLED Display\",\"LED Display\",\"AMOLED Display\",\"LED Display\",\"LED Display\",\"AMOLED Display\",\"AMOLED Display\",\"AMOLED Display\",\"AMOLED Display\",\"AMOLED Display\",\"AMOLED Display\",\"AMOLED Display\",\"AMOLED Display\",\"OLED Display\",\"AMOLED Display\",\"AMOLED Display\",\"LED Display\",\"LED Display\",\"LED Display\",\"LED Display\",\"AMOLED Display\",\"LED Display\",\"LED Display\",\"AMOLED Display\",\"AMOLED Display\",\"AMOLED Display\",\"OLED Display\",\"AMOLED Display\",\"AMOLED Display\",\"AMOLED Display\",\"AMOLED Display\",\"AMOLED Display\",\"AMOLED Display\",\"LED Display\",\"LED Display\",\"LED Display\",\"LED Display\",\"LED Display\",\"LED Display\",\"AMOLED Display\",\"AMOLED Display\",\"LED Display\",\"AMOLED Display\",\"LED Display\",\"AMOLED Display\",\"AMOLED Display\",\"AMOLED Display\",\"AMOLED Display\",\"AMOLED Display\",\"AMOLED Display\",\"AMOLED Display\",\"AMOLED Display\",\"AMOLED Display\",\"AMOLED Display\",\"AMOLED Display\",\"AMOLED Display\",\"AMOLED Display\",\"AMOLED Display\",\"AMOLED Display\",\"AMOLED Display\",\"AMOLED Display\",\"AMOLED Display\",\"AMOLED Display\",\"AMOLED Display\",\"AMOLED Display\",\"OLED Display\",\"OLED Display\",\"AMOLED Display\",\"AMOLED Display\",\"IPS Display\",\"IPS Display\",\"IPS Display\",\"IPS Display\",\"IPS Display\",\"IPS Display\",\"IPS Display\",\"IPS Display\",\"LCD Display\",\"LCD Display\",\"TFT-LCD Display\",\"AMOLED Display\",\"TFT-LCD Display\",\"TFT-LCD Display\",\"TFT-LCD Display\",\"TFT-LCD Display\",\"LCD Display\",\"LCD Display\",\"TFT-LCD Display\",\"TFT-LCD Display\",\"TFT-LCD Display\",\"TFT-LCD Display\",\"TFT-LCD Display\",\"TFT-LCD Display\",\"TFT-LCD Display\",\"TFT-LCD Display\",\"TFT-LCD Display\",\"TFT-LCD Display\",\"TFT-LCD Display\",\"TFT-LCD Display\",\"HD Display\",\"AMOLED Display\",\"HD Display\",\"HD Display\",\"HD Display\",\"AMOLED Display\",\"HD Display\",\"LCD Display\",\"TFT-LCD Display\",\"HD Display\",\"AMOLED Display\",\"HD Display\",\"TFT-LCD Display\",\"HD Display\"],\"y0\":\" \",\"yaxis\":\"y\",\"type\":\"box\"},{\"alignmentgroup\":\"True\",\"hovertemplate\":\"Fitness Tracker Spec Categories=%{x}<br>Fitness Tracker Values=%{y}<extra></extra>\",\"legendgroup\":\"Rating (Out of 5)\",\"marker\":{\"color\":\"#9060a9\"},\"name\":\"Rating (Out of 5)\",\"notched\":false,\"offsetgroup\":\"Rating (Out of 5)\",\"orientation\":\"v\",\"showlegend\":true,\"x\":[\"Rating (Out of 5)\",\"Rating (Out of 5)\",\"Rating (Out of 5)\",\"Rating (Out of 5)\",\"Rating (Out of 5)\",\"Rating (Out of 5)\",\"Rating (Out of 5)\",\"Rating (Out of 5)\",\"Rating (Out of 5)\",\"Rating (Out of 5)\",\"Rating (Out of 5)\",\"Rating (Out of 5)\",\"Rating (Out of 5)\",\"Rating (Out of 5)\",\"Rating (Out of 5)\",\"Rating (Out of 5)\",\"Rating (Out of 5)\",\"Rating (Out of 5)\",\"Rating (Out of 5)\",\"Rating (Out of 5)\",\"Rating (Out of 5)\",\"Rating (Out of 5)\",\"Rating (Out of 5)\",\"Rating (Out of 5)\",\"Rating (Out of 5)\",\"Rating (Out of 5)\",\"Rating (Out of 5)\",\"Rating (Out of 5)\",\"Rating (Out of 5)\",\"Rating (Out of 5)\",\"Rating (Out of 5)\",\"Rating (Out of 5)\",\"Rating (Out of 5)\",\"Rating (Out of 5)\",\"Rating (Out of 5)\",\"Rating (Out of 5)\",\"Rating (Out of 5)\",\"Rating (Out of 5)\",\"Rating (Out of 5)\",\"Rating (Out of 5)\",\"Rating (Out of 5)\",\"Rating (Out of 5)\",\"Rating (Out of 5)\",\"Rating (Out of 5)\",\"Rating (Out of 5)\",\"Rating (Out of 5)\",\"Rating (Out of 5)\",\"Rating (Out of 5)\",\"Rating (Out of 5)\",\"Rating (Out of 5)\",\"Rating (Out of 5)\",\"Rating (Out of 5)\",\"Rating (Out of 5)\",\"Rating (Out of 5)\",\"Rating (Out of 5)\",\"Rating (Out of 5)\",\"Rating (Out of 5)\",\"Rating (Out of 5)\",\"Rating (Out of 5)\",\"Rating (Out of 5)\",\"Rating (Out of 5)\",\"Rating (Out of 5)\",\"Rating (Out of 5)\",\"Rating (Out of 5)\",\"Rating (Out of 5)\",\"Rating (Out of 5)\",\"Rating (Out of 5)\",\"Rating (Out of 5)\",\"Rating (Out of 5)\",\"Rating (Out of 5)\",\"Rating (Out of 5)\",\"Rating (Out of 5)\",\"Rating (Out of 5)\",\"Rating (Out of 5)\",\"Rating (Out of 5)\",\"Rating (Out of 5)\",\"Rating (Out of 5)\",\"Rating (Out of 5)\",\"Rating (Out of 5)\",\"Rating (Out of 5)\",\"Rating (Out of 5)\",\"Rating (Out of 5)\",\"Rating (Out of 5)\",\"Rating (Out of 5)\",\"Rating (Out of 5)\",\"Rating (Out of 5)\",\"Rating (Out of 5)\",\"Rating (Out of 5)\",\"Rating (Out of 5)\",\"Rating (Out of 5)\",\"Rating (Out of 5)\",\"Rating (Out of 5)\",\"Rating (Out of 5)\",\"Rating (Out of 5)\",\"Rating (Out of 5)\",\"Rating (Out of 5)\",\"Rating (Out of 5)\",\"Rating (Out of 5)\",\"Rating (Out of 5)\",\"Rating (Out of 5)\",\"Rating (Out of 5)\",\"Rating (Out of 5)\",\"Rating (Out of 5)\",\"Rating (Out of 5)\",\"Rating (Out of 5)\",\"Rating (Out of 5)\",\"Rating (Out of 5)\",\"Rating (Out of 5)\",\"Rating (Out of 5)\",\"Rating (Out of 5)\",\"Rating (Out of 5)\",\"Rating (Out of 5)\",\"Rating (Out of 5)\",\"Rating (Out of 5)\",\"Rating (Out of 5)\",\"Rating (Out of 5)\",\"Rating (Out of 5)\",\"Rating (Out of 5)\",\"Rating (Out of 5)\",\"Rating (Out of 5)\",\"Rating (Out of 5)\",\"Rating (Out of 5)\",\"Rating (Out of 5)\",\"Rating (Out of 5)\",\"Rating (Out of 5)\",\"Rating (Out of 5)\",\"Rating (Out of 5)\",\"Rating (Out of 5)\",\"Rating (Out of 5)\",\"Rating (Out of 5)\",\"Rating (Out of 5)\",\"Rating (Out of 5)\",\"Rating (Out of 5)\",\"Rating (Out of 5)\",\"Rating (Out of 5)\",\"Rating (Out of 5)\",\"Rating (Out of 5)\",\"Rating (Out of 5)\",\"Rating (Out of 5)\",\"Rating (Out of 5)\",\"Rating (Out of 5)\",\"Rating (Out of 5)\",\"Rating (Out of 5)\",\"Rating (Out of 5)\",\"Rating (Out of 5)\",\"Rating (Out of 5)\",\"Rating (Out of 5)\",\"Rating (Out of 5)\",\"Rating (Out of 5)\",\"Rating (Out of 5)\",\"Rating (Out of 5)\",\"Rating (Out of 5)\",\"Rating (Out of 5)\",\"Rating (Out of 5)\",\"Rating (Out of 5)\",\"Rating (Out of 5)\",\"Rating (Out of 5)\",\"Rating (Out of 5)\",\"Rating (Out of 5)\",\"Rating (Out of 5)\",\"Rating (Out of 5)\",\"Rating (Out of 5)\",\"Rating (Out of 5)\",\"Rating (Out of 5)\",\"Rating (Out of 5)\",\"Rating (Out of 5)\",\"Rating (Out of 5)\",\"Rating (Out of 5)\",\"Rating (Out of 5)\",\"Rating (Out of 5)\",\"Rating (Out of 5)\",\"Rating (Out of 5)\",\"Rating (Out of 5)\",\"Rating (Out of 5)\",\"Rating (Out of 5)\",\"Rating (Out of 5)\",\"Rating (Out of 5)\",\"Rating (Out of 5)\",\"Rating (Out of 5)\",\"Rating (Out of 5)\",\"Rating (Out of 5)\",\"Rating (Out of 5)\",\"Rating (Out of 5)\",\"Rating (Out of 5)\",\"Rating (Out of 5)\",\"Rating (Out of 5)\",\"Rating (Out of 5)\",\"Rating (Out of 5)\",\"Rating (Out of 5)\",\"Rating (Out of 5)\",\"Rating (Out of 5)\",\"Rating (Out of 5)\",\"Rating (Out of 5)\",\"Rating (Out of 5)\",\"Rating (Out of 5)\",\"Rating (Out of 5)\",\"Rating (Out of 5)\",\"Rating (Out of 5)\",\"Rating (Out of 5)\",\"Rating (Out of 5)\",\"Rating (Out of 5)\",\"Rating (Out of 5)\",\"Rating (Out of 5)\",\"Rating (Out of 5)\",\"Rating (Out of 5)\",\"Rating (Out of 5)\",\"Rating (Out of 5)\",\"Rating (Out of 5)\",\"Rating (Out of 5)\",\"Rating (Out of 5)\",\"Rating (Out of 5)\",\"Rating (Out of 5)\",\"Rating (Out of 5)\",\"Rating (Out of 5)\",\"Rating (Out of 5)\",\"Rating (Out of 5)\",\"Rating (Out of 5)\",\"Rating (Out of 5)\",\"Rating (Out of 5)\",\"Rating (Out of 5)\",\"Rating (Out of 5)\",\"Rating (Out of 5)\",\"Rating (Out of 5)\",\"Rating (Out of 5)\",\"Rating (Out of 5)\",\"Rating (Out of 5)\",\"Rating (Out of 5)\",\"Rating (Out of 5)\",\"Rating (Out of 5)\",\"Rating (Out of 5)\",\"Rating (Out of 5)\",\"Rating (Out of 5)\",\"Rating (Out of 5)\",\"Rating (Out of 5)\",\"Rating (Out of 5)\",\"Rating (Out of 5)\",\"Rating (Out of 5)\",\"Rating (Out of 5)\",\"Rating (Out of 5)\",\"Rating (Out of 5)\",\"Rating (Out of 5)\",\"Rating (Out of 5)\",\"Rating (Out of 5)\",\"Rating (Out of 5)\",\"Rating (Out of 5)\",\"Rating (Out of 5)\",\"Rating (Out of 5)\",\"Rating (Out of 5)\",\"Rating (Out of 5)\",\"Rating (Out of 5)\",\"Rating (Out of 5)\",\"Rating (Out of 5)\",\"Rating (Out of 5)\",\"Rating (Out of 5)\",\"Rating (Out of 5)\",\"Rating (Out of 5)\",\"Rating (Out of 5)\",\"Rating (Out of 5)\",\"Rating (Out of 5)\",\"Rating (Out of 5)\",\"Rating (Out of 5)\",\"Rating (Out of 5)\",\"Rating (Out of 5)\",\"Rating (Out of 5)\",\"Rating (Out of 5)\",\"Rating (Out of 5)\",\"Rating (Out of 5)\",\"Rating (Out of 5)\",\"Rating (Out of 5)\",\"Rating (Out of 5)\",\"Rating (Out of 5)\",\"Rating (Out of 5)\",\"Rating (Out of 5)\",\"Rating (Out of 5)\",\"Rating (Out of 5)\",\"Rating (Out of 5)\",\"Rating (Out of 5)\",\"Rating (Out of 5)\",\"Rating (Out of 5)\",\"Rating (Out of 5)\",\"Rating (Out of 5)\",\"Rating (Out of 5)\",\"Rating (Out of 5)\",\"Rating (Out of 5)\",\"Rating (Out of 5)\",\"Rating (Out of 5)\",\"Rating (Out of 5)\",\"Rating (Out of 5)\",\"Rating (Out of 5)\",\"Rating (Out of 5)\",\"Rating (Out of 5)\",\"Rating (Out of 5)\",\"Rating (Out of 5)\",\"Rating (Out of 5)\",\"Rating (Out of 5)\",\"Rating (Out of 5)\",\"Rating (Out of 5)\",\"Rating (Out of 5)\",\"Rating (Out of 5)\",\"Rating (Out of 5)\",\"Rating (Out of 5)\",\"Rating (Out of 5)\",\"Rating (Out of 5)\",\"Rating (Out of 5)\",\"Rating (Out of 5)\",\"Rating (Out of 5)\",\"Rating (Out of 5)\",\"Rating (Out of 5)\",\"Rating (Out of 5)\",\"Rating (Out of 5)\",\"Rating (Out of 5)\",\"Rating (Out of 5)\",\"Rating (Out of 5)\",\"Rating (Out of 5)\",\"Rating (Out of 5)\",\"Rating (Out of 5)\",\"Rating (Out of 5)\",\"Rating (Out of 5)\",\"Rating (Out of 5)\",\"Rating (Out of 5)\",\"Rating (Out of 5)\",\"Rating (Out of 5)\",\"Rating (Out of 5)\",\"Rating (Out of 5)\",\"Rating (Out of 5)\",\"Rating (Out of 5)\",\"Rating (Out of 5)\",\"Rating (Out of 5)\",\"Rating (Out of 5)\",\"Rating (Out of 5)\",\"Rating (Out of 5)\",\"Rating (Out of 5)\",\"Rating (Out of 5)\",\"Rating (Out of 5)\",\"Rating (Out of 5)\",\"Rating (Out of 5)\",\"Rating (Out of 5)\",\"Rating (Out of 5)\",\"Rating (Out of 5)\",\"Rating (Out of 5)\",\"Rating (Out of 5)\",\"Rating (Out of 5)\",\"Rating (Out of 5)\",\"Rating (Out of 5)\",\"Rating (Out of 5)\",\"Rating (Out of 5)\",\"Rating (Out of 5)\",\"Rating (Out of 5)\",\"Rating (Out of 5)\",\"Rating (Out of 5)\",\"Rating (Out of 5)\",\"Rating (Out of 5)\",\"Rating (Out of 5)\",\"Rating (Out of 5)\",\"Rating (Out of 5)\",\"Rating (Out of 5)\",\"Rating (Out of 5)\",\"Rating (Out of 5)\",\"Rating (Out of 5)\",\"Rating (Out of 5)\",\"Rating (Out of 5)\",\"Rating (Out of 5)\",\"Rating (Out of 5)\",\"Rating (Out of 5)\",\"Rating (Out of 5)\",\"Rating (Out of 5)\",\"Rating (Out of 5)\",\"Rating (Out of 5)\",\"Rating (Out of 5)\",\"Rating (Out of 5)\",\"Rating (Out of 5)\",\"Rating (Out of 5)\",\"Rating (Out of 5)\",\"Rating (Out of 5)\",\"Rating (Out of 5)\",\"Rating (Out of 5)\",\"Rating (Out of 5)\",\"Rating (Out of 5)\",\"Rating (Out of 5)\",\"Rating (Out of 5)\",\"Rating (Out of 5)\",\"Rating (Out of 5)\",\"Rating (Out of 5)\",\"Rating (Out of 5)\",\"Rating (Out of 5)\",\"Rating (Out of 5)\",\"Rating (Out of 5)\",\"Rating (Out of 5)\",\"Rating (Out of 5)\",\"Rating (Out of 5)\",\"Rating (Out of 5)\",\"Rating (Out of 5)\",\"Rating (Out of 5)\",\"Rating (Out of 5)\",\"Rating (Out of 5)\",\"Rating (Out of 5)\",\"Rating (Out of 5)\",\"Rating (Out of 5)\",\"Rating (Out of 5)\",\"Rating (Out of 5)\",\"Rating (Out of 5)\",\"Rating (Out of 5)\",\"Rating (Out of 5)\",\"Rating (Out of 5)\",\"Rating (Out of 5)\",\"Rating (Out of 5)\",\"Rating (Out of 5)\",\"Rating (Out of 5)\",\"Rating (Out of 5)\",\"Rating (Out of 5)\",\"Rating (Out of 5)\",\"Rating (Out of 5)\",\"Rating (Out of 5)\",\"Rating (Out of 5)\",\"Rating (Out of 5)\",\"Rating (Out of 5)\",\"Rating (Out of 5)\",\"Rating (Out of 5)\",\"Rating (Out of 5)\",\"Rating (Out of 5)\",\"Rating (Out of 5)\",\"Rating (Out of 5)\",\"Rating (Out of 5)\",\"Rating (Out of 5)\",\"Rating (Out of 5)\",\"Rating (Out of 5)\",\"Rating (Out of 5)\",\"Rating (Out of 5)\",\"Rating (Out of 5)\",\"Rating (Out of 5)\",\"Rating (Out of 5)\",\"Rating (Out of 5)\",\"Rating (Out of 5)\",\"Rating (Out of 5)\",\"Rating (Out of 5)\",\"Rating (Out of 5)\",\"Rating (Out of 5)\",\"Rating (Out of 5)\",\"Rating (Out of 5)\",\"Rating (Out of 5)\",\"Rating (Out of 5)\",\"Rating (Out of 5)\",\"Rating (Out of 5)\",\"Rating (Out of 5)\",\"Rating (Out of 5)\",\"Rating (Out of 5)\",\"Rating (Out of 5)\",\"Rating (Out of 5)\",\"Rating (Out of 5)\",\"Rating (Out of 5)\",\"Rating (Out of 5)\",\"Rating (Out of 5)\",\"Rating (Out of 5)\",\"Rating (Out of 5)\",\"Rating (Out of 5)\",\"Rating (Out of 5)\",\"Rating (Out of 5)\",\"Rating (Out of 5)\",\"Rating (Out of 5)\",\"Rating (Out of 5)\",\"Rating (Out of 5)\",\"Rating (Out of 5)\",\"Rating (Out of 5)\",\"Rating (Out of 5)\",\"Rating (Out of 5)\",\"Rating (Out of 5)\",\"Rating (Out of 5)\",\"Rating (Out of 5)\",\"Rating (Out of 5)\",\"Rating (Out of 5)\",\"Rating (Out of 5)\",\"Rating (Out of 5)\",\"Rating (Out of 5)\",\"Rating (Out of 5)\",\"Rating (Out of 5)\",\"Rating (Out of 5)\",\"Rating (Out of 5)\",\"Rating (Out of 5)\",\"Rating (Out of 5)\",\"Rating (Out of 5)\",\"Rating (Out of 5)\",\"Rating (Out of 5)\",\"Rating (Out of 5)\",\"Rating (Out of 5)\",\"Rating (Out of 5)\",\"Rating (Out of 5)\",\"Rating (Out of 5)\",\"Rating (Out of 5)\",\"Rating (Out of 5)\",\"Rating (Out of 5)\",\"Rating (Out of 5)\",\"Rating (Out of 5)\",\"Rating (Out of 5)\",\"Rating (Out of 5)\",\"Rating (Out of 5)\",\"Rating (Out of 5)\",\"Rating (Out of 5)\",\"Rating (Out of 5)\",\"Rating (Out of 5)\",\"Rating (Out of 5)\",\"Rating (Out of 5)\",\"Rating (Out of 5)\",\"Rating (Out of 5)\",\"Rating (Out of 5)\",\"Rating (Out of 5)\",\"Rating (Out of 5)\",\"Rating (Out of 5)\",\"Rating (Out of 5)\",\"Rating (Out of 5)\",\"Rating (Out of 5)\",\"Rating (Out of 5)\",\"Rating (Out of 5)\",\"Rating (Out of 5)\",\"Rating (Out of 5)\",\"Rating (Out of 5)\",\"Rating (Out of 5)\",\"Rating (Out of 5)\",\"Rating (Out of 5)\",\"Rating (Out of 5)\",\"Rating (Out of 5)\",\"Rating (Out of 5)\",\"Rating (Out of 5)\",\"Rating (Out of 5)\",\"Rating (Out of 5)\",\"Rating (Out of 5)\",\"Rating (Out of 5)\",\"Rating (Out of 5)\",\"Rating (Out of 5)\",\"Rating (Out of 5)\",\"Rating (Out of 5)\",\"Rating (Out of 5)\",\"Rating (Out of 5)\",\"Rating (Out of 5)\",\"Rating (Out of 5)\",\"Rating (Out of 5)\",\"Rating (Out of 5)\",\"Rating (Out of 5)\",\"Rating (Out of 5)\",\"Rating (Out of 5)\",\"Rating (Out of 5)\",\"Rating (Out of 5)\",\"Rating (Out of 5)\",\"Rating (Out of 5)\",\"Rating (Out of 5)\",\"Rating (Out of 5)\",\"Rating (Out of 5)\",\"Rating (Out of 5)\",\"Rating (Out of 5)\",\"Rating (Out of 5)\",\"Rating (Out of 5)\",\"Rating (Out of 5)\",\"Rating (Out of 5)\",\"Rating (Out of 5)\",\"Rating (Out of 5)\",\"Rating (Out of 5)\",\"Rating (Out of 5)\",\"Rating (Out of 5)\",\"Rating (Out of 5)\",\"Rating (Out of 5)\",\"Rating (Out of 5)\",\"Rating (Out of 5)\",\"Rating (Out of 5)\",\"Rating (Out of 5)\",\"Rating (Out of 5)\",\"Rating (Out of 5)\",\"Rating (Out of 5)\",\"Rating (Out of 5)\",\"Rating (Out of 5)\",\"Rating (Out of 5)\",\"Rating (Out of 5)\",\"Rating (Out of 5)\",\"Rating (Out of 5)\",\"Rating (Out of 5)\",\"Rating (Out of 5)\",\"Rating (Out of 5)\",\"Rating (Out of 5)\",\"Rating (Out of 5)\",\"Rating (Out of 5)\",\"Rating (Out of 5)\",\"Rating (Out of 5)\",\"Rating (Out of 5)\",\"Rating (Out of 5)\",\"Rating (Out of 5)\",\"Rating (Out of 5)\",\"Rating (Out of 5)\",\"Rating (Out of 5)\",\"Rating (Out of 5)\",\"Rating (Out of 5)\",\"Rating (Out of 5)\",\"Rating (Out of 5)\",\"Rating (Out of 5)\",\"Rating (Out of 5)\",\"Rating (Out of 5)\",\"Rating (Out of 5)\",\"Rating (Out of 5)\",\"Rating (Out of 5)\",\"Rating (Out of 5)\",\"Rating (Out of 5)\",\"Rating (Out of 5)\",\"Rating (Out of 5)\",\"Rating (Out of 5)\",\"Rating (Out of 5)\",\"Rating (Out of 5)\",\"Rating (Out of 5)\",\"Rating (Out of 5)\",\"Rating (Out of 5)\",\"Rating (Out of 5)\",\"Rating (Out of 5)\",\"Rating (Out of 5)\",\"Rating (Out of 5)\"],\"x0\":\" \",\"xaxis\":\"x\",\"y\":[4.1,4.2,3.5,4.1,4.3,4.2,4.3,4.4,4.4,4.2,4.3,4.2,4.3,4.2,4.3,4.2,4.2,4.4,4.7,4.2,4.1,3.8,4.3,4.2,4.3,4.1,4.1,4.4,4.1,4.1,4.1,4.2,3.8,4.3,4.0,4.2,4.2,4.2,3.8,4.3,4.4,4.2,3.8,4.1,4.1,3.9,3.9,4.3,4.2,4.1,4.3,4.3,4.1,4.3,3.8,4.3,4.3,4.4,4.4,4.3,4.3,4.3,4.3,4.1,4.0,4.0,4.0,4.2,4.1,4.2,4.1,4.4,4.1,4.3,4.4,4.3,4.2,4.3,4.4,4.4,4.4,4.4,4.2,3.2,3.9,4.3,2.8,3.1,3.8,3.5,3.8,3.6,3.6,3.9,3.9,3.9,4.4,4.2,4.3,4.3,4.1,4.3,4.0,4.0,3.8,4.1,4.0,4.0,4.1,4.1,4.1,3.8,3.6,4.1,4.3,4.2,4.3,4.3,4.1,4.2,4.0,4.0,4.3,3.9,3.9,3.9,3.9,3.9,4.0,3.9,3.9,3.1,4.4,4.4,4.3,4.4,4.3,4.3,4.3,4.3,4.3,4.3,4.2,3.9,4.3,4.2,4.1,4.1,4.1,4.2,4.2,4.2,4.0,4.3,3.7,4.3,4.2,3.9,3.9,4.2,4.0,4.2,4.3,4.1,4.1,4.2,4.2,4.1,4.2,4.2,4.0,4.2,4.4,4.1,4.5,4.5,4.6,4.6,4.6,5.0,3.8,3.8,4.0,4.3,4.6,4.6,4.6,4.1,4.5,4.6,4.1,4.3,4.6,4.4,3.6,4.6,4.2,3.9,4.4,4.3,4.1,4.3,4.2,2.3,3.9,4.4,4.2,4.6,4.2,4.2,4.3,4.6,4.3,3.0,4.2,4.3,4.1,4.5,4.2,4.6,3.2,4.2,4.2,4.2,4.1,3.8,4.3,4.3,4.1,4.0,3.8,4.0,4.0,4.0,4.0,4.3,4.3,3.9,3.9,4.6,4.8,5.0,3.8,4.6,4.6,4.5,4.6,4.0,4.6,4.3,4.1,3.8,5.0,4.3,4.3,4.6,4.0,3.9,4.0,4.2,3.7,4.4,4.0,4.3,3.1,4.6,4.0,4.2,4.1,3.9,4.6,4.2,4.2,4.6,4.1,3.9,3.8,4.1,3.7,3.9,4.1,4.3,3.7,4.0,4.3,4.3,4.6,4.3,4.6,4.6,4.0,4.0,4.4,4.0,4.4,3.7,4.6,4.1,4.1,3.7,3.9,4.2,3.9,4.1,4.7,4.6,4.1,5.0,4.0,4.8,4.1,4.6,4.6,4.6,4.6,4.6,4.6,4.6,4.6,4.6,4.6,4.6,4.6,3.9,4.4,4.6,4.6,3.8,4.1,4.6,4.6,4.3,4.3,4.6,2.8,4.6,3.8,4.6,4.6,4.8,4.6,4.6,4.6,4.6,4.4,3.0,4.6,4.3,3.0,4.6,4.1,4.6,4.0,3.7,4.6,4.7,4.6,4.6,4.6,4.7,4.5,4.7,4.6,4.6,4.5,4.5,4.5,4.5,4.7,4.5,4.2,4.6,4.2,4.5,4.5,4.5,4.5,3.4,4.7,4.7,4.6,4.7,4.7,4.5,4.5,4.5,4.5,4.7,4.2,4.2,4.7,4.5,5.0,4.6,4.6,4.5,4.6,4.6,4.6,4.5,4.6,4.5,4.6,4.6,4.5,4.5,4.5,4.7,4.5,4.5,4.6,4.6,4.5,4.6,4.5,4.5,4.6,4.5,4.2,4.7,5.0,4.6,4.6,4.6,4.6,4.6,4.6,4.6,4.5,4.6,4.6,4.5,4.6,4.7,4.6,4.6,4.3,4.3,4.6,4.5,4.3,4.2,4.7,4.0,4.4,4.7,3.9,4.1,4.1,4.2,4.2,3.7,4.4,4.6,3.3,null,null,null,null,3.3,4.0,5.0,null,null,null,null,null,null,3.3,null,4.2,null,null,3.3,null,null,3.0,null,null,3.6,3.6,null,null,null,null,4.7,null,null,null,null,null,null,null,3.6,4.7,null,null,4.7,4.7,null,4.7,4.0,4.3,4.2,null,null,5.0,3.5,null,5.0,4.4,4.7,null,3.3,null,4.7,null,null,4.3,3.6,4.7,null,null,4.1,null,3.6,null,null,null,null,3.6,2.0,null,null,null,3.7,3.6,4.8,null,null,null,4.4,4.5,4.4,3.5,4.3,4.3,4.3,4.3,4.5,4.4,4.4,4.4,4.5,4.5,3.4,3.4,3.8,4.1,3.9,4.1,4.1,3.8,3.7,4.2,3.9,4.1,3.9,3.9,3.7,3.9,4.2,3.9,3.8,4.3,4.2,4.3,3.9,null,2.5,3.3,3.1,3.7,3.4,4.5,4.2,4.6,4.5,null,null,null,2.9,3.1,3.3,3.3,3.1,3.9,4.1,4.0,4.0,4.0,4.0,3.7,null,2.4,4.1,4.1,4.0,2.4,4.0],\"y0\":\" \",\"yaxis\":\"y\",\"type\":\"box\"},{\"alignmentgroup\":\"True\",\"hovertemplate\":\"Fitness Tracker Spec Categories=%{x}<br>Fitness Tracker Values=%{y}<extra></extra>\",\"legendgroup\":\"Strap Material\",\"marker\":{\"color\":\"#e694e9\"},\"name\":\"Strap Material\",\"notched\":false,\"offsetgroup\":\"Strap Material\",\"orientation\":\"v\",\"showlegend\":true,\"x\":[\"Strap Material\",\"Strap Material\",\"Strap Material\",\"Strap Material\",\"Strap Material\",\"Strap Material\",\"Strap Material\",\"Strap Material\",\"Strap Material\",\"Strap Material\",\"Strap Material\",\"Strap Material\",\"Strap Material\",\"Strap Material\",\"Strap Material\",\"Strap Material\",\"Strap Material\",\"Strap Material\",\"Strap Material\",\"Strap Material\",\"Strap Material\",\"Strap Material\",\"Strap Material\",\"Strap Material\",\"Strap Material\",\"Strap Material\",\"Strap Material\",\"Strap Material\",\"Strap Material\",\"Strap Material\",\"Strap Material\",\"Strap Material\",\"Strap Material\",\"Strap Material\",\"Strap Material\",\"Strap Material\",\"Strap Material\",\"Strap Material\",\"Strap Material\",\"Strap Material\",\"Strap Material\",\"Strap Material\",\"Strap Material\",\"Strap Material\",\"Strap Material\",\"Strap Material\",\"Strap Material\",\"Strap Material\",\"Strap Material\",\"Strap Material\",\"Strap Material\",\"Strap Material\",\"Strap Material\",\"Strap Material\",\"Strap Material\",\"Strap Material\",\"Strap Material\",\"Strap Material\",\"Strap Material\",\"Strap Material\",\"Strap Material\",\"Strap Material\",\"Strap Material\",\"Strap Material\",\"Strap Material\",\"Strap Material\",\"Strap Material\",\"Strap Material\",\"Strap Material\",\"Strap Material\",\"Strap Material\",\"Strap Material\",\"Strap Material\",\"Strap Material\",\"Strap Material\",\"Strap Material\",\"Strap Material\",\"Strap Material\",\"Strap Material\",\"Strap Material\",\"Strap Material\",\"Strap Material\",\"Strap Material\",\"Strap Material\",\"Strap Material\",\"Strap Material\",\"Strap Material\",\"Strap Material\",\"Strap Material\",\"Strap Material\",\"Strap Material\",\"Strap Material\",\"Strap Material\",\"Strap Material\",\"Strap Material\",\"Strap Material\",\"Strap Material\",\"Strap Material\",\"Strap Material\",\"Strap Material\",\"Strap Material\",\"Strap Material\",\"Strap Material\",\"Strap Material\",\"Strap Material\",\"Strap Material\",\"Strap Material\",\"Strap Material\",\"Strap Material\",\"Strap Material\",\"Strap Material\",\"Strap Material\",\"Strap Material\",\"Strap Material\",\"Strap Material\",\"Strap Material\",\"Strap Material\",\"Strap Material\",\"Strap Material\",\"Strap Material\",\"Strap Material\",\"Strap Material\",\"Strap Material\",\"Strap Material\",\"Strap Material\",\"Strap Material\",\"Strap Material\",\"Strap Material\",\"Strap Material\",\"Strap Material\",\"Strap Material\",\"Strap Material\",\"Strap Material\",\"Strap Material\",\"Strap Material\",\"Strap Material\",\"Strap Material\",\"Strap Material\",\"Strap Material\",\"Strap Material\",\"Strap Material\",\"Strap Material\",\"Strap Material\",\"Strap Material\",\"Strap Material\",\"Strap Material\",\"Strap Material\",\"Strap Material\",\"Strap Material\",\"Strap Material\",\"Strap Material\",\"Strap Material\",\"Strap Material\",\"Strap Material\",\"Strap Material\",\"Strap Material\",\"Strap Material\",\"Strap Material\",\"Strap Material\",\"Strap Material\",\"Strap Material\",\"Strap Material\",\"Strap Material\",\"Strap Material\",\"Strap Material\",\"Strap Material\",\"Strap Material\",\"Strap Material\",\"Strap Material\",\"Strap Material\",\"Strap Material\",\"Strap Material\",\"Strap Material\",\"Strap Material\",\"Strap Material\",\"Strap Material\",\"Strap Material\",\"Strap Material\",\"Strap Material\",\"Strap Material\",\"Strap Material\",\"Strap Material\",\"Strap Material\",\"Strap Material\",\"Strap Material\",\"Strap Material\",\"Strap Material\",\"Strap Material\",\"Strap Material\",\"Strap Material\",\"Strap Material\",\"Strap Material\",\"Strap Material\",\"Strap Material\",\"Strap Material\",\"Strap Material\",\"Strap Material\",\"Strap Material\",\"Strap Material\",\"Strap Material\",\"Strap Material\",\"Strap Material\",\"Strap Material\",\"Strap Material\",\"Strap Material\",\"Strap Material\",\"Strap Material\",\"Strap Material\",\"Strap Material\",\"Strap Material\",\"Strap Material\",\"Strap Material\",\"Strap Material\",\"Strap Material\",\"Strap Material\",\"Strap Material\",\"Strap Material\",\"Strap Material\",\"Strap Material\",\"Strap Material\",\"Strap Material\",\"Strap Material\",\"Strap Material\",\"Strap Material\",\"Strap Material\",\"Strap Material\",\"Strap Material\",\"Strap Material\",\"Strap Material\",\"Strap Material\",\"Strap Material\",\"Strap Material\",\"Strap Material\",\"Strap Material\",\"Strap Material\",\"Strap Material\",\"Strap Material\",\"Strap Material\",\"Strap Material\",\"Strap Material\",\"Strap Material\",\"Strap Material\",\"Strap Material\",\"Strap Material\",\"Strap Material\",\"Strap Material\",\"Strap Material\",\"Strap Material\",\"Strap Material\",\"Strap Material\",\"Strap Material\",\"Strap Material\",\"Strap Material\",\"Strap Material\",\"Strap Material\",\"Strap Material\",\"Strap Material\",\"Strap Material\",\"Strap Material\",\"Strap Material\",\"Strap Material\",\"Strap Material\",\"Strap Material\",\"Strap Material\",\"Strap Material\",\"Strap Material\",\"Strap Material\",\"Strap Material\",\"Strap Material\",\"Strap Material\",\"Strap Material\",\"Strap Material\",\"Strap Material\",\"Strap Material\",\"Strap Material\",\"Strap Material\",\"Strap Material\",\"Strap Material\",\"Strap Material\",\"Strap Material\",\"Strap Material\",\"Strap Material\",\"Strap Material\",\"Strap Material\",\"Strap Material\",\"Strap Material\",\"Strap Material\",\"Strap Material\",\"Strap Material\",\"Strap Material\",\"Strap Material\",\"Strap Material\",\"Strap Material\",\"Strap Material\",\"Strap Material\",\"Strap Material\",\"Strap Material\",\"Strap Material\",\"Strap Material\",\"Strap Material\",\"Strap Material\",\"Strap Material\",\"Strap Material\",\"Strap Material\",\"Strap Material\",\"Strap Material\",\"Strap Material\",\"Strap Material\",\"Strap Material\",\"Strap Material\",\"Strap Material\",\"Strap Material\",\"Strap Material\",\"Strap Material\",\"Strap Material\",\"Strap Material\",\"Strap Material\",\"Strap Material\",\"Strap Material\",\"Strap Material\",\"Strap Material\",\"Strap Material\",\"Strap Material\",\"Strap Material\",\"Strap Material\",\"Strap Material\",\"Strap Material\",\"Strap Material\",\"Strap Material\",\"Strap Material\",\"Strap Material\",\"Strap Material\",\"Strap Material\",\"Strap Material\",\"Strap Material\",\"Strap Material\",\"Strap Material\",\"Strap Material\",\"Strap Material\",\"Strap Material\",\"Strap Material\",\"Strap Material\",\"Strap Material\",\"Strap Material\",\"Strap Material\",\"Strap Material\",\"Strap Material\",\"Strap Material\",\"Strap Material\",\"Strap Material\",\"Strap Material\",\"Strap Material\",\"Strap Material\",\"Strap Material\",\"Strap Material\",\"Strap Material\",\"Strap Material\",\"Strap Material\",\"Strap Material\",\"Strap Material\",\"Strap Material\",\"Strap Material\",\"Strap Material\",\"Strap Material\",\"Strap Material\",\"Strap Material\",\"Strap Material\",\"Strap Material\",\"Strap Material\",\"Strap Material\",\"Strap Material\",\"Strap Material\",\"Strap Material\",\"Strap Material\",\"Strap Material\",\"Strap Material\",\"Strap Material\",\"Strap Material\",\"Strap Material\",\"Strap Material\",\"Strap Material\",\"Strap Material\",\"Strap Material\",\"Strap Material\",\"Strap Material\",\"Strap Material\",\"Strap Material\",\"Strap Material\",\"Strap Material\",\"Strap Material\",\"Strap Material\",\"Strap Material\",\"Strap Material\",\"Strap Material\",\"Strap Material\",\"Strap Material\",\"Strap Material\",\"Strap Material\",\"Strap Material\",\"Strap Material\",\"Strap Material\",\"Strap Material\",\"Strap Material\",\"Strap Material\",\"Strap Material\",\"Strap Material\",\"Strap Material\",\"Strap Material\",\"Strap Material\",\"Strap Material\",\"Strap Material\",\"Strap Material\",\"Strap Material\",\"Strap Material\",\"Strap Material\",\"Strap Material\",\"Strap Material\",\"Strap Material\",\"Strap Material\",\"Strap Material\",\"Strap Material\",\"Strap Material\",\"Strap Material\",\"Strap Material\",\"Strap Material\",\"Strap Material\",\"Strap Material\",\"Strap Material\",\"Strap Material\",\"Strap Material\",\"Strap Material\",\"Strap Material\",\"Strap Material\",\"Strap Material\",\"Strap Material\",\"Strap Material\",\"Strap Material\",\"Strap Material\",\"Strap Material\",\"Strap Material\",\"Strap Material\",\"Strap Material\",\"Strap Material\",\"Strap Material\",\"Strap Material\",\"Strap Material\",\"Strap Material\",\"Strap Material\",\"Strap Material\",\"Strap Material\",\"Strap Material\",\"Strap Material\",\"Strap Material\",\"Strap Material\",\"Strap Material\",\"Strap Material\",\"Strap Material\",\"Strap Material\",\"Strap Material\",\"Strap Material\",\"Strap Material\",\"Strap Material\",\"Strap Material\",\"Strap Material\",\"Strap Material\",\"Strap Material\",\"Strap Material\",\"Strap Material\",\"Strap Material\",\"Strap Material\",\"Strap Material\",\"Strap Material\",\"Strap Material\",\"Strap Material\",\"Strap Material\",\"Strap Material\",\"Strap Material\",\"Strap Material\",\"Strap Material\",\"Strap Material\",\"Strap Material\",\"Strap Material\",\"Strap Material\",\"Strap Material\",\"Strap Material\",\"Strap Material\",\"Strap Material\",\"Strap Material\",\"Strap Material\",\"Strap Material\",\"Strap Material\",\"Strap Material\",\"Strap Material\",\"Strap Material\",\"Strap Material\",\"Strap Material\",\"Strap Material\",\"Strap Material\",\"Strap Material\",\"Strap Material\",\"Strap Material\",\"Strap Material\",\"Strap Material\",\"Strap Material\",\"Strap Material\",\"Strap Material\",\"Strap Material\",\"Strap Material\",\"Strap Material\",\"Strap Material\",\"Strap Material\",\"Strap Material\",\"Strap Material\",\"Strap Material\",\"Strap Material\",\"Strap Material\",\"Strap Material\",\"Strap Material\",\"Strap Material\",\"Strap Material\",\"Strap Material\",\"Strap Material\",\"Strap Material\",\"Strap Material\",\"Strap Material\",\"Strap Material\",\"Strap Material\",\"Strap Material\",\"Strap Material\",\"Strap Material\",\"Strap Material\",\"Strap Material\",\"Strap Material\",\"Strap Material\",\"Strap Material\",\"Strap Material\",\"Strap Material\",\"Strap Material\",\"Strap Material\",\"Strap Material\",\"Strap Material\",\"Strap Material\",\"Strap Material\",\"Strap Material\",\"Strap Material\",\"Strap Material\",\"Strap Material\",\"Strap Material\",\"Strap Material\",\"Strap Material\",\"Strap Material\",\"Strap Material\",\"Strap Material\",\"Strap Material\",\"Strap Material\",\"Strap Material\",\"Strap Material\",\"Strap Material\",\"Strap Material\",\"Strap Material\",\"Strap Material\",\"Strap Material\",\"Strap Material\",\"Strap Material\",\"Strap Material\",\"Strap Material\",\"Strap Material\",\"Strap Material\",\"Strap Material\",\"Strap Material\",\"Strap Material\",\"Strap Material\",\"Strap Material\",\"Strap Material\",\"Strap Material\",\"Strap Material\",\"Strap Material\",\"Strap Material\",\"Strap Material\",\"Strap Material\",\"Strap Material\",\"Strap Material\",\"Strap Material\",\"Strap Material\",\"Strap Material\",\"Strap Material\",\"Strap Material\",\"Strap Material\",\"Strap Material\",\"Strap Material\",\"Strap Material\",\"Strap Material\",\"Strap Material\",\"Strap Material\",\"Strap Material\",\"Strap Material\",\"Strap Material\",\"Strap Material\",\"Strap Material\",\"Strap Material\",\"Strap Material\",\"Strap Material\",\"Strap Material\",\"Strap Material\",\"Strap Material\",\"Strap Material\",\"Strap Material\",\"Strap Material\",\"Strap Material\",\"Strap Material\"],\"x0\":\" \",\"xaxis\":\"x\",\"y\":[\"Thermoplastic polyurethane\",\"Thermoplastic polyurethane\",\"Leather\",\"Thermoplastic polyurethane\",\"Plastic\",\"Plastic\",\"Plastic\",\"Silicone\",\"Silicone\",\"Thermoplastic polyurethane\",\"Thermoplastic polyurethane\",\"Thermoplastic polyurethane\",\"Silicone\",\"Elastomer\",\"Elastomer\",\"Elastomer\",\"Silicone\",\"Thermoplastic polyurethane\",\"Silicone\",\"Elastomer\",\"Silicone\",\"Rubber\",\"Silicone\",\"Silicone\",\"Silicone\",\"Fabric\",\"Elastomer\",\"Silicone\",\"Elastomer\",\"Elastomer\",\"Silicone\",\"Silicone\",\"Elastomer\",\"Silicone\",\"Silicone\",\"Elastomer\",\"Elastomer\",\"Elastomer\",\"Elastomer\",\"Elastomer\",\"Silicone\",\"Elastomer\",\"Elastomer\",\"Silicone\",\"Silicone\",\"Thermoplastic polyurethane\",\"Thermoplastic polyurethane\",\"Elastomer\",\"Elastomer\",\"Elastomer\",\"Elastomer\",\"Silicone\",\"Silicone\",\"Silicone\",\"Elastomer\",\"Silicone\",\"Silicone\",\"Silicone\",\"Silicone\",\"Silicone\",\"Silicone\",\"Silicone\",\"Silicone\",\"Silicone\",\"Silicone\",\"Silicone\",\"Silicone\",\"Silicone\",\"Silicone\",\"Silicone\",\"Silicone\",\"Silicone\",\"Silicone\",\"Plastic\",\"Plastic\",\"Plastic\",\"Plastic\",\"Plastic\",\"Plastic\",\"Plastic\",\"Plastic\",\"Plastic\",\"Plastic\",\"Plastic\",\"Plastic\",\"Plastic\",\"Silicone\",\"Silicone\",\"Silicone\",\"Silicone\",\"Silicone\",\"Thermoplastic polyurethane\",\"Silicone\",\"Thermoplastic polyurethane\",\"Rubber\",\"Rubber\",\"Silicone\",\"Silicone\",\"Silicone\",\"Silicone\",\"Silicone\",\"Silicone\",\"Silicone\",\"Silicone\",\"Silicone\",\"Silicone\",\"Silicone\",\"Silicone\",\"Silicone\",\"Silicone\",\"Thermoplastic polyurethane\",\"Thermoplastic polyurethane\",\"Silicone\",\"Thermoplastic polyurethane\",\"Thermoplastic polyurethane\",\"Thermoplastic polyurethane\",\"Thermoplastic polyurethane\",\"Thermoplastic polyurethane\",\"Silicone\",\"Silicone\",\"Thermoplastic polyurethane\",\"Thermoplastic polyurethane\",\"Thermoplastic polyurethane\",\"Silicone\",\"Silicone\",\"Silicone\",\"Silicone\",\"Thermoplastic polyurethane\",\"Thermoplastic polyurethane\",\"Thermoplastic polyurethane\",\"Thermoplastic polyurethane\",\"Silicone\",\"Nylon\",\"Nylon\",\"Silicone\",\"Leather\",\"Silicone\",\"Silicone\",\"Silicone\",\"Silicone\",\"Silicone\",\"Silicone\",\"Silicone\",\"Silicone\",\"Silicone\",\"Silicone\",\"Silicone\",\"Silicone\",\"Silicone\",\"Silicone\",\"Silicone\",\"Thermoplastic polyurethane\",\"Thermoplastic polyurethane\",\"Silicone\",\"Silicone\",\"Silicone\",\"Silicone\",\"Thermoplastic polyurethane\",\"Thermoplastic polyurethane\",\"Silicone\",\"Thermoplastic polyurethane\",\"Silicone\",\"Silicone\",\"Silicone\",\"Silicone\",\"Silicone\",\"Silicone\",\"Silicone\",\"Silicone\",\"Silicone\",\"Thermoplastic polyurethane\",\"Silicone\",\"Silicone\",\"Silicone\",\"Silicone\",\"Silicone\",\"Elastomer\",\"Elastomer\",\"Elastomer\",\"Elastomer\",\"Rubber\",\"Rubber\",\"Rubber\",\"Leather\",\"Elastomer\",\"Elastomer\",\"Elastomer\",\"Silicone\",\"Elastomer\",\"Elastomer\",\"Silicone\",\"Silicone\",\"Silicone\",\"Elastomer\",\"Silicone\",\"Elastomer\",\"Silicone\",\"Silicone\",\"Leather\",\"Elastomer\",\"Silicone\",\"Silicone\",\"Silicone\",\"Silicone\",\"Rubber\",\"Elastomer\",\"Silicone\",\"Elastomer\",\"Rubber\",\"Silicone\",\"Leather\",\"Elastomer\",\"Silicone\",\"Silicone\",\"Leather\",\"Leather\",\"Elastomer\",\"Rubber\",\"Leather\",\"Elastomer\",\"Rubber\",\"Rubber\",\"Leather\",\"Leather\",\"Stainless Steel\",\"Stainless Steel\",\"Stainless Steel\",\"Stainless Steel\",\"Stainless Steel\",\"Silicone\",\"Stainless Steel\",\"Silicone\",\"Silicone\",\"Stainless Steel\",\"Stainless Steel\",\"Leather\",\"Stainless Steel\",\"Silicone\",\"Leather\",\"Stainless Steel\",\"Leather\",\"Stainless Steel\",\"Leather\",\"Leather\",\"Leather\",\"Stainless Steel\",\"Leather\",\"Leather\",\"Leather\",\"Stainless Steel\",\"Leather\",\"Stainless Steel\",\"Leather\",\"Stainless Steel\",\"Leather\",\"Leather\",\"Silicone\",\"Leather\",\"Stainless Steel\",\"Stainless Steel\",\"Stainless Steel\",\"Leather\",\"Stainless Steel\",\"Stainless Steel\",\"Leather\",\"Stainless Steel\",\"Silicone\",\"Leather\",\"Stainless Steel\",\"Stainless Steel\",\"Silicone\",\"Stainless Steel\",\"Stainless Steel\",\"Stainless Steel\",\"Stainless Steel\",\"Stainless Steel\",\"Stainless Steel\",\"Stainless Steel\",\"Leather\",\"Stainless Steel\",\"Stainless Steel\",\"Stainless Steel\",\"Stainless Steel\",\"Leather\",\"Stainless Steel\",\"Stainless Steel\",\"Leather\",\"Stainless Steel\",\"Leather\",\"Silicone\",\"Silicone\",\"Silicone\",\"Stainless Steel\",\"Stainless Steel\",\"Silicone\",\"Leather\",\"Stainless Steel\",\"Silicone\",\"Silicone\",\"Stainless Steel\",\"Stainless Steel\",\"Stainless Steel\",\"Leather\",\"Stainless Steel\",\"Leather\",\"Stainless Steel\",\"Stainless Steel\",\"Stainless Steel\",\"Stainless Steel\",\"Stainless Steel\",\"Leather\",\"Stainless Steel\",\"Leather\",\"Leather\",\"Leather\",\"Stainless Steel\",\"Stainless Steel\",\"Stainless Steel\",\"Silicone\",\"Stainless Steel\",\"Leather\",\"Leather\",\"Stainless Steel\",\"Silicone\",\"Silicone\",\"Stainless Steel\",\"Stainless Steel\",\"Stainless Steel\",\"Leather\",\"Stainless Steel\",\"Stainless Steel\",\"Silicone\",\"Silicone\",\"Leather\",\"Stainless Steel\",\"Stainless Steel\",\"Leather\",\"Stainless Steel\",\"Leather\",\"Leather\",\"Leather\",\"Leather\",\"Leather\",\"Stainless Steel\",\"Stainless Steel\",\"leather\",\"Stainless Steel\",\"Stainless Steel\",\"Stainless Steel\",\"Silicone\",\"Silicone\",\"Stainless Steel\",\"Silicone\",\"Stainless Steel\",\"Aluminium\",\"Aluminium\",\"Aluminium\",\"Aluminium\",\"Aluminium\",\"Aluminium\",\"Aluminium\",\"Aluminium\",\"Aluminium\",\"Aluminium\",\"Aluminium\",\"Aluminium\",\"Stainless Steel\",\"Aluminium\",\"Aluminium\",\"Aluminium\",\"Aluminium\",\"Stainless Steel\",\"Stainless Steel\",\"Aluminium\",\"Aluminium\",\"Aluminium\",\"Stainless Steel\",\"Stainless Steel\",\"Aluminium\",\"Aluminium\",\"Stainless Steel\",\"Stainless Steel\",\"Stainless Steel\",\"Aluminium\",\"Aluminium\",\"Aluminium\",\"Stainless Steel\",\"Aluminium\",\"Stainless Steel\",\"Stainless Steel\",\"Aluminium\",\"Aluminium\",\"Silicone\",\"Aluminium\",\"Aluminium\",\"Aluminium\",\"Aluminium\",\"Aluminium\",\"Aluminium\",\"Aluminium\",\"Aluminium\",\"Aluminium\",\"Aluminium\",\"Aluminium\",\"Aluminium\",\"Aluminium\",\"Stainless Steel\",\"Silicone\",\"Aluminium\",\"Aluminium\",\"Aluminium\",\"Aluminium\",\"Aluminium\",\"Aluminium\",\"Aluminium\",\"Stainless Steel\",\"Aluminium\",\"Aluminium\",\"Stainless Steel\",\"Nylon\",\"Aluminium\",\"Stainless Steel\",\"Stainless Steel\",\"Aluminium\",\"Stainless Steel\",\"Stainless Steel\",\"Stainless Steel\",\"Stainless Steel\",\"Aluminium\",\"Aluminium\",\"Nylon\",\"Stainless Steel\",\"Aluminium\",\"Aluminium\",\"Aluminium\",\"Nylon\",\"Stainless Steel\",\"Stainless Steel\",\"Stainless Steel\",\"Aluminium\",\"Silicone\",\"Silicone\",\"Silicone\",\"Silicone\",\"Silicone\",\"Leather\",\"Silicone\",\"Silicone\",\"Silicone\",\"Silicone\",\"Silicone\",\"Silicone\",\"Silicone\",\"Silicone\",\"Nylon\",\"Nylon\",\"Nylon\",\"Silicone\",\"Nylon\",\"Silicone\",\"Silicone\",\"Silicone\",\"Silicone\",\"Leather\",\"Nylon\",\"Silicone\",\"Silicone\",\"Leather\",\"Silicone\",\"Stainless Steel\",\"Silicone\",\"Silicone\",\"Silicone\",\"Silicone\",\"Silicone\",\"Silicone\",\"Silicone\",\"Silicone\",\"Silicone\",\"Silicone\",\"Silicone\",\"Leather\",\"Silicone\",\"Silicone\",\"Silicone\",\"Silicone\",\"Silicone\",\"Silicone\",\"Silicone\",\"Silicone\",\"Silicone\",\"Leather \",\"Leather\",\"Silicone\",\"Silicone\",\"Silicone\",\"Silicone\",\"Silicone\",\"Silicone\",\"Nylon\",\"Silicone\",\"Silicone\",\"Silicone\",\"Silicone\",\"Nylon\",\"Silicone\",\"Silicone\",\"Silicone\",\"Silicone\",\"Silicone\",\"Silicone\",\"Silicone\",\"Silicone\",\"Silicone\",\"Silicone\",\"Silicone\",\"Silicone\",\"Silicone\",\"Silicone\",\"Silicone\",\"Silicone\",\"Leather\",\"Leather\",\"Silicone\",\"Silicone\",\"Silicone\",\"Leather\",\"Silicone\",\"Silicone\",\"Silicone\",\"Silicone\",\"Silicone\",\"Silicone\",\"Silicone\",\"Silicone\",\"Silicone\",\"Silicone\",\"Silicone\",\"Silicone\",\"Silicone\",\"Silicone\",\"Elastomer\",\"Elastomer\",\"Elastomer\",\"Elastomer\",\"Elastomer\",\"Elastomer\",\"Thermoplastic polyurethane\",\"Elastomer\",\"Leather\",\"Silicone\",\"Silicone\",\"Silicone\",\"Leather\",\"Stainless Steel\",\"Silicone\",\"Silicone\",\"Silicone\",\"Silicone\",\"Leather\",\"Silicone\",\"Elastomer\",\"Silicone\",\"Thermoplastic polyurethane\",\"Stainless Steel\",\"Silicone\",\"Silicone\",\"Silicone\",\"Silicone\",\"Silicone\",\"Silicone\",\"Silicone\",\"Leather\",\"Silicone\",\"Silicone\",\"Silicone\",\"Silicone\",\"Silicone\",\"Silicone\",\"Silicone\",\"Silicone\",\"Silicone\",\"Silicone\",\"Silicone\",\"Silicone\",\"Silicone\",\"Thermoplastic polyurethane\",\"Thermoplastic polyurethane\",\"Rubber\",\"Silicone\",\"Rubber\",\"Silicone\",\"Rubber\",\"Silicone\",\"Silicone\",\"Leather\",\"Silicone\",\"Silicone\",\"Silicone\",\"Silicone\",\"Silicone\",\"Silicone\",\"Silicone\",\"Silicone\",\"Silicone\",\"Silicone\",\"Silicone\",\"Silicone\",\"Silicone\",\"Silicone\"],\"y0\":\" \",\"yaxis\":\"y\",\"type\":\"box\"},{\"alignmentgroup\":\"True\",\"hovertemplate\":\"Fitness Tracker Spec Categories=%{x}<br>Fitness Tracker Values=%{y}<extra></extra>\",\"legendgroup\":\"Average Battery Life (in days)\",\"marker\":{\"color\":\"#cb836c\"},\"name\":\"Average Battery Life (in days)\",\"notched\":false,\"offsetgroup\":\"Average Battery Life (in days)\",\"orientation\":\"v\",\"showlegend\":true,\"x\":[\"Average Battery Life (in days)\",\"Average Battery Life (in days)\",\"Average Battery Life (in days)\",\"Average Battery Life (in days)\",\"Average Battery Life (in days)\",\"Average Battery Life (in days)\",\"Average Battery Life (in days)\",\"Average Battery Life (in days)\",\"Average Battery Life (in days)\",\"Average Battery Life (in days)\",\"Average Battery Life (in days)\",\"Average Battery Life (in days)\",\"Average Battery Life (in days)\",\"Average Battery Life (in days)\",\"Average Battery Life (in days)\",\"Average Battery Life (in days)\",\"Average Battery Life (in days)\",\"Average Battery Life (in days)\",\"Average Battery Life (in days)\",\"Average Battery Life (in days)\",\"Average Battery Life (in days)\",\"Average Battery Life (in days)\",\"Average Battery Life (in days)\",\"Average Battery Life (in days)\",\"Average Battery Life (in days)\",\"Average Battery Life (in days)\",\"Average Battery Life (in days)\",\"Average Battery Life (in days)\",\"Average Battery Life (in days)\",\"Average Battery Life (in days)\",\"Average Battery Life (in days)\",\"Average Battery Life (in days)\",\"Average Battery Life (in days)\",\"Average Battery Life (in days)\",\"Average Battery Life (in days)\",\"Average Battery Life (in days)\",\"Average Battery Life (in days)\",\"Average Battery Life (in days)\",\"Average Battery Life (in days)\",\"Average Battery Life (in days)\",\"Average Battery Life (in days)\",\"Average Battery Life (in days)\",\"Average Battery Life (in days)\",\"Average Battery Life (in days)\",\"Average Battery Life (in days)\",\"Average Battery Life (in days)\",\"Average Battery Life (in days)\",\"Average Battery Life (in days)\",\"Average Battery Life (in days)\",\"Average Battery Life (in days)\",\"Average Battery Life (in days)\",\"Average Battery Life (in days)\",\"Average Battery Life (in days)\",\"Average Battery Life (in days)\",\"Average Battery Life (in days)\",\"Average Battery Life (in days)\",\"Average Battery Life (in days)\",\"Average Battery Life (in days)\",\"Average Battery Life (in days)\",\"Average Battery Life (in days)\",\"Average Battery Life (in days)\",\"Average Battery Life (in days)\",\"Average Battery Life (in days)\",\"Average Battery Life (in days)\",\"Average Battery Life (in days)\",\"Average Battery Life (in days)\",\"Average Battery Life (in days)\",\"Average Battery Life (in days)\",\"Average Battery Life (in days)\",\"Average Battery Life (in days)\",\"Average Battery Life (in days)\",\"Average Battery Life (in days)\",\"Average Battery Life (in days)\",\"Average Battery Life (in days)\",\"Average Battery Life (in days)\",\"Average Battery Life (in days)\",\"Average Battery Life (in days)\",\"Average Battery Life (in days)\",\"Average Battery Life (in days)\",\"Average Battery Life (in days)\",\"Average Battery Life (in days)\",\"Average Battery Life (in days)\",\"Average Battery Life (in days)\",\"Average Battery Life (in days)\",\"Average Battery Life (in days)\",\"Average Battery Life (in days)\",\"Average Battery Life (in days)\",\"Average Battery Life (in days)\",\"Average Battery Life (in days)\",\"Average Battery Life (in days)\",\"Average Battery Life (in days)\",\"Average Battery Life (in days)\",\"Average Battery Life (in days)\",\"Average Battery Life (in days)\",\"Average Battery Life (in days)\",\"Average Battery Life (in days)\",\"Average Battery Life (in days)\",\"Average Battery Life (in days)\",\"Average Battery Life (in days)\",\"Average Battery Life (in days)\",\"Average Battery Life (in days)\",\"Average Battery Life (in days)\",\"Average Battery Life (in days)\",\"Average Battery Life (in days)\",\"Average Battery Life (in days)\",\"Average Battery Life (in days)\",\"Average Battery Life (in days)\",\"Average Battery Life (in days)\",\"Average Battery Life (in days)\",\"Average Battery Life (in days)\",\"Average Battery Life (in days)\",\"Average Battery Life (in days)\",\"Average Battery Life (in days)\",\"Average Battery Life (in days)\",\"Average Battery Life (in days)\",\"Average Battery Life (in days)\",\"Average Battery Life (in days)\",\"Average Battery Life (in days)\",\"Average Battery Life (in days)\",\"Average Battery Life (in days)\",\"Average Battery Life (in days)\",\"Average Battery Life (in days)\",\"Average Battery Life (in days)\",\"Average Battery Life (in days)\",\"Average Battery Life (in days)\",\"Average Battery Life (in days)\",\"Average Battery Life (in days)\",\"Average Battery Life (in days)\",\"Average Battery Life (in days)\",\"Average Battery Life (in days)\",\"Average Battery Life (in days)\",\"Average Battery Life (in days)\",\"Average Battery Life (in days)\",\"Average Battery Life (in days)\",\"Average Battery Life (in days)\",\"Average Battery Life (in days)\",\"Average Battery Life (in days)\",\"Average Battery Life (in days)\",\"Average Battery Life (in days)\",\"Average Battery Life (in days)\",\"Average Battery Life (in days)\",\"Average Battery Life (in days)\",\"Average Battery Life (in days)\",\"Average Battery Life (in days)\",\"Average Battery Life (in days)\",\"Average Battery Life (in days)\",\"Average Battery Life (in days)\",\"Average Battery Life (in days)\",\"Average Battery Life (in days)\",\"Average Battery Life (in days)\",\"Average Battery Life (in days)\",\"Average Battery Life (in days)\",\"Average Battery Life (in days)\",\"Average Battery Life (in days)\",\"Average Battery Life (in days)\",\"Average Battery Life (in days)\",\"Average Battery Life (in days)\",\"Average Battery Life (in days)\",\"Average Battery Life (in days)\",\"Average Battery Life (in days)\",\"Average Battery Life (in days)\",\"Average Battery Life (in days)\",\"Average Battery Life (in days)\",\"Average Battery Life (in days)\",\"Average Battery Life (in days)\",\"Average Battery Life (in days)\",\"Average Battery Life (in days)\",\"Average Battery Life (in days)\",\"Average Battery Life (in days)\",\"Average Battery Life (in days)\",\"Average Battery Life (in days)\",\"Average Battery Life (in days)\",\"Average Battery Life (in days)\",\"Average Battery Life (in days)\",\"Average Battery Life (in days)\",\"Average Battery Life (in days)\",\"Average Battery Life (in days)\",\"Average Battery Life (in days)\",\"Average Battery Life (in days)\",\"Average Battery Life (in days)\",\"Average Battery Life (in days)\",\"Average Battery Life (in days)\",\"Average Battery Life (in days)\",\"Average Battery Life (in days)\",\"Average Battery Life (in days)\",\"Average Battery Life (in days)\",\"Average Battery Life (in days)\",\"Average Battery Life (in days)\",\"Average Battery Life (in days)\",\"Average Battery Life (in days)\",\"Average Battery Life (in days)\",\"Average Battery Life (in days)\",\"Average Battery Life (in days)\",\"Average Battery Life (in days)\",\"Average Battery Life (in days)\",\"Average Battery Life (in days)\",\"Average Battery Life (in days)\",\"Average Battery Life (in days)\",\"Average Battery Life (in days)\",\"Average Battery Life (in days)\",\"Average Battery Life (in days)\",\"Average Battery Life (in days)\",\"Average Battery Life (in days)\",\"Average Battery Life (in days)\",\"Average Battery Life (in days)\",\"Average Battery Life (in days)\",\"Average Battery Life (in days)\",\"Average Battery Life (in days)\",\"Average Battery Life (in days)\",\"Average Battery Life (in days)\",\"Average Battery Life (in days)\",\"Average Battery Life (in days)\",\"Average Battery Life (in days)\",\"Average Battery Life (in days)\",\"Average Battery Life (in days)\",\"Average Battery Life (in days)\",\"Average Battery Life (in days)\",\"Average Battery Life (in days)\",\"Average Battery Life (in days)\",\"Average Battery Life (in days)\",\"Average Battery Life (in days)\",\"Average Battery Life (in days)\",\"Average Battery Life (in days)\",\"Average Battery Life (in days)\",\"Average Battery Life (in days)\",\"Average Battery Life (in days)\",\"Average Battery Life (in days)\",\"Average Battery Life (in days)\",\"Average Battery Life (in days)\",\"Average Battery Life (in days)\",\"Average Battery Life (in days)\",\"Average Battery Life (in days)\",\"Average Battery Life (in days)\",\"Average Battery Life (in days)\",\"Average Battery Life (in days)\",\"Average Battery Life (in days)\",\"Average Battery Life (in days)\",\"Average Battery Life (in days)\",\"Average Battery Life (in days)\",\"Average Battery Life (in days)\",\"Average Battery Life (in days)\",\"Average Battery Life (in days)\",\"Average Battery Life (in days)\",\"Average Battery Life (in days)\",\"Average Battery Life (in days)\",\"Average Battery Life (in days)\",\"Average Battery Life (in days)\",\"Average Battery Life (in days)\",\"Average Battery Life (in days)\",\"Average Battery Life (in days)\",\"Average Battery Life (in days)\",\"Average Battery Life (in days)\",\"Average Battery Life (in days)\",\"Average Battery Life (in days)\",\"Average Battery Life (in days)\",\"Average Battery Life (in days)\",\"Average Battery Life (in days)\",\"Average Battery Life (in days)\",\"Average Battery Life (in days)\",\"Average Battery Life (in days)\",\"Average Battery Life (in days)\",\"Average Battery Life (in days)\",\"Average Battery Life (in days)\",\"Average Battery Life (in days)\",\"Average Battery Life (in days)\",\"Average Battery Life (in days)\",\"Average Battery Life (in days)\",\"Average Battery Life (in days)\",\"Average Battery Life (in days)\",\"Average Battery Life (in days)\",\"Average Battery Life (in days)\",\"Average Battery Life (in days)\",\"Average Battery Life (in days)\",\"Average Battery Life (in days)\",\"Average Battery Life (in days)\",\"Average Battery Life (in days)\",\"Average Battery Life (in days)\",\"Average Battery Life (in days)\",\"Average Battery Life (in days)\",\"Average Battery Life (in days)\",\"Average Battery Life (in days)\",\"Average Battery Life (in days)\",\"Average Battery Life (in days)\",\"Average Battery Life (in days)\",\"Average Battery Life (in days)\",\"Average Battery Life (in days)\",\"Average Battery Life (in days)\",\"Average Battery Life (in days)\",\"Average Battery Life (in days)\",\"Average Battery Life (in days)\",\"Average Battery Life (in days)\",\"Average Battery Life (in days)\",\"Average Battery Life (in days)\",\"Average Battery Life (in days)\",\"Average Battery Life (in days)\",\"Average Battery Life (in days)\",\"Average Battery Life (in days)\",\"Average Battery Life (in days)\",\"Average Battery Life (in days)\",\"Average Battery Life (in days)\",\"Average Battery Life (in days)\",\"Average Battery Life (in days)\",\"Average Battery Life (in days)\",\"Average Battery Life (in days)\",\"Average Battery Life (in days)\",\"Average Battery Life (in days)\",\"Average Battery Life (in days)\",\"Average Battery Life (in days)\",\"Average Battery Life (in days)\",\"Average Battery Life (in days)\",\"Average Battery Life (in days)\",\"Average Battery Life (in days)\",\"Average Battery Life (in days)\",\"Average Battery Life (in days)\",\"Average Battery Life (in days)\",\"Average Battery Life (in days)\",\"Average Battery Life (in days)\",\"Average Battery Life (in days)\",\"Average Battery Life (in days)\",\"Average Battery Life (in days)\",\"Average Battery Life (in days)\",\"Average Battery Life (in days)\",\"Average Battery Life (in days)\",\"Average Battery Life (in days)\",\"Average Battery Life (in days)\",\"Average Battery Life (in days)\",\"Average Battery Life (in days)\",\"Average Battery Life (in days)\",\"Average Battery Life (in days)\",\"Average Battery Life (in days)\",\"Average Battery Life (in days)\",\"Average Battery Life (in days)\",\"Average Battery Life (in days)\",\"Average Battery Life (in days)\",\"Average Battery Life (in days)\",\"Average Battery Life (in days)\",\"Average Battery Life (in days)\",\"Average Battery Life (in days)\",\"Average Battery Life (in days)\",\"Average Battery Life (in days)\",\"Average Battery Life (in days)\",\"Average Battery Life (in days)\",\"Average Battery Life (in days)\",\"Average Battery Life (in days)\",\"Average Battery Life (in days)\",\"Average Battery Life (in days)\",\"Average Battery Life (in days)\",\"Average Battery Life (in days)\",\"Average Battery Life (in days)\",\"Average Battery Life (in days)\",\"Average Battery Life (in days)\",\"Average Battery Life (in days)\",\"Average Battery Life (in days)\",\"Average Battery Life (in days)\",\"Average Battery Life (in days)\",\"Average Battery Life (in days)\",\"Average Battery Life (in days)\",\"Average Battery Life (in days)\",\"Average Battery Life (in days)\",\"Average Battery Life (in days)\",\"Average Battery Life (in days)\",\"Average Battery Life (in days)\",\"Average Battery Life (in days)\",\"Average Battery Life (in days)\",\"Average Battery Life (in days)\",\"Average Battery Life (in days)\",\"Average Battery Life (in days)\",\"Average Battery Life (in days)\",\"Average Battery Life (in days)\",\"Average Battery Life (in days)\",\"Average Battery Life (in days)\",\"Average Battery Life (in days)\",\"Average Battery Life (in days)\",\"Average Battery Life (in days)\",\"Average Battery Life (in days)\",\"Average Battery Life (in days)\",\"Average Battery Life (in days)\",\"Average Battery Life (in days)\",\"Average Battery Life (in days)\",\"Average Battery Life (in days)\",\"Average Battery Life (in days)\",\"Average Battery Life (in days)\",\"Average Battery Life (in days)\",\"Average Battery Life (in days)\",\"Average Battery Life (in days)\",\"Average Battery Life (in days)\",\"Average Battery Life (in days)\",\"Average Battery Life (in days)\",\"Average Battery Life (in days)\",\"Average Battery Life (in days)\",\"Average Battery Life (in days)\",\"Average Battery Life (in days)\",\"Average Battery Life (in days)\",\"Average Battery Life (in days)\",\"Average Battery Life (in days)\",\"Average Battery Life (in days)\",\"Average Battery Life (in days)\",\"Average Battery Life (in days)\",\"Average Battery Life (in days)\",\"Average Battery Life (in days)\",\"Average Battery Life (in days)\",\"Average Battery Life (in days)\",\"Average Battery Life (in days)\",\"Average Battery Life (in days)\",\"Average Battery Life (in days)\",\"Average Battery Life (in days)\",\"Average Battery Life (in days)\",\"Average Battery Life (in days)\",\"Average Battery Life (in days)\",\"Average Battery Life (in days)\",\"Average Battery Life (in days)\",\"Average Battery Life (in days)\",\"Average Battery Life (in days)\",\"Average Battery Life (in days)\",\"Average Battery Life (in days)\",\"Average Battery Life (in days)\",\"Average Battery Life (in days)\",\"Average Battery Life (in days)\",\"Average Battery Life (in days)\",\"Average Battery Life (in days)\",\"Average Battery Life (in days)\",\"Average Battery Life (in days)\",\"Average Battery Life (in days)\",\"Average Battery Life (in days)\",\"Average Battery Life (in days)\",\"Average Battery Life (in days)\",\"Average Battery Life (in days)\",\"Average Battery Life (in days)\",\"Average Battery Life (in days)\",\"Average Battery Life (in days)\",\"Average Battery Life (in days)\",\"Average Battery Life (in days)\",\"Average Battery Life (in days)\",\"Average Battery Life (in days)\",\"Average Battery Life (in days)\",\"Average Battery Life (in days)\",\"Average Battery Life (in days)\",\"Average Battery Life (in days)\",\"Average Battery Life (in days)\",\"Average Battery Life (in days)\",\"Average Battery Life (in days)\",\"Average Battery Life (in days)\",\"Average Battery Life (in days)\",\"Average Battery Life (in days)\",\"Average Battery Life (in days)\",\"Average Battery Life (in days)\",\"Average Battery Life (in days)\",\"Average Battery Life (in days)\",\"Average Battery Life (in days)\",\"Average Battery Life (in days)\",\"Average Battery Life (in days)\",\"Average Battery Life (in days)\",\"Average Battery Life (in days)\",\"Average Battery Life (in days)\",\"Average Battery Life (in days)\",\"Average Battery Life (in days)\",\"Average Battery Life (in days)\",\"Average Battery Life (in days)\",\"Average Battery Life (in days)\",\"Average Battery Life (in days)\",\"Average Battery Life (in days)\",\"Average Battery Life (in days)\",\"Average Battery Life (in days)\",\"Average Battery Life (in days)\",\"Average Battery Life (in days)\",\"Average Battery Life (in days)\",\"Average Battery Life (in days)\",\"Average Battery Life (in days)\",\"Average Battery Life (in days)\",\"Average Battery Life (in days)\",\"Average Battery Life (in days)\",\"Average Battery Life (in days)\",\"Average Battery Life (in days)\",\"Average Battery Life (in days)\",\"Average Battery Life (in days)\",\"Average Battery Life (in days)\",\"Average Battery Life (in days)\",\"Average Battery Life (in days)\",\"Average Battery Life (in days)\",\"Average Battery Life (in days)\",\"Average Battery Life (in days)\",\"Average Battery Life (in days)\",\"Average Battery Life (in days)\",\"Average Battery Life (in days)\",\"Average Battery Life (in days)\",\"Average Battery Life (in days)\",\"Average Battery Life (in days)\",\"Average Battery Life (in days)\",\"Average Battery Life (in days)\",\"Average Battery Life (in days)\",\"Average Battery Life (in days)\",\"Average Battery Life (in days)\",\"Average Battery Life (in days)\",\"Average Battery Life (in days)\",\"Average Battery Life (in days)\",\"Average Battery Life (in days)\",\"Average Battery Life (in days)\",\"Average Battery Life (in days)\",\"Average Battery Life (in days)\",\"Average Battery Life (in days)\",\"Average Battery Life (in days)\",\"Average Battery Life (in days)\",\"Average Battery Life (in days)\",\"Average Battery Life (in days)\",\"Average Battery Life (in days)\",\"Average Battery Life (in days)\",\"Average Battery Life (in days)\",\"Average Battery Life (in days)\",\"Average Battery Life (in days)\",\"Average Battery Life (in days)\",\"Average Battery Life (in days)\",\"Average Battery Life (in days)\",\"Average Battery Life (in days)\",\"Average Battery Life (in days)\",\"Average Battery Life (in days)\",\"Average Battery Life (in days)\",\"Average Battery Life (in days)\",\"Average Battery Life (in days)\",\"Average Battery Life (in days)\",\"Average Battery Life (in days)\",\"Average Battery Life (in days)\",\"Average Battery Life (in days)\",\"Average Battery Life (in days)\",\"Average Battery Life (in days)\",\"Average Battery Life (in days)\",\"Average Battery Life (in days)\",\"Average Battery Life (in days)\",\"Average Battery Life (in days)\",\"Average Battery Life (in days)\",\"Average Battery Life (in days)\",\"Average Battery Life (in days)\",\"Average Battery Life (in days)\",\"Average Battery Life (in days)\",\"Average Battery Life (in days)\",\"Average Battery Life (in days)\",\"Average Battery Life (in days)\",\"Average Battery Life (in days)\",\"Average Battery Life (in days)\",\"Average Battery Life (in days)\",\"Average Battery Life (in days)\",\"Average Battery Life (in days)\",\"Average Battery Life (in days)\",\"Average Battery Life (in days)\",\"Average Battery Life (in days)\",\"Average Battery Life (in days)\",\"Average Battery Life (in days)\",\"Average Battery Life (in days)\",\"Average Battery Life (in days)\",\"Average Battery Life (in days)\",\"Average Battery Life (in days)\",\"Average Battery Life (in days)\",\"Average Battery Life (in days)\",\"Average Battery Life (in days)\",\"Average Battery Life (in days)\",\"Average Battery Life (in days)\",\"Average Battery Life (in days)\",\"Average Battery Life (in days)\",\"Average Battery Life (in days)\",\"Average Battery Life (in days)\",\"Average Battery Life (in days)\",\"Average Battery Life (in days)\",\"Average Battery Life (in days)\",\"Average Battery Life (in days)\",\"Average Battery Life (in days)\",\"Average Battery Life (in days)\",\"Average Battery Life (in days)\",\"Average Battery Life (in days)\",\"Average Battery Life (in days)\",\"Average Battery Life (in days)\",\"Average Battery Life (in days)\",\"Average Battery Life (in days)\",\"Average Battery Life (in days)\",\"Average Battery Life (in days)\",\"Average Battery Life (in days)\",\"Average Battery Life (in days)\",\"Average Battery Life (in days)\",\"Average Battery Life (in days)\",\"Average Battery Life (in days)\",\"Average Battery Life (in days)\",\"Average Battery Life (in days)\",\"Average Battery Life (in days)\",\"Average Battery Life (in days)\",\"Average Battery Life (in days)\",\"Average Battery Life (in days)\",\"Average Battery Life (in days)\",\"Average Battery Life (in days)\",\"Average Battery Life (in days)\",\"Average Battery Life (in days)\",\"Average Battery Life (in days)\",\"Average Battery Life (in days)\",\"Average Battery Life (in days)\",\"Average Battery Life (in days)\",\"Average Battery Life (in days)\",\"Average Battery Life (in days)\",\"Average Battery Life (in days)\",\"Average Battery Life (in days)\",\"Average Battery Life (in days)\",\"Average Battery Life (in days)\",\"Average Battery Life (in days)\",\"Average Battery Life (in days)\",\"Average Battery Life (in days)\",\"Average Battery Life (in days)\",\"Average Battery Life (in days)\",\"Average Battery Life (in days)\",\"Average Battery Life (in days)\",\"Average Battery Life (in days)\",\"Average Battery Life (in days)\",\"Average Battery Life (in days)\",\"Average Battery Life (in days)\",\"Average Battery Life (in days)\"],\"x0\":\" \",\"xaxis\":\"x\",\"y\":[14,14,14,14,7,20,7,14,14,7,7,7,7,7,7,7,5,10,7,7,5,5,5,5,7,7,7,7,7,7,7,7,7,7,7,7,7,7,7,7,7,7,7,7,7,7,7,7,7,7,7,7,7,7,7,7,7,7,7,7,7,5,5,7,7,7,7,7,7,7,7,7,7,14,7,7,7,7,14,14,14,7,14,7,14,7,7,7,4,7,4,7,3,7,14,14,14,7,14,14,14,14,14,7,7,4,4,4,4,10,7,10,7,10,7,7,7,10,10,7,7,7,7,7,7,7,7,7,7,7,7,14,25,25,7,14,10,7,14,14,14,14,9,14,20,14,10,7,10,28,12,7,15,14,14,12,14,15,15,28,15,25,25,25,25,14,28,7,28,25,7,5,28,7,7,7,14,14,14,14,7,7,7,14,14,14,14,14,7,14,14,14,14,14,14,14,7,7,14,14,14,7,7,14,7,14,14,14,7,7,14,14,14,7,14,14,14,14,14,14,14,7,2,2,2,2,2,14,2,14,2,14,14,10,14,14,14,2,12,12,10,12,1,1,2,2,2,12,1,2,2,1,12,2,2,12,5,12,1,1,12,2,1,1,2,1,2,14,14,2,2,2,1,12,2,14,2,1,12,14,1,2,2,12,2,2,12,1,12,1,2,2,2,1,1,1,12,14,14,12,14,2,12,1,1,3,1,2,1,6,14,12,2,12,2,2,2,2,2,2,12,12,1,14,1,7,2,2,14,2,12,1,1,2,3,1,1,1,2,2,2,2,1,2,14,1,12,2,2,2,14,7,2,6,1,1,1,1,1,1,1,1,1,1,1,1,1,1,1,1,1,1,1,1,1,1,1,1,1,1,1,1,1,1,1,1,1,1,1,1,1,1,1,1,1,1,1,1,1,1,1,1,1,1,1,1,1,1,1,1,1,1,1,1,1,1,1,1,1,1,1,1,1,1,1,1,1,1,1,1,1,1,1,1,1,1,1,1,1,1,7,7,7,7,7,14,5,14,12,14,7,7,7,7,14,45,45,14,30,7,12,7,7,45,45,30,14,30,7,30,14,7,14,7,30,7,7,14,14,14,14,45,14,14,30,14,14,14,30,14,30,45,30,14,14,14,14,14,14,45,14,14,14,14,45,14,14,14,30,14,14,14,14,14,14,14,14,30,14,14,14,14,14,12,14,14,30,14,14,14,14,14,14,14,14,14,14,14,14,14,7,14,14,14,14,14,14,14,14,14,14,14,14,14,14,7,7,7,14,7,14,14,7,7,1,7,10,7,15,10,10,7,10,15,10,14,15,7,7,3,3,3,3,7,7,10,7,7,7,7,7,7,3,3,3,3,5,5,10,8,8,10,10,7,5,10,10,8,5,10],\"y0\":\" \",\"yaxis\":\"y\",\"type\":\"box\"},{\"alignmentgroup\":\"True\",\"hovertemplate\":\"Fitness Tracker Spec Categories=%{x}<br>Fitness Tracker Values=%{y}<extra></extra>\",\"legendgroup\":\"Reviews\",\"marker\":{\"color\":\"#257841\"},\"name\":\"Reviews\",\"notched\":false,\"offsetgroup\":\"Reviews\",\"orientation\":\"v\",\"showlegend\":true,\"x\":[\"Reviews\",\"Reviews\",\"Reviews\",\"Reviews\",\"Reviews\",\"Reviews\",\"Reviews\",\"Reviews\",\"Reviews\",\"Reviews\",\"Reviews\",\"Reviews\",\"Reviews\",\"Reviews\",\"Reviews\",\"Reviews\",\"Reviews\",\"Reviews\",\"Reviews\",\"Reviews\",\"Reviews\",\"Reviews\",\"Reviews\",\"Reviews\",\"Reviews\",\"Reviews\",\"Reviews\",\"Reviews\",\"Reviews\",\"Reviews\",\"Reviews\",\"Reviews\",\"Reviews\",\"Reviews\",\"Reviews\",\"Reviews\",\"Reviews\",\"Reviews\",\"Reviews\",\"Reviews\",\"Reviews\",\"Reviews\",\"Reviews\",\"Reviews\",\"Reviews\",\"Reviews\",\"Reviews\",\"Reviews\",\"Reviews\",\"Reviews\",\"Reviews\",\"Reviews\",\"Reviews\",\"Reviews\",\"Reviews\",\"Reviews\",\"Reviews\",\"Reviews\",\"Reviews\",\"Reviews\",\"Reviews\",\"Reviews\",\"Reviews\",\"Reviews\",\"Reviews\",\"Reviews\",\"Reviews\",\"Reviews\",\"Reviews\",\"Reviews\",\"Reviews\",\"Reviews\",\"Reviews\",\"Reviews\",\"Reviews\",\"Reviews\",\"Reviews\",\"Reviews\",\"Reviews\",\"Reviews\",\"Reviews\",\"Reviews\",\"Reviews\",\"Reviews\",\"Reviews\",\"Reviews\",\"Reviews\",\"Reviews\",\"Reviews\",\"Reviews\",\"Reviews\",\"Reviews\",\"Reviews\",\"Reviews\",\"Reviews\",\"Reviews\",\"Reviews\",\"Reviews\",\"Reviews\",\"Reviews\",\"Reviews\",\"Reviews\",\"Reviews\",\"Reviews\",\"Reviews\",\"Reviews\",\"Reviews\",\"Reviews\",\"Reviews\",\"Reviews\",\"Reviews\",\"Reviews\",\"Reviews\",\"Reviews\",\"Reviews\",\"Reviews\",\"Reviews\",\"Reviews\",\"Reviews\",\"Reviews\",\"Reviews\",\"Reviews\",\"Reviews\",\"Reviews\",\"Reviews\",\"Reviews\",\"Reviews\",\"Reviews\",\"Reviews\",\"Reviews\",\"Reviews\",\"Reviews\",\"Reviews\",\"Reviews\",\"Reviews\",\"Reviews\",\"Reviews\",\"Reviews\",\"Reviews\",\"Reviews\",\"Reviews\",\"Reviews\",\"Reviews\",\"Reviews\",\"Reviews\",\"Reviews\",\"Reviews\",\"Reviews\",\"Reviews\",\"Reviews\",\"Reviews\",\"Reviews\",\"Reviews\",\"Reviews\",\"Reviews\",\"Reviews\",\"Reviews\",\"Reviews\",\"Reviews\",\"Reviews\",\"Reviews\",\"Reviews\",\"Reviews\",\"Reviews\",\"Reviews\",\"Reviews\",\"Reviews\",\"Reviews\",\"Reviews\",\"Reviews\",\"Reviews\",\"Reviews\",\"Reviews\",\"Reviews\",\"Reviews\",\"Reviews\",\"Reviews\",\"Reviews\",\"Reviews\",\"Reviews\",\"Reviews\",\"Reviews\",\"Reviews\",\"Reviews\",\"Reviews\",\"Reviews\",\"Reviews\",\"Reviews\",\"Reviews\",\"Reviews\",\"Reviews\",\"Reviews\",\"Reviews\",\"Reviews\",\"Reviews\",\"Reviews\",\"Reviews\",\"Reviews\",\"Reviews\",\"Reviews\",\"Reviews\",\"Reviews\",\"Reviews\",\"Reviews\",\"Reviews\",\"Reviews\",\"Reviews\",\"Reviews\",\"Reviews\",\"Reviews\",\"Reviews\",\"Reviews\",\"Reviews\",\"Reviews\",\"Reviews\",\"Reviews\",\"Reviews\",\"Reviews\",\"Reviews\",\"Reviews\",\"Reviews\",\"Reviews\",\"Reviews\",\"Reviews\",\"Reviews\",\"Reviews\",\"Reviews\",\"Reviews\",\"Reviews\",\"Reviews\",\"Reviews\",\"Reviews\",\"Reviews\",\"Reviews\",\"Reviews\",\"Reviews\",\"Reviews\",\"Reviews\",\"Reviews\",\"Reviews\",\"Reviews\",\"Reviews\",\"Reviews\",\"Reviews\",\"Reviews\",\"Reviews\",\"Reviews\",\"Reviews\",\"Reviews\",\"Reviews\",\"Reviews\",\"Reviews\",\"Reviews\",\"Reviews\",\"Reviews\",\"Reviews\",\"Reviews\",\"Reviews\",\"Reviews\",\"Reviews\",\"Reviews\",\"Reviews\",\"Reviews\",\"Reviews\",\"Reviews\",\"Reviews\",\"Reviews\",\"Reviews\",\"Reviews\",\"Reviews\",\"Reviews\",\"Reviews\",\"Reviews\",\"Reviews\",\"Reviews\",\"Reviews\",\"Reviews\",\"Reviews\",\"Reviews\",\"Reviews\",\"Reviews\",\"Reviews\",\"Reviews\",\"Reviews\",\"Reviews\",\"Reviews\",\"Reviews\",\"Reviews\",\"Reviews\",\"Reviews\",\"Reviews\",\"Reviews\",\"Reviews\",\"Reviews\",\"Reviews\",\"Reviews\",\"Reviews\",\"Reviews\",\"Reviews\",\"Reviews\",\"Reviews\",\"Reviews\",\"Reviews\",\"Reviews\",\"Reviews\",\"Reviews\",\"Reviews\",\"Reviews\",\"Reviews\",\"Reviews\",\"Reviews\",\"Reviews\",\"Reviews\",\"Reviews\",\"Reviews\",\"Reviews\",\"Reviews\",\"Reviews\",\"Reviews\",\"Reviews\",\"Reviews\",\"Reviews\",\"Reviews\",\"Reviews\",\"Reviews\",\"Reviews\",\"Reviews\",\"Reviews\",\"Reviews\",\"Reviews\",\"Reviews\",\"Reviews\",\"Reviews\",\"Reviews\",\"Reviews\",\"Reviews\",\"Reviews\",\"Reviews\",\"Reviews\",\"Reviews\",\"Reviews\",\"Reviews\",\"Reviews\",\"Reviews\",\"Reviews\",\"Reviews\",\"Reviews\",\"Reviews\",\"Reviews\",\"Reviews\",\"Reviews\",\"Reviews\",\"Reviews\",\"Reviews\",\"Reviews\",\"Reviews\",\"Reviews\",\"Reviews\",\"Reviews\",\"Reviews\",\"Reviews\",\"Reviews\",\"Reviews\",\"Reviews\",\"Reviews\",\"Reviews\",\"Reviews\",\"Reviews\",\"Reviews\",\"Reviews\",\"Reviews\",\"Reviews\",\"Reviews\",\"Reviews\",\"Reviews\",\"Reviews\",\"Reviews\",\"Reviews\",\"Reviews\",\"Reviews\",\"Reviews\",\"Reviews\",\"Reviews\",\"Reviews\",\"Reviews\",\"Reviews\",\"Reviews\",\"Reviews\",\"Reviews\",\"Reviews\",\"Reviews\",\"Reviews\",\"Reviews\",\"Reviews\",\"Reviews\",\"Reviews\",\"Reviews\",\"Reviews\",\"Reviews\",\"Reviews\",\"Reviews\",\"Reviews\",\"Reviews\",\"Reviews\",\"Reviews\",\"Reviews\",\"Reviews\",\"Reviews\",\"Reviews\",\"Reviews\",\"Reviews\",\"Reviews\",\"Reviews\",\"Reviews\",\"Reviews\",\"Reviews\",\"Reviews\",\"Reviews\",\"Reviews\",\"Reviews\",\"Reviews\",\"Reviews\",\"Reviews\",\"Reviews\",\"Reviews\",\"Reviews\",\"Reviews\",\"Reviews\",\"Reviews\",\"Reviews\",\"Reviews\",\"Reviews\",\"Reviews\",\"Reviews\",\"Reviews\",\"Reviews\",\"Reviews\",\"Reviews\",\"Reviews\",\"Reviews\",\"Reviews\",\"Reviews\",\"Reviews\",\"Reviews\",\"Reviews\",\"Reviews\",\"Reviews\",\"Reviews\",\"Reviews\",\"Reviews\",\"Reviews\",\"Reviews\",\"Reviews\",\"Reviews\",\"Reviews\",\"Reviews\",\"Reviews\",\"Reviews\",\"Reviews\",\"Reviews\",\"Reviews\",\"Reviews\",\"Reviews\",\"Reviews\",\"Reviews\",\"Reviews\",\"Reviews\",\"Reviews\",\"Reviews\",\"Reviews\",\"Reviews\",\"Reviews\",\"Reviews\",\"Reviews\",\"Reviews\",\"Reviews\",\"Reviews\",\"Reviews\",\"Reviews\",\"Reviews\",\"Reviews\",\"Reviews\",\"Reviews\",\"Reviews\",\"Reviews\",\"Reviews\",\"Reviews\",\"Reviews\",\"Reviews\",\"Reviews\",\"Reviews\",\"Reviews\",\"Reviews\",\"Reviews\",\"Reviews\",\"Reviews\",\"Reviews\",\"Reviews\",\"Reviews\",\"Reviews\",\"Reviews\",\"Reviews\",\"Reviews\",\"Reviews\",\"Reviews\",\"Reviews\",\"Reviews\",\"Reviews\",\"Reviews\",\"Reviews\",\"Reviews\",\"Reviews\",\"Reviews\",\"Reviews\",\"Reviews\",\"Reviews\",\"Reviews\",\"Reviews\",\"Reviews\",\"Reviews\",\"Reviews\",\"Reviews\",\"Reviews\",\"Reviews\",\"Reviews\",\"Reviews\",\"Reviews\",\"Reviews\",\"Reviews\",\"Reviews\",\"Reviews\",\"Reviews\",\"Reviews\",\"Reviews\",\"Reviews\",\"Reviews\",\"Reviews\",\"Reviews\",\"Reviews\",\"Reviews\",\"Reviews\",\"Reviews\",\"Reviews\",\"Reviews\",\"Reviews\",\"Reviews\",\"Reviews\",\"Reviews\",\"Reviews\",\"Reviews\",\"Reviews\",\"Reviews\",\"Reviews\",\"Reviews\",\"Reviews\",\"Reviews\",\"Reviews\",\"Reviews\",\"Reviews\",\"Reviews\",\"Reviews\",\"Reviews\",\"Reviews\",\"Reviews\",\"Reviews\",\"Reviews\",\"Reviews\",\"Reviews\",\"Reviews\",\"Reviews\",\"Reviews\",\"Reviews\",\"Reviews\",\"Reviews\",\"Reviews\",\"Reviews\",\"Reviews\",\"Reviews\",\"Reviews\",\"Reviews\",\"Reviews\",\"Reviews\",\"Reviews\",\"Reviews\",\"Reviews\",\"Reviews\",\"Reviews\",\"Reviews\",\"Reviews\",\"Reviews\",\"Reviews\",\"Reviews\",\"Reviews\",\"Reviews\",\"Reviews\",\"Reviews\",\"Reviews\",\"Reviews\",\"Reviews\",\"Reviews\",\"Reviews\",\"Reviews\",\"Reviews\",\"Reviews\",\"Reviews\",\"Reviews\",\"Reviews\",\"Reviews\",\"Reviews\",\"Reviews\"],\"x0\":\" \",\"xaxis\":\"x\",\"y\":[null,null,null,null,null,null,null,\"2\",\"3\",null,null,null,null,null,null,null,null,null,null,null,null,null,null,null,null,null,null,null,null,null,null,null,null,null,null,null,null,null,null,null,null,null,null,null,null,null,null,null,null,null,null,null,null,null,null,null,null,null,null,null,null,null,null,null,null,null,null,null,null,null,null,null,null,\"6568\",\"17809\",\"23426\",\"4628\",\"23426\",\"4628\",\"4628\",\"4628\",\"17809\",\"4628\",\"4628\",\"77\",\"122\",null,null,null,null,null,null,null,null,\"484\",null,\"338\",\"928\",\"4,142\",null,\"259\",null,null,null,null,null,null,null,null,null,\"1070\",\"23069\",\"529\",\"20122\",null,null,null,null,null,null,null,null,null,null,null,null,null,null,null,null,null,\"102\",\"215\",\"215\",\"281\",\"1663\",\"354\",\"281\",\"1907\",\"1907\",\"1907\",\"1907\",\"1334\",\"849\",\"359\",\"294\",\"647\",\"153\",\"647\",\"4651\",\"3\",\"176\",\"489\",null,null,\"146\",null,\"489\",\"489\",\"489\",\"489\",null,\"176\",\"489\",\"489\",\"489\",\"176\",\"176\",\"176\",\"103\",\"125\",\"136\",\"176\",\"183\",null,null,null,null,null,null,null,null,null,null,null,null,null,null,null,null,null,null,null,null,null,null,null,null,null,null,null,null,null,null,null,null,null,null,null,null,null,null,null,null,null,null,null,null,null,null,null,null,null,null,null,null,null,null,null,null,null,null,null,null,null,null,null,null,\"4\",null,null,null,\"54\",null,null,null,null,null,null,null,null,null,null,null,null,null,null,\"6\",null,null,null,null,null,\"7\",null,null,null,null,null,\"600\",null,null,\"61\",null,null,\"46\",null,null,null,\"46\",null,null,null,null,null,null,null,\"78\",null,null,null,\"55\",null,null,null,null,null,null,null,null,\"46\",null,\"6\",null,null,null,\"61\",null,null,null,null,null,null,null,null,null,null,null,null,null,null,null,null,null,null,null,null,null,null,null,null,null,null,null,null,null,\"46\",null,null,null,null,null,\"46\",null,null,null,null,null,null,null,null,null,null,null,null,null,null,null,null,null,null,null,null,null,null,null,null,null,null,null,null,null,null,null,null,null,null,null,null,null,null,null,null,null,null,null,null,null,null,null,null,null,null,null,null,null,null,null,null,null,null,null,null,null,null,null,null,null,null,null,null,null,null,null,null,null,null,null,null,null,null,null,null,null,null,null,null,null,null,null,null,null,null,null,null,null,null,null,null,null,null,null,null,null,null,null,null,null,null,null,null,null,null,null,null,null,null,null,null,null,null,null,null,null,null,null,null,null,null,null,null,null,null,null,null,null,null,null,null,null,null,null,null,null,null,null,null,null,null,null,null,null,null,null,null,null,null,null,null,null,null,null,null,null,null,null,null,null,null,null,null,null,null,null,null,null,null,null,null,null,null,null,null,null,null,null,null,null,null,null,null,null,null,null,null,null,null,null,null,null,null,null,null,null,null,null,null,null,null,null,null,null,null,null,null,null,null,null,null,null,null,null,null,null,null,\"1301\",\"319\",\"96\",\"545\",\"281\",\"309\",\"84\",\"108\",\"127\",null,\"360\",null,null,null,\"264\",\"477\",\"327\",\"16\",\"120\",\"34\",\"46\",\"41\",\"29\",null,null,null,\"5\",\"5\",null,\"4\",\"3\",\"6046\",\"229\",\"688\",\"4941\",\"2525\",\"519\",\"423\",null,\"15\",\"923\",\"212\",\"4941\",\"15\",\"688\"],\"y0\":\" \",\"yaxis\":\"y\",\"type\":\"box\"}],                        {\"template\":{\"data\":{\"histogram2dcontour\":[{\"type\":\"histogram2dcontour\",\"colorbar\":{\"outlinewidth\":0,\"ticks\":\"\"},\"colorscale\":[[0.0,\"#0d0887\"],[0.1111111111111111,\"#46039f\"],[0.2222222222222222,\"#7201a8\"],[0.3333333333333333,\"#9c179e\"],[0.4444444444444444,\"#bd3786\"],[0.5555555555555556,\"#d8576b\"],[0.6666666666666666,\"#ed7953\"],[0.7777777777777778,\"#fb9f3a\"],[0.8888888888888888,\"#fdca26\"],[1.0,\"#f0f921\"]]}],\"choropleth\":[{\"type\":\"choropleth\",\"colorbar\":{\"outlinewidth\":0,\"ticks\":\"\"}}],\"histogram2d\":[{\"type\":\"histogram2d\",\"colorbar\":{\"outlinewidth\":0,\"ticks\":\"\"},\"colorscale\":[[0.0,\"#0d0887\"],[0.1111111111111111,\"#46039f\"],[0.2222222222222222,\"#7201a8\"],[0.3333333333333333,\"#9c179e\"],[0.4444444444444444,\"#bd3786\"],[0.5555555555555556,\"#d8576b\"],[0.6666666666666666,\"#ed7953\"],[0.7777777777777778,\"#fb9f3a\"],[0.8888888888888888,\"#fdca26\"],[1.0,\"#f0f921\"]]}],\"heatmap\":[{\"type\":\"heatmap\",\"colorbar\":{\"outlinewidth\":0,\"ticks\":\"\"},\"colorscale\":[[0.0,\"#0d0887\"],[0.1111111111111111,\"#46039f\"],[0.2222222222222222,\"#7201a8\"],[0.3333333333333333,\"#9c179e\"],[0.4444444444444444,\"#bd3786\"],[0.5555555555555556,\"#d8576b\"],[0.6666666666666666,\"#ed7953\"],[0.7777777777777778,\"#fb9f3a\"],[0.8888888888888888,\"#fdca26\"],[1.0,\"#f0f921\"]]}],\"heatmapgl\":[{\"type\":\"heatmapgl\",\"colorbar\":{\"outlinewidth\":0,\"ticks\":\"\"},\"colorscale\":[[0.0,\"#0d0887\"],[0.1111111111111111,\"#46039f\"],[0.2222222222222222,\"#7201a8\"],[0.3333333333333333,\"#9c179e\"],[0.4444444444444444,\"#bd3786\"],[0.5555555555555556,\"#d8576b\"],[0.6666666666666666,\"#ed7953\"],[0.7777777777777778,\"#fb9f3a\"],[0.8888888888888888,\"#fdca26\"],[1.0,\"#f0f921\"]]}],\"contourcarpet\":[{\"type\":\"contourcarpet\",\"colorbar\":{\"outlinewidth\":0,\"ticks\":\"\"}}],\"contour\":[{\"type\":\"contour\",\"colorbar\":{\"outlinewidth\":0,\"ticks\":\"\"},\"colorscale\":[[0.0,\"#0d0887\"],[0.1111111111111111,\"#46039f\"],[0.2222222222222222,\"#7201a8\"],[0.3333333333333333,\"#9c179e\"],[0.4444444444444444,\"#bd3786\"],[0.5555555555555556,\"#d8576b\"],[0.6666666666666666,\"#ed7953\"],[0.7777777777777778,\"#fb9f3a\"],[0.8888888888888888,\"#fdca26\"],[1.0,\"#f0f921\"]]}],\"surface\":[{\"type\":\"surface\",\"colorbar\":{\"outlinewidth\":0,\"ticks\":\"\"},\"colorscale\":[[0.0,\"#0d0887\"],[0.1111111111111111,\"#46039f\"],[0.2222222222222222,\"#7201a8\"],[0.3333333333333333,\"#9c179e\"],[0.4444444444444444,\"#bd3786\"],[0.5555555555555556,\"#d8576b\"],[0.6666666666666666,\"#ed7953\"],[0.7777777777777778,\"#fb9f3a\"],[0.8888888888888888,\"#fdca26\"],[1.0,\"#f0f921\"]]}],\"mesh3d\":[{\"type\":\"mesh3d\",\"colorbar\":{\"outlinewidth\":0,\"ticks\":\"\"}}],\"scatter\":[{\"fillpattern\":{\"fillmode\":\"overlay\",\"size\":10,\"solidity\":0.2},\"type\":\"scatter\"}],\"parcoords\":[{\"type\":\"parcoords\",\"line\":{\"colorbar\":{\"outlinewidth\":0,\"ticks\":\"\"}}}],\"scatterpolargl\":[{\"type\":\"scatterpolargl\",\"marker\":{\"colorbar\":{\"outlinewidth\":0,\"ticks\":\"\"}}}],\"bar\":[{\"error_x\":{\"color\":\"#2a3f5f\"},\"error_y\":{\"color\":\"#2a3f5f\"},\"marker\":{\"line\":{\"color\":\"#E5ECF6\",\"width\":0.5},\"pattern\":{\"fillmode\":\"overlay\",\"size\":10,\"solidity\":0.2}},\"type\":\"bar\"}],\"scattergeo\":[{\"type\":\"scattergeo\",\"marker\":{\"colorbar\":{\"outlinewidth\":0,\"ticks\":\"\"}}}],\"scatterpolar\":[{\"type\":\"scatterpolar\",\"marker\":{\"colorbar\":{\"outlinewidth\":0,\"ticks\":\"\"}}}],\"histogram\":[{\"marker\":{\"pattern\":{\"fillmode\":\"overlay\",\"size\":10,\"solidity\":0.2}},\"type\":\"histogram\"}],\"scattergl\":[{\"type\":\"scattergl\",\"marker\":{\"colorbar\":{\"outlinewidth\":0,\"ticks\":\"\"}}}],\"scatter3d\":[{\"type\":\"scatter3d\",\"line\":{\"colorbar\":{\"outlinewidth\":0,\"ticks\":\"\"}},\"marker\":{\"colorbar\":{\"outlinewidth\":0,\"ticks\":\"\"}}}],\"scattermapbox\":[{\"type\":\"scattermapbox\",\"marker\":{\"colorbar\":{\"outlinewidth\":0,\"ticks\":\"\"}}}],\"scatterternary\":[{\"type\":\"scatterternary\",\"marker\":{\"colorbar\":{\"outlinewidth\":0,\"ticks\":\"\"}}}],\"scattercarpet\":[{\"type\":\"scattercarpet\",\"marker\":{\"colorbar\":{\"outlinewidth\":0,\"ticks\":\"\"}}}],\"carpet\":[{\"aaxis\":{\"endlinecolor\":\"#2a3f5f\",\"gridcolor\":\"white\",\"linecolor\":\"white\",\"minorgridcolor\":\"white\",\"startlinecolor\":\"#2a3f5f\"},\"baxis\":{\"endlinecolor\":\"#2a3f5f\",\"gridcolor\":\"white\",\"linecolor\":\"white\",\"minorgridcolor\":\"white\",\"startlinecolor\":\"#2a3f5f\"},\"type\":\"carpet\"}],\"table\":[{\"cells\":{\"fill\":{\"color\":\"#EBF0F8\"},\"line\":{\"color\":\"white\"}},\"header\":{\"fill\":{\"color\":\"#C8D4E3\"},\"line\":{\"color\":\"white\"}},\"type\":\"table\"}],\"barpolar\":[{\"marker\":{\"line\":{\"color\":\"#E5ECF6\",\"width\":0.5},\"pattern\":{\"fillmode\":\"overlay\",\"size\":10,\"solidity\":0.2}},\"type\":\"barpolar\"}],\"pie\":[{\"automargin\":true,\"type\":\"pie\"}]},\"layout\":{\"autotypenumbers\":\"strict\",\"colorway\":[\"#636efa\",\"#EF553B\",\"#00cc96\",\"#ab63fa\",\"#FFA15A\",\"#19d3f3\",\"#FF6692\",\"#B6E880\",\"#FF97FF\",\"#FECB52\"],\"font\":{\"color\":\"#2a3f5f\"},\"hovermode\":\"closest\",\"hoverlabel\":{\"align\":\"left\"},\"paper_bgcolor\":\"white\",\"plot_bgcolor\":\"#E5ECF6\",\"polar\":{\"bgcolor\":\"#E5ECF6\",\"angularaxis\":{\"gridcolor\":\"white\",\"linecolor\":\"white\",\"ticks\":\"\"},\"radialaxis\":{\"gridcolor\":\"white\",\"linecolor\":\"white\",\"ticks\":\"\"}},\"ternary\":{\"bgcolor\":\"#E5ECF6\",\"aaxis\":{\"gridcolor\":\"white\",\"linecolor\":\"white\",\"ticks\":\"\"},\"baxis\":{\"gridcolor\":\"white\",\"linecolor\":\"white\",\"ticks\":\"\"},\"caxis\":{\"gridcolor\":\"white\",\"linecolor\":\"white\",\"ticks\":\"\"}},\"coloraxis\":{\"colorbar\":{\"outlinewidth\":0,\"ticks\":\"\"}},\"colorscale\":{\"sequential\":[[0.0,\"#0d0887\"],[0.1111111111111111,\"#46039f\"],[0.2222222222222222,\"#7201a8\"],[0.3333333333333333,\"#9c179e\"],[0.4444444444444444,\"#bd3786\"],[0.5555555555555556,\"#d8576b\"],[0.6666666666666666,\"#ed7953\"],[0.7777777777777778,\"#fb9f3a\"],[0.8888888888888888,\"#fdca26\"],[1.0,\"#f0f921\"]],\"sequentialminus\":[[0.0,\"#0d0887\"],[0.1111111111111111,\"#46039f\"],[0.2222222222222222,\"#7201a8\"],[0.3333333333333333,\"#9c179e\"],[0.4444444444444444,\"#bd3786\"],[0.5555555555555556,\"#d8576b\"],[0.6666666666666666,\"#ed7953\"],[0.7777777777777778,\"#fb9f3a\"],[0.8888888888888888,\"#fdca26\"],[1.0,\"#f0f921\"]],\"diverging\":[[0,\"#8e0152\"],[0.1,\"#c51b7d\"],[0.2,\"#de77ae\"],[0.3,\"#f1b6da\"],[0.4,\"#fde0ef\"],[0.5,\"#f7f7f7\"],[0.6,\"#e6f5d0\"],[0.7,\"#b8e186\"],[0.8,\"#7fbc41\"],[0.9,\"#4d9221\"],[1,\"#276419\"]]},\"xaxis\":{\"gridcolor\":\"white\",\"linecolor\":\"white\",\"ticks\":\"\",\"title\":{\"standoff\":15},\"zerolinecolor\":\"white\",\"automargin\":true,\"zerolinewidth\":2},\"yaxis\":{\"gridcolor\":\"white\",\"linecolor\":\"white\",\"ticks\":\"\",\"title\":{\"standoff\":15},\"zerolinecolor\":\"white\",\"automargin\":true,\"zerolinewidth\":2},\"scene\":{\"xaxis\":{\"backgroundcolor\":\"#E5ECF6\",\"gridcolor\":\"white\",\"linecolor\":\"white\",\"showbackground\":true,\"ticks\":\"\",\"zerolinecolor\":\"white\",\"gridwidth\":2},\"yaxis\":{\"backgroundcolor\":\"#E5ECF6\",\"gridcolor\":\"white\",\"linecolor\":\"white\",\"showbackground\":true,\"ticks\":\"\",\"zerolinecolor\":\"white\",\"gridwidth\":2},\"zaxis\":{\"backgroundcolor\":\"#E5ECF6\",\"gridcolor\":\"white\",\"linecolor\":\"white\",\"showbackground\":true,\"ticks\":\"\",\"zerolinecolor\":\"white\",\"gridwidth\":2}},\"shapedefaults\":{\"line\":{\"color\":\"#2a3f5f\"}},\"annotationdefaults\":{\"arrowcolor\":\"#2a3f5f\",\"arrowhead\":0,\"arrowwidth\":1},\"geo\":{\"bgcolor\":\"white\",\"landcolor\":\"#E5ECF6\",\"subunitcolor\":\"white\",\"showland\":true,\"showlakes\":true,\"lakecolor\":\"white\"},\"title\":{\"x\":0.05},\"mapbox\":{\"style\":\"light\"}}},\"xaxis\":{\"anchor\":\"y\",\"domain\":[0.0,1.0],\"title\":{\"text\":\"Fitness Tracker Spec Categories\"},\"categoryorder\":\"array\",\"categoryarray\":[\"Brand Name\",\"Device Type\",\"Model Name\",\"Color\",\"Selling Price\",\"Original Price\",\"Display\",\"Rating (Out of 5)\",\"Strap Material\",\"Average Battery Life (in days)\",\"Reviews\"]},\"yaxis\":{\"anchor\":\"x\",\"domain\":[0.0,1.0],\"title\":{\"text\":\"Fitness Tracker Values\"}},\"legend\":{\"title\":{\"text\":\"Fitness Tracker Spec Categories\"},\"tracegroupgap\":0},\"margin\":{\"t\":60},\"boxmode\":\"overlay\"},                        {\"responsive\": true}                    ).then(function(){\n",
              "                            \n",
              "var gd = document.getElementById('16ac0146-3e91-412d-b04d-1b679439d83b');\n",
              "var x = new MutationObserver(function (mutations, observer) {{\n",
              "        var display = window.getComputedStyle(gd).display;\n",
              "        if (!display || display === 'none') {{\n",
              "            console.log([gd, 'removed!']);\n",
              "            Plotly.purge(gd);\n",
              "            observer.disconnect();\n",
              "        }}\n",
              "}});\n",
              "\n",
              "// Listen for the removal of the full notebook cells\n",
              "var notebookContainer = gd.closest('#notebook-container');\n",
              "if (notebookContainer) {{\n",
              "    x.observe(notebookContainer, {childList: true});\n",
              "}}\n",
              "\n",
              "// Listen for the clearing of the current output cell\n",
              "var outputEl = gd.closest('.output');\n",
              "if (outputEl) {{\n",
              "    x.observe(outputEl, {childList: true});\n",
              "}}\n",
              "\n",
              "                        })                };                            </script>        </div>\n",
              "</body>\n",
              "</html>"
            ]
          },
          "metadata": {}
        }
      ]
    },
    {
      "cell_type": "code",
      "source": [
        "# Create a new DataFrame with only numeric columns\n",
        "df_numeric = df.select_dtypes(include='number')\n",
        "df_numeric= df_numeric.dropna()\n",
        "\n",
        "# Fit a PyOD model to the numeric DataFrame\n",
        "from pyod.models.lof import LOF\n",
        "lof_model = LOF(contamination=0.1)\n",
        "lof_model.fit(df_numeric)"
      ],
      "metadata": {
        "colab": {
          "base_uri": "https://localhost:8080/"
        },
        "id": "r0ScraI17q_U",
        "outputId": "3b77b844-8f4f-456d-c1ca-fd25b237a45e"
      },
      "execution_count": 50,
      "outputs": [
        {
          "output_type": "execute_result",
          "data": {
            "text/plain": [
              "LOF(algorithm='auto', contamination=0.1, leaf_size=30, metric='minkowski',\n",
              "  metric_params=None, n_jobs=1, n_neighbors=20, novelty=True, p=2)"
            ]
          },
          "metadata": {},
          "execution_count": 50
        }
      ]
    },
    {
      "cell_type": "code",
      "source": [
        "#Melt the DataFrame into a long-form format\n",
        "melted_df_2 = pd.melt(df_numeric, var_name='Column', value_name='Value')\n",
        "\n",
        "#Generate a list of random colors\n",
        "num_columns = len(df_numeric.columns)\n",
        "colors = [f'#{random.randint(0, 0xFFFFFF):06x}' for _ in range(num_columns)]\n",
        "\n",
        "#Create a scatter plot using Plotly Express with random colors, separate subplots for each column, and spacing between subplots\n",
        "fig = px.scatter(melted_df_2, x='Column', y='Value', color='Column', color_discrete_sequence=colors, facet_col='Column', facet_col_spacing=0.05)\n",
        "fig.show()"
      ],
      "metadata": {
        "colab": {
          "base_uri": "https://localhost:8080/",
          "height": 542
        },
        "id": "H9mLOpqh-MF2",
        "outputId": "bda371fa-a5be-4c40-bfd3-5d6cae010bd8"
      },
      "execution_count": 58,
      "outputs": [
        {
          "output_type": "display_data",
          "data": {
            "text/html": [
              "<html>\n",
              "<head><meta charset=\"utf-8\" /></head>\n",
              "<body>\n",
              "    <div>            <script src=\"https://cdnjs.cloudflare.com/ajax/libs/mathjax/2.7.5/MathJax.js?config=TeX-AMS-MML_SVG\"></script><script type=\"text/javascript\">if (window.MathJax && window.MathJax.Hub && window.MathJax.Hub.Config) {window.MathJax.Hub.Config({SVG: {font: \"STIX-Web\"}});}</script>                <script type=\"text/javascript\">window.PlotlyConfig = {MathJaxConfig: 'local'};</script>\n",
              "        <script src=\"https://cdn.plot.ly/plotly-2.18.2.min.js\"></script>                <div id=\"2a570a5c-b17f-44e5-8e0e-d0829bfd0ba5\" class=\"plotly-graph-div\" style=\"height:525px; width:100%;\"></div>            <script type=\"text/javascript\">                                    window.PLOTLYENV=window.PLOTLYENV || {};                                    if (document.getElementById(\"2a570a5c-b17f-44e5-8e0e-d0829bfd0ba5\")) {                    Plotly.newPlot(                        \"2a570a5c-b17f-44e5-8e0e-d0829bfd0ba5\",                        [{\"hovertemplate\":\"Column=%{x}<br>Value=%{y}<extra></extra>\",\"legendgroup\":\"Rating (Out of 5)\",\"marker\":{\"color\":\"#0ceba9\",\"symbol\":\"circle\"},\"mode\":\"markers\",\"name\":\"Rating (Out of 5)\",\"showlegend\":true,\"x\":[\"Rating (Out of 5)\",\"Rating (Out of 5)\",\"Rating (Out of 5)\",\"Rating (Out of 5)\",\"Rating (Out of 5)\",\"Rating (Out of 5)\",\"Rating (Out of 5)\",\"Rating (Out of 5)\",\"Rating (Out of 5)\",\"Rating (Out of 5)\",\"Rating (Out of 5)\",\"Rating (Out of 5)\",\"Rating (Out of 5)\",\"Rating (Out of 5)\",\"Rating (Out of 5)\",\"Rating (Out of 5)\",\"Rating (Out of 5)\",\"Rating (Out of 5)\",\"Rating (Out of 5)\",\"Rating (Out of 5)\",\"Rating (Out of 5)\",\"Rating (Out of 5)\",\"Rating (Out of 5)\",\"Rating (Out of 5)\",\"Rating (Out of 5)\",\"Rating (Out of 5)\",\"Rating (Out of 5)\",\"Rating (Out of 5)\",\"Rating (Out of 5)\",\"Rating (Out of 5)\",\"Rating (Out of 5)\",\"Rating (Out of 5)\",\"Rating (Out of 5)\",\"Rating (Out of 5)\",\"Rating (Out of 5)\",\"Rating (Out of 5)\",\"Rating (Out of 5)\",\"Rating (Out of 5)\",\"Rating (Out of 5)\",\"Rating (Out of 5)\",\"Rating (Out of 5)\",\"Rating (Out of 5)\",\"Rating (Out of 5)\",\"Rating (Out of 5)\",\"Rating (Out of 5)\",\"Rating (Out of 5)\",\"Rating (Out of 5)\",\"Rating (Out of 5)\",\"Rating (Out of 5)\",\"Rating (Out of 5)\",\"Rating (Out of 5)\",\"Rating (Out of 5)\",\"Rating (Out of 5)\",\"Rating (Out of 5)\",\"Rating (Out of 5)\",\"Rating (Out of 5)\",\"Rating (Out of 5)\",\"Rating (Out of 5)\",\"Rating (Out of 5)\",\"Rating (Out of 5)\",\"Rating (Out of 5)\",\"Rating (Out of 5)\",\"Rating (Out of 5)\",\"Rating (Out of 5)\",\"Rating (Out of 5)\",\"Rating (Out of 5)\",\"Rating (Out of 5)\",\"Rating (Out of 5)\",\"Rating (Out of 5)\",\"Rating (Out of 5)\",\"Rating (Out of 5)\",\"Rating (Out of 5)\",\"Rating (Out of 5)\",\"Rating (Out of 5)\",\"Rating (Out of 5)\",\"Rating (Out of 5)\",\"Rating (Out of 5)\",\"Rating (Out of 5)\",\"Rating (Out of 5)\",\"Rating (Out of 5)\",\"Rating (Out of 5)\",\"Rating (Out of 5)\",\"Rating (Out of 5)\",\"Rating (Out of 5)\",\"Rating (Out of 5)\",\"Rating (Out of 5)\",\"Rating (Out of 5)\",\"Rating (Out of 5)\",\"Rating (Out of 5)\",\"Rating (Out of 5)\",\"Rating (Out of 5)\",\"Rating (Out of 5)\",\"Rating (Out of 5)\",\"Rating (Out of 5)\",\"Rating (Out of 5)\",\"Rating (Out of 5)\",\"Rating (Out of 5)\",\"Rating (Out of 5)\",\"Rating (Out of 5)\",\"Rating (Out of 5)\",\"Rating (Out of 5)\",\"Rating (Out of 5)\",\"Rating (Out of 5)\",\"Rating (Out of 5)\",\"Rating (Out of 5)\",\"Rating (Out of 5)\",\"Rating (Out of 5)\",\"Rating (Out of 5)\",\"Rating (Out of 5)\",\"Rating (Out of 5)\",\"Rating (Out of 5)\",\"Rating (Out of 5)\",\"Rating (Out of 5)\",\"Rating (Out of 5)\",\"Rating (Out of 5)\",\"Rating (Out of 5)\",\"Rating (Out of 5)\",\"Rating (Out of 5)\",\"Rating (Out of 5)\",\"Rating (Out of 5)\",\"Rating (Out of 5)\",\"Rating (Out of 5)\",\"Rating (Out of 5)\",\"Rating (Out of 5)\",\"Rating (Out of 5)\",\"Rating (Out of 5)\",\"Rating (Out of 5)\",\"Rating (Out of 5)\",\"Rating (Out of 5)\",\"Rating (Out of 5)\",\"Rating (Out of 5)\",\"Rating (Out of 5)\",\"Rating (Out of 5)\",\"Rating (Out of 5)\",\"Rating (Out of 5)\",\"Rating (Out of 5)\",\"Rating (Out of 5)\",\"Rating (Out of 5)\",\"Rating (Out of 5)\",\"Rating (Out of 5)\",\"Rating (Out of 5)\",\"Rating (Out of 5)\",\"Rating (Out of 5)\",\"Rating (Out of 5)\",\"Rating (Out of 5)\",\"Rating (Out of 5)\",\"Rating (Out of 5)\",\"Rating (Out of 5)\",\"Rating (Out of 5)\",\"Rating (Out of 5)\",\"Rating (Out of 5)\",\"Rating (Out of 5)\",\"Rating (Out of 5)\",\"Rating (Out of 5)\",\"Rating (Out of 5)\",\"Rating (Out of 5)\",\"Rating (Out of 5)\",\"Rating (Out of 5)\",\"Rating (Out of 5)\",\"Rating (Out of 5)\",\"Rating (Out of 5)\",\"Rating (Out of 5)\",\"Rating (Out of 5)\",\"Rating (Out of 5)\",\"Rating (Out of 5)\",\"Rating (Out of 5)\",\"Rating (Out of 5)\",\"Rating (Out of 5)\",\"Rating (Out of 5)\",\"Rating (Out of 5)\",\"Rating (Out of 5)\",\"Rating (Out of 5)\",\"Rating (Out of 5)\",\"Rating (Out of 5)\",\"Rating (Out of 5)\",\"Rating (Out of 5)\",\"Rating (Out of 5)\",\"Rating (Out of 5)\",\"Rating (Out of 5)\",\"Rating (Out of 5)\",\"Rating (Out of 5)\",\"Rating (Out of 5)\",\"Rating (Out of 5)\",\"Rating (Out of 5)\",\"Rating (Out of 5)\",\"Rating (Out of 5)\",\"Rating (Out of 5)\",\"Rating (Out of 5)\",\"Rating (Out of 5)\",\"Rating (Out of 5)\",\"Rating (Out of 5)\",\"Rating (Out of 5)\",\"Rating (Out of 5)\",\"Rating (Out of 5)\",\"Rating (Out of 5)\",\"Rating (Out of 5)\",\"Rating (Out of 5)\",\"Rating (Out of 5)\",\"Rating (Out of 5)\",\"Rating (Out of 5)\",\"Rating (Out of 5)\",\"Rating (Out of 5)\",\"Rating (Out of 5)\",\"Rating (Out of 5)\",\"Rating (Out of 5)\",\"Rating (Out of 5)\",\"Rating (Out of 5)\",\"Rating (Out of 5)\",\"Rating (Out of 5)\",\"Rating (Out of 5)\",\"Rating (Out of 5)\",\"Rating (Out of 5)\",\"Rating (Out of 5)\",\"Rating (Out of 5)\",\"Rating (Out of 5)\",\"Rating (Out of 5)\",\"Rating (Out of 5)\",\"Rating (Out of 5)\",\"Rating (Out of 5)\",\"Rating (Out of 5)\",\"Rating (Out of 5)\",\"Rating (Out of 5)\",\"Rating (Out of 5)\",\"Rating (Out of 5)\",\"Rating (Out of 5)\",\"Rating (Out of 5)\",\"Rating (Out of 5)\",\"Rating (Out of 5)\",\"Rating (Out of 5)\",\"Rating (Out of 5)\",\"Rating (Out of 5)\",\"Rating (Out of 5)\",\"Rating (Out of 5)\",\"Rating (Out of 5)\",\"Rating (Out of 5)\",\"Rating (Out of 5)\",\"Rating (Out of 5)\",\"Rating (Out of 5)\",\"Rating (Out of 5)\",\"Rating (Out of 5)\",\"Rating (Out of 5)\",\"Rating (Out of 5)\",\"Rating (Out of 5)\",\"Rating (Out of 5)\",\"Rating (Out of 5)\",\"Rating (Out of 5)\",\"Rating (Out of 5)\",\"Rating (Out of 5)\",\"Rating (Out of 5)\",\"Rating (Out of 5)\",\"Rating (Out of 5)\",\"Rating (Out of 5)\",\"Rating (Out of 5)\",\"Rating (Out of 5)\",\"Rating (Out of 5)\",\"Rating (Out of 5)\",\"Rating (Out of 5)\",\"Rating (Out of 5)\",\"Rating (Out of 5)\",\"Rating (Out of 5)\",\"Rating (Out of 5)\",\"Rating (Out of 5)\",\"Rating (Out of 5)\",\"Rating (Out of 5)\",\"Rating (Out of 5)\",\"Rating (Out of 5)\",\"Rating (Out of 5)\",\"Rating (Out of 5)\",\"Rating (Out of 5)\",\"Rating (Out of 5)\",\"Rating (Out of 5)\",\"Rating (Out of 5)\",\"Rating (Out of 5)\",\"Rating (Out of 5)\",\"Rating (Out of 5)\",\"Rating (Out of 5)\",\"Rating (Out of 5)\",\"Rating (Out of 5)\",\"Rating (Out of 5)\",\"Rating (Out of 5)\",\"Rating (Out of 5)\",\"Rating (Out of 5)\",\"Rating (Out of 5)\",\"Rating (Out of 5)\",\"Rating (Out of 5)\",\"Rating (Out of 5)\",\"Rating (Out of 5)\",\"Rating (Out of 5)\",\"Rating (Out of 5)\",\"Rating (Out of 5)\",\"Rating (Out of 5)\",\"Rating (Out of 5)\",\"Rating (Out of 5)\",\"Rating (Out of 5)\",\"Rating (Out of 5)\",\"Rating (Out of 5)\",\"Rating (Out of 5)\",\"Rating (Out of 5)\",\"Rating (Out of 5)\",\"Rating (Out of 5)\",\"Rating (Out of 5)\",\"Rating (Out of 5)\",\"Rating (Out of 5)\",\"Rating (Out of 5)\",\"Rating (Out of 5)\",\"Rating (Out of 5)\",\"Rating (Out of 5)\",\"Rating (Out of 5)\",\"Rating (Out of 5)\",\"Rating (Out of 5)\",\"Rating (Out of 5)\",\"Rating (Out of 5)\",\"Rating (Out of 5)\",\"Rating (Out of 5)\",\"Rating (Out of 5)\",\"Rating (Out of 5)\",\"Rating (Out of 5)\",\"Rating (Out of 5)\",\"Rating (Out of 5)\",\"Rating (Out of 5)\",\"Rating (Out of 5)\",\"Rating (Out of 5)\",\"Rating (Out of 5)\",\"Rating (Out of 5)\",\"Rating (Out of 5)\",\"Rating (Out of 5)\",\"Rating (Out of 5)\",\"Rating (Out of 5)\",\"Rating (Out of 5)\",\"Rating (Out of 5)\",\"Rating (Out of 5)\",\"Rating (Out of 5)\",\"Rating (Out of 5)\",\"Rating (Out of 5)\",\"Rating (Out of 5)\",\"Rating (Out of 5)\",\"Rating (Out of 5)\",\"Rating (Out of 5)\",\"Rating (Out of 5)\",\"Rating (Out of 5)\",\"Rating (Out of 5)\",\"Rating (Out of 5)\",\"Rating (Out of 5)\",\"Rating (Out of 5)\",\"Rating (Out of 5)\",\"Rating (Out of 5)\",\"Rating (Out of 5)\",\"Rating (Out of 5)\",\"Rating (Out of 5)\",\"Rating (Out of 5)\",\"Rating (Out of 5)\",\"Rating (Out of 5)\",\"Rating (Out of 5)\",\"Rating (Out of 5)\",\"Rating (Out of 5)\",\"Rating (Out of 5)\",\"Rating (Out of 5)\",\"Rating (Out of 5)\",\"Rating (Out of 5)\",\"Rating (Out of 5)\",\"Rating (Out of 5)\",\"Rating (Out of 5)\",\"Rating (Out of 5)\",\"Rating (Out of 5)\",\"Rating (Out of 5)\",\"Rating (Out of 5)\",\"Rating (Out of 5)\",\"Rating (Out of 5)\",\"Rating (Out of 5)\",\"Rating (Out of 5)\",\"Rating (Out of 5)\",\"Rating (Out of 5)\",\"Rating (Out of 5)\",\"Rating (Out of 5)\",\"Rating (Out of 5)\",\"Rating (Out of 5)\",\"Rating (Out of 5)\",\"Rating (Out of 5)\",\"Rating (Out of 5)\",\"Rating (Out of 5)\",\"Rating (Out of 5)\",\"Rating (Out of 5)\",\"Rating (Out of 5)\",\"Rating (Out of 5)\",\"Rating (Out of 5)\",\"Rating (Out of 5)\",\"Rating (Out of 5)\",\"Rating (Out of 5)\",\"Rating (Out of 5)\",\"Rating (Out of 5)\",\"Rating (Out of 5)\",\"Rating (Out of 5)\",\"Rating (Out of 5)\",\"Rating (Out of 5)\",\"Rating (Out of 5)\",\"Rating (Out of 5)\",\"Rating (Out of 5)\",\"Rating (Out of 5)\",\"Rating (Out of 5)\",\"Rating (Out of 5)\",\"Rating (Out of 5)\",\"Rating (Out of 5)\",\"Rating (Out of 5)\",\"Rating (Out of 5)\",\"Rating (Out of 5)\",\"Rating (Out of 5)\",\"Rating (Out of 5)\",\"Rating (Out of 5)\",\"Rating (Out of 5)\",\"Rating (Out of 5)\",\"Rating (Out of 5)\",\"Rating (Out of 5)\",\"Rating (Out of 5)\",\"Rating (Out of 5)\",\"Rating (Out of 5)\",\"Rating (Out of 5)\",\"Rating (Out of 5)\",\"Rating (Out of 5)\",\"Rating (Out of 5)\",\"Rating (Out of 5)\",\"Rating (Out of 5)\",\"Rating (Out of 5)\",\"Rating (Out of 5)\",\"Rating (Out of 5)\",\"Rating (Out of 5)\",\"Rating (Out of 5)\",\"Rating (Out of 5)\",\"Rating (Out of 5)\",\"Rating (Out of 5)\",\"Rating (Out of 5)\",\"Rating (Out of 5)\",\"Rating (Out of 5)\",\"Rating (Out of 5)\",\"Rating (Out of 5)\",\"Rating (Out of 5)\",\"Rating (Out of 5)\",\"Rating (Out of 5)\",\"Rating (Out of 5)\",\"Rating (Out of 5)\",\"Rating (Out of 5)\",\"Rating (Out of 5)\",\"Rating (Out of 5)\",\"Rating (Out of 5)\",\"Rating (Out of 5)\",\"Rating (Out of 5)\",\"Rating (Out of 5)\",\"Rating (Out of 5)\",\"Rating (Out of 5)\",\"Rating (Out of 5)\",\"Rating (Out of 5)\",\"Rating (Out of 5)\",\"Rating (Out of 5)\",\"Rating (Out of 5)\",\"Rating (Out of 5)\",\"Rating (Out of 5)\",\"Rating (Out of 5)\",\"Rating (Out of 5)\",\"Rating (Out of 5)\",\"Rating (Out of 5)\",\"Rating (Out of 5)\",\"Rating (Out of 5)\",\"Rating (Out of 5)\",\"Rating (Out of 5)\",\"Rating (Out of 5)\",\"Rating (Out of 5)\",\"Rating (Out of 5)\",\"Rating (Out of 5)\",\"Rating (Out of 5)\",\"Rating (Out of 5)\",\"Rating (Out of 5)\",\"Rating (Out of 5)\",\"Rating (Out of 5)\",\"Rating (Out of 5)\",\"Rating (Out of 5)\",\"Rating (Out of 5)\",\"Rating (Out of 5)\",\"Rating (Out of 5)\",\"Rating (Out of 5)\",\"Rating (Out of 5)\",\"Rating (Out of 5)\",\"Rating (Out of 5)\",\"Rating (Out of 5)\",\"Rating (Out of 5)\",\"Rating (Out of 5)\",\"Rating (Out of 5)\",\"Rating (Out of 5)\",\"Rating (Out of 5)\",\"Rating (Out of 5)\",\"Rating (Out of 5)\",\"Rating (Out of 5)\",\"Rating (Out of 5)\",\"Rating (Out of 5)\",\"Rating (Out of 5)\",\"Rating (Out of 5)\",\"Rating (Out of 5)\",\"Rating (Out of 5)\",\"Rating (Out of 5)\",\"Rating (Out of 5)\",\"Rating (Out of 5)\",\"Rating (Out of 5)\",\"Rating (Out of 5)\",\"Rating (Out of 5)\",\"Rating (Out of 5)\",\"Rating (Out of 5)\",\"Rating (Out of 5)\",\"Rating (Out of 5)\",\"Rating (Out of 5)\",\"Rating (Out of 5)\",\"Rating (Out of 5)\",\"Rating (Out of 5)\",\"Rating (Out of 5)\",\"Rating (Out of 5)\",\"Rating (Out of 5)\",\"Rating (Out of 5)\",\"Rating (Out of 5)\",\"Rating (Out of 5)\",\"Rating (Out of 5)\",\"Rating (Out of 5)\",\"Rating (Out of 5)\",\"Rating (Out of 5)\",\"Rating (Out of 5)\",\"Rating (Out of 5)\",\"Rating (Out of 5)\",\"Rating (Out of 5)\",\"Rating (Out of 5)\",\"Rating (Out of 5)\",\"Rating (Out of 5)\",\"Rating (Out of 5)\",\"Rating (Out of 5)\",\"Rating (Out of 5)\",\"Rating (Out of 5)\",\"Rating (Out of 5)\",\"Rating (Out of 5)\",\"Rating (Out of 5)\",\"Rating (Out of 5)\",\"Rating (Out of 5)\",\"Rating (Out of 5)\",\"Rating (Out of 5)\",\"Rating (Out of 5)\",\"Rating (Out of 5)\",\"Rating (Out of 5)\",\"Rating (Out of 5)\",\"Rating (Out of 5)\",\"Rating (Out of 5)\",\"Rating (Out of 5)\",\"Rating (Out of 5)\",\"Rating (Out of 5)\",\"Rating (Out of 5)\",\"Rating (Out of 5)\",\"Rating (Out of 5)\",\"Rating (Out of 5)\",\"Rating (Out of 5)\",\"Rating (Out of 5)\",\"Rating (Out of 5)\"],\"xaxis\":\"x\",\"y\":[4.1,4.2,3.5,4.1,4.3,4.2,4.3,4.4,4.4,4.2,4.3,4.2,4.3,4.2,4.3,4.2,4.2,4.4,4.7,4.2,4.1,3.8,4.3,4.2,4.3,4.1,4.1,4.4,4.1,4.1,4.1,4.2,3.8,4.3,4.0,4.2,4.2,4.2,3.8,4.3,4.4,4.2,3.8,4.1,4.1,3.9,3.9,4.3,4.2,4.1,4.3,4.3,4.1,4.3,3.8,4.3,4.3,4.4,4.4,4.3,4.3,4.3,4.3,4.1,4.0,4.0,4.0,4.2,4.1,4.2,4.1,4.4,4.1,4.3,4.4,4.3,4.2,4.3,4.4,4.4,4.4,4.4,4.2,3.2,3.9,4.3,2.8,3.1,3.8,3.5,3.8,3.6,3.6,3.9,3.9,3.9,4.4,4.2,4.3,4.3,4.1,4.3,4.0,4.0,3.8,4.1,4.0,4.0,4.1,4.1,4.1,3.8,3.6,4.1,4.3,4.2,4.3,4.3,4.1,4.2,4.0,4.0,4.3,3.9,3.9,3.9,3.9,3.9,4.0,3.9,3.9,3.1,4.4,4.4,4.3,4.4,4.3,4.3,4.3,4.3,4.3,4.3,4.2,3.9,4.3,4.2,4.1,4.1,4.1,4.2,4.2,4.2,4.0,4.3,3.7,4.3,4.2,3.9,3.9,4.2,4.0,4.2,4.3,4.1,4.1,4.2,4.2,4.1,4.2,4.2,4.0,4.2,4.4,4.1,4.5,4.5,4.6,4.6,4.6,5.0,3.8,3.8,4.0,4.3,4.6,4.6,4.6,4.1,4.5,4.6,4.1,4.3,4.6,4.4,3.6,4.6,4.2,3.9,4.4,4.3,4.1,4.3,4.2,2.3,3.9,4.4,4.2,4.6,4.2,4.2,4.3,4.6,4.3,3.0,4.2,4.3,4.1,4.5,4.2,4.6,3.2,4.2,4.2,4.2,4.1,3.8,4.3,4.3,4.1,4.0,3.8,4.0,4.0,4.0,4.0,4.3,4.3,3.9,3.9,4.6,4.8,5.0,3.8,4.6,4.6,4.5,4.6,4.0,4.6,4.3,4.1,3.8,5.0,4.3,4.3,4.6,4.0,3.9,4.0,4.2,3.7,4.4,4.0,4.3,3.1,4.6,4.0,4.2,4.1,3.9,4.6,4.2,4.2,4.6,4.1,3.9,3.8,4.1,3.7,3.9,4.1,4.3,3.7,4.0,4.3,4.3,4.6,4.3,4.6,4.6,4.0,4.0,4.4,4.0,4.4,3.7,4.6,4.1,4.1,3.7,3.9,4.2,3.9,4.1,4.7,4.6,4.1,5.0,4.0,4.8,4.1,4.6,4.6,4.6,4.6,4.6,4.6,4.6,4.6,4.6,4.6,4.6,4.6,3.9,4.4,4.6,4.6,3.8,4.1,4.6,4.6,4.3,4.3,4.6,2.8,4.6,3.8,4.6,4.6,4.8,4.6,4.6,4.6,4.6,4.4,3.0,4.6,4.3,3.0,4.6,4.1,4.6,4.0,3.7,4.6,4.7,4.6,4.6,4.6,4.7,4.5,4.7,4.6,4.6,4.5,4.5,4.5,4.5,4.7,4.5,4.2,4.6,4.2,4.5,4.5,4.5,4.5,3.4,4.7,4.7,4.6,4.7,4.7,4.5,4.5,4.5,4.5,4.7,4.2,4.2,4.7,4.5,5.0,4.6,4.6,4.5,4.6,4.6,4.6,4.5,4.6,4.5,4.6,4.6,4.5,4.5,4.5,4.7,4.5,4.5,4.6,4.6,4.5,4.6,4.5,4.5,4.6,4.5,4.2,4.7,5.0,4.6,4.6,4.6,4.6,4.6,4.6,4.6,4.5,4.6,4.6,4.5,4.6,4.7,4.6,4.6,4.3,4.3,4.6,4.5,4.3,4.2,4.7,4.0,4.4,4.7,3.9,4.1,4.1,4.2,4.2,3.7,4.4,4.6,3.3,3.3,4.0,5.0,3.3,4.2,3.3,3.0,3.6,3.6,4.7,3.6,4.7,4.7,4.7,4.7,4.0,4.3,4.2,5.0,3.5,5.0,4.4,4.7,3.3,4.7,4.3,3.6,4.7,4.1,3.6,3.6,2.0,3.7,3.6,4.8,4.4,4.5,4.4,3.5,4.3,4.3,4.3,4.3,4.5,4.4,4.4,4.4,4.5,4.5,3.4,3.4,3.8,4.1,3.9,4.1,4.1,3.8,3.7,4.2,3.9,4.1,3.9,3.9,3.7,3.9,4.2,3.9,3.8,4.3,4.2,4.3,3.9,2.5,3.3,3.1,3.7,3.4,4.5,4.2,4.6,4.5,2.9,3.1,3.3,3.3,3.1,3.9,4.1,4.0,4.0,4.0,4.0,3.7,2.4,4.1,4.1,4.0,2.4,4.0],\"yaxis\":\"y\",\"type\":\"scattergl\"},{\"hovertemplate\":\"Column=%{x}<br>Value=%{y}<extra></extra>\",\"legendgroup\":\"Average Battery Life (in days)\",\"marker\":{\"color\":\"#820fea\",\"symbol\":\"circle\"},\"mode\":\"markers\",\"name\":\"Average Battery Life (in days)\",\"showlegend\":true,\"x\":[\"Average Battery Life (in days)\",\"Average Battery Life (in days)\",\"Average Battery Life (in days)\",\"Average Battery Life (in days)\",\"Average Battery Life (in days)\",\"Average Battery Life (in days)\",\"Average Battery Life (in days)\",\"Average Battery Life (in days)\",\"Average Battery Life (in days)\",\"Average Battery Life (in days)\",\"Average Battery Life (in days)\",\"Average Battery Life (in days)\",\"Average Battery Life (in days)\",\"Average Battery Life (in days)\",\"Average Battery Life (in days)\",\"Average Battery Life (in days)\",\"Average Battery Life (in days)\",\"Average Battery Life (in days)\",\"Average Battery Life (in days)\",\"Average Battery Life (in days)\",\"Average Battery Life (in days)\",\"Average Battery Life (in days)\",\"Average Battery Life (in days)\",\"Average Battery Life (in days)\",\"Average Battery Life (in days)\",\"Average Battery Life (in days)\",\"Average Battery Life (in days)\",\"Average Battery Life (in days)\",\"Average Battery Life (in days)\",\"Average Battery Life (in days)\",\"Average Battery Life (in days)\",\"Average Battery Life (in days)\",\"Average Battery Life (in days)\",\"Average Battery Life (in days)\",\"Average Battery Life (in days)\",\"Average Battery Life (in days)\",\"Average Battery Life (in days)\",\"Average Battery Life (in days)\",\"Average Battery Life (in days)\",\"Average Battery Life (in days)\",\"Average Battery Life (in days)\",\"Average Battery Life (in days)\",\"Average Battery Life (in days)\",\"Average Battery Life (in days)\",\"Average Battery Life (in days)\",\"Average Battery Life (in days)\",\"Average Battery Life (in days)\",\"Average Battery Life (in days)\",\"Average Battery Life (in days)\",\"Average Battery Life (in days)\",\"Average Battery Life (in days)\",\"Average Battery Life (in days)\",\"Average Battery Life (in days)\",\"Average Battery Life (in days)\",\"Average Battery Life (in days)\",\"Average Battery Life (in days)\",\"Average Battery Life (in days)\",\"Average Battery Life (in days)\",\"Average Battery Life (in days)\",\"Average Battery Life (in days)\",\"Average Battery Life (in days)\",\"Average Battery Life (in days)\",\"Average Battery Life (in days)\",\"Average Battery Life (in days)\",\"Average Battery Life (in days)\",\"Average Battery Life (in days)\",\"Average Battery Life (in days)\",\"Average Battery Life (in days)\",\"Average Battery Life (in days)\",\"Average Battery Life (in days)\",\"Average Battery Life (in days)\",\"Average Battery Life (in days)\",\"Average Battery Life (in days)\",\"Average Battery Life (in days)\",\"Average Battery Life (in days)\",\"Average Battery Life (in days)\",\"Average Battery Life (in days)\",\"Average Battery Life (in days)\",\"Average Battery Life (in days)\",\"Average Battery Life (in days)\",\"Average Battery Life (in days)\",\"Average Battery Life (in days)\",\"Average Battery Life (in days)\",\"Average Battery Life (in days)\",\"Average Battery Life (in days)\",\"Average Battery Life (in days)\",\"Average Battery Life (in days)\",\"Average Battery Life (in days)\",\"Average Battery Life (in days)\",\"Average Battery Life (in days)\",\"Average Battery Life (in days)\",\"Average Battery Life (in days)\",\"Average Battery Life (in days)\",\"Average Battery Life (in days)\",\"Average Battery Life (in days)\",\"Average Battery Life (in days)\",\"Average Battery Life (in days)\",\"Average Battery Life (in days)\",\"Average Battery Life (in days)\",\"Average Battery Life (in days)\",\"Average Battery Life (in days)\",\"Average Battery Life (in days)\",\"Average Battery Life (in days)\",\"Average Battery Life (in days)\",\"Average Battery Life (in days)\",\"Average Battery Life (in days)\",\"Average Battery Life (in days)\",\"Average Battery Life (in days)\",\"Average Battery Life (in days)\",\"Average Battery Life (in days)\",\"Average Battery Life (in days)\",\"Average Battery Life (in days)\",\"Average Battery Life (in days)\",\"Average Battery Life (in days)\",\"Average Battery Life (in days)\",\"Average Battery Life (in days)\",\"Average Battery Life (in days)\",\"Average Battery Life (in days)\",\"Average Battery Life (in days)\",\"Average Battery Life (in days)\",\"Average Battery Life (in days)\",\"Average Battery Life (in days)\",\"Average Battery Life (in days)\",\"Average Battery Life (in days)\",\"Average Battery Life (in days)\",\"Average Battery Life (in days)\",\"Average Battery Life (in days)\",\"Average Battery Life (in days)\",\"Average Battery Life (in days)\",\"Average Battery Life (in days)\",\"Average Battery Life (in days)\",\"Average Battery Life (in days)\",\"Average Battery Life (in days)\",\"Average Battery Life (in days)\",\"Average Battery Life (in days)\",\"Average Battery Life (in days)\",\"Average Battery Life (in days)\",\"Average Battery Life (in days)\",\"Average Battery Life (in days)\",\"Average Battery Life (in days)\",\"Average Battery Life (in days)\",\"Average Battery Life (in days)\",\"Average Battery Life (in days)\",\"Average Battery Life (in days)\",\"Average Battery Life (in days)\",\"Average Battery Life (in days)\",\"Average Battery Life (in days)\",\"Average Battery Life (in days)\",\"Average Battery Life (in days)\",\"Average Battery Life (in days)\",\"Average Battery Life (in days)\",\"Average Battery Life (in days)\",\"Average Battery Life (in days)\",\"Average Battery Life (in days)\",\"Average Battery Life (in days)\",\"Average Battery Life (in days)\",\"Average Battery Life (in days)\",\"Average Battery Life (in days)\",\"Average Battery Life (in days)\",\"Average Battery Life (in days)\",\"Average Battery Life (in days)\",\"Average Battery Life (in days)\",\"Average Battery Life (in days)\",\"Average Battery Life (in days)\",\"Average Battery Life (in days)\",\"Average Battery Life (in days)\",\"Average Battery Life (in days)\",\"Average Battery Life (in days)\",\"Average Battery Life (in days)\",\"Average Battery Life (in days)\",\"Average Battery Life (in days)\",\"Average Battery Life (in days)\",\"Average Battery Life (in days)\",\"Average Battery Life (in days)\",\"Average Battery Life (in days)\",\"Average Battery Life (in days)\",\"Average Battery Life (in days)\",\"Average Battery Life (in days)\",\"Average Battery Life (in days)\",\"Average Battery Life (in days)\",\"Average Battery Life (in days)\",\"Average Battery Life (in days)\",\"Average Battery Life (in days)\",\"Average Battery Life (in days)\",\"Average Battery Life (in days)\",\"Average Battery Life (in days)\",\"Average Battery Life (in days)\",\"Average Battery Life (in days)\",\"Average Battery Life (in days)\",\"Average Battery Life (in days)\",\"Average Battery Life (in days)\",\"Average Battery Life (in days)\",\"Average Battery Life (in days)\",\"Average Battery Life (in days)\",\"Average Battery Life (in days)\",\"Average Battery Life (in days)\",\"Average Battery Life (in days)\",\"Average Battery Life (in days)\",\"Average Battery Life (in days)\",\"Average Battery Life (in days)\",\"Average Battery Life (in days)\",\"Average Battery Life (in days)\",\"Average Battery Life (in days)\",\"Average Battery Life (in days)\",\"Average Battery Life (in days)\",\"Average Battery Life (in days)\",\"Average Battery Life (in days)\",\"Average Battery Life (in days)\",\"Average Battery Life (in days)\",\"Average Battery Life (in days)\",\"Average Battery Life (in days)\",\"Average Battery Life (in days)\",\"Average Battery Life (in days)\",\"Average Battery Life (in days)\",\"Average Battery Life (in days)\",\"Average Battery Life (in days)\",\"Average Battery Life (in days)\",\"Average Battery Life (in days)\",\"Average Battery Life (in days)\",\"Average Battery Life (in days)\",\"Average Battery Life (in days)\",\"Average Battery Life (in days)\",\"Average Battery Life (in days)\",\"Average Battery Life (in days)\",\"Average Battery Life (in days)\",\"Average Battery Life (in days)\",\"Average Battery Life (in days)\",\"Average Battery Life (in days)\",\"Average Battery Life (in days)\",\"Average Battery Life (in days)\",\"Average Battery Life (in days)\",\"Average Battery Life (in days)\",\"Average Battery Life (in days)\",\"Average Battery Life (in days)\",\"Average Battery Life (in days)\",\"Average Battery Life (in days)\",\"Average Battery Life (in days)\",\"Average Battery Life (in days)\",\"Average Battery Life (in days)\",\"Average Battery Life (in days)\",\"Average Battery Life (in days)\",\"Average Battery Life (in days)\",\"Average Battery Life (in days)\",\"Average Battery Life (in days)\",\"Average Battery Life (in days)\",\"Average Battery Life (in days)\",\"Average Battery Life (in days)\",\"Average Battery Life (in days)\",\"Average Battery Life (in days)\",\"Average Battery Life (in days)\",\"Average Battery Life (in days)\",\"Average Battery Life (in days)\",\"Average Battery Life (in days)\",\"Average Battery Life (in days)\",\"Average Battery Life (in days)\",\"Average Battery Life (in days)\",\"Average Battery Life (in days)\",\"Average Battery Life (in days)\",\"Average Battery Life (in days)\",\"Average Battery Life (in days)\",\"Average Battery Life (in days)\",\"Average Battery Life (in days)\",\"Average Battery Life (in days)\",\"Average Battery Life (in days)\",\"Average Battery Life (in days)\",\"Average Battery Life (in days)\",\"Average Battery Life (in days)\",\"Average Battery Life (in days)\",\"Average Battery Life (in days)\",\"Average Battery Life (in days)\",\"Average Battery Life (in days)\",\"Average Battery Life (in days)\",\"Average Battery Life (in days)\",\"Average Battery Life (in days)\",\"Average Battery Life (in days)\",\"Average Battery Life (in days)\",\"Average Battery Life (in days)\",\"Average Battery Life (in days)\",\"Average Battery Life (in days)\",\"Average Battery Life (in days)\",\"Average Battery Life (in days)\",\"Average Battery Life (in days)\",\"Average Battery Life (in days)\",\"Average Battery Life (in days)\",\"Average Battery Life (in days)\",\"Average Battery Life (in days)\",\"Average Battery Life (in days)\",\"Average Battery Life (in days)\",\"Average Battery Life (in days)\",\"Average Battery Life (in days)\",\"Average Battery Life (in days)\",\"Average Battery Life (in days)\",\"Average Battery Life (in days)\",\"Average Battery Life (in days)\",\"Average Battery Life (in days)\",\"Average Battery Life (in days)\",\"Average Battery Life (in days)\",\"Average Battery Life (in days)\",\"Average Battery Life (in days)\",\"Average Battery Life (in days)\",\"Average Battery Life (in days)\",\"Average Battery Life (in days)\",\"Average Battery Life (in days)\",\"Average Battery Life (in days)\",\"Average Battery Life (in days)\",\"Average Battery Life (in days)\",\"Average Battery Life (in days)\",\"Average Battery Life (in days)\",\"Average Battery Life (in days)\",\"Average Battery Life (in days)\",\"Average Battery Life (in days)\",\"Average Battery Life (in days)\",\"Average Battery Life (in days)\",\"Average Battery Life (in days)\",\"Average Battery Life (in days)\",\"Average Battery Life (in days)\",\"Average Battery Life (in days)\",\"Average Battery Life (in days)\",\"Average Battery Life (in days)\",\"Average Battery Life (in days)\",\"Average Battery Life (in days)\",\"Average Battery Life (in days)\",\"Average Battery Life (in days)\",\"Average Battery Life (in days)\",\"Average Battery Life (in days)\",\"Average Battery Life (in days)\",\"Average Battery Life (in days)\",\"Average Battery Life (in days)\",\"Average Battery Life (in days)\",\"Average Battery Life (in days)\",\"Average Battery Life (in days)\",\"Average Battery Life (in days)\",\"Average Battery Life (in days)\",\"Average Battery Life (in days)\",\"Average Battery Life (in days)\",\"Average Battery Life (in days)\",\"Average Battery Life (in days)\",\"Average Battery Life (in days)\",\"Average Battery Life (in days)\",\"Average Battery Life (in days)\",\"Average Battery Life (in days)\",\"Average Battery Life (in days)\",\"Average Battery Life (in days)\",\"Average Battery Life (in days)\",\"Average Battery Life (in days)\",\"Average Battery Life (in days)\",\"Average Battery Life (in days)\",\"Average Battery Life (in days)\",\"Average Battery Life (in days)\",\"Average Battery Life (in days)\",\"Average Battery Life (in days)\",\"Average Battery Life (in days)\",\"Average Battery Life (in days)\",\"Average Battery Life (in days)\",\"Average Battery Life (in days)\",\"Average Battery Life (in days)\",\"Average Battery Life (in days)\",\"Average Battery Life (in days)\",\"Average Battery Life (in days)\",\"Average Battery Life (in days)\",\"Average Battery Life (in days)\",\"Average Battery Life (in days)\",\"Average Battery Life (in days)\",\"Average Battery Life (in days)\",\"Average Battery Life (in days)\",\"Average Battery Life (in days)\",\"Average Battery Life (in days)\",\"Average Battery Life (in days)\",\"Average Battery Life (in days)\",\"Average Battery Life (in days)\",\"Average Battery Life (in days)\",\"Average Battery Life (in days)\",\"Average Battery Life (in days)\",\"Average Battery Life (in days)\",\"Average Battery Life (in days)\",\"Average Battery Life (in days)\",\"Average Battery Life (in days)\",\"Average Battery Life (in days)\",\"Average Battery Life (in days)\",\"Average Battery Life (in days)\",\"Average Battery Life (in days)\",\"Average Battery Life (in days)\",\"Average Battery Life (in days)\",\"Average Battery Life (in days)\",\"Average Battery Life (in days)\",\"Average Battery Life (in days)\",\"Average Battery Life (in days)\",\"Average Battery Life (in days)\",\"Average Battery Life (in days)\",\"Average Battery Life (in days)\",\"Average Battery Life (in days)\",\"Average Battery Life (in days)\",\"Average Battery Life (in days)\",\"Average Battery Life (in days)\",\"Average Battery Life (in days)\",\"Average Battery Life (in days)\",\"Average Battery Life (in days)\",\"Average Battery Life (in days)\",\"Average Battery Life (in days)\",\"Average Battery Life (in days)\",\"Average Battery Life (in days)\",\"Average Battery Life (in days)\",\"Average Battery Life (in days)\",\"Average Battery Life (in days)\",\"Average Battery Life (in days)\",\"Average Battery Life (in days)\",\"Average Battery Life (in days)\",\"Average Battery Life (in days)\",\"Average Battery Life (in days)\",\"Average Battery Life (in days)\",\"Average Battery Life (in days)\",\"Average Battery Life (in days)\",\"Average Battery Life (in days)\",\"Average Battery Life (in days)\",\"Average Battery Life (in days)\",\"Average Battery Life (in days)\",\"Average Battery Life (in days)\",\"Average Battery Life (in days)\",\"Average Battery Life (in days)\",\"Average Battery Life (in days)\",\"Average Battery Life (in days)\",\"Average Battery Life (in days)\",\"Average Battery Life (in days)\",\"Average Battery Life (in days)\",\"Average Battery Life (in days)\",\"Average Battery Life (in days)\",\"Average Battery Life (in days)\",\"Average Battery Life (in days)\",\"Average Battery Life (in days)\",\"Average Battery Life (in days)\",\"Average Battery Life (in days)\",\"Average Battery Life (in days)\",\"Average Battery Life (in days)\",\"Average Battery Life (in days)\",\"Average Battery Life (in days)\",\"Average Battery Life (in days)\",\"Average Battery Life (in days)\",\"Average Battery Life (in days)\",\"Average Battery Life (in days)\",\"Average Battery Life (in days)\",\"Average Battery Life (in days)\",\"Average Battery Life (in days)\",\"Average Battery Life (in days)\",\"Average Battery Life (in days)\",\"Average Battery Life (in days)\",\"Average Battery Life (in days)\",\"Average Battery Life (in days)\",\"Average Battery Life (in days)\",\"Average Battery Life (in days)\",\"Average Battery Life (in days)\",\"Average Battery Life (in days)\",\"Average Battery Life (in days)\",\"Average Battery Life (in days)\",\"Average Battery Life (in days)\",\"Average Battery Life (in days)\",\"Average Battery Life (in days)\",\"Average Battery Life (in days)\",\"Average Battery Life (in days)\",\"Average Battery Life (in days)\",\"Average Battery Life (in days)\",\"Average Battery Life (in days)\",\"Average Battery Life (in days)\",\"Average Battery Life (in days)\",\"Average Battery Life (in days)\",\"Average Battery Life (in days)\",\"Average Battery Life (in days)\",\"Average Battery Life (in days)\",\"Average Battery Life (in days)\",\"Average Battery Life (in days)\",\"Average Battery Life (in days)\",\"Average Battery Life (in days)\",\"Average Battery Life (in days)\",\"Average Battery Life (in days)\",\"Average Battery Life (in days)\",\"Average Battery Life (in days)\",\"Average Battery Life (in days)\",\"Average Battery Life (in days)\",\"Average Battery Life (in days)\",\"Average Battery Life (in days)\",\"Average Battery Life (in days)\",\"Average Battery Life (in days)\",\"Average Battery Life (in days)\",\"Average Battery Life (in days)\",\"Average Battery Life (in days)\",\"Average Battery Life (in days)\",\"Average Battery Life (in days)\",\"Average Battery Life (in days)\",\"Average Battery Life (in days)\",\"Average Battery Life (in days)\",\"Average Battery Life (in days)\",\"Average Battery Life (in days)\",\"Average Battery Life (in days)\",\"Average Battery Life (in days)\",\"Average Battery Life (in days)\",\"Average Battery Life (in days)\",\"Average Battery Life (in days)\",\"Average Battery Life (in days)\",\"Average Battery Life (in days)\",\"Average Battery Life (in days)\",\"Average Battery Life (in days)\",\"Average Battery Life (in days)\",\"Average Battery Life (in days)\",\"Average Battery Life (in days)\",\"Average Battery Life (in days)\",\"Average Battery Life (in days)\",\"Average Battery Life (in days)\",\"Average Battery Life (in days)\",\"Average Battery Life (in days)\",\"Average Battery Life (in days)\",\"Average Battery Life (in days)\",\"Average Battery Life (in days)\",\"Average Battery Life (in days)\",\"Average Battery Life (in days)\",\"Average Battery Life (in days)\",\"Average Battery Life (in days)\",\"Average Battery Life (in days)\",\"Average Battery Life (in days)\",\"Average Battery Life (in days)\",\"Average Battery Life (in days)\",\"Average Battery Life (in days)\",\"Average Battery Life (in days)\",\"Average Battery Life (in days)\",\"Average Battery Life (in days)\",\"Average Battery Life (in days)\",\"Average Battery Life (in days)\",\"Average Battery Life (in days)\",\"Average Battery Life (in days)\",\"Average Battery Life (in days)\",\"Average Battery Life (in days)\",\"Average Battery Life (in days)\",\"Average Battery Life (in days)\",\"Average Battery Life (in days)\",\"Average Battery Life (in days)\",\"Average Battery Life (in days)\",\"Average Battery Life (in days)\",\"Average Battery Life (in days)\",\"Average Battery Life (in days)\",\"Average Battery Life (in days)\",\"Average Battery Life (in days)\",\"Average Battery Life (in days)\",\"Average Battery Life (in days)\",\"Average Battery Life (in days)\",\"Average Battery Life (in days)\",\"Average Battery Life (in days)\",\"Average Battery Life (in days)\",\"Average Battery Life (in days)\",\"Average Battery Life (in days)\",\"Average Battery Life (in days)\",\"Average Battery Life (in days)\",\"Average Battery Life (in days)\",\"Average Battery Life (in days)\",\"Average Battery Life (in days)\",\"Average Battery Life (in days)\",\"Average Battery Life (in days)\"],\"xaxis\":\"x2\",\"y\":[14.0,14.0,14.0,14.0,7.0,20.0,7.0,14.0,14.0,7.0,7.0,7.0,7.0,7.0,7.0,7.0,5.0,10.0,7.0,7.0,5.0,5.0,5.0,5.0,7.0,7.0,7.0,7.0,7.0,7.0,7.0,7.0,7.0,7.0,7.0,7.0,7.0,7.0,7.0,7.0,7.0,7.0,7.0,7.0,7.0,7.0,7.0,7.0,7.0,7.0,7.0,7.0,7.0,7.0,7.0,7.0,7.0,7.0,7.0,7.0,7.0,5.0,5.0,7.0,7.0,7.0,7.0,7.0,7.0,7.0,7.0,7.0,7.0,14.0,7.0,7.0,7.0,7.0,14.0,14.0,14.0,7.0,14.0,7.0,14.0,7.0,7.0,7.0,4.0,7.0,4.0,7.0,3.0,7.0,14.0,14.0,14.0,7.0,14.0,14.0,14.0,14.0,14.0,7.0,7.0,4.0,4.0,4.0,4.0,10.0,7.0,10.0,7.0,10.0,7.0,7.0,7.0,10.0,10.0,7.0,7.0,7.0,7.0,7.0,7.0,7.0,7.0,7.0,7.0,7.0,7.0,14.0,25.0,25.0,7.0,14.0,10.0,7.0,14.0,14.0,14.0,14.0,9.0,14.0,20.0,14.0,10.0,7.0,10.0,28.0,12.0,7.0,15.0,14.0,14.0,12.0,14.0,15.0,15.0,28.0,15.0,25.0,25.0,25.0,25.0,14.0,28.0,7.0,28.0,25.0,7.0,5.0,28.0,7.0,7.0,7.0,14.0,14.0,14.0,14.0,7.0,7.0,7.0,14.0,14.0,14.0,14.0,14.0,7.0,14.0,14.0,14.0,14.0,14.0,14.0,14.0,7.0,7.0,14.0,14.0,14.0,7.0,7.0,14.0,7.0,14.0,14.0,14.0,7.0,7.0,14.0,14.0,14.0,7.0,14.0,14.0,14.0,14.0,14.0,14.0,14.0,7.0,2.0,2.0,2.0,2.0,2.0,14.0,2.0,14.0,2.0,14.0,14.0,10.0,14.0,14.0,14.0,2.0,12.0,12.0,10.0,12.0,1.0,1.0,2.0,2.0,2.0,12.0,1.0,2.0,2.0,1.0,12.0,2.0,2.0,12.0,5.0,12.0,1.0,1.0,12.0,2.0,1.0,1.0,2.0,1.0,2.0,14.0,14.0,2.0,2.0,2.0,1.0,12.0,2.0,14.0,2.0,1.0,12.0,14.0,1.0,2.0,2.0,12.0,2.0,2.0,12.0,1.0,12.0,1.0,2.0,2.0,2.0,1.0,1.0,1.0,12.0,14.0,14.0,12.0,14.0,2.0,12.0,1.0,1.0,3.0,1.0,2.0,1.0,6.0,14.0,12.0,2.0,12.0,2.0,2.0,2.0,2.0,2.0,2.0,12.0,12.0,1.0,14.0,1.0,7.0,2.0,2.0,14.0,2.0,12.0,1.0,1.0,2.0,3.0,1.0,1.0,1.0,2.0,2.0,2.0,2.0,1.0,2.0,14.0,1.0,12.0,2.0,2.0,2.0,14.0,7.0,2.0,6.0,1.0,1.0,1.0,1.0,1.0,1.0,1.0,1.0,1.0,1.0,1.0,1.0,1.0,1.0,1.0,1.0,1.0,1.0,1.0,1.0,1.0,1.0,1.0,1.0,1.0,1.0,1.0,1.0,1.0,1.0,1.0,1.0,1.0,1.0,1.0,1.0,1.0,1.0,1.0,1.0,1.0,1.0,1.0,1.0,1.0,1.0,1.0,1.0,1.0,1.0,1.0,1.0,1.0,1.0,1.0,1.0,1.0,1.0,1.0,1.0,1.0,1.0,1.0,1.0,1.0,1.0,1.0,1.0,1.0,1.0,1.0,1.0,1.0,1.0,1.0,1.0,1.0,1.0,1.0,1.0,1.0,1.0,1.0,1.0,1.0,1.0,7.0,7.0,7.0,7.0,7.0,14.0,5.0,14.0,12.0,14.0,7.0,7.0,7.0,7.0,14.0,7.0,12.0,7.0,7.0,14.0,7.0,7.0,14.0,14.0,14.0,14.0,14.0,14.0,14.0,14.0,14.0,14.0,14.0,14.0,14.0,14.0,14.0,14.0,14.0,14.0,14.0,14.0,14.0,12.0,14.0,14.0,14.0,14.0,14.0,14.0,14.0,14.0,14.0,14.0,14.0,14.0,14.0,14.0,14.0,14.0,14.0,14.0,14.0,14.0,7.0,7.0,7.0,14.0,7.0,14.0,14.0,7.0,7.0,1.0,7.0,10.0,7.0,15.0,10.0,10.0,7.0,10.0,15.0,10.0,14.0,15.0,7.0,3.0,3.0,3.0,3.0,7.0,7.0,10.0,7.0,7.0,7.0,3.0,3.0,3.0,3.0,5.0,5.0,10.0,8.0,8.0,10.0,10.0,5.0,10.0,10.0,8.0,5.0,10.0],\"yaxis\":\"y2\",\"type\":\"scattergl\"}],                        {\"template\":{\"data\":{\"histogram2dcontour\":[{\"type\":\"histogram2dcontour\",\"colorbar\":{\"outlinewidth\":0,\"ticks\":\"\"},\"colorscale\":[[0.0,\"#0d0887\"],[0.1111111111111111,\"#46039f\"],[0.2222222222222222,\"#7201a8\"],[0.3333333333333333,\"#9c179e\"],[0.4444444444444444,\"#bd3786\"],[0.5555555555555556,\"#d8576b\"],[0.6666666666666666,\"#ed7953\"],[0.7777777777777778,\"#fb9f3a\"],[0.8888888888888888,\"#fdca26\"],[1.0,\"#f0f921\"]]}],\"choropleth\":[{\"type\":\"choropleth\",\"colorbar\":{\"outlinewidth\":0,\"ticks\":\"\"}}],\"histogram2d\":[{\"type\":\"histogram2d\",\"colorbar\":{\"outlinewidth\":0,\"ticks\":\"\"},\"colorscale\":[[0.0,\"#0d0887\"],[0.1111111111111111,\"#46039f\"],[0.2222222222222222,\"#7201a8\"],[0.3333333333333333,\"#9c179e\"],[0.4444444444444444,\"#bd3786\"],[0.5555555555555556,\"#d8576b\"],[0.6666666666666666,\"#ed7953\"],[0.7777777777777778,\"#fb9f3a\"],[0.8888888888888888,\"#fdca26\"],[1.0,\"#f0f921\"]]}],\"heatmap\":[{\"type\":\"heatmap\",\"colorbar\":{\"outlinewidth\":0,\"ticks\":\"\"},\"colorscale\":[[0.0,\"#0d0887\"],[0.1111111111111111,\"#46039f\"],[0.2222222222222222,\"#7201a8\"],[0.3333333333333333,\"#9c179e\"],[0.4444444444444444,\"#bd3786\"],[0.5555555555555556,\"#d8576b\"],[0.6666666666666666,\"#ed7953\"],[0.7777777777777778,\"#fb9f3a\"],[0.8888888888888888,\"#fdca26\"],[1.0,\"#f0f921\"]]}],\"heatmapgl\":[{\"type\":\"heatmapgl\",\"colorbar\":{\"outlinewidth\":0,\"ticks\":\"\"},\"colorscale\":[[0.0,\"#0d0887\"],[0.1111111111111111,\"#46039f\"],[0.2222222222222222,\"#7201a8\"],[0.3333333333333333,\"#9c179e\"],[0.4444444444444444,\"#bd3786\"],[0.5555555555555556,\"#d8576b\"],[0.6666666666666666,\"#ed7953\"],[0.7777777777777778,\"#fb9f3a\"],[0.8888888888888888,\"#fdca26\"],[1.0,\"#f0f921\"]]}],\"contourcarpet\":[{\"type\":\"contourcarpet\",\"colorbar\":{\"outlinewidth\":0,\"ticks\":\"\"}}],\"contour\":[{\"type\":\"contour\",\"colorbar\":{\"outlinewidth\":0,\"ticks\":\"\"},\"colorscale\":[[0.0,\"#0d0887\"],[0.1111111111111111,\"#46039f\"],[0.2222222222222222,\"#7201a8\"],[0.3333333333333333,\"#9c179e\"],[0.4444444444444444,\"#bd3786\"],[0.5555555555555556,\"#d8576b\"],[0.6666666666666666,\"#ed7953\"],[0.7777777777777778,\"#fb9f3a\"],[0.8888888888888888,\"#fdca26\"],[1.0,\"#f0f921\"]]}],\"surface\":[{\"type\":\"surface\",\"colorbar\":{\"outlinewidth\":0,\"ticks\":\"\"},\"colorscale\":[[0.0,\"#0d0887\"],[0.1111111111111111,\"#46039f\"],[0.2222222222222222,\"#7201a8\"],[0.3333333333333333,\"#9c179e\"],[0.4444444444444444,\"#bd3786\"],[0.5555555555555556,\"#d8576b\"],[0.6666666666666666,\"#ed7953\"],[0.7777777777777778,\"#fb9f3a\"],[0.8888888888888888,\"#fdca26\"],[1.0,\"#f0f921\"]]}],\"mesh3d\":[{\"type\":\"mesh3d\",\"colorbar\":{\"outlinewidth\":0,\"ticks\":\"\"}}],\"scatter\":[{\"fillpattern\":{\"fillmode\":\"overlay\",\"size\":10,\"solidity\":0.2},\"type\":\"scatter\"}],\"parcoords\":[{\"type\":\"parcoords\",\"line\":{\"colorbar\":{\"outlinewidth\":0,\"ticks\":\"\"}}}],\"scatterpolargl\":[{\"type\":\"scatterpolargl\",\"marker\":{\"colorbar\":{\"outlinewidth\":0,\"ticks\":\"\"}}}],\"bar\":[{\"error_x\":{\"color\":\"#2a3f5f\"},\"error_y\":{\"color\":\"#2a3f5f\"},\"marker\":{\"line\":{\"color\":\"#E5ECF6\",\"width\":0.5},\"pattern\":{\"fillmode\":\"overlay\",\"size\":10,\"solidity\":0.2}},\"type\":\"bar\"}],\"scattergeo\":[{\"type\":\"scattergeo\",\"marker\":{\"colorbar\":{\"outlinewidth\":0,\"ticks\":\"\"}}}],\"scatterpolar\":[{\"type\":\"scatterpolar\",\"marker\":{\"colorbar\":{\"outlinewidth\":0,\"ticks\":\"\"}}}],\"histogram\":[{\"marker\":{\"pattern\":{\"fillmode\":\"overlay\",\"size\":10,\"solidity\":0.2}},\"type\":\"histogram\"}],\"scattergl\":[{\"type\":\"scattergl\",\"marker\":{\"colorbar\":{\"outlinewidth\":0,\"ticks\":\"\"}}}],\"scatter3d\":[{\"type\":\"scatter3d\",\"line\":{\"colorbar\":{\"outlinewidth\":0,\"ticks\":\"\"}},\"marker\":{\"colorbar\":{\"outlinewidth\":0,\"ticks\":\"\"}}}],\"scattermapbox\":[{\"type\":\"scattermapbox\",\"marker\":{\"colorbar\":{\"outlinewidth\":0,\"ticks\":\"\"}}}],\"scatterternary\":[{\"type\":\"scatterternary\",\"marker\":{\"colorbar\":{\"outlinewidth\":0,\"ticks\":\"\"}}}],\"scattercarpet\":[{\"type\":\"scattercarpet\",\"marker\":{\"colorbar\":{\"outlinewidth\":0,\"ticks\":\"\"}}}],\"carpet\":[{\"aaxis\":{\"endlinecolor\":\"#2a3f5f\",\"gridcolor\":\"white\",\"linecolor\":\"white\",\"minorgridcolor\":\"white\",\"startlinecolor\":\"#2a3f5f\"},\"baxis\":{\"endlinecolor\":\"#2a3f5f\",\"gridcolor\":\"white\",\"linecolor\":\"white\",\"minorgridcolor\":\"white\",\"startlinecolor\":\"#2a3f5f\"},\"type\":\"carpet\"}],\"table\":[{\"cells\":{\"fill\":{\"color\":\"#EBF0F8\"},\"line\":{\"color\":\"white\"}},\"header\":{\"fill\":{\"color\":\"#C8D4E3\"},\"line\":{\"color\":\"white\"}},\"type\":\"table\"}],\"barpolar\":[{\"marker\":{\"line\":{\"color\":\"#E5ECF6\",\"width\":0.5},\"pattern\":{\"fillmode\":\"overlay\",\"size\":10,\"solidity\":0.2}},\"type\":\"barpolar\"}],\"pie\":[{\"automargin\":true,\"type\":\"pie\"}]},\"layout\":{\"autotypenumbers\":\"strict\",\"colorway\":[\"#636efa\",\"#EF553B\",\"#00cc96\",\"#ab63fa\",\"#FFA15A\",\"#19d3f3\",\"#FF6692\",\"#B6E880\",\"#FF97FF\",\"#FECB52\"],\"font\":{\"color\":\"#2a3f5f\"},\"hovermode\":\"closest\",\"hoverlabel\":{\"align\":\"left\"},\"paper_bgcolor\":\"white\",\"plot_bgcolor\":\"#E5ECF6\",\"polar\":{\"bgcolor\":\"#E5ECF6\",\"angularaxis\":{\"gridcolor\":\"white\",\"linecolor\":\"white\",\"ticks\":\"\"},\"radialaxis\":{\"gridcolor\":\"white\",\"linecolor\":\"white\",\"ticks\":\"\"}},\"ternary\":{\"bgcolor\":\"#E5ECF6\",\"aaxis\":{\"gridcolor\":\"white\",\"linecolor\":\"white\",\"ticks\":\"\"},\"baxis\":{\"gridcolor\":\"white\",\"linecolor\":\"white\",\"ticks\":\"\"},\"caxis\":{\"gridcolor\":\"white\",\"linecolor\":\"white\",\"ticks\":\"\"}},\"coloraxis\":{\"colorbar\":{\"outlinewidth\":0,\"ticks\":\"\"}},\"colorscale\":{\"sequential\":[[0.0,\"#0d0887\"],[0.1111111111111111,\"#46039f\"],[0.2222222222222222,\"#7201a8\"],[0.3333333333333333,\"#9c179e\"],[0.4444444444444444,\"#bd3786\"],[0.5555555555555556,\"#d8576b\"],[0.6666666666666666,\"#ed7953\"],[0.7777777777777778,\"#fb9f3a\"],[0.8888888888888888,\"#fdca26\"],[1.0,\"#f0f921\"]],\"sequentialminus\":[[0.0,\"#0d0887\"],[0.1111111111111111,\"#46039f\"],[0.2222222222222222,\"#7201a8\"],[0.3333333333333333,\"#9c179e\"],[0.4444444444444444,\"#bd3786\"],[0.5555555555555556,\"#d8576b\"],[0.6666666666666666,\"#ed7953\"],[0.7777777777777778,\"#fb9f3a\"],[0.8888888888888888,\"#fdca26\"],[1.0,\"#f0f921\"]],\"diverging\":[[0,\"#8e0152\"],[0.1,\"#c51b7d\"],[0.2,\"#de77ae\"],[0.3,\"#f1b6da\"],[0.4,\"#fde0ef\"],[0.5,\"#f7f7f7\"],[0.6,\"#e6f5d0\"],[0.7,\"#b8e186\"],[0.8,\"#7fbc41\"],[0.9,\"#4d9221\"],[1,\"#276419\"]]},\"xaxis\":{\"gridcolor\":\"white\",\"linecolor\":\"white\",\"ticks\":\"\",\"title\":{\"standoff\":15},\"zerolinecolor\":\"white\",\"automargin\":true,\"zerolinewidth\":2},\"yaxis\":{\"gridcolor\":\"white\",\"linecolor\":\"white\",\"ticks\":\"\",\"title\":{\"standoff\":15},\"zerolinecolor\":\"white\",\"automargin\":true,\"zerolinewidth\":2},\"scene\":{\"xaxis\":{\"backgroundcolor\":\"#E5ECF6\",\"gridcolor\":\"white\",\"linecolor\":\"white\",\"showbackground\":true,\"ticks\":\"\",\"zerolinecolor\":\"white\",\"gridwidth\":2},\"yaxis\":{\"backgroundcolor\":\"#E5ECF6\",\"gridcolor\":\"white\",\"linecolor\":\"white\",\"showbackground\":true,\"ticks\":\"\",\"zerolinecolor\":\"white\",\"gridwidth\":2},\"zaxis\":{\"backgroundcolor\":\"#E5ECF6\",\"gridcolor\":\"white\",\"linecolor\":\"white\",\"showbackground\":true,\"ticks\":\"\",\"zerolinecolor\":\"white\",\"gridwidth\":2}},\"shapedefaults\":{\"line\":{\"color\":\"#2a3f5f\"}},\"annotationdefaults\":{\"arrowcolor\":\"#2a3f5f\",\"arrowhead\":0,\"arrowwidth\":1},\"geo\":{\"bgcolor\":\"white\",\"landcolor\":\"#E5ECF6\",\"subunitcolor\":\"white\",\"showland\":true,\"showlakes\":true,\"lakecolor\":\"white\"},\"title\":{\"x\":0.05},\"mapbox\":{\"style\":\"light\"}}},\"xaxis\":{\"anchor\":\"y\",\"domain\":[0.0,0.475],\"title\":{\"text\":\"Column\"},\"categoryorder\":\"array\",\"categoryarray\":[\"Rating (Out of 5)\",\"Average Battery Life (in days)\"]},\"yaxis\":{\"anchor\":\"x\",\"domain\":[0.0,1.0],\"title\":{\"text\":\"Value\"}},\"xaxis2\":{\"anchor\":\"y2\",\"domain\":[0.525,1.0],\"matches\":\"x\",\"title\":{\"text\":\"Column\"},\"categoryorder\":\"array\",\"categoryarray\":[\"Rating (Out of 5)\",\"Average Battery Life (in days)\"]},\"yaxis2\":{\"anchor\":\"x2\",\"domain\":[0.0,1.0],\"matches\":\"y\",\"showticklabels\":false},\"annotations\":[{\"font\":{},\"showarrow\":false,\"text\":\"Column=Rating (Out of 5)\",\"x\":0.2375,\"xanchor\":\"center\",\"xref\":\"paper\",\"y\":1.0,\"yanchor\":\"bottom\",\"yref\":\"paper\"},{\"font\":{},\"showarrow\":false,\"text\":\"Column=Average Battery Life (in days)\",\"x\":0.7625,\"xanchor\":\"center\",\"xref\":\"paper\",\"y\":1.0,\"yanchor\":\"bottom\",\"yref\":\"paper\"}],\"legend\":{\"title\":{\"text\":\"Column\"},\"tracegroupgap\":0},\"margin\":{\"t\":60}},                        {\"responsive\": true}                    ).then(function(){\n",
              "                            \n",
              "var gd = document.getElementById('2a570a5c-b17f-44e5-8e0e-d0829bfd0ba5');\n",
              "var x = new MutationObserver(function (mutations, observer) {{\n",
              "        var display = window.getComputedStyle(gd).display;\n",
              "        if (!display || display === 'none') {{\n",
              "            console.log([gd, 'removed!']);\n",
              "            Plotly.purge(gd);\n",
              "            observer.disconnect();\n",
              "        }}\n",
              "}});\n",
              "\n",
              "// Listen for the removal of the full notebook cells\n",
              "var notebookContainer = gd.closest('#notebook-container');\n",
              "if (notebookContainer) {{\n",
              "    x.observe(notebookContainer, {childList: true});\n",
              "}}\n",
              "\n",
              "// Listen for the clearing of the current output cell\n",
              "var outputEl = gd.closest('.output');\n",
              "if (outputEl) {{\n",
              "    x.observe(outputEl, {childList: true});\n",
              "}}\n",
              "\n",
              "                        })                };                            </script>        </div>\n",
              "</body>\n",
              "</html>"
            ]
          },
          "metadata": {}
        }
      ]
    },
    {
      "cell_type": "markdown",
      "source": [
        "# **Feature Importance and Correlation Between Features**"
      ],
      "metadata": {
        "id": "FXWWtNwzYLyP"
      }
    },
    {
      "cell_type": "code",
      "source": [
        "#Correlation Table\n",
        "df.corr()"
      ],
      "metadata": {
        "colab": {
          "base_uri": "https://localhost:8080/",
          "height": 244
        },
        "id": "bxXOHXXZYTSK",
        "outputId": "a1da5cc5-c5ac-4515-fce2-0cb503595891"
      },
      "execution_count": 106,
      "outputs": [
        {
          "output_type": "stream",
          "name": "stderr",
          "text": [
            "<ipython-input-106-66bcdd369664>:2: FutureWarning:\n",
            "\n",
            "The default value of numeric_only in DataFrame.corr is deprecated. In a future version, it will default to False. Select only valid columns or specify the value of numeric_only to silence this warning.\n",
            "\n"
          ]
        },
        {
          "output_type": "execute_result",
          "data": {
            "text/plain": [
              "                                Selling Price  Original Price  \\\n",
              "Selling Price                        1.000000        0.982970   \n",
              "Original Price                       0.982970        1.000000   \n",
              "Rating (Out of 5)                    0.328126        0.331342   \n",
              "Average Battery Life (in days)       0.148781        0.195844   \n",
              "\n",
              "                                Rating (Out of 5)  \\\n",
              "Selling Price                            0.328126   \n",
              "Original Price                           0.331342   \n",
              "Rating (Out of 5)                        1.000000   \n",
              "Average Battery Life (in days)          -0.112093   \n",
              "\n",
              "                                Average Battery Life (in days)  \n",
              "Selling Price                                         0.148781  \n",
              "Original Price                                        0.195844  \n",
              "Rating (Out of 5)                                    -0.112093  \n",
              "Average Battery Life (in days)                        1.000000  "
            ],
            "text/html": [
              "\n",
              "  <div id=\"df-1fd948ae-b1ac-4652-89d9-1bc28ed9108e\">\n",
              "    <div class=\"colab-df-container\">\n",
              "      <div>\n",
              "<style scoped>\n",
              "    .dataframe tbody tr th:only-of-type {\n",
              "        vertical-align: middle;\n",
              "    }\n",
              "\n",
              "    .dataframe tbody tr th {\n",
              "        vertical-align: top;\n",
              "    }\n",
              "\n",
              "    .dataframe thead th {\n",
              "        text-align: right;\n",
              "    }\n",
              "</style>\n",
              "<table border=\"1\" class=\"dataframe\">\n",
              "  <thead>\n",
              "    <tr style=\"text-align: right;\">\n",
              "      <th></th>\n",
              "      <th>Selling Price</th>\n",
              "      <th>Original Price</th>\n",
              "      <th>Rating (Out of 5)</th>\n",
              "      <th>Average Battery Life (in days)</th>\n",
              "    </tr>\n",
              "  </thead>\n",
              "  <tbody>\n",
              "    <tr>\n",
              "      <th>Selling Price</th>\n",
              "      <td>1.000000</td>\n",
              "      <td>0.982970</td>\n",
              "      <td>0.328126</td>\n",
              "      <td>0.148781</td>\n",
              "    </tr>\n",
              "    <tr>\n",
              "      <th>Original Price</th>\n",
              "      <td>0.982970</td>\n",
              "      <td>1.000000</td>\n",
              "      <td>0.331342</td>\n",
              "      <td>0.195844</td>\n",
              "    </tr>\n",
              "    <tr>\n",
              "      <th>Rating (Out of 5)</th>\n",
              "      <td>0.328126</td>\n",
              "      <td>0.331342</td>\n",
              "      <td>1.000000</td>\n",
              "      <td>-0.112093</td>\n",
              "    </tr>\n",
              "    <tr>\n",
              "      <th>Average Battery Life (in days)</th>\n",
              "      <td>0.148781</td>\n",
              "      <td>0.195844</td>\n",
              "      <td>-0.112093</td>\n",
              "      <td>1.000000</td>\n",
              "    </tr>\n",
              "  </tbody>\n",
              "</table>\n",
              "</div>\n",
              "      <button class=\"colab-df-convert\" onclick=\"convertToInteractive('df-1fd948ae-b1ac-4652-89d9-1bc28ed9108e')\"\n",
              "              title=\"Convert this dataframe to an interactive table.\"\n",
              "              style=\"display:none;\">\n",
              "        \n",
              "  <svg xmlns=\"http://www.w3.org/2000/svg\" height=\"24px\"viewBox=\"0 0 24 24\"\n",
              "       width=\"24px\">\n",
              "    <path d=\"M0 0h24v24H0V0z\" fill=\"none\"/>\n",
              "    <path d=\"M18.56 5.44l.94 2.06.94-2.06 2.06-.94-2.06-.94-.94-2.06-.94 2.06-2.06.94zm-11 1L8.5 8.5l.94-2.06 2.06-.94-2.06-.94L8.5 2.5l-.94 2.06-2.06.94zm10 10l.94 2.06.94-2.06 2.06-.94-2.06-.94-.94-2.06-.94 2.06-2.06.94z\"/><path d=\"M17.41 7.96l-1.37-1.37c-.4-.4-.92-.59-1.43-.59-.52 0-1.04.2-1.43.59L10.3 9.45l-7.72 7.72c-.78.78-.78 2.05 0 2.83L4 21.41c.39.39.9.59 1.41.59.51 0 1.02-.2 1.41-.59l7.78-7.78 2.81-2.81c.8-.78.8-2.07 0-2.86zM5.41 20L4 18.59l7.72-7.72 1.47 1.35L5.41 20z\"/>\n",
              "  </svg>\n",
              "      </button>\n",
              "      \n",
              "  <style>\n",
              "    .colab-df-container {\n",
              "      display:flex;\n",
              "      flex-wrap:wrap;\n",
              "      gap: 12px;\n",
              "    }\n",
              "\n",
              "    .colab-df-convert {\n",
              "      background-color: #E8F0FE;\n",
              "      border: none;\n",
              "      border-radius: 50%;\n",
              "      cursor: pointer;\n",
              "      display: none;\n",
              "      fill: #1967D2;\n",
              "      height: 32px;\n",
              "      padding: 0 0 0 0;\n",
              "      width: 32px;\n",
              "    }\n",
              "\n",
              "    .colab-df-convert:hover {\n",
              "      background-color: #E2EBFA;\n",
              "      box-shadow: 0px 1px 2px rgba(60, 64, 67, 0.3), 0px 1px 3px 1px rgba(60, 64, 67, 0.15);\n",
              "      fill: #174EA6;\n",
              "    }\n",
              "\n",
              "    [theme=dark] .colab-df-convert {\n",
              "      background-color: #3B4455;\n",
              "      fill: #D2E3FC;\n",
              "    }\n",
              "\n",
              "    [theme=dark] .colab-df-convert:hover {\n",
              "      background-color: #434B5C;\n",
              "      box-shadow: 0px 1px 3px 1px rgba(0, 0, 0, 0.15);\n",
              "      filter: drop-shadow(0px 1px 2px rgba(0, 0, 0, 0.3));\n",
              "      fill: #FFFFFF;\n",
              "    }\n",
              "  </style>\n",
              "\n",
              "      <script>\n",
              "        const buttonEl =\n",
              "          document.querySelector('#df-1fd948ae-b1ac-4652-89d9-1bc28ed9108e button.colab-df-convert');\n",
              "        buttonEl.style.display =\n",
              "          google.colab.kernel.accessAllowed ? 'block' : 'none';\n",
              "\n",
              "        async function convertToInteractive(key) {\n",
              "          const element = document.querySelector('#df-1fd948ae-b1ac-4652-89d9-1bc28ed9108e');\n",
              "          const dataTable =\n",
              "            await google.colab.kernel.invokeFunction('convertToInteractive',\n",
              "                                                     [key], {});\n",
              "          if (!dataTable) return;\n",
              "\n",
              "          const docLinkHtml = 'Like what you see? Visit the ' +\n",
              "            '<a target=\"_blank\" href=https://colab.research.google.com/notebooks/data_table.ipynb>data table notebook</a>'\n",
              "            + ' to learn more about interactive tables.';\n",
              "          element.innerHTML = '';\n",
              "          dataTable['output_type'] = 'display_data';\n",
              "          await google.colab.output.renderOutput(dataTable, element);\n",
              "          const docLink = document.createElement('div');\n",
              "          docLink.innerHTML = docLinkHtml;\n",
              "          element.appendChild(docLink);\n",
              "        }\n",
              "      </script>\n",
              "    </div>\n",
              "  </div>\n",
              "  "
            ]
          },
          "metadata": {},
          "execution_count": 106
        }
      ]
    },
    {
      "cell_type": "code",
      "source": [
        "#Correlation plot\n",
        "sns.heatmap(df.corr())"
      ],
      "metadata": {
        "colab": {
          "base_uri": "https://localhost:8080/",
          "height": 716
        },
        "id": "Z6Mair3dYhZ9",
        "outputId": "47b220fc-b8d5-4948-a6f4-deed340612ea"
      },
      "execution_count": 107,
      "outputs": [
        {
          "output_type": "stream",
          "name": "stderr",
          "text": [
            "<ipython-input-107-732f8ea04470>:2: FutureWarning:\n",
            "\n",
            "The default value of numeric_only in DataFrame.corr is deprecated. In a future version, it will default to False. Select only valid columns or specify the value of numeric_only to silence this warning.\n",
            "\n"
          ]
        },
        {
          "output_type": "execute_result",
          "data": {
            "text/plain": [
              "<Axes: >"
            ]
          },
          "metadata": {},
          "execution_count": 107
        },
        {
          "output_type": "display_data",
          "data": {
            "text/plain": [
              "<Figure size 640x480 with 2 Axes>"
            ],
            "image/png": "[encoded data removed]"
          },
          "metadata": {}
        }
      ]
    },
    {
      "cell_type": "markdown",
      "source": [
        "# **Data Modeling**"
      ],
      "metadata": {
        "id": "5jczqjqlYyH5"
      }
    },
    {
      "cell_type": "markdown",
      "source": [
        "# **Start Spark Session and Find Spark Session**"
      ],
      "metadata": {
        "id": "U2yfut-qeBKg"
      }
    },
    {
      "cell_type": "code",
      "source": [
        "#Start spark session and find spark session\n",
        "findspark.init()\n",
        "spark = SparkSession.builder.getOrCreate()"
      ],
      "metadata": {
        "id": "wagGdjLoeEW1"
      },
      "execution_count": 115,
      "outputs": []
    },
    {
      "cell_type": "code",
      "source": [
        "#Define dataframe with CSV\n",
        "df_pyspark = spark.read.csv(\"Fitness_trackers_updated.csv\")"
      ],
      "metadata": {
        "id": "0Qcr7DrnZEGm"
      },
      "execution_count": 137,
      "outputs": []
    },
    {
      "cell_type": "code",
      "source": [
        "#Show dataframe structure\n",
        "df_pyspark"
      ],
      "metadata": {
        "colab": {
          "base_uri": "https://localhost:8080/"
        },
        "id": "POH6k3z8eN-T",
        "outputId": "69a62e35-4e32-4658-f58b-875fd330d39e"
      },
      "execution_count": 139,
      "outputs": [
        {
          "output_type": "execute_result",
          "data": {
            "text/plain": [
              "DataFrame[_c0: string, _c1: string, _c2: string, _c3: string, _c4: string, _c5: string, _c6: string, _c7: string, _c8: string, _c9: string, _c10: string]"
            ]
          },
          "metadata": {},
          "execution_count": 139
        }
      ]
    },
    {
      "cell_type": "code",
      "source": [
        "#Show top 5 rows\n",
        "df_pyspark.show(5)"
      ],
      "metadata": {
        "colab": {
          "base_uri": "https://localhost:8080/"
        },
        "id": "zOSlTobleTLs",
        "outputId": "0cdd1447-c0d1-4859-8a91-a3e426ef4857"
      },
      "execution_count": 140,
      "outputs": [
        {
          "output_type": "stream",
          "name": "stdout",
          "text": [
            "+----------+-----------+------------+-----+-------------+--------------+--------------+-----------------+--------------------+--------------------+-------+\n",
            "|       _c0|        _c1|         _c2|  _c3|          _c4|           _c5|           _c6|              _c7|                 _c8|                 _c9|   _c10|\n",
            "+----------+-----------+------------+-----+-------------+--------------+--------------+-----------------+--------------------+--------------------+-------+\n",
            "|Brand Name|Device Type|  Model Name|Color|Selling Price|Original Price|       Display|Rating (Out of 5)|      Strap Material|Average Battery L...|Reviews|\n",
            "|    Xiaomi|FitnessBand|Smart Band 5|Black|        2,499|         2,999|AMOLED Display|              4.1|Thermoplastic pol...|                  14|   null|\n",
            "|    Xiaomi|FitnessBand|Smart Band 4|Black|        2,099|         2,499|AMOLED Display|              4.2|Thermoplastic pol...|                  14|   null|\n",
            "|    Xiaomi|FitnessBand|    HMSH01GE|Black|        1,722|         2,099|   LCD Display|              3.5|             Leather|                  14|   null|\n",
            "|    Xiaomi|FitnessBand|Smart Band 5|Black|        2,469|         2,999|AMOLED Display|              4.1|Thermoplastic pol...|                  14|   null|\n",
            "+----------+-----------+------------+-----+-------------+--------------+--------------+-----------------+--------------------+--------------------+-------+\n",
            "only showing top 5 rows\n",
            "\n"
          ]
        }
      ]
    },
    {
      "cell_type": "code",
      "source": [
        "#Show table for df\n",
        "df_pyspark.show()"
      ],
      "metadata": {
        "colab": {
          "base_uri": "https://localhost:8080/"
        },
        "id": "SE4ius5oeVri",
        "outputId": "416f76fd-4605-4bd3-b433-d06e749c0402"
      },
      "execution_count": 141,
      "outputs": [
        {
          "output_type": "stream",
          "name": "stdout",
          "text": [
            "+----------+-----------+--------------------+--------------------+-------------+--------------+--------------+-----------------+--------------------+--------------------+-------+\n",
            "|       _c0|        _c1|                 _c2|                 _c3|          _c4|           _c5|           _c6|              _c7|                 _c8|                 _c9|   _c10|\n",
            "+----------+-----------+--------------------+--------------------+-------------+--------------+--------------+-----------------+--------------------+--------------------+-------+\n",
            "|Brand Name|Device Type|          Model Name|               Color|Selling Price|Original Price|       Display|Rating (Out of 5)|      Strap Material|Average Battery L...|Reviews|\n",
            "|    Xiaomi|FitnessBand|        Smart Band 5|               Black|        2,499|         2,999|AMOLED Display|              4.1|Thermoplastic pol...|                  14|   null|\n",
            "|    Xiaomi|FitnessBand|        Smart Band 4|               Black|        2,099|         2,499|AMOLED Display|              4.2|Thermoplastic pol...|                  14|   null|\n",
            "|    Xiaomi|FitnessBand|            HMSH01GE|               Black|        1,722|         2,099|   LCD Display|              3.5|             Leather|                  14|   null|\n",
            "|    Xiaomi|FitnessBand|        Smart Band 5|               Black|        2,469|         2,999|AMOLED Display|              4.1|Thermoplastic pol...|                  14|   null|\n",
            "|    Xiaomi|FitnessBand|              Band 3|               Black|        1,799|         2,199|  OLED Display|              4.3|             Plastic|                   7|   null|\n",
            "|    Xiaomi|FitnessBand|  Band - HRX Edition|               Black|        1,299|         1,799|  OLED Display|              4.2|             Plastic|                  20|   null|\n",
            "|    Xiaomi|FitnessBand|              Band 2|               Black|        2,499|         2,499|  OLED Display|              4.3|             Plastic|                   7|   null|\n",
            "|    Xiaomi| Smartwatch|             Revolve|               Black|       12,349|        15,999|AMOLED Display|              4.4|            Silicone|                  14|      2|\n",
            "|    Xiaomi| Smartwatch|       RevolveActive|               Black|       12,999|        15,999|AMOLED Display|              4.4|            Silicone|                  14|      3|\n",
            "|    Xiaomi|FitnessBand|       Smart Band 3i|               Black|        1,270|         1,599|  OLED Display|              4.2|Thermoplastic pol...|                   7|   null|\n",
            "|  OnePlus |FitnessBand|Steven Harrington...|                Blue|        3,299|         3,999|AMOLED Display|              4.3|Thermoplastic pol...|                   7|   null|\n",
            "|  OnePlus |FitnessBand|                Band|          Dual Color|        2,499|         2,799|AMOLED Display|              4.2|Thermoplastic pol...|                   7|   null|\n",
            "|    FitBit| Smartwatch|             Versa 2|   Grey, Pink, Black|       11,999|        14,999|AMOLED Display|              4.3|            Silicone|                   7|   null|\n",
            "|    FitBit| Smartwatch|               Sense|  Black, Pink, Beige|       21,499|        22,999|AMOLED Display|              4.2|           Elastomer|                   7|   null|\n",
            "|    FitBit| Smartwatch|             Versa 3|   Black, Blue, Pink|       17,999|        18,999|AMOLED Display|              4.3|           Elastomer|                   7|   null|\n",
            "|    FitBit|FitnessBand|            Charge 4|Storm Blue, Black...|        9,999|         9,999|PMOLED Display|              4.2|           Elastomer|                   7|   null|\n",
            "|    FitBit|FitnessBand|             Inspire|             Maroon |        7,990|         7,999|   LED Display|              4.2|            Silicone|                   5|   null|\n",
            "|    FitBit|FitnessBand|           Inspire 2|Black, Desert Ros...|        6,999|         7,999|PMOLED Display|              4.4|Thermoplastic pol...|                  10|   null|\n",
            "|    FitBit|FitnessBand|               Lunar|              White |       10,899|        10,999|AMOLED Display|              4.7|            Silicone|                   7|   null|\n",
            "+----------+-----------+--------------------+--------------------+-------------+--------------+--------------+-----------------+--------------------+--------------------+-------+\n",
            "only showing top 20 rows\n",
            "\n"
          ]
        }
      ]
    },
    {
      "cell_type": "code",
      "source": [
        "#Show schema\n",
        "df_pyspark.printSchema()"
      ],
      "metadata": {
        "colab": {
          "base_uri": "https://localhost:8080/"
        },
        "id": "PkodxbGhebeG",
        "outputId": "3c5e63ea-59bf-499c-d95f-d9a40dc64df5"
      },
      "execution_count": 142,
      "outputs": [
        {
          "output_type": "stream",
          "name": "stdout",
          "text": [
            "root\n",
            " |-- _c0: string (nullable = true)\n",
            " |-- _c1: string (nullable = true)\n",
            " |-- _c2: string (nullable = true)\n",
            " |-- _c3: string (nullable = true)\n",
            " |-- _c4: string (nullable = true)\n",
            " |-- _c5: string (nullable = true)\n",
            " |-- _c6: string (nullable = true)\n",
            " |-- _c7: string (nullable = true)\n",
            " |-- _c8: string (nullable = true)\n",
            " |-- _c9: string (nullable = true)\n",
            " |-- _c10: string (nullable = true)\n",
            "\n"
          ]
        }
      ]
    },
    {
      "cell_type": "markdown",
      "source": [
        "# **Re-Ingest Dataset with Schema**"
      ],
      "metadata": {
        "id": "YoSTb_N-ex6w"
      }
    },
    {
      "cell_type": "code",
      "source": [
        "#Reingest data w/ schema applied\n",
        "df_pyspark = spark.read.csv(\"Fitness_trackers_updated.csv\", header = True, inferSchema = True)"
      ],
      "metadata": {
        "id": "AfX-gef4ek0W"
      },
      "execution_count": 143,
      "outputs": []
    },
    {
      "cell_type": "code",
      "source": [
        "#Show top 5 rows with schema applied\n",
        "df_pyspark.show(5)"
      ],
      "metadata": {
        "colab": {
          "base_uri": "https://localhost:8080/"
        },
        "id": "-R-SvkEcezo2",
        "outputId": "4aab25f0-01b0-4534-b5ae-440a86cad2a2"
      },
      "execution_count": 144,
      "outputs": [
        {
          "output_type": "stream",
          "name": "stdout",
          "text": [
            "+----------+-----------+------------+-----+-------------+--------------+--------------+-----------------+--------------------+------------------------------+-------+\n",
            "|Brand Name|Device Type|  Model Name|Color|Selling Price|Original Price|       Display|Rating (Out of 5)|      Strap Material|Average Battery Life (in days)|Reviews|\n",
            "+----------+-----------+------------+-----+-------------+--------------+--------------+-----------------+--------------------+------------------------------+-------+\n",
            "|    Xiaomi|FitnessBand|Smart Band 5|Black|        2,499|         2,999|AMOLED Display|              4.1|Thermoplastic pol...|                            14|   null|\n",
            "|    Xiaomi|FitnessBand|Smart Band 4|Black|        2,099|         2,499|AMOLED Display|              4.2|Thermoplastic pol...|                            14|   null|\n",
            "|    Xiaomi|FitnessBand|    HMSH01GE|Black|        1,722|         2,099|   LCD Display|              3.5|             Leather|                            14|   null|\n",
            "|    Xiaomi|FitnessBand|Smart Band 5|Black|        2,469|         2,999|AMOLED Display|              4.1|Thermoplastic pol...|                            14|   null|\n",
            "|    Xiaomi|FitnessBand|      Band 3|Black|        1,799|         2,199|  OLED Display|              4.3|             Plastic|                             7|   null|\n",
            "+----------+-----------+------------+-----+-------------+--------------+--------------+-----------------+--------------------+------------------------------+-------+\n",
            "only showing top 5 rows\n",
            "\n"
          ]
        }
      ]
    },
    {
      "cell_type": "code",
      "source": [
        "#Print data types\n",
        "df_pyspark.printSchema()"
      ],
      "metadata": {
        "colab": {
          "base_uri": "https://localhost:8080/"
        },
        "id": "3p4xxvXye4Gd",
        "outputId": "fe534ad9-1248-4aab-d658-50e5673da0c2"
      },
      "execution_count": 145,
      "outputs": [
        {
          "output_type": "stream",
          "name": "stdout",
          "text": [
            "root\n",
            " |-- Brand Name: string (nullable = true)\n",
            " |-- Device Type: string (nullable = true)\n",
            " |-- Model Name: string (nullable = true)\n",
            " |-- Color: string (nullable = true)\n",
            " |-- Selling Price: string (nullable = true)\n",
            " |-- Original Price: string (nullable = true)\n",
            " |-- Display: string (nullable = true)\n",
            " |-- Rating (Out of 5): double (nullable = true)\n",
            " |-- Strap Material: string (nullable = true)\n",
            " |-- Average Battery Life (in days): integer (nullable = true)\n",
            " |-- Reviews: string (nullable = true)\n",
            "\n"
          ]
        }
      ]
    },
    {
      "cell_type": "code",
      "source": [
        "#Check the type of data object for dataframe\n",
        "type(df_pyspark)"
      ],
      "metadata": {
        "colab": {
          "base_uri": "https://localhost:8080/"
        },
        "id": "nwyFIxWwe8Lr",
        "outputId": "d2861cd7-4087-4f83-94bf-404af3ac756a"
      },
      "execution_count": 146,
      "outputs": [
        {
          "output_type": "execute_result",
          "data": {
            "text/plain": [
              "pyspark.sql.dataframe.DataFrame"
            ]
          },
          "metadata": {},
          "execution_count": 146
        }
      ]
    },
    {
      "cell_type": "code",
      "source": [
        "#Print coumns for the dataframe\n",
        "df_pyspark.columns"
      ],
      "metadata": {
        "colab": {
          "base_uri": "https://localhost:8080/"
        },
        "id": "1XefDlHQfBgH",
        "outputId": "6b526a56-bdc2-4512-d1dc-eeaa1590c50b"
      },
      "execution_count": 147,
      "outputs": [
        {
          "output_type": "execute_result",
          "data": {
            "text/plain": [
              "['Brand Name',\n",
              " 'Device Type',\n",
              " 'Model Name',\n",
              " 'Color',\n",
              " 'Selling Price',\n",
              " 'Original Price',\n",
              " 'Display',\n",
              " 'Rating (Out of 5)',\n",
              " 'Strap Material',\n",
              " 'Average Battery Life (in days)',\n",
              " 'Reviews']"
            ]
          },
          "metadata": {},
          "execution_count": 147
        }
      ]
    },
    {
      "cell_type": "code",
      "source": [
        "#Print head of dataframe\n",
        "df_pyspark.head(3)"
      ],
      "metadata": {
        "colab": {
          "base_uri": "https://localhost:8080/"
        },
        "id": "TTnVaS6DfDej",
        "outputId": "b6c65062-abba-4af7-af7d-91d425df4c95"
      },
      "execution_count": 148,
      "outputs": [
        {
          "output_type": "execute_result",
          "data": {
            "text/plain": [
              "[Row(Brand Name='Xiaomi', Device Type='FitnessBand', Model Name='Smart Band 5', Color='Black', Selling Price='2,499', Original Price='2,999', Display='AMOLED Display', Rating (Out of 5)=4.1, Strap Material='Thermoplastic polyurethane', Average Battery Life (in days)=14, Reviews=None),\n",
              " Row(Brand Name='Xiaomi', Device Type='FitnessBand', Model Name='Smart Band 4', Color='Black', Selling Price='2,099', Original Price='2,499', Display='AMOLED Display', Rating (Out of 5)=4.2, Strap Material='Thermoplastic polyurethane', Average Battery Life (in days)=14, Reviews=None),\n",
              " Row(Brand Name='Xiaomi', Device Type='FitnessBand', Model Name='HMSH01GE', Color='Black', Selling Price='1,722', Original Price='2,099', Display='LCD Display', Rating (Out of 5)=3.5, Strap Material='Leather', Average Battery Life (in days)=14, Reviews=None)]"
            ]
          },
          "metadata": {},
          "execution_count": 148
        }
      ]
    },
    {
      "cell_type": "code",
      "source": [
        "#Summary statistics for dataframe\n",
        "df_pyspark.describe().show()"
      ],
      "metadata": {
        "colab": {
          "base_uri": "https://localhost:8080/"
        },
        "id": "sAZctHSZfTHI",
        "outputId": "4aaaeca6-5cb9-4d2b-da1a-c4962c0b09e8"
      },
      "execution_count": 149,
      "outputs": [
        {
          "output_type": "stream",
          "name": "stdout",
          "text": [
            "+-------+----------+-----------+--------------------+----------+------------------+--------------+---------------+------------------+--------------+------------------------------+------------------+\n",
            "|summary|Brand Name|Device Type|          Model Name|     Color|     Selling Price|Original Price|        Display| Rating (Out of 5)|Strap Material|Average Battery Life (in days)|           Reviews|\n",
            "+-------+----------+-----------+--------------------+----------+------------------+--------------+---------------+------------------+--------------+------------------------------+------------------+\n",
            "|  count|       610|        610|                 610|       610|               610|           610|            610|               554|           610|                           610|               114|\n",
            "|   mean|      null|       null|                null|      null|             874.0|          null|           null| 4.195667870036093|          null|             8.926229508196721|1923.6637168141592|\n",
            "| stddev|      null|       null|                null|      null|106.06601717798213|          null|           null|0.4225762776904341|          null|              7.63210747944376| 4788.030902324899|\n",
            "|    min|     APPLE|FitnessBand|2 - 42 mm Silver ...|     Beige|          1,05,990|      1,14,900| AMOLED Display|               2.0|     Aluminium|                             1|               102|\n",
            "|    max|    realme| Smartwatch|             zeb-fit|multicolor|               949|        96,690|TFT-LCD Display|               5.0|       leather|                            45|                96|\n",
            "+-------+----------+-----------+--------------------+----------+------------------+--------------+---------------+------------------+--------------+------------------------------+------------------+\n",
            "\n"
          ]
        }
      ]
    },
    {
      "cell_type": "code",
      "source": [
        "#Count entries by Brand\n",
        "df_pyspark.groupBy(\"Brand Name\").count().show()"
      ],
      "metadata": {
        "colab": {
          "base_uri": "https://localhost:8080/"
        },
        "id": "2dcTwzdAf8uC",
        "outputId": "27022cf7-40f3-43da-badb-0398f401391b"
      },
      "execution_count": 150,
      "outputs": [
        {
          "output_type": "stream",
          "name": "stdout",
          "text": [
            "+---------------+-----+\n",
            "|     Brand Name|count|\n",
            "+---------------+-----+\n",
            "|        Infinix|    1|\n",
            "|          huami|   36|\n",
            "|dizo by realme |    2|\n",
            "|       SAMSUNG |   48|\n",
            "|         Huawei|   26|\n",
            "|     Fire-Boltt|   14|\n",
            "|         Xiaomi|   10|\n",
            "|          Ptron|    5|\n",
            "|        GARMIN |  101|\n",
            "|          APPLE|   86|\n",
            "|     Crossbeats|    8|\n",
            "|           Oppo|    2|\n",
            "|          Noise|    2|\n",
            "|          LCARE|    2|\n",
            "|        FOSSIL |  133|\n",
            "|          Honor|   20|\n",
            "|         FitBit|   51|\n",
            "|      Zebronics|   12|\n",
            "|       Fastrack|    6|\n",
            "|       OnePlus |    3|\n",
            "+---------------+-----+\n",
            "only showing top 20 rows\n",
            "\n"
          ]
        }
      ]
    },
    {
      "cell_type": "code",
      "source": [
        "#Calcuated mean of Selling Price\n",
        "df_pyspark.agg({\"Selling Price\": \"mean\"}).show()"
      ],
      "metadata": {
        "colab": {
          "base_uri": "https://localhost:8080/"
        },
        "id": "4Yniqv9bgtYC",
        "outputId": "4bc8ac7b-e5a6-4e30-e271-597da311e22c"
      },
      "execution_count": 151,
      "outputs": [
        {
          "output_type": "stream",
          "name": "stdout",
          "text": [
            "+------------------+\n",
            "|avg(Selling Price)|\n",
            "+------------------+\n",
            "|             874.0|\n",
            "+------------------+\n",
            "\n"
          ]
        }
      ]
    },
    {
      "cell_type": "code",
      "source": [
        "#Filter By Brand Names\n",
        "brand_names = df_pyspark.select(\"Brand Name\").distinct().rdd.flatMap(lambda x: x).collect()\n",
        "\n",
        "brand_dfs = {}\n",
        "for brand in brand_names:\n",
        "    brand_dfs[brand] = df_pyspark.filter(df_pyspark[\"Brand Name\"] == brand)"
      ],
      "metadata": {
        "id": "tXjyKkC0mDNX"
      },
      "execution_count": 162,
      "outputs": []
    },
    {
      "cell_type": "code",
      "source": [
        "#Filter by Device Type\n",
        "dfs_device_type_Smartwatch = df_pyspark.filter(df_pyspark[\"Device Type\"] == \"Smartwatch\")\n",
        "dfs_device_type_FitnessBand = df_pyspark.filter(df_pyspark[\"Device Type\"] == \"FitnessBand\")"
      ],
      "metadata": {
        "id": "F2LuW8nxm7-7"
      },
      "execution_count": 163,
      "outputs": []
    },
    {
      "cell_type": "code",
      "source": [
        "#Filter to Remove Nas\n",
        "dfs_null_removed = df_pyspark.na.drop()"
      ],
      "metadata": {
        "id": "CZNc7k7rn7Ek"
      },
      "execution_count": 167,
      "outputs": []
    },
    {
      "cell_type": "code",
      "source": [
        "#Write Dataframes as tables\n",
        "dfs_device_type_Smartwatch.write.saveAsTable(\"Smartwatch_table\")\n",
        "dfs_device_type_FitnessBand.write.saveAsTable(\"FitnessBand_table\")\n",
        "dfs_null_removed.write.saveAsTable(\"Null_Removed_table\")"
      ],
      "metadata": {
        "id": "V-Lzrrlsra2O"
      },
      "execution_count": 172,
      "outputs": []
    },
    {
      "cell_type": "code",
      "source": [
        "#Show table with null values removed\n",
        "dfs_null_removed.show()"
      ],
      "metadata": {
        "colab": {
          "base_uri": "https://localhost:8080/"
        },
        "id": "Fs2CwYDdsCJ6",
        "outputId": "c7b2c752-7b8a-46c4-943f-97ede6f40529"
      },
      "execution_count": 174,
      "outputs": [
        {
          "output_type": "stream",
          "name": "stdout",
          "text": [
            "+----------+-----------+--------------+--------------------+-------------+--------------+--------------+-----------------+--------------+------------------------------+-------+\n",
            "|Brand Name|Device Type|    Model Name|               Color|Selling Price|Original Price|       Display|Rating (Out of 5)|Strap Material|Average Battery Life (in days)|Reviews|\n",
            "+----------+-----------+--------------+--------------------+-------------+--------------+--------------+-----------------+--------------+------------------------------+-------+\n",
            "|    Xiaomi| Smartwatch|       Revolve|               Black|       12,349|        15,999|AMOLED Display|              4.4|      Silicone|                            14|      2|\n",
            "|    Xiaomi| Smartwatch| RevolveActive|               Black|       12,999|        15,999|AMOLED Display|              4.4|      Silicone|                            14|      3|\n",
            "|     Honor|FitnessBand|        Band 6|Sandstone Grey, M...|        2,999|         5,999|AMOLED Display|              4.3|       Plastic|                            14|   6568|\n",
            "|     Honor|FitnessBand|        Band 4|Meteorite Black, ...|        2,700|         2,999|AMOLED Display|              4.4|       Plastic|                             7|  17809|\n",
            "|     Honor|FitnessBand|        Band 3|      Dynamic Orange|        2,499|         2,999|AMOLED Display|              4.3|       Plastic|                             7|  23426|\n",
            "|     Honor|FitnessBand|       Band 5i|               Black|        2,469|         2,999|   LCD Display|              4.2|       Plastic|                             7|   4628|\n",
            "|     Honor|FitnessBand|        Band 3|           Navy Blue|        2,499|         2,999|PMOLED Display|              4.3|       Plastic|                             7|  23426|\n",
            "|     Honor|FitnessBand|        Band 5|               Black|        2,899|         2,999|AMOLED Display|              4.4|       Plastic|                            14|   4628|\n",
            "|     Honor|FitnessBand|        Band 5|               Black|        2,099|         2,999|AMOLED Display|              4.4|       Plastic|                            14|   4628|\n",
            "|     Honor|FitnessBand|        Band 5|         Olive Green|        2,199|         2,999|AMOLED Display|              4.4|       Plastic|                            14|   4628|\n",
            "|     Honor|FitnessBand|        Band 4|               Black|        2,599|         2,999|AMOLED Display|              4.4|       Plastic|                             7|  17809|\n",
            "|     Honor|FitnessBand|       Band 5i|               Black|        1,799|         2,999|   LCD Display|              4.2|       Plastic|                            14|   4628|\n",
            "|     Honor|FitnessBand|band 4 running|               Black|        1,649|         2,000|AMOLED Display|              3.2|       Plastic|                             7|   4628|\n",
            "|     Honor|FitnessBand|       Band Z1|               Black|        5,499|         5,499|AMOLED Display|              3.9|       Plastic|                            14|     77|\n",
            "|     Honor|FitnessBand|        Band 3|               Black|        4,750|         5,499|  OLED Display|              4.3|       Plastic|                             7|    122|\n",
            "|      Oppo| Smartwatch|         46 mm|         Black, Gold|       14,990|        19,990|AMOLED Display|              3.9|        Rubber|                            14|    484|\n",
            "|    realme| Smartwatch|         2 Pro|                Grey|        4,999|         5,999|AMOLED Display|              4.4|      Silicone|                            14|    338|\n",
            "|    realme| Smartwatch|            2S|               Black|        3,499|         3,999|AMOLED Display|              4.2|      Silicone|                             7|    928|\n",
            "|    realme| Smartwatch|             S|        Black, White|        4,999|         7,999|AMOLED Display|              4.3|      Silicone|                            14|  4,142|\n",
            "|    realme| Smartwatch|         S Pro|               Black|        9,999|        12,999|AMOLED Display|              4.1|      Silicone|                            14|    259|\n",
            "+----------+-----------+--------------+--------------------+-------------+--------------+--------------+-----------------+--------------+------------------------------+-------+\n",
            "only showing top 20 rows\n",
            "\n"
          ]
        }
      ]
    },
    {
      "cell_type": "code",
      "source": [
        "#Show fitness band table\n",
        "dfs_device_type_FitnessBand.show()"
      ],
      "metadata": {
        "colab": {
          "base_uri": "https://localhost:8080/"
        },
        "id": "0aUZoNSbsCuH",
        "outputId": "1760e2a1-a8cc-417f-a58a-ef4a7fbebdd0"
      },
      "execution_count": 176,
      "outputs": [
        {
          "output_type": "stream",
          "name": "stdout",
          "text": [
            "+----------+-----------+--------------------+--------------------+-------------+--------------+--------------+-----------------+--------------------+------------------------------+-------+\n",
            "|Brand Name|Device Type|          Model Name|               Color|Selling Price|Original Price|       Display|Rating (Out of 5)|      Strap Material|Average Battery Life (in days)|Reviews|\n",
            "+----------+-----------+--------------------+--------------------+-------------+--------------+--------------+-----------------+--------------------+------------------------------+-------+\n",
            "|    Xiaomi|FitnessBand|        Smart Band 5|               Black|        2,499|         2,999|AMOLED Display|              4.1|Thermoplastic pol...|                            14|   null|\n",
            "|    Xiaomi|FitnessBand|        Smart Band 4|               Black|        2,099|         2,499|AMOLED Display|              4.2|Thermoplastic pol...|                            14|   null|\n",
            "|    Xiaomi|FitnessBand|            HMSH01GE|               Black|        1,722|         2,099|   LCD Display|              3.5|             Leather|                            14|   null|\n",
            "|    Xiaomi|FitnessBand|        Smart Band 5|               Black|        2,469|         2,999|AMOLED Display|              4.1|Thermoplastic pol...|                            14|   null|\n",
            "|    Xiaomi|FitnessBand|              Band 3|               Black|        1,799|         2,199|  OLED Display|              4.3|             Plastic|                             7|   null|\n",
            "|    Xiaomi|FitnessBand|  Band - HRX Edition|               Black|        1,299|         1,799|  OLED Display|              4.2|             Plastic|                            20|   null|\n",
            "|    Xiaomi|FitnessBand|              Band 2|               Black|        2,499|         2,499|  OLED Display|              4.3|             Plastic|                             7|   null|\n",
            "|    Xiaomi|FitnessBand|       Smart Band 3i|               Black|        1,270|         1,599|  OLED Display|              4.2|Thermoplastic pol...|                             7|   null|\n",
            "|  OnePlus |FitnessBand|Steven Harrington...|                Blue|        3,299|         3,999|AMOLED Display|              4.3|Thermoplastic pol...|                             7|   null|\n",
            "|  OnePlus |FitnessBand|                Band|          Dual Color|        2,499|         2,799|AMOLED Display|              4.2|Thermoplastic pol...|                             7|   null|\n",
            "|    FitBit|FitnessBand|            Charge 4|Storm Blue, Black...|        9,999|         9,999|PMOLED Display|              4.2|           Elastomer|                             7|   null|\n",
            "|    FitBit|FitnessBand|             Inspire|             Maroon |        7,990|         7,999|   LED Display|              4.2|            Silicone|                             5|   null|\n",
            "|    FitBit|FitnessBand|           Inspire 2|Black, Desert Ros...|        6,999|         7,999|PMOLED Display|              4.4|Thermoplastic pol...|                            10|   null|\n",
            "|    FitBit|FitnessBand|               Lunar|              White |       10,899|        10,999|AMOLED Display|              4.7|            Silicone|                             7|   null|\n",
            "|    FitBit|FitnessBand|            Charge 4| Granite Reflective |       10,999|        11,999|PMOLED Display|              4.2|           Elastomer|                             7|   null|\n",
            "|    FitBit|FitnessBand|           FB413LVLV|              Lilac |        8,807|        38,500|AMOLED Display|              4.1|            Silicone|                             5|   null|\n",
            "|    FitBit|FitnessBand|          Flex Small|Violet, black, Gr...|        8,490|         8,490|  OLED Display|              3.8|              Rubber|                             5|   null|\n",
            "|    FitBit|FitnessBand|          Inspire HR|              Black |        5,599|         8,999|   LED Display|              4.3|            Silicone|                             5|   null|\n",
            "|    FitBit|FitnessBand|             Inspire|              Black |        5,299|         7,999|   LED Display|              4.2|            Silicone|                             5|   null|\n",
            "|    FitBit|FitnessBand|            Charge 3|               Grey |        7,599|        13,999|  OLED Display|              4.3|            Silicone|                             7|   null|\n",
            "+----------+-----------+--------------------+--------------------+-------------+--------------+--------------+-----------------+--------------------+------------------------------+-------+\n",
            "only showing top 20 rows\n",
            "\n"
          ]
        }
      ]
    },
    {
      "cell_type": "code",
      "source": [
        "#New Device Type Table with Reviews Removed\n",
        "dfs_device_type_FitnessBand_Reviews_Removed = dfs_device_type_FitnessBand.select('Brand Name', 'Device Type', 'Model Name', 'Color', 'Selling Price', 'Original Price', 'Display', 'Rating (Out of 5)', 'Strap Material', 'Average Battery Life (in days)').show()"
      ],
      "metadata": {
        "colab": {
          "base_uri": "https://localhost:8080/"
        },
        "id": "PxFdfOjntoeN",
        "outputId": "93d00790-4da1-4d22-d4d5-faeeac3b87c1"
      },
      "execution_count": 179,
      "outputs": [
        {
          "output_type": "stream",
          "name": "stdout",
          "text": [
            "+----------+-----------+--------------------+--------------------+-------------+--------------+--------------+-----------------+--------------------+------------------------------+\n",
            "|Brand Name|Device Type|          Model Name|               Color|Selling Price|Original Price|       Display|Rating (Out of 5)|      Strap Material|Average Battery Life (in days)|\n",
            "+----------+-----------+--------------------+--------------------+-------------+--------------+--------------+-----------------+--------------------+------------------------------+\n",
            "|    Xiaomi|FitnessBand|        Smart Band 5|               Black|        2,499|         2,999|AMOLED Display|              4.1|Thermoplastic pol...|                            14|\n",
            "|    Xiaomi|FitnessBand|        Smart Band 4|               Black|        2,099|         2,499|AMOLED Display|              4.2|Thermoplastic pol...|                            14|\n",
            "|    Xiaomi|FitnessBand|            HMSH01GE|               Black|        1,722|         2,099|   LCD Display|              3.5|             Leather|                            14|\n",
            "|    Xiaomi|FitnessBand|        Smart Band 5|               Black|        2,469|         2,999|AMOLED Display|              4.1|Thermoplastic pol...|                            14|\n",
            "|    Xiaomi|FitnessBand|              Band 3|               Black|        1,799|         2,199|  OLED Display|              4.3|             Plastic|                             7|\n",
            "|    Xiaomi|FitnessBand|  Band - HRX Edition|               Black|        1,299|         1,799|  OLED Display|              4.2|             Plastic|                            20|\n",
            "|    Xiaomi|FitnessBand|              Band 2|               Black|        2,499|         2,499|  OLED Display|              4.3|             Plastic|                             7|\n",
            "|    Xiaomi|FitnessBand|       Smart Band 3i|               Black|        1,270|         1,599|  OLED Display|              4.2|Thermoplastic pol...|                             7|\n",
            "|  OnePlus |FitnessBand|Steven Harrington...|                Blue|        3,299|         3,999|AMOLED Display|              4.3|Thermoplastic pol...|                             7|\n",
            "|  OnePlus |FitnessBand|                Band|          Dual Color|        2,499|         2,799|AMOLED Display|              4.2|Thermoplastic pol...|                             7|\n",
            "|    FitBit|FitnessBand|            Charge 4|Storm Blue, Black...|        9,999|         9,999|PMOLED Display|              4.2|           Elastomer|                             7|\n",
            "|    FitBit|FitnessBand|             Inspire|             Maroon |        7,990|         7,999|   LED Display|              4.2|            Silicone|                             5|\n",
            "|    FitBit|FitnessBand|           Inspire 2|Black, Desert Ros...|        6,999|         7,999|PMOLED Display|              4.4|Thermoplastic pol...|                            10|\n",
            "|    FitBit|FitnessBand|               Lunar|              White |       10,899|        10,999|AMOLED Display|              4.7|            Silicone|                             7|\n",
            "|    FitBit|FitnessBand|            Charge 4| Granite Reflective |       10,999|        11,999|PMOLED Display|              4.2|           Elastomer|                             7|\n",
            "|    FitBit|FitnessBand|           FB413LVLV|              Lilac |        8,807|        38,500|AMOLED Display|              4.1|            Silicone|                             5|\n",
            "|    FitBit|FitnessBand|          Flex Small|Violet, black, Gr...|        8,490|         8,490|  OLED Display|              3.8|              Rubber|                             5|\n",
            "|    FitBit|FitnessBand|          Inspire HR|              Black |        5,599|         8,999|   LED Display|              4.3|            Silicone|                             5|\n",
            "|    FitBit|FitnessBand|             Inspire|              Black |        5,299|         7,999|   LED Display|              4.2|            Silicone|                             5|\n",
            "|    FitBit|FitnessBand|            Charge 3|               Grey |        7,599|        13,999|  OLED Display|              4.3|            Silicone|                             7|\n",
            "+----------+-----------+--------------------+--------------------+-------------+--------------+--------------+-----------------+--------------------+------------------------------+\n",
            "only showing top 20 rows\n",
            "\n"
          ]
        }
      ]
    },
    {
      "cell_type": "code",
      "source": [
        "#Show Smartwatch table\n",
        "dfs_device_type_Smartwatch.show()"
      ],
      "metadata": {
        "colab": {
          "base_uri": "https://localhost:8080/"
        },
        "id": "mdRH_bzDsaOu",
        "outputId": "c85bbe13-8451-438a-c535-11bb147cd825"
      },
      "execution_count": 177,
      "outputs": [
        {
          "output_type": "stream",
          "name": "stdout",
          "text": [
            "+----------+-----------+--------------------+------------------+-------------+--------------+--------------+-----------------+--------------+------------------------------+-------+\n",
            "|Brand Name|Device Type|          Model Name|             Color|Selling Price|Original Price|       Display|Rating (Out of 5)|Strap Material|Average Battery Life (in days)|Reviews|\n",
            "+----------+-----------+--------------------+------------------+-------------+--------------+--------------+-----------------+--------------+------------------------------+-------+\n",
            "|    Xiaomi| Smartwatch|             Revolve|             Black|       12,349|        15,999|AMOLED Display|              4.4|      Silicone|                            14|      2|\n",
            "|    Xiaomi| Smartwatch|       RevolveActive|             Black|       12,999|        15,999|AMOLED Display|              4.4|      Silicone|                            14|      3|\n",
            "|    FitBit| Smartwatch|             Versa 2| Grey, Pink, Black|       11,999|        14,999|AMOLED Display|              4.3|      Silicone|                             7|   null|\n",
            "|    FitBit| Smartwatch|               Sense|Black, Pink, Beige|       21,499|        22,999|AMOLED Display|              4.2|     Elastomer|                             7|   null|\n",
            "|    FitBit| Smartwatch|             Versa 3| Black, Blue, Pink|       17,999|        18,999|AMOLED Display|              4.3|     Elastomer|                             7|   null|\n",
            "|    FitBit| Smartwatch|Versa Special Edi...|         Charcoal |       10,365|        23,499|AMOLED Display|              4.1|        Fabric|                             7|   null|\n",
            "|    FitBit| Smartwatch|               Ionic|            Black |       18,999|        24,999|   LCD Display|              4.1|     Elastomer|                             7|   null|\n",
            "|    FitBit| Smartwatch|Versa 2 Special E...|       Multicolor |       15,499|        23,999|AMOLED Display|              4.4|      Silicone|                             7|   null|\n",
            "|    FitBit| Smartwatch|               Ionic|             Blue |       22,499|        24,999|   LCD Display|              4.1|     Elastomer|                             7|   null|\n",
            "|    FitBit| Smartwatch|               Ionic|             Grey |       26,499|        26,499|   LCD Display|              4.1|     Elastomer|                             7|   null|\n",
            "|    FitBit| Smartwatch|               Versa|            Purple|       16,990|        23,499|AMOLED Display|              4.1|      Silicone|                             7|   null|\n",
            "|    FitBit| Smartwatch|               Versa|             Grey |       17,895|        21,499|AMOLED Display|              4.2|      Silicone|                             7|   null|\n",
            "|    FitBit| Smartwatch|               Surge|              Blue|       24,990|        24,990|   LCD Display|              3.8|     Elastomer|                             7|   null|\n",
            "|    FitBit| Smartwatch|               Blaze|            Purple|       17,999|        19,999|   LCD Display|              4.2|     Elastomer|                             7|   null|\n",
            "|    FitBit| Smartwatch|               Blaze|              Blue|       19,999|        19,999|   LCD Display|              4.2|     Elastomer|                             7|   null|\n",
            "|    FitBit| Smartwatch|               Blaze|             Black|       22,999|        22,999|   LCD Display|              4.2|     Elastomer|                             7|   null|\n",
            "|    FitBit| Smartwatch|               Surge|             Black|       19,990|        19,990|   LCD Display|              3.8|     Elastomer|                             7|   null|\n",
            "|    FitBit| Smartwatch|  Versa Lite Edition|           Purple |       16,999|        16,999|AMOLED Display|              4.2|     Elastomer|                             7|   null|\n",
            "|    FitBit| Smartwatch|               Surge|            Orange|       24,990|        24,990|   LCD Display|              3.8|     Elastomer|                             7|   null|\n",
            "|    FitBit| Smartwatch|               versa|             Grey |       21,499|        21,499|AMOLED Display|              4.1|      Silicone|                             7|   null|\n",
            "+----------+-----------+--------------------+------------------+-------------+--------------+--------------+-----------------+--------------+------------------------------+-------+\n",
            "only showing top 20 rows\n",
            "\n"
          ]
        }
      ]
    },
    {
      "cell_type": "code",
      "source": [
        "#New Device Type Table with Reviews Removed\n",
        "dfs_device_type_Smartwatch_Removed = dfs_device_type_Smartwatch.select('Brand Name', 'Device Type', 'Model Name', 'Color', 'Selling Price', 'Original Price', 'Display', 'Rating (Out of 5)', 'Strap Material', 'Average Battery Life (in days)').show()"
      ],
      "metadata": {
        "colab": {
          "base_uri": "https://localhost:8080/"
        },
        "id": "hYMdAayEuJhb",
        "outputId": "6eca5ac0-afb1-4ff9-c7b6-86af9c429f37"
      },
      "execution_count": 180,
      "outputs": [
        {
          "output_type": "stream",
          "name": "stdout",
          "text": [
            "+----------+-----------+--------------------+------------------+-------------+--------------+--------------+-----------------+--------------+------------------------------+\n",
            "|Brand Name|Device Type|          Model Name|             Color|Selling Price|Original Price|       Display|Rating (Out of 5)|Strap Material|Average Battery Life (in days)|\n",
            "+----------+-----------+--------------------+------------------+-------------+--------------+--------------+-----------------+--------------+------------------------------+\n",
            "|    Xiaomi| Smartwatch|             Revolve|             Black|       12,349|        15,999|AMOLED Display|              4.4|      Silicone|                            14|\n",
            "|    Xiaomi| Smartwatch|       RevolveActive|             Black|       12,999|        15,999|AMOLED Display|              4.4|      Silicone|                            14|\n",
            "|    FitBit| Smartwatch|             Versa 2| Grey, Pink, Black|       11,999|        14,999|AMOLED Display|              4.3|      Silicone|                             7|\n",
            "|    FitBit| Smartwatch|               Sense|Black, Pink, Beige|       21,499|        22,999|AMOLED Display|              4.2|     Elastomer|                             7|\n",
            "|    FitBit| Smartwatch|             Versa 3| Black, Blue, Pink|       17,999|        18,999|AMOLED Display|              4.3|     Elastomer|                             7|\n",
            "|    FitBit| Smartwatch|Versa Special Edi...|         Charcoal |       10,365|        23,499|AMOLED Display|              4.1|        Fabric|                             7|\n",
            "|    FitBit| Smartwatch|               Ionic|            Black |       18,999|        24,999|   LCD Display|              4.1|     Elastomer|                             7|\n",
            "|    FitBit| Smartwatch|Versa 2 Special E...|       Multicolor |       15,499|        23,999|AMOLED Display|              4.4|      Silicone|                             7|\n",
            "|    FitBit| Smartwatch|               Ionic|             Blue |       22,499|        24,999|   LCD Display|              4.1|     Elastomer|                             7|\n",
            "|    FitBit| Smartwatch|               Ionic|             Grey |       26,499|        26,499|   LCD Display|              4.1|     Elastomer|                             7|\n",
            "|    FitBit| Smartwatch|               Versa|            Purple|       16,990|        23,499|AMOLED Display|              4.1|      Silicone|                             7|\n",
            "|    FitBit| Smartwatch|               Versa|             Grey |       17,895|        21,499|AMOLED Display|              4.2|      Silicone|                             7|\n",
            "|    FitBit| Smartwatch|               Surge|              Blue|       24,990|        24,990|   LCD Display|              3.8|     Elastomer|                             7|\n",
            "|    FitBit| Smartwatch|               Blaze|            Purple|       17,999|        19,999|   LCD Display|              4.2|     Elastomer|                             7|\n",
            "|    FitBit| Smartwatch|               Blaze|              Blue|       19,999|        19,999|   LCD Display|              4.2|     Elastomer|                             7|\n",
            "|    FitBit| Smartwatch|               Blaze|             Black|       22,999|        22,999|   LCD Display|              4.2|     Elastomer|                             7|\n",
            "|    FitBit| Smartwatch|               Surge|             Black|       19,990|        19,990|   LCD Display|              3.8|     Elastomer|                             7|\n",
            "|    FitBit| Smartwatch|  Versa Lite Edition|           Purple |       16,999|        16,999|AMOLED Display|              4.2|     Elastomer|                             7|\n",
            "|    FitBit| Smartwatch|               Surge|            Orange|       24,990|        24,990|   LCD Display|              3.8|     Elastomer|                             7|\n",
            "|    FitBit| Smartwatch|               versa|             Grey |       21,499|        21,499|AMOLED Display|              4.1|      Silicone|                             7|\n",
            "+----------+-----------+--------------------+------------------+-------------+--------------+--------------+-----------------+--------------+------------------------------+\n",
            "only showing top 20 rows\n",
            "\n"
          ]
        }
      ]
    },
    {
      "cell_type": "code",
      "source": [
        "dfs_device_type_Smartwatch\n",
        "dfs_device_type_Smartwatch_Removed\n",
        "dfs_device_type_FitnessBand\n",
        "dfs_device_type_FitnessBand_Reviews_Removed\n",
        "dfs_null_removed\n",
        "brand_dfs "
      ],
      "metadata": {
        "id": "yzW-7MhxucwS"
      },
      "execution_count": null,
      "outputs": []
    },
    {
      "cell_type": "markdown",
      "source": [
        "# **Export Table to Postgres**"
      ],
      "metadata": {
        "id": "09XrtA57vvPU"
      }
    },
    {
      "cell_type": "code",
      "source": [
        "#PySpark JDBC library\n",
        "\n",
        "#Set Postgres SQL credentials\n",
        "os.environ['PG_USER'] = '<your_username>'\n",
        "os.environ['PG_PASSWORD'] = '<your_password>'\n",
        "os.environ['PG_HOST'] = '<your_host>'\n",
        "os.environ['PG_PORT'] = '<your_port>'\n",
        "os.environ['PG_DATABASE'] = '<your_database>'\n",
        "\n",
        "#Create PySpark session\n",
        "spark = SparkSession.builder.appName(\"Write to Postgres\").getOrCreate()\n",
        "\n",
        "#Define connection properties\n",
        "pg_user = os.environ['PG_USER']\n",
        "pg_password = os.environ['PG_PASSWORD']\n",
        "pg_host = os.environ['PG_HOST']\n",
        "pg_port = os.environ['PG_PORT']\n",
        "pg_database = os.environ['PG_DATABASE']\n",
        "\n",
        "#Dictionary of dataframes\n",
        "dataframes = {\n",
        "    'brand_dfs': brand_dfs,\n",
        "    'dfs_device_type_Smartwatch': dfs_device_type_Smartwatch,\n",
        "    'dfs_device_type_Smartwatch_Removed': dfs_device_type_Smartwatch_Removed,\n",
        "    'dfs_device_type_FitnessBand': dfs_device_type_FitnessBand,\n",
        "    'dfs_device_type_FitnessBand_Reviews_Removed': dfs_device_type_FitnessBand_Reviews_Removed,\n",
        "    'dfs_null_removed': dfs_null_removed\n",
        "}\n",
        "\n",
        "#Iterate over dataframes and write them to PostgreSQL\n",
        "for name, df in dataframes.items():\n",
        "    df.write \\\n",
        "        .format(\"jdbc\") \\\n",
        "        .option(\"url\", f\"jdbc:postgresql://{pg_host}:{pg_port}/{pg_database}\") \\\n",
        "        .option(\"user\", pg_user) \\\n",
        "        .option(\"password\", pg_password) \\\n",
        "        .option(\"dbtable\", name) \\\n",
        "        .save(mode=\"overwrite\")"
      ],
      "metadata": {
        "id": "ro2or6nhv3X8"
      },
      "execution_count": null,
      "outputs": []
    },
    {
      "cell_type": "markdown",
      "source": [
        "# **Stop Spark Session**"
      ],
      "metadata": {
        "id": "0fKFz11rv7tb"
      }
    },
    {
      "cell_type": "code",
      "source": [
        "#Stop Spark session\n",
        "spark.stop()"
      ],
      "metadata": {
        "id": "wgLnBwzuwAP4"
      },
      "execution_count": null,
      "outputs": []
    }
  ]
}